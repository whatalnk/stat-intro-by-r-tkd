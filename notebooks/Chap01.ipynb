{
 "cells": [
  {
   "cell_type": "markdown",
   "metadata": {},
   "source": [
    "# 第1章\n",
    "## TV番組\n",
    "\n",
    "おお笑い実験\n",
    "\n",
    "* 結果のばらつき，個人差\n",
    "\n",
    "牛乳悪酔い防止\n",
    "\n",
    "* 個人差（対応）\n",
    "* 一般性（サンプルサイズ）\n",
    "* 作用機構\n",
    "\n",
    "## 記述統計量\n"
   ]
  },
  {
   "cell_type": "code",
   "execution_count": 1,
   "metadata": {
    "collapsed": false
   },
   "outputs": [
    {
     "data": {
      "text/html": [
       "<table>\n",
       "<thead><tr><th scope=col>male</th><th scope=col>female</th></tr></thead>\n",
       "<tbody>\n",
       "\t<tr><td>129.6</td><td>128.5</td></tr>\n",
       "\t<tr><td>130.5</td><td>128.9</td></tr>\n",
       "\t<tr><td>130.6</td><td>129.2</td></tr>\n",
       "\t<tr><td>131.1</td><td>131.5</td></tr>\n",
       "\t<tr><td>131.5</td><td>131.7</td></tr>\n",
       "\t<tr><td>132.0</td><td>132.1</td></tr>\n",
       "\t<tr><td>133.5</td><td>132.1</td></tr>\n",
       "\t<tr><td>133.9</td><td>132.2</td></tr>\n",
       "\t<tr><td>135.2</td><td>133.0</td></tr>\n",
       "\t<tr><td>135.3</td><td>133.4</td></tr>\n",
       "\t<tr><td>135.4</td><td>133.8</td></tr>\n",
       "\t<tr><td>136.7</td><td>134.0</td></tr>\n",
       "\t<tr><td>138.7</td><td>135.2</td></tr>\n",
       "\t<tr><td>139.3</td><td>137.8</td></tr>\n",
       "\t<tr><td>141.2</td><td>138.6</td></tr>\n",
       "</tbody>\n",
       "</table>\n"
      ],
      "text/latex": [
       "\\begin{tabular}{r|ll}\n",
       " male & female\\\\\n",
       "\\hline\n",
       "\t 129.6 & 128.5\\\\\n",
       "\t 130.5 & 128.9\\\\\n",
       "\t 130.6 & 129.2\\\\\n",
       "\t 131.1 & 131.5\\\\\n",
       "\t 131.5 & 131.7\\\\\n",
       "\t 132.0 & 132.1\\\\\n",
       "\t 133.5 & 132.1\\\\\n",
       "\t 133.9 & 132.2\\\\\n",
       "\t 135.2 & 133.0\\\\\n",
       "\t 135.3 & 133.4\\\\\n",
       "\t 135.4 & 133.8\\\\\n",
       "\t 136.7 & 134.0\\\\\n",
       "\t 138.7 & 135.2\\\\\n",
       "\t 139.3 & 137.8\\\\\n",
       "\t 141.2 & 138.6\\\\\n",
       "\\end{tabular}\n"
      ],
      "text/markdown": [
       "\n",
       "male | female | \n",
       "|---|---|---|---|---|---|---|---|---|---|---|---|---|---|---|\n",
       "| 129.6 | 128.5 | \n",
       "| 130.5 | 128.9 | \n",
       "| 130.6 | 129.2 | \n",
       "| 131.1 | 131.5 | \n",
       "| 131.5 | 131.7 | \n",
       "| 132.0 | 132.1 | \n",
       "| 133.5 | 132.1 | \n",
       "| 133.9 | 132.2 | \n",
       "| 135.2 | 133.0 | \n",
       "| 135.3 | 133.4 | \n",
       "| 135.4 | 133.8 | \n",
       "| 136.7 | 134.0 | \n",
       "| 138.7 | 135.2 | \n",
       "| 139.3 | 137.8 | \n",
       "| 141.2 | 138.6 | \n",
       "\n",
       "\n"
      ],
      "text/plain": [
       "   male  female\n",
       "1  129.6 128.5 \n",
       "2  130.5 128.9 \n",
       "3  130.6 129.2 \n",
       "4  131.1 131.5 \n",
       "5  131.5 131.7 \n",
       "6  132.0 132.1 \n",
       "7  133.5 132.1 \n",
       "8  133.9 132.2 \n",
       "9  135.2 133.0 \n",
       "10 135.3 133.4 \n",
       "11 135.4 133.8 \n",
       "12 136.7 134.0 \n",
       "13 138.7 135.2 \n",
       "14 139.3 137.8 \n",
       "15 141.2 138.6 "
      ]
     },
     "metadata": {},
     "output_type": "display_data"
    }
   ],
   "source": [
    "data1.m <- c(129.6, 130.5, 130.6, 131.1, 131.5, 132.0, 133.5, 133.9, 135.2, 135.3, 135.4, 136.7, 138.7, 139.3, 141.2)\n",
    "data1.f <- c(128.5, 128.9, 129.2, 131.5, 131.7, 132.1, 132.1, 132.2, 133.0, 133.4, 133.8, 134.0, 135.2, 137.8, 138.6)\n",
    "(data1 <- data.frame(male = data1.m, female = data1.f))"
   ]
  },
  {
   "cell_type": "code",
   "execution_count": 2,
   "metadata": {
    "collapsed": false
   },
   "outputs": [
    {
     "name": "stderr",
     "output_type": "stream",
     "text": [
      "Loading required package: pipeR\n",
      "Loading required package: dplyr\n",
      "\n",
      "Attaching package: 'dplyr'\n",
      "\n",
      "The following objects are masked from 'package:stats':\n",
      "\n",
      "    filter, lag\n",
      "\n",
      "The following objects are masked from 'package:base':\n",
      "\n",
      "    intersect, setdiff, setequal, union\n",
      "\n",
      "Loading required package: tidyr\n",
      "Warning message:\n",
      "\"package 'tidyr' was built under R version 3.3.3\"Loading required package: ggplot2\n",
      "Warning message:\n",
      "\"package 'ggplot2' was built under R version 3.3.3\""
     ]
    },
    {
     "data": {
      "text/html": [
       "<dl class=dl-horizontal>\n",
       "\t<dt>pipeR</dt>\n",
       "\t\t<dd>TRUE</dd>\n",
       "\t<dt>dplyr</dt>\n",
       "\t\t<dd>TRUE</dd>\n",
       "\t<dt>tidyr</dt>\n",
       "\t\t<dd>TRUE</dd>\n",
       "\t<dt>ggplot2</dt>\n",
       "\t\t<dd>TRUE</dd>\n",
       "</dl>\n"
      ],
      "text/latex": [
       "\\begin{description*}\n",
       "\\item[pipeR] TRUE\n",
       "\\item[dplyr] TRUE\n",
       "\\item[tidyr] TRUE\n",
       "\\item[ggplot2] TRUE\n",
       "\\end{description*}\n"
      ],
      "text/markdown": [
       "pipeR\n",
       ":   TRUEdplyr\n",
       ":   TRUEtidyr\n",
       ":   TRUEggplot2\n",
       ":   TRUE\n",
       "\n"
      ],
      "text/plain": [
       "  pipeR   dplyr   tidyr ggplot2 \n",
       "   TRUE    TRUE    TRUE    TRUE "
      ]
     },
     "metadata": {},
     "output_type": "display_data"
    }
   ],
   "source": [
    "sapply(c(\"pipeR\", \"dplyr\", \"tidyr\", \"ggplot2\"), require,character.only=TRUE)"
   ]
  },
  {
   "cell_type": "code",
   "execution_count": 3,
   "metadata": {
    "collapsed": true
   },
   "outputs": [],
   "source": [
    "options(repr.plot.width = 4, repr.plot.height = 4)"
   ]
  },
  {
   "cell_type": "code",
   "execution_count": null,
   "metadata": {
    "collapsed": true
   },
   "outputs": [],
   "source": []
  },
  {
   "cell_type": "code",
   "execution_count": 13,
   "metadata": {
    "collapsed": false
   },
   "outputs": [
    {
     "data": {},
     "metadata": {},
     "output_type": "display_data"
    },
    {
     "data": {
      "image/png": "[encoded data removed]",
      "text/plain": [
       "plot without title"
      ]
     },
     "metadata": {},
     "output_type": "display_data"
    }
   ],
   "source": [
    "data1 %>>% gather(key = gender, value = height) %>>% \n",
    "    ggplot(aes(x = gender, y = height)) + \n",
    "        geom_boxplot() + \n",
    "        scale_y_continuous(limits = c(120, 160))"
   ]
  },
  {
   "cell_type": "code",
   "execution_count": 9,
   "metadata": {
    "collapsed": false,
    "scrolled": false
   },
   "outputs": [
    {
     "data": {
      "text/html": [
       "<table>\n",
       "<thead><tr><th scope=col>male</th><th scope=col>female</th></tr></thead>\n",
       "<tbody>\n",
       "\t<tr><td>138.4</td><td>142.3</td></tr>\n",
       "\t<tr><td>138.9</td><td>142.4</td></tr>\n",
       "\t<tr><td>142.8</td><td>143.4</td></tr>\n",
       "\t<tr><td>143.2</td><td>144.0</td></tr>\n",
       "\t<tr><td>144.0</td><td>144.3</td></tr>\n",
       "\t<tr><td>144.1</td><td>145.6</td></tr>\n",
       "\t<tr><td>144.4</td><td>145.9</td></tr>\n",
       "\t<tr><td>144.6</td><td>147.7</td></tr>\n",
       "\t<tr><td>144.8</td><td>147.9</td></tr>\n",
       "\t<tr><td>145.8</td><td>148.6</td></tr>\n",
       "\t<tr><td>146.2</td><td>149.2</td></tr>\n",
       "\t<tr><td>146.7</td><td>149.7</td></tr>\n",
       "\t<tr><td>147.0</td><td>151.6</td></tr>\n",
       "\t<tr><td>148.6</td><td>151.9</td></tr>\n",
       "\t<tr><td>149.5</td><td>152.0</td></tr>\n",
       "</tbody>\n",
       "</table>\n"
      ],
      "text/latex": [
       "\\begin{tabular}{r|ll}\n",
       " male & female\\\\\n",
       "\\hline\n",
       "\t 138.4 & 142.3\\\\\n",
       "\t 138.9 & 142.4\\\\\n",
       "\t 142.8 & 143.4\\\\\n",
       "\t 143.2 & 144.0\\\\\n",
       "\t 144.0 & 144.3\\\\\n",
       "\t 144.1 & 145.6\\\\\n",
       "\t 144.4 & 145.9\\\\\n",
       "\t 144.6 & 147.7\\\\\n",
       "\t 144.8 & 147.9\\\\\n",
       "\t 145.8 & 148.6\\\\\n",
       "\t 146.2 & 149.2\\\\\n",
       "\t 146.7 & 149.7\\\\\n",
       "\t 147.0 & 151.6\\\\\n",
       "\t 148.6 & 151.9\\\\\n",
       "\t 149.5 & 152.0\\\\\n",
       "\\end{tabular}\n"
      ],
      "text/markdown": [
       "\n",
       "male | female | \n",
       "|---|---|---|---|---|---|---|---|---|---|---|---|---|---|---|\n",
       "| 138.4 | 142.3 | \n",
       "| 138.9 | 142.4 | \n",
       "| 142.8 | 143.4 | \n",
       "| 143.2 | 144.0 | \n",
       "| 144.0 | 144.3 | \n",
       "| 144.1 | 145.6 | \n",
       "| 144.4 | 145.9 | \n",
       "| 144.6 | 147.7 | \n",
       "| 144.8 | 147.9 | \n",
       "| 145.8 | 148.6 | \n",
       "| 146.2 | 149.2 | \n",
       "| 146.7 | 149.7 | \n",
       "| 147.0 | 151.6 | \n",
       "| 148.6 | 151.9 | \n",
       "| 149.5 | 152.0 | \n",
       "\n",
       "\n"
      ],
      "text/plain": [
       "   male  female\n",
       "1  138.4 142.3 \n",
       "2  138.9 142.4 \n",
       "3  142.8 143.4 \n",
       "4  143.2 144.0 \n",
       "5  144.0 144.3 \n",
       "6  144.1 145.6 \n",
       "7  144.4 145.9 \n",
       "8  144.6 147.7 \n",
       "9  144.8 147.9 \n",
       "10 145.8 148.6 \n",
       "11 146.2 149.2 \n",
       "12 146.7 149.7 \n",
       "13 147.0 151.6 \n",
       "14 148.6 151.9 \n",
       "15 149.5 152.0 "
      ]
     },
     "metadata": {},
     "output_type": "display_data"
    }
   ],
   "source": [
    "data2.m <- c(138.4, 138.9, 142.8, 143.2, 144.0, 144.1, 144.4, 144.6, 144.8, 145.8, 146.2, 146.7, 147.0, 148.6, 149.5)\n",
    "data2.f <- c(142.3, 142.4, 143.4, 144.0, 144.3, 145.6, 145.9, 147.7, 147.9, 148.6, 149.2, 149.7, 151.6, 151.9, 152.0)\n",
    "(data2 <- data.frame(male = data2.m, female = data2.f))"
   ]
  },
  {
   "cell_type": "code",
   "execution_count": 14,
   "metadata": {
    "collapsed": false
   },
   "outputs": [
    {
     "data": {},
     "metadata": {},
     "output_type": "display_data"
    },
    {
     "data": {
      "image/png": "[encoded data removed]",
      "text/plain": [
       "plot without title"
      ]
     },
     "metadata": {},
     "output_type": "display_data"
    }
   ],
   "source": [
    "data2 %>>% gather(key = gender, value = height) %>>% \n",
    "    ggplot(aes(x = gender, y = height)) + \n",
    "        geom_boxplot() + \n",
    "        scale_y_continuous(limits = c(120, 160))"
   ]
  },
  {
   "cell_type": "markdown",
   "metadata": {},
   "source": [
    "## 1.3\n",
    "* 推定\n",
    "* 検定\n",
    "* 予測"
   ]
  }
 ],
 "metadata": {
  "anaconda-cloud": {},
  "kernelspec": {
   "display_name": "R",
   "language": "R",
   "name": "ir"
  },
  "language_info": {
   "codemirror_mode": "r",
   "file_extension": ".r",
   "mimetype": "text/x-r-source",
   "name": "R",
   "pygments_lexer": "r",
   "version": "3.3.2"
  }
 },
 "nbformat": 4,
 "nbformat_minor": 1
}
