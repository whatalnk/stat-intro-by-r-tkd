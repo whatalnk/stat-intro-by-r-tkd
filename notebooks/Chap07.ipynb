{
 "cells": [
  {
   "cell_type": "markdown",
   "metadata": {},
   "source": [
    "# 7章"
   ]
  },
  {
   "cell_type": "markdown",
   "metadata": {},
   "source": [
    "## 7.2"
   ]
  },
  {
   "cell_type": "code",
   "execution_count": 1,
   "metadata": {
    "collapsed": false
   },
   "outputs": [
    {
     "name": "stderr",
     "output_type": "stream",
     "text": [
      "Warning message:\n",
      "“package ‘dplyr’ was built under R version 3.2.5”\n",
      "Attaching package: ‘dplyr’\n",
      "\n",
      "The following objects are masked from ‘package:stats’:\n",
      "\n",
      "    filter, lag\n",
      "\n",
      "The following objects are masked from ‘package:base’:\n",
      "\n",
      "    intersect, setdiff, setequal, union\n",
      "\n"
     ]
    }
   ],
   "source": [
    "library(dplyr)"
   ]
  },
  {
   "cell_type": "code",
   "execution_count": 2,
   "metadata": {
    "collapsed": false
   },
   "outputs": [
    {
     "name": "stderr",
     "output_type": "stream",
     "text": [
      "Warning message:\n",
      "“package ‘tidyr’ was built under R version 3.2.5”"
     ]
    }
   ],
   "source": [
    "library(tidyr)"
   ]
  },
  {
   "cell_type": "code",
   "execution_count": 3,
   "metadata": {
    "collapsed": true
   },
   "outputs": [],
   "source": [
    "library(ggplot2)"
   ]
  },
  {
   "cell_type": "code",
   "execution_count": 4,
   "metadata": {
    "collapsed": false
   },
   "outputs": [
    {
     "data": {
      "text/html": [
       "<table>\n",
       "<thead><tr><th scope=col>kaiteki</th><th scope=col>size</th><th scope=col>student</th></tr></thead>\n",
       "<tbody>\n",
       "\t<tr><td>6</td><td>S</td><td>1</td></tr>\n",
       "\t<tr><td>5</td><td>S</td><td>1</td></tr>\n",
       "\t<tr><td>6</td><td>S</td><td>1</td></tr>\n",
       "\t<tr><td>7</td><td>S</td><td>1</td></tr>\n",
       "\t<tr><td>2</td><td>S</td><td>2</td></tr>\n",
       "\t<tr><td>1</td><td>S</td><td>2</td></tr>\n",
       "</tbody>\n",
       "</table>\n"
      ],
      "text/latex": [
       "\\begin{tabular}{r|lll}\n",
       " kaiteki & size & student\\\\\n",
       "\\hline\n",
       "\t 6 & S & 1\\\\\n",
       "\t 5 & S & 1\\\\\n",
       "\t 6 & S & 1\\\\\n",
       "\t 7 & S & 1\\\\\n",
       "\t 2 & S & 2\\\\\n",
       "\t 1 & S & 2\\\\\n",
       "\\end{tabular}\n"
      ],
      "text/markdown": [
       "\n",
       "kaiteki | size | student | \n",
       "|---|---|---|---|---|---|\n",
       "| 6 | S | 1 | \n",
       "| 5 | S | 1 | \n",
       "| 6 | S | 1 | \n",
       "| 7 | S | 1 | \n",
       "| 2 | S | 2 | \n",
       "| 1 | S | 2 | \n",
       "\n",
       "\n"
      ],
      "text/plain": [
       "  kaiteki size student\n",
       "1 6       S    1      \n",
       "2 5       S    1      \n",
       "3 6       S    1      \n",
       "4 7       S    1      \n",
       "5 2       S    2      \n",
       "6 1       S    2      "
      ]
     },
     "metadata": {},
     "output_type": "display_data"
    }
   ],
   "source": [
    "d.room <- data_frame(\n",
    "    kaiteki = c(6, 5, 6, 7, 2, 1, 1, 0, 7, 8, 8, 9, 8, 7, 6, 7), \n",
    "    size = c(rep(\"S\", 8), rep(\"L\", 8)), \n",
    "    student = c(rep(1, 4), rep(2, 4), rep(1, 4), rep(2, 4))\n",
    ")\n",
    "head(d.room)"
   ]
  },
  {
   "cell_type": "code",
   "execution_count": 164,
   "metadata": {
    "collapsed": true
   },
   "outputs": [],
   "source": [
    "write_csv(d.room, \"../data/table7-1.csv\")"
   ]
  },
  {
   "cell_type": "code",
   "execution_count": 5,
   "metadata": {
    "collapsed": false
   },
   "outputs": [
    {
     "name": "stdout",
     "output_type": "stream",
     "text": [
      "Classes ‘tbl_df’, ‘tbl’ and 'data.frame':\t16 obs. of  3 variables:\n",
      " $ kaiteki: num  6 5 6 7 2 1 1 0 7 8 ...\n",
      " $ size   : chr  \"S\" \"S\" \"S\" \"S\" ...\n",
      " $ student: num  1 1 1 1 2 2 2 2 1 1 ...\n"
     ]
    }
   ],
   "source": [
    "str(d.room)"
   ]
  },
  {
   "cell_type": "markdown",
   "metadata": {},
   "source": [
    "p.98\n",
    "\n",
    "誤\n",
    "\n",
    "```r\n",
    "summary(aov(y ~ size + student + size:student))\n",
    "```\n",
    "\n",
    "正\n",
    "\n",
    "```r\n",
    "summary(aov(kaiteki ~ size + student + size:student))\n",
    "```\n"
   ]
  },
  {
   "cell_type": "code",
   "execution_count": 8,
   "metadata": {
    "collapsed": false
   },
   "outputs": [
    {
     "data": {
      "text/plain": [
       "             Df Sum Sq Mean Sq F value   Pr(>F)    \n",
       "size          1     64   64.00      96 4.46e-07 ***\n",
       "student       1     36   36.00      54 8.87e-06 ***\n",
       "size:student  1     16   16.00      24 0.000367 ***\n",
       "Residuals    12      8    0.67                     \n",
       "---\n",
       "Signif. codes:  0 ‘***’ 0.001 ‘**’ 0.01 ‘*’ 0.05 ‘.’ 0.1 ‘ ’ 1"
      ]
     },
     "metadata": {},
     "output_type": "display_data"
    }
   ],
   "source": [
    "d.room %>% aov(kaiteki ~ size + student + size:student, data = .) %>% summary()"
   ]
  },
  {
   "cell_type": "code",
   "execution_count": 9,
   "metadata": {
    "collapsed": true
   },
   "outputs": [],
   "source": [
    "options(repr.plot.width = 3, repr.plot.height = 3)"
   ]
  },
  {
   "cell_type": "code",
   "execution_count": 30,
   "metadata": {
    "collapsed": false
   },
   "outputs": [
    {
     "data": {},
     "metadata": {},
     "output_type": "display_data"
    },
    {
     "data": {
      "image/png": "[encoded data removed]",
      "text/plain": [
       "plot without title"
      ]
     },
     "metadata": {},
     "output_type": "display_data"
    }
   ],
   "source": [
    "d.room %>% mutate(size=factor(size, levels=c(\"S\", \"L\"), labels=c(\"S\", \"L\")), \n",
    "                 student=factor(student)) %>% \n",
    "    group_by(size, student) %>% summarise(kaiteki = mean(kaiteki)) %>% \n",
    "    ggplot(aes(x = size, y = kaiteki, group=student, colour=student)) + geom_line() + geom_point()"
   ]
  },
  {
   "cell_type": "code",
   "execution_count": 31,
   "metadata": {
    "collapsed": false
   },
   "outputs": [
    {
     "data": {},
     "metadata": {},
     "output_type": "display_data"
    },
    {
     "data": {
      "image/png": "[encoded data removed]",
      "text/plain": [
       "plot without title"
      ]
     },
     "metadata": {},
     "output_type": "display_data"
    }
   ],
   "source": [
    "d.room %>% mutate(size=factor(size, levels=c(\"S\", \"L\"), labels=c(\"S\", \"L\")), \n",
    "                 student=factor(student)) %>% \n",
    "    group_by(student, size) %>% summarise(kaiteki = mean(kaiteki)) %>% \n",
    "    ggplot(aes(x = student, y = kaiteki, group=size, colour=size)) + geom_line() + geom_point()"
   ]
  },
  {
   "cell_type": "code",
   "execution_count": 32,
   "metadata": {
    "collapsed": false
   },
   "outputs": [
    {
     "name": "stderr",
     "output_type": "stream",
     "text": [
      "Warning message:\n",
      "“package ‘readr’ was built under R version 3.2.5”"
     ]
    }
   ],
   "source": [
    "library(readr)"
   ]
  },
  {
   "cell_type": "code",
   "execution_count": 50,
   "metadata": {
    "collapsed": false
   },
   "outputs": [
    {
     "name": "stderr",
     "output_type": "stream",
     "text": [
      "Parsed with column specification:\n",
      "cols(\n",
      "  X1 = col_double()\n",
      ")\n"
     ]
    },
    {
     "name": "stdout",
     "output_type": "stream",
     "text": [
      "Classes ‘tbl_df’, ‘tbl’ and 'data.frame':\t40 obs. of  1 variable:\n",
      " $ X1: num  36.1 34.1 32.7 29.2 26.5 32.8 36.2 29.2 30.8 36.1 ...\n",
      " - attr(*, \"spec\")=List of 2\n",
      "  ..$ cols   :List of 1\n",
      "  .. ..$ X1: list()\n",
      "  .. .. ..- attr(*, \"class\")= chr  \"collector_double\" \"collector\"\n",
      "  ..$ default: list()\n",
      "  .. ..- attr(*, \"class\")= chr  \"collector_guess\" \"collector\"\n",
      "  ..- attr(*, \"class\")= chr \"col_spec\"\n"
     ]
    }
   ],
   "source": [
    "d.soil <- read_csv(\"../samplecode/Rで学ぶ統計学入門図版作成用/table7-4.csv\", col_names = FALSE)\n",
    "str(d.soil)"
   ]
  },
  {
   "cell_type": "code",
   "execution_count": 52,
   "metadata": {
    "collapsed": false,
    "scrolled": true
   },
   "outputs": [
    {
     "data": {
      "text/html": [
       "<table>\n",
       "<thead><tr><th scope=col>plant</th><th scope=col>soil</th><th scope=col>ft</th></tr></thead>\n",
       "<tbody>\n",
       "\t<tr><td>36.1</td><td>1   </td><td>1   </td></tr>\n",
       "\t<tr><td>34.1</td><td>1   </td><td>1   </td></tr>\n",
       "\t<tr><td>32.7</td><td>1   </td><td>1   </td></tr>\n",
       "\t<tr><td>29.2</td><td>1   </td><td>1   </td></tr>\n",
       "\t<tr><td>26.5</td><td>1   </td><td>1   </td></tr>\n",
       "\t<tr><td>32.8</td><td>1   </td><td>1   </td></tr>\n",
       "\t<tr><td>36.2</td><td>1   </td><td>1   </td></tr>\n",
       "\t<tr><td>29.2</td><td>1   </td><td>1   </td></tr>\n",
       "\t<tr><td>30.8</td><td>1   </td><td>1   </td></tr>\n",
       "\t<tr><td>36.1</td><td>1   </td><td>1   </td></tr>\n",
       "\t<tr><td>24.4</td><td>2   </td><td>1   </td></tr>\n",
       "\t<tr><td>22.8</td><td>2   </td><td>1   </td></tr>\n",
       "\t<tr><td>23.5</td><td>2   </td><td>1   </td></tr>\n",
       "\t<tr><td>33.7</td><td>2   </td><td>1   </td></tr>\n",
       "\t<tr><td>23.7</td><td>2   </td><td>1   </td></tr>\n",
       "\t<tr><td>25.7</td><td>2   </td><td>1   </td></tr>\n",
       "\t<tr><td>26.8</td><td>2   </td><td>1   </td></tr>\n",
       "\t<tr><td>23.0</td><td>2   </td><td>1   </td></tr>\n",
       "\t<tr><td>28.8</td><td>2   </td><td>1   </td></tr>\n",
       "\t<tr><td>24.5</td><td>2   </td><td>1   </td></tr>\n",
       "\t<tr><td>32.6</td><td>1   </td><td>2   </td></tr>\n",
       "\t<tr><td>33.8</td><td>1   </td><td>2   </td></tr>\n",
       "\t<tr><td>37.3</td><td>1   </td><td>2   </td></tr>\n",
       "\t<tr><td>32.5</td><td>1   </td><td>2   </td></tr>\n",
       "\t<tr><td>35.7</td><td>1   </td><td>2   </td></tr>\n",
       "\t<tr><td>33.0</td><td>1   </td><td>2   </td></tr>\n",
       "\t<tr><td>41.9</td><td>1   </td><td>2   </td></tr>\n",
       "\t<tr><td>34.4</td><td>1   </td><td>2   </td></tr>\n",
       "\t<tr><td>30.9</td><td>1   </td><td>2   </td></tr>\n",
       "\t<tr><td>35.1</td><td>1   </td><td>2   </td></tr>\n",
       "\t<tr><td>42.1</td><td>2   </td><td>2   </td></tr>\n",
       "\t<tr><td>34.1</td><td>2   </td><td>2   </td></tr>\n",
       "\t<tr><td>36.5</td><td>2   </td><td>2   </td></tr>\n",
       "\t<tr><td>36.5</td><td>2   </td><td>2   </td></tr>\n",
       "\t<tr><td>36.8</td><td>2   </td><td>2   </td></tr>\n",
       "\t<tr><td>34.5</td><td>2   </td><td>2   </td></tr>\n",
       "\t<tr><td>34.9</td><td>2   </td><td>2   </td></tr>\n",
       "\t<tr><td>37.2</td><td>2   </td><td>2   </td></tr>\n",
       "\t<tr><td>28.9</td><td>2   </td><td>2   </td></tr>\n",
       "\t<tr><td>39.1</td><td>2   </td><td>2   </td></tr>\n",
       "</tbody>\n",
       "</table>\n"
      ],
      "text/latex": [
       "\\begin{tabular}{r|lll}\n",
       " plant & soil & ft\\\\\n",
       "\\hline\n",
       "\t 36.1 & 1    & 1   \\\\\n",
       "\t 34.1 & 1    & 1   \\\\\n",
       "\t 32.7 & 1    & 1   \\\\\n",
       "\t 29.2 & 1    & 1   \\\\\n",
       "\t 26.5 & 1    & 1   \\\\\n",
       "\t 32.8 & 1    & 1   \\\\\n",
       "\t 36.2 & 1    & 1   \\\\\n",
       "\t 29.2 & 1    & 1   \\\\\n",
       "\t 30.8 & 1    & 1   \\\\\n",
       "\t 36.1 & 1    & 1   \\\\\n",
       "\t 24.4 & 2    & 1   \\\\\n",
       "\t 22.8 & 2    & 1   \\\\\n",
       "\t 23.5 & 2    & 1   \\\\\n",
       "\t 33.7 & 2    & 1   \\\\\n",
       "\t 23.7 & 2    & 1   \\\\\n",
       "\t 25.7 & 2    & 1   \\\\\n",
       "\t 26.8 & 2    & 1   \\\\\n",
       "\t 23.0 & 2    & 1   \\\\\n",
       "\t 28.8 & 2    & 1   \\\\\n",
       "\t 24.5 & 2    & 1   \\\\\n",
       "\t 32.6 & 1    & 2   \\\\\n",
       "\t 33.8 & 1    & 2   \\\\\n",
       "\t 37.3 & 1    & 2   \\\\\n",
       "\t 32.5 & 1    & 2   \\\\\n",
       "\t 35.7 & 1    & 2   \\\\\n",
       "\t 33.0 & 1    & 2   \\\\\n",
       "\t 41.9 & 1    & 2   \\\\\n",
       "\t 34.4 & 1    & 2   \\\\\n",
       "\t 30.9 & 1    & 2   \\\\\n",
       "\t 35.1 & 1    & 2   \\\\\n",
       "\t 42.1 & 2    & 2   \\\\\n",
       "\t 34.1 & 2    & 2   \\\\\n",
       "\t 36.5 & 2    & 2   \\\\\n",
       "\t 36.5 & 2    & 2   \\\\\n",
       "\t 36.8 & 2    & 2   \\\\\n",
       "\t 34.5 & 2    & 2   \\\\\n",
       "\t 34.9 & 2    & 2   \\\\\n",
       "\t 37.2 & 2    & 2   \\\\\n",
       "\t 28.9 & 2    & 2   \\\\\n",
       "\t 39.1 & 2    & 2   \\\\\n",
       "\\end{tabular}\n"
      ],
      "text/markdown": [
       "\n",
       "plant | soil | ft | \n",
       "|---|---|---|---|---|---|---|---|---|---|---|---|---|---|---|---|---|---|---|---|---|---|---|---|---|---|---|---|---|---|---|---|---|---|---|---|---|---|---|---|\n",
       "| 36.1 | 1    | 1    | \n",
       "| 34.1 | 1    | 1    | \n",
       "| 32.7 | 1    | 1    | \n",
       "| 29.2 | 1    | 1    | \n",
       "| 26.5 | 1    | 1    | \n",
       "| 32.8 | 1    | 1    | \n",
       "| 36.2 | 1    | 1    | \n",
       "| 29.2 | 1    | 1    | \n",
       "| 30.8 | 1    | 1    | \n",
       "| 36.1 | 1    | 1    | \n",
       "| 24.4 | 2    | 1    | \n",
       "| 22.8 | 2    | 1    | \n",
       "| 23.5 | 2    | 1    | \n",
       "| 33.7 | 2    | 1    | \n",
       "| 23.7 | 2    | 1    | \n",
       "| 25.7 | 2    | 1    | \n",
       "| 26.8 | 2    | 1    | \n",
       "| 23.0 | 2    | 1    | \n",
       "| 28.8 | 2    | 1    | \n",
       "| 24.5 | 2    | 1    | \n",
       "| 32.6 | 1    | 2    | \n",
       "| 33.8 | 1    | 2    | \n",
       "| 37.3 | 1    | 2    | \n",
       "| 32.5 | 1    | 2    | \n",
       "| 35.7 | 1    | 2    | \n",
       "| 33.0 | 1    | 2    | \n",
       "| 41.9 | 1    | 2    | \n",
       "| 34.4 | 1    | 2    | \n",
       "| 30.9 | 1    | 2    | \n",
       "| 35.1 | 1    | 2    | \n",
       "| 42.1 | 2    | 2    | \n",
       "| 34.1 | 2    | 2    | \n",
       "| 36.5 | 2    | 2    | \n",
       "| 36.5 | 2    | 2    | \n",
       "| 36.8 | 2    | 2    | \n",
       "| 34.5 | 2    | 2    | \n",
       "| 34.9 | 2    | 2    | \n",
       "| 37.2 | 2    | 2    | \n",
       "| 28.9 | 2    | 2    | \n",
       "| 39.1 | 2    | 2    | \n",
       "\n",
       "\n"
      ],
      "text/plain": [
       "   plant soil ft\n",
       "1  36.1  1    1 \n",
       "2  34.1  1    1 \n",
       "3  32.7  1    1 \n",
       "4  29.2  1    1 \n",
       "5  26.5  1    1 \n",
       "6  32.8  1    1 \n",
       "7  36.2  1    1 \n",
       "8  29.2  1    1 \n",
       "9  30.8  1    1 \n",
       "10 36.1  1    1 \n",
       "11 24.4  2    1 \n",
       "12 22.8  2    1 \n",
       "13 23.5  2    1 \n",
       "14 33.7  2    1 \n",
       "15 23.7  2    1 \n",
       "16 25.7  2    1 \n",
       "17 26.8  2    1 \n",
       "18 23.0  2    1 \n",
       "19 28.8  2    1 \n",
       "20 24.5  2    1 \n",
       "21 32.6  1    2 \n",
       "22 33.8  1    2 \n",
       "23 37.3  1    2 \n",
       "24 32.5  1    2 \n",
       "25 35.7  1    2 \n",
       "26 33.0  1    2 \n",
       "27 41.9  1    2 \n",
       "28 34.4  1    2 \n",
       "29 30.9  1    2 \n",
       "30 35.1  1    2 \n",
       "31 42.1  2    2 \n",
       "32 34.1  2    2 \n",
       "33 36.5  2    2 \n",
       "34 36.5  2    2 \n",
       "35 36.8  2    2 \n",
       "36 34.5  2    2 \n",
       "37 34.9  2    2 \n",
       "38 37.2  2    2 \n",
       "39 28.9  2    2 \n",
       "40 39.1  2    2 "
      ]
     },
     "metadata": {},
     "output_type": "display_data"
    }
   ],
   "source": [
    "d.soil %>% select(plant=X1) %>% mutate(soil = c(rep(1, 10), rep(2, 10), rep(1, 10), rep(2, 10)), \n",
    "                  ft = c(rep(1, 20), rep(2, 20)))  -> d.soil\n",
    "d.soil"
   ]
  },
  {
   "cell_type": "code",
   "execution_count": 163,
   "metadata": {
    "collapsed": true
   },
   "outputs": [],
   "source": [
    "write_csv(d.soil, \"../data/table7-2.csv\")"
   ]
  },
  {
   "cell_type": "code",
   "execution_count": 54,
   "metadata": {
    "collapsed": false,
    "scrolled": true
   },
   "outputs": [
    {
     "data": {
      "text/plain": [
       "            Df Sum Sq Mean Sq F value   Pr(>F)    \n",
       "soil         1   71.3    71.3   6.426 0.015733 *  \n",
       "ft           1  404.5   404.5  36.462 6.18e-07 ***\n",
       "soil:ft      1  160.8   160.8  14.495 0.000527 ***\n",
       "Residuals   36  399.4    11.1                     \n",
       "---\n",
       "Signif. codes:  0 ‘***’ 0.001 ‘**’ 0.01 ‘*’ 0.05 ‘.’ 0.1 ‘ ’ 1"
      ]
     },
     "metadata": {},
     "output_type": "display_data"
    }
   ],
   "source": [
    "d.soil %>% aov(plant ~ soil + ft + soil:ft, data = .) %>% summary()"
   ]
  },
  {
   "cell_type": "code",
   "execution_count": 59,
   "metadata": {
    "collapsed": false
   },
   "outputs": [
    {
     "data": {},
     "metadata": {},
     "output_type": "display_data"
    },
    {
     "data": {
      "image/png": "[encoded data removed]",
      "text/plain": [
       "plot without title"
      ]
     },
     "metadata": {},
     "output_type": "display_data"
    }
   ],
   "source": [
    "d.soil %>% mutate(soil = factor(soil, levels=c(1, 2), labels = c(\"natural\", \"agricultural\")), ft = factor(ft, levels = c(1, 2), labels = c(\"C\", \"F\"))) %>% \n",
    "    group_by(soil, ft) %>% summarise(plant=mean(plant)) %>% \n",
    "    ggplot(aes(x = soil, y = plant, group=ft, colour=ft)) + geom_line() + geom_point()"
   ]
  },
  {
   "cell_type": "markdown",
   "metadata": {},
   "source": [
    "F値の計算"
   ]
  },
  {
   "cell_type": "code",
   "execution_count": 61,
   "metadata": {
    "collapsed": false,
    "scrolled": true
   },
   "outputs": [
    {
     "data": {
      "text/html": [
       "<table>\n",
       "<thead><tr><th scope=col>soil</th><th scope=col>ft</th><th scope=col>plant</th></tr></thead>\n",
       "<tbody>\n",
       "\t<tr><td>1    </td><td>1    </td><td>32.37</td></tr>\n",
       "\t<tr><td>1    </td><td>2    </td><td>34.72</td></tr>\n",
       "\t<tr><td>2    </td><td>1    </td><td>25.69</td></tr>\n",
       "\t<tr><td>2    </td><td>2    </td><td>36.06</td></tr>\n",
       "</tbody>\n",
       "</table>\n"
      ],
      "text/latex": [
       "\\begin{tabular}{r|lll}\n",
       " soil & ft & plant\\\\\n",
       "\\hline\n",
       "\t 1     & 1     & 32.37\\\\\n",
       "\t 1     & 2     & 34.72\\\\\n",
       "\t 2     & 1     & 25.69\\\\\n",
       "\t 2     & 2     & 36.06\\\\\n",
       "\\end{tabular}\n"
      ],
      "text/markdown": [
       "\n",
       "soil | ft | plant | \n",
       "|---|---|---|---|\n",
       "| 1     | 1     | 32.37 | \n",
       "| 1     | 2     | 34.72 | \n",
       "| 2     | 1     | 25.69 | \n",
       "| 2     | 2     | 36.06 | \n",
       "\n",
       "\n"
      ],
      "text/plain": [
       "  soil ft plant\n",
       "1 1    1  32.37\n",
       "2 1    2  34.72\n",
       "3 2    1  25.69\n",
       "4 2    2  36.06"
      ]
     },
     "metadata": {},
     "output_type": "display_data"
    }
   ],
   "source": [
    "d.soil %>% group_by(soil, ft) %>% summarise(plant=mean(plant))"
   ]
  },
  {
   "cell_type": "code",
   "execution_count": 62,
   "metadata": {
    "collapsed": false
   },
   "outputs": [
    {
     "data": {
      "text/html": [
       "<table>\n",
       "<thead><tr><th scope=col>soil</th><th scope=col>plant</th></tr></thead>\n",
       "<tbody>\n",
       "\t<tr><td>1     </td><td>33.545</td></tr>\n",
       "\t<tr><td>2     </td><td>30.875</td></tr>\n",
       "</tbody>\n",
       "</table>\n"
      ],
      "text/latex": [
       "\\begin{tabular}{r|ll}\n",
       " soil & plant\\\\\n",
       "\\hline\n",
       "\t 1      & 33.545\\\\\n",
       "\t 2      & 30.875\\\\\n",
       "\\end{tabular}\n"
      ],
      "text/markdown": [
       "\n",
       "soil | plant | \n",
       "|---|---|\n",
       "| 1      | 33.545 | \n",
       "| 2      | 30.875 | \n",
       "\n",
       "\n"
      ],
      "text/plain": [
       "  soil plant \n",
       "1 1    33.545\n",
       "2 2    30.875"
      ]
     },
     "metadata": {},
     "output_type": "display_data"
    }
   ],
   "source": [
    "d.soil %>% select(-ft) %>% group_by(soil) %>% summarise(plant=mean(plant))"
   ]
  },
  {
   "cell_type": "code",
   "execution_count": 63,
   "metadata": {
    "collapsed": false
   },
   "outputs": [
    {
     "data": {
      "text/html": [
       "<table>\n",
       "<thead><tr><th scope=col>ft</th><th scope=col>plant</th></tr></thead>\n",
       "<tbody>\n",
       "\t<tr><td>1    </td><td>29.03</td></tr>\n",
       "\t<tr><td>2    </td><td>35.39</td></tr>\n",
       "</tbody>\n",
       "</table>\n"
      ],
      "text/latex": [
       "\\begin{tabular}{r|ll}\n",
       " ft & plant\\\\\n",
       "\\hline\n",
       "\t 1     & 29.03\\\\\n",
       "\t 2     & 35.39\\\\\n",
       "\\end{tabular}\n"
      ],
      "text/markdown": [
       "\n",
       "ft | plant | \n",
       "|---|---|\n",
       "| 1     | 29.03 | \n",
       "| 2     | 35.39 | \n",
       "\n",
       "\n"
      ],
      "text/plain": [
       "  ft plant\n",
       "1 1  29.03\n",
       "2 2  35.39"
      ]
     },
     "metadata": {},
     "output_type": "display_data"
    }
   ],
   "source": [
    "d.soil %>% select(-soil) %>% group_by(ft) %>% summarise(plant=mean(plant))"
   ]
  },
  {
   "cell_type": "code",
   "execution_count": 67,
   "metadata": {
    "collapsed": false
   },
   "outputs": [
    {
     "data": {
      "text/html": [
       "<table>\n",
       "<thead><tr><th scope=col>plant</th></tr></thead>\n",
       "<tbody>\n",
       "\t<tr><td>32.21</td></tr>\n",
       "</tbody>\n",
       "</table>\n"
      ],
      "text/latex": [
       "\\begin{tabular}{r|l}\n",
       " plant\\\\\n",
       "\\hline\n",
       "\t 32.21\\\\\n",
       "\\end{tabular}\n"
      ],
      "text/markdown": [
       "\n",
       "plant | \n",
       "|---|\n",
       "| 32.21 | \n",
       "\n",
       "\n"
      ],
      "text/plain": [
       "  plant\n",
       "1 32.21"
      ]
     },
     "metadata": {},
     "output_type": "display_data"
    }
   ],
   "source": [
    "d.soil %>% summarise(plant=mean(plant)) "
   ]
  },
  {
   "cell_type": "code",
   "execution_count": 97,
   "metadata": {
    "collapsed": false
   },
   "outputs": [
    {
     "data": {
      "text/html": [
       "<table>\n",
       "<thead><tr><th scope=col>sum(x)</th></tr></thead>\n",
       "<tbody>\n",
       "\t<tr><td>636.586</td></tr>\n",
       "</tbody>\n",
       "</table>\n"
      ],
      "text/latex": [
       "\\begin{tabular}{r|l}\n",
       " sum(x)\\\\\n",
       "\\hline\n",
       "\t 636.586\\\\\n",
       "\\end{tabular}\n"
      ],
      "text/markdown": [
       "\n",
       "sum(x) | \n",
       "|---|\n",
       "| 636.586 | \n",
       "\n",
       "\n"
      ],
      "text/plain": [
       "  sum(x) \n",
       "1 636.586"
      ]
     },
     "metadata": {},
     "output_type": "display_data"
    }
   ],
   "source": [
    "d.soil %>% group_by(soil, ft) %>% summarise(x = mean(plant), n = n()) %>% \n",
    "    mutate(x = n * (x - 32.21)**2) %>% ungroup() %>% summarise(sum(x))"
   ]
  },
  {
   "cell_type": "code",
   "execution_count": 80,
   "metadata": {
    "collapsed": false
   },
   "outputs": [
    {
     "data": {
      "text/html": [
       "<table>\n",
       "<thead><tr><th scope=col>sum(x)</th></tr></thead>\n",
       "<tbody>\n",
       "\t<tr><td>71.289</td></tr>\n",
       "</tbody>\n",
       "</table>\n"
      ],
      "text/latex": [
       "\\begin{tabular}{r|l}\n",
       " sum(x)\\\\\n",
       "\\hline\n",
       "\t 71.289\\\\\n",
       "\\end{tabular}\n"
      ],
      "text/markdown": [
       "\n",
       "sum(x) | \n",
       "|---|\n",
       "| 71.289 | \n",
       "\n",
       "\n"
      ],
      "text/plain": [
       "  sum(x)\n",
       "1 71.289"
      ]
     },
     "metadata": {},
     "output_type": "display_data"
    }
   ],
   "source": [
    "d.soil %>% group_by(soil) %>% summarise(x = mean(plant), n = n()) %>% mutate(x = n * (x - 32.21)**2) %>% summarise(sum(x))"
   ]
  },
  {
   "cell_type": "code",
   "execution_count": 81,
   "metadata": {
    "collapsed": false
   },
   "outputs": [
    {
     "data": {
      "text/html": [
       "<table>\n",
       "<thead><tr><th scope=col>sum(x)</th></tr></thead>\n",
       "<tbody>\n",
       "\t<tr><td>404.496</td></tr>\n",
       "</tbody>\n",
       "</table>\n"
      ],
      "text/latex": [
       "\\begin{tabular}{r|l}\n",
       " sum(x)\\\\\n",
       "\\hline\n",
       "\t 404.496\\\\\n",
       "\\end{tabular}\n"
      ],
      "text/markdown": [
       "\n",
       "sum(x) | \n",
       "|---|\n",
       "| 404.496 | \n",
       "\n",
       "\n"
      ],
      "text/plain": [
       "  sum(x) \n",
       "1 404.496"
      ]
     },
     "metadata": {},
     "output_type": "display_data"
    }
   ],
   "source": [
    "d.soil %>% group_by(ft) %>% summarise(x = mean(plant), n = n()) %>% mutate(x = n * (x - 32.21)**2) %>% summarise(sum(x))"
   ]
  },
  {
   "cell_type": "code",
   "execution_count": 88,
   "metadata": {
    "collapsed": false
   },
   "outputs": [
    {
     "data": {
      "text/html": [
       "<table>\n",
       "<thead><tr><th scope=col>x</th></tr></thead>\n",
       "<tbody>\n",
       "\t<tr><td>399.37</td></tr>\n",
       "</tbody>\n",
       "</table>\n"
      ],
      "text/latex": [
       "\\begin{tabular}{r|l}\n",
       " x\\\\\n",
       "\\hline\n",
       "\t 399.37\\\\\n",
       "\\end{tabular}\n"
      ],
      "text/markdown": [
       "\n",
       "x | \n",
       "|---|\n",
       "| 399.37 | \n",
       "\n",
       "\n"
      ],
      "text/plain": [
       "  x     \n",
       "1 399.37"
      ]
     },
     "metadata": {},
     "output_type": "display_data"
    }
   ],
   "source": [
    "d.soil %>% group_by(soil, ft) %>% mutate(x = (plant - mean(plant))**2 ) %>% summarise(x = sum(x)) %>% ungroup() %>% summarise(x = sum(x))"
   ]
  },
  {
   "cell_type": "code",
   "execution_count": 110,
   "metadata": {
    "collapsed": false
   },
   "outputs": [
    {
     "name": "stdout",
     "output_type": "stream",
     "text": [
      "要因 SS df MS F \n",
      "グループ間 636.586 3 \n",
      "土壌効果 71.289 1 71.289 6.426131 \n",
      "施肥効果 404.496 1 404.496 36.46207 \n",
      "交互効果 160.801 1 160.801 36.46207 \n",
      "グループ内 399.37 36 399.37 \n",
      "総合計 1035.956 40 \n"
     ]
    }
   ],
   "source": [
    "calc_f_value <- function(df){\n",
    "    cat(\"要因\", \"SS\", \"df\", \"MS\", \"F\", \"\\n\")\n",
    "    n <- 10\n",
    "    n.soil <- 2\n",
    "    n.ft <- 2\n",
    "    mean.soil.ft <- df %>% group_by(soil, ft) %>% summarise(plant=mean(plant)) %>% .[[\"plant\"]]\n",
    "    mean.soil <- df %>% select(-ft) %>% group_by(soil) %>% summarise(plant=mean(plant)) %>% .[[\"plant\"]]\n",
    "    mean.ft <- df %>% select(-soil) %>% group_by(ft) %>% summarise(plant=mean(plant)) %>% .[[\"plant\"]]\n",
    "    mean_ <- df %>% summarise(plant=mean(plant)) %>% .[[\"plant\"]]\n",
    "    \n",
    "    Y.SS <- df %>% mutate(x = (plant - mean_)**2) %>% summarise(Y.SS = sum(x)) %>% .[[\"Y.SS\"]]\n",
    "    df.all <- n.soil * n.ft * n * 1\n",
    "\n",
    "    among.SS <- df %>% group_by(soil, ft) %>% summarise(x = mean(plant), n = n()) %>% \n",
    "        mutate(x = n * (x - mean_)**2) %>% ungroup() %>% summarise(among.SS = sum(x)) %>% .[[\"among.SS\"]]\n",
    "    df.among <- n.soil * n.ft - 1\n",
    "    among.MS <- among.SS / df.among\n",
    "    cat(\"グループ間\", among.SS, df.among, \"\\n\")\n",
    "    \n",
    "    soil.SS <- df %>% group_by(soil) %>% summarise(x = mean(plant), n = n()) %>% \n",
    "        mutate(x = n * (x - mean_)**2) %>% summarise(soil.SS = sum(x)) %>% .[[\"soil.SS\"]]\n",
    "    df.soil <- n.soil - 1\n",
    "    soil.MS <- soil.SS / df.soil\n",
    "    \n",
    "    ft.SS <- df %>% group_by(ft) %>% summarise(x = mean(plant), n = n()) %>% \n",
    "        mutate(x = n * (x - mean_)**2) %>% summarise(ft.SS = sum(x)) %>% .[[\"ft.SS\"]]\n",
    "    df.ft <- n.ft - 1\n",
    "    ft.MS <- ft.SS / df.ft\n",
    "    \n",
    "    inter.SS <- among.SS - soil.SS - ft.SS\n",
    "    df.inter <- (n.soil - 1) * (n.ft - 1)\n",
    "    inter.MS <- inter.SS / df.inter\n",
    "    \n",
    "    within.SS <- df %>% group_by(soil, ft) %>% \n",
    "        mutate(x = (plant - mean(plant))**2 ) %>% summarise(x = sum(x)) %>% ungroup() %>% summarise(within.SS = sum(x)) %>% .[[\"within.SS\"]]\n",
    "    df.within <- n.soil * n.ft * (n - 1)\n",
    "    within.MS <- within.SS / df.within\n",
    "    \n",
    "    F.soil <- soil.MS / within.MS\n",
    "    cat(\"土壌効果\", soil.SS, df.soil, soil.MS, F.soil, \"\\n\")\n",
    "\n",
    "    F.ft <- ft.MS / within.MS\n",
    "    cat(\"施肥効果\", ft.SS, df.ft, ft.MS, F.ft, \"\\n\")\n",
    "\n",
    "    F.inter <- inter.MS / within.MS\n",
    "    cat(\"交互効果\", inter.SS, df.inter, inter.MS, F.ft, \"\\n\")\n",
    "    \n",
    "    cat(\"グループ内\", within.SS, df.within, within.SS, \"\\n\")\n",
    "    \n",
    "    cat(\"総合計\", Y.SS, df.all, \"\\n\")\n",
    "}\n",
    "calc_f_value(d.soil) "
   ]
  },
  {
   "cell_type": "markdown",
   "metadata": {},
   "source": [
    "## 7.4 線形混合モデル: 固定要因とランダム変量要因を取り込む"
   ]
  },
  {
   "cell_type": "code",
   "execution_count": 111,
   "metadata": {
    "collapsed": false
   },
   "outputs": [
    {
     "name": "stderr",
     "output_type": "stream",
     "text": [
      "Parsed with column specification:\n",
      "cols(\n",
      "  number = col_integer(),\n",
      "  wt = col_integer(),\n",
      "  treat = col_character(),\n",
      "  block = col_integer()\n",
      ")\n"
     ]
    },
    {
     "name": "stdout",
     "output_type": "stream",
     "text": [
      "Classes ‘tbl_df’, ‘tbl’ and 'data.frame':\t36 obs. of  4 variables:\n",
      " $ number: int  1 2 3 4 5 6 7 8 9 10 ...\n",
      " $ wt    : int  125 124 127 121 127 123 126 122 121 128 ...\n",
      " $ treat : chr  \"f\" \"f\" \"f\" \"f\" ...\n",
      " $ block : int  1 1 1 1 1 1 2 2 2 2 ...\n",
      " - attr(*, \"spec\")=List of 2\n",
      "  ..$ cols   :List of 4\n",
      "  .. ..$ number: list()\n",
      "  .. .. ..- attr(*, \"class\")= chr  \"collector_integer\" \"collector\"\n",
      "  .. ..$ wt    : list()\n",
      "  .. .. ..- attr(*, \"class\")= chr  \"collector_integer\" \"collector\"\n",
      "  .. ..$ treat : list()\n",
      "  .. .. ..- attr(*, \"class\")= chr  \"collector_character\" \"collector\"\n",
      "  .. ..$ block : list()\n",
      "  .. .. ..- attr(*, \"class\")= chr  \"collector_integer\" \"collector\"\n",
      "  ..$ default: list()\n",
      "  .. ..- attr(*, \"class\")= chr  \"collector_guess\" \"collector\"\n",
      "  ..- attr(*, \"class\")= chr \"col_spec\"\n"
     ]
    }
   ],
   "source": [
    "d.pig <- read_csv(\"../samplecode/Rで学ぶ統計学入門図版作成用/table7-5.csv\")\n",
    "str(d.pig)"
   ]
  },
  {
   "cell_type": "code",
   "execution_count": 162,
   "metadata": {
    "collapsed": true
   },
   "outputs": [],
   "source": [
    "write_csv(d.pig, \"../data/table7-5.csv\")"
   ]
  },
  {
   "cell_type": "code",
   "execution_count": 112,
   "metadata": {
    "collapsed": false
   },
   "outputs": [
    {
     "data": {
      "text/html": [
       "<table>\n",
       "<thead><tr><th scope=col>number</th><th scope=col>wt</th><th scope=col>treat</th><th scope=col>block</th></tr></thead>\n",
       "<tbody>\n",
       "\t<tr><td>1  </td><td>125</td><td>f  </td><td>1  </td></tr>\n",
       "\t<tr><td>2  </td><td>124</td><td>f  </td><td>1  </td></tr>\n",
       "\t<tr><td>3  </td><td>127</td><td>f  </td><td>1  </td></tr>\n",
       "\t<tr><td>4  </td><td>121</td><td>f  </td><td>1  </td></tr>\n",
       "\t<tr><td>5  </td><td>127</td><td>f  </td><td>1  </td></tr>\n",
       "\t<tr><td>6  </td><td>123</td><td>f  </td><td>1  </td></tr>\n",
       "</tbody>\n",
       "</table>\n"
      ],
      "text/latex": [
       "\\begin{tabular}{r|llll}\n",
       " number & wt & treat & block\\\\\n",
       "\\hline\n",
       "\t 1   & 125 & f   & 1  \\\\\n",
       "\t 2   & 124 & f   & 1  \\\\\n",
       "\t 3   & 127 & f   & 1  \\\\\n",
       "\t 4   & 121 & f   & 1  \\\\\n",
       "\t 5   & 127 & f   & 1  \\\\\n",
       "\t 6   & 123 & f   & 1  \\\\\n",
       "\\end{tabular}\n"
      ],
      "text/markdown": [
       "\n",
       "number | wt | treat | block | \n",
       "|---|---|---|---|---|---|\n",
       "| 1   | 125 | f   | 1   | \n",
       "| 2   | 124 | f   | 1   | \n",
       "| 3   | 127 | f   | 1   | \n",
       "| 4   | 121 | f   | 1   | \n",
       "| 5   | 127 | f   | 1   | \n",
       "| 6   | 123 | f   | 1   | \n",
       "\n",
       "\n"
      ],
      "text/plain": [
       "  number wt  treat block\n",
       "1 1      125 f     1    \n",
       "2 2      124 f     1    \n",
       "3 3      127 f     1    \n",
       "4 4      121 f     1    \n",
       "5 5      127 f     1    \n",
       "6 6      123 f     1    "
      ]
     },
     "metadata": {},
     "output_type": "display_data"
    }
   ],
   "source": [
    "head(d.pig)"
   ]
  },
  {
   "cell_type": "code",
   "execution_count": 114,
   "metadata": {
    "collapsed": true
   },
   "outputs": [],
   "source": [
    "options(repr.plot.width=6)"
   ]
  },
  {
   "cell_type": "code",
   "execution_count": 116,
   "metadata": {
    "collapsed": false
   },
   "outputs": [
    {
     "data": {
      "text/plain": [
       "     number            wt           treat               block  \n",
       " Min.   : 1.00   Min.   :107.0   Length:36          Min.   :1  \n",
       " 1st Qu.: 9.75   1st Qu.:112.0   Class :character   1st Qu.:1  \n",
       " Median :18.50   Median :118.0   Mode  :character   Median :2  \n",
       " Mean   :18.50   Mean   :118.3                      Mean   :2  \n",
       " 3rd Qu.:27.25   3rd Qu.:125.2                      3rd Qu.:3  \n",
       " Max.   :36.00   Max.   :129.0                      Max.   :3  "
      ]
     },
     "metadata": {},
     "output_type": "display_data"
    }
   ],
   "source": [
    "summary(d.pig)"
   ]
  },
  {
   "cell_type": "code",
   "execution_count": 117,
   "metadata": {
    "collapsed": false
   },
   "outputs": [
    {
     "data": {
      "text/html": [
       "<table>\n",
       "<thead><tr><th scope=col>treat</th><th scope=col>mean(wt)</th></tr></thead>\n",
       "<tbody>\n",
       "\t<tr><td>c       </td><td>111.5000</td></tr>\n",
       "\t<tr><td>f       </td><td>125.0556</td></tr>\n",
       "</tbody>\n",
       "</table>\n"
      ],
      "text/latex": [
       "\\begin{tabular}{r|ll}\n",
       " treat & mean(wt)\\\\\n",
       "\\hline\n",
       "\t c        & 111.5000\\\\\n",
       "\t f        & 125.0556\\\\\n",
       "\\end{tabular}\n"
      ],
      "text/markdown": [
       "\n",
       "treat | mean(wt) | \n",
       "|---|---|\n",
       "| c        | 111.5000 | \n",
       "| f        | 125.0556 | \n",
       "\n",
       "\n"
      ],
      "text/plain": [
       "  treat mean(wt)\n",
       "1 c     111.5000\n",
       "2 f     125.0556"
      ]
     },
     "metadata": {},
     "output_type": "display_data"
    }
   ],
   "source": [
    "d.pig %>% group_by(treat) %>% summarise(mean(wt))"
   ]
  },
  {
   "cell_type": "code",
   "execution_count": 133,
   "metadata": {
    "collapsed": false
   },
   "outputs": [
    {
     "data": {},
     "metadata": {},
     "output_type": "display_data"
    },
    {
     "data": {
      "image/png": "[encoded data removed]",
      "text/plain": [
       "plot without title"
      ]
     },
     "metadata": {},
     "output_type": "display_data"
    }
   ],
   "source": [
    "d.pig %>% ggplot(aes(x = number, y = wt, colour=treat)) + geom_point() + \n",
    "    geom_hline(yintercept = 111.5, linetype=2, colour=2) + \n",
    "    geom_hline(yintercept = 125.06, linetype=2, colour=4) + \n",
    "    geom_hline(yintercept = 118.3, linetype=2)"
   ]
  },
  {
   "cell_type": "code",
   "execution_count": 136,
   "metadata": {
    "collapsed": false
   },
   "outputs": [
    {
     "data": {
      "text/plain": [
       "\n",
       "Error: block\n",
       "          Df Sum Sq Mean Sq F value Pr(>F)\n",
       "Residuals  2  4.056   2.028               \n",
       "\n",
       "Error: block:treat\n",
       "          Df Sum Sq Mean Sq F value  Pr(>F)   \n",
       "treat      1 1653.8  1653.8   106.5 0.00926 **\n",
       "Residuals  2   31.1    15.5                   \n",
       "---\n",
       "Signif. codes:  0 ‘***’ 0.001 ‘**’ 0.01 ‘*’ 0.05 ‘.’ 0.1 ‘ ’ 1\n",
       "\n",
       "Error: Within\n",
       "          Df Sum Sq Mean Sq F value Pr(>F)\n",
       "Residuals 30  166.3   5.544               "
      ]
     },
     "metadata": {},
     "output_type": "display_data"
    }
   ],
   "source": [
    "d.pig %>% mutate(block=factor(block), treat=factor(treat)) %>% aov(wt ~ treat + Error(block / treat), data=.) %>% summary()"
   ]
  },
  {
   "cell_type": "markdown",
   "metadata": {},
   "source": [
    "## 演習問題"
   ]
  },
  {
   "cell_type": "code",
   "execution_count": 139,
   "metadata": {
    "collapsed": false
   },
   "outputs": [
    {
     "data": {
      "text/html": [
       "<table>\n",
       "<thead><tr><th scope=col>wt</th><th scope=col>feed</th><th scope=col>gender</th></tr></thead>\n",
       "<tbody>\n",
       "\t<tr><td>55.4</td><td>A   </td><td>M   </td></tr>\n",
       "\t<tr><td>49.7</td><td>A   </td><td>M   </td></tr>\n",
       "\t<tr><td>52.1</td><td>A   </td><td>M   </td></tr>\n",
       "\t<tr><td>49.5</td><td>A   </td><td>M   </td></tr>\n",
       "\t<tr><td>53.2</td><td>A   </td><td>M   </td></tr>\n",
       "\t<tr><td>51.4</td><td>A   </td><td>M   </td></tr>\n",
       "</tbody>\n",
       "</table>\n"
      ],
      "text/latex": [
       "\\begin{tabular}{r|lll}\n",
       " wt & feed & gender\\\\\n",
       "\\hline\n",
       "\t 55.4 & A    & M   \\\\\n",
       "\t 49.7 & A    & M   \\\\\n",
       "\t 52.1 & A    & M   \\\\\n",
       "\t 49.5 & A    & M   \\\\\n",
       "\t 53.2 & A    & M   \\\\\n",
       "\t 51.4 & A    & M   \\\\\n",
       "\\end{tabular}\n"
      ],
      "text/markdown": [
       "\n",
       "wt | feed | gender | \n",
       "|---|---|---|---|---|---|\n",
       "| 55.4 | A    | M    | \n",
       "| 49.7 | A    | M    | \n",
       "| 52.1 | A    | M    | \n",
       "| 49.5 | A    | M    | \n",
       "| 53.2 | A    | M    | \n",
       "| 51.4 | A    | M    | \n",
       "\n",
       "\n"
      ],
      "text/plain": [
       "  wt   feed gender\n",
       "1 55.4 A    M     \n",
       "2 49.7 A    M     \n",
       "3 52.1 A    M     \n",
       "4 49.5 A    M     \n",
       "5 53.2 A    M     \n",
       "6 51.4 A    M     "
      ]
     },
     "metadata": {},
     "output_type": "display_data"
    }
   ],
   "source": [
    "d.mouse <- data_frame(\n",
    "    wt = c(55.4, 49.7, 52.1, 49.5, 53.2, 51.4, 54.3, \n",
    "          47.2, 49.4, 51.3, 54.5, 48.1, 50.8, 52.7,\n",
    "          50.5, 48.2, 48.4, 52.1, 51.8, 49.7, 49.2, \n",
    "          47.3, 46.2, 48.8, 50.1, 48.2, 47.0, 46.5), \n",
    "    feed = c(rep(\"A\", 7*2), rep(\"B\", 7*2)), \n",
    "    gender = c(rep(\"M\", 7), rep(\"F\", 7), rep(\"M\", 7), rep(\"F\", 7))\n",
    ")\n",
    "head(d.mouse)"
   ]
  },
  {
   "cell_type": "code",
   "execution_count": 161,
   "metadata": {
    "collapsed": true
   },
   "outputs": [],
   "source": [
    "write_csv(d.mouse, \"../data/table-ex7-2.csv\")"
   ]
  },
  {
   "cell_type": "code",
   "execution_count": 141,
   "metadata": {
    "collapsed": true
   },
   "outputs": [],
   "source": [
    "options(repr.plot.width=3)"
   ]
  },
  {
   "cell_type": "code",
   "execution_count": 142,
   "metadata": {
    "collapsed": false
   },
   "outputs": [
    {
     "data": {},
     "metadata": {},
     "output_type": "display_data"
    },
    {
     "data": {
      "image/png": "[encoded data removed]",
      "text/plain": [
       "plot without title"
      ]
     },
     "metadata": {},
     "output_type": "display_data"
    }
   ],
   "source": [
    "d.mouse %>% ggplot(aes(x = feed, y = wt, group=gender, colour=gender)) + geom_point()"
   ]
  },
  {
   "cell_type": "code",
   "execution_count": 145,
   "metadata": {
    "collapsed": false
   },
   "outputs": [
    {
     "data": {},
     "metadata": {},
     "output_type": "display_data"
    },
    {
     "data": {
      "image/png": "[encoded data removed]",
      "text/plain": [
       "plot without title"
      ]
     },
     "metadata": {},
     "output_type": "display_data"
    }
   ],
   "source": [
    "d.mouse %>% mutate(feed=factor(feed), gender=factor(gender)) %>% group_by(feed, gender) %>% summarise(wt=mean(wt)) %>% \n",
    "    ggplot(aes(x=feed, y=wt, group=gender, colour=gender)) + geom_line() + geom_point()"
   ]
  },
  {
   "cell_type": "code",
   "execution_count": 146,
   "metadata": {
    "collapsed": false
   },
   "outputs": [
    {
     "data": {
      "text/plain": [
       "Call:\n",
       "   aov(formula = wt ~ feed + gender + feed:gender, data = .)\n",
       "\n",
       "Terms:\n",
       "                    feed   gender feed:gender Residuals\n",
       "Sum of Squares  45.26286 26.81286     0.63000  95.21143\n",
       "Deg. of Freedom        1        1           1        24\n",
       "\n",
       "Residual standard error: 1.991769\n",
       "Estimated effects may be unbalanced"
      ]
     },
     "metadata": {},
     "output_type": "display_data"
    }
   ],
   "source": [
    "d.mouse %>% aov(wt ~ feed + gender + feed:gender, data=.)"
   ]
  },
  {
   "cell_type": "code",
   "execution_count": 147,
   "metadata": {
    "collapsed": false
   },
   "outputs": [
    {
     "data": {
      "text/plain": [
       "            Df Sum Sq Mean Sq F value  Pr(>F)   \n",
       "feed         1  45.26   45.26  11.409 0.00249 **\n",
       "gender       1  26.81   26.81   6.759 0.01571 * \n",
       "feed:gender  1   0.63    0.63   0.159 0.69378   \n",
       "Residuals   24  95.21    3.97                   \n",
       "---\n",
       "Signif. codes:  0 ‘***’ 0.001 ‘**’ 0.01 ‘*’ 0.05 ‘.’ 0.1 ‘ ’ 1"
      ]
     },
     "metadata": {},
     "output_type": "display_data"
    }
   ],
   "source": [
    "d.mouse %>% aov(wt ~ feed + gender + feed:gender, data=.) %>% summary()"
   ]
  },
  {
   "cell_type": "markdown",
   "metadata": {},
   "source": [
    "### 演習問題7.3"
   ]
  },
  {
   "cell_type": "code",
   "execution_count": 149,
   "metadata": {
    "collapsed": false
   },
   "outputs": [
    {
     "data": {
      "text/html": [
       "<table>\n",
       "<thead><tr><th scope=col>indiv</th><th scope=col>score</th><th scope=col>juku</th><th scope=col>class</th></tr></thead>\n",
       "<tbody>\n",
       "\t<tr><td>1 </td><td>78</td><td>1 </td><td>A </td></tr>\n",
       "\t<tr><td>2 </td><td>72</td><td>1 </td><td>A </td></tr>\n",
       "\t<tr><td>3 </td><td>81</td><td>1 </td><td>A </td></tr>\n",
       "\t<tr><td>4 </td><td>71</td><td>1 </td><td>A </td></tr>\n",
       "\t<tr><td>5 </td><td>74</td><td>1 </td><td>A </td></tr>\n",
       "\t<tr><td>6 </td><td>72</td><td>1 </td><td>A </td></tr>\n",
       "</tbody>\n",
       "</table>\n"
      ],
      "text/latex": [
       "\\begin{tabular}{r|llll}\n",
       " indiv & score & juku & class\\\\\n",
       "\\hline\n",
       "\t 1  & 78 & 1  & A \\\\\n",
       "\t 2  & 72 & 1  & A \\\\\n",
       "\t 3  & 81 & 1  & A \\\\\n",
       "\t 4  & 71 & 1  & A \\\\\n",
       "\t 5  & 74 & 1  & A \\\\\n",
       "\t 6  & 72 & 1  & A \\\\\n",
       "\\end{tabular}\n"
      ],
      "text/markdown": [
       "\n",
       "indiv | score | juku | class | \n",
       "|---|---|---|---|---|---|\n",
       "| 1  | 78 | 1  | A  | \n",
       "| 2  | 72 | 1  | A  | \n",
       "| 3  | 81 | 1  | A  | \n",
       "| 4  | 71 | 1  | A  | \n",
       "| 5  | 74 | 1  | A  | \n",
       "| 6  | 72 | 1  | A  | \n",
       "\n",
       "\n"
      ],
      "text/plain": [
       "  indiv score juku class\n",
       "1 1     78    1    A    \n",
       "2 2     72    1    A    \n",
       "3 3     81    1    A    \n",
       "4 4     71    1    A    \n",
       "5 5     74    1    A    \n",
       "6 6     72    1    A    "
      ]
     },
     "metadata": {},
     "output_type": "display_data"
    }
   ],
   "source": [
    "d.exam <- data_frame(\n",
    "    indiv = c(1:36), \n",
    "    score = c(78, 72, 81, 71, 74, 72, \n",
    "              85, 83, 79, 77, 75, 77, \n",
    "              83, 86, 74, 76, 73, 71, \n",
    "              66, 71, 72, 60, 58, 55, \n",
    "              58, 49, 62, 69, 70, 63, \n",
    "              65, 59, 54, 67, 66, 67), \n",
    "    juku = c(rep(1, 18), rep(2, 18)), \n",
    "    class = rep(c(rep(\"A\", 6), rep(\"B\", 6), rep(\"C\", 6)), 2)\n",
    ")\n",
    "head(d.exam)"
   ]
  },
  {
   "cell_type": "code",
   "execution_count": 160,
   "metadata": {
    "collapsed": false
   },
   "outputs": [],
   "source": [
    "write_csv(d.exam, \"../data/table-ex7-3.csv\")"
   ]
  },
  {
   "cell_type": "code",
   "execution_count": 151,
   "metadata": {
    "collapsed": true
   },
   "outputs": [],
   "source": [
    "options(repr.plot.width = 6)"
   ]
  },
  {
   "cell_type": "code",
   "execution_count": 155,
   "metadata": {
    "collapsed": false
   },
   "outputs": [
    {
     "data": {},
     "metadata": {},
     "output_type": "display_data"
    },
    {
     "data": {
      "image/png": "[encoded data removed]",
      "text/plain": [
       "plot without title"
      ]
     },
     "metadata": {},
     "output_type": "display_data"
    }
   ],
   "source": [
    "d.exam %>% ggplot(aes(x = indiv, y = score, shape=factor(juku), colour=class)) + geom_point()"
   ]
  },
  {
   "cell_type": "code",
   "execution_count": 157,
   "metadata": {
    "collapsed": false
   },
   "outputs": [
    {
     "data": {
      "text/plain": [
       "\n",
       "Call:\n",
       "aov(formula = score ~ juku + Error(class/juku), data = .)\n",
       "\n",
       "Grand Mean: 69.94444\n",
       "\n",
       "Stratum 1: class\n",
       "\n",
       "Terms:\n",
       "                Residuals\n",
       "Sum of Squares   12.38889\n",
       "Deg. of Freedom         2\n",
       "\n",
       "Residual standard error: 2.488864\n",
       "\n",
       "Stratum 2: class:juku\n",
       "\n",
       "Terms:\n",
       "                     juku Residuals\n",
       "Sum of Squares  1820.4444   63.3889\n",
       "Deg. of Freedom         1         2\n",
       "\n",
       "Residual standard error: 5.629782\n",
       "Estimated effects are balanced\n",
       "\n",
       "Stratum 3: Within\n",
       "\n",
       "Terms:\n",
       "                Residuals\n",
       "Sum of Squares   1023.667\n",
       "Deg. of Freedom        30\n",
       "\n",
       "Residual standard error: 5.841423"
      ]
     },
     "metadata": {},
     "output_type": "display_data"
    }
   ],
   "source": [
    "d.exam %>% mutate(juku=factor(juku), class=factor(class)) %>% \n",
    "    aov(score ~ juku + Error(class / juku), data=.)"
   ]
  },
  {
   "cell_type": "code",
   "execution_count": 158,
   "metadata": {
    "collapsed": false
   },
   "outputs": [
    {
     "data": {
      "text/plain": [
       "\n",
       "Error: class\n",
       "          Df Sum Sq Mean Sq F value Pr(>F)\n",
       "Residuals  2  12.39   6.194               \n",
       "\n",
       "Error: class:juku\n",
       "          Df Sum Sq Mean Sq F value Pr(>F)  \n",
       "juku       1 1820.4  1820.4   57.44  0.017 *\n",
       "Residuals  2   63.4    31.7                 \n",
       "---\n",
       "Signif. codes:  0 ‘***’ 0.001 ‘**’ 0.01 ‘*’ 0.05 ‘.’ 0.1 ‘ ’ 1\n",
       "\n",
       "Error: Within\n",
       "          Df Sum Sq Mean Sq F value Pr(>F)\n",
       "Residuals 30   1024   34.12               "
      ]
     },
     "metadata": {},
     "output_type": "display_data"
    }
   ],
   "source": [
    "d.exam %>% mutate(juku=factor(juku), class=factor(class)) %>% \n",
    "    aov(score ~ juku + Error(class / juku), data=.) %>% summary()"
   ]
  },
  {
   "cell_type": "code",
   "execution_count": 33,
   "metadata": {
    "collapsed": false
   },
   "outputs": [
    {
     "name": "stderr",
     "output_type": "stream",
     "text": [
      "Session info ------------------------------------------------------------------\n",
      "Packages ----------------------------------------------------------------------\n"
     ]
    },
    {
     "data": {
      "text/plain": [
       " setting  value                       \n",
       " version  R version 3.2.3 (2015-12-10)\n",
       " system   x86_64, darwin13.4.0        \n",
       " ui       X11                         \n",
       " language (EN)                        \n",
       " collate  en_US.UTF-8                 \n",
       " tz       Asia/Tokyo                  \n",
       " date     2017-05-28                  \n",
       "\n",
       " package    * version    date       source                            \n",
       " assertthat   0.1        2013-12-06 CRAN (R 3.2.0)                    \n",
       " base       * 3.2.3      2015-12-11 local                             \n",
       " Cairo        1.5-9      2015-09-26 CRAN (R 3.2.0)                    \n",
       " colorspace   1.2-7      2016-10-11 CRAN (R 3.2.5)                    \n",
       " crayon       1.3.2      2016-06-28 CRAN (R 3.2.5)                    \n",
       " datasets   * 3.2.3      2015-12-11 local                             \n",
       " DBI          0.5-1      2016-09-10 CRAN (R 3.2.5)                    \n",
       " devtools     1.13.1     2017-05-13 CRAN (R 3.2.5)                    \n",
       " digest       0.6.12     2017-01-27 CRAN (R 3.2.5)                    \n",
       " dplyr      * 0.5.0      2016-06-24 CRAN (R 3.2.5)                    \n",
       " evaluate     0.10       2016-10-11 CRAN (R 3.2.5)                    \n",
       " ggplot2    * 2.1.0.9001 2016-10-01 Github (hadley/ggplot2@feb3ffd)   \n",
       " graphics   * 3.2.3      2015-12-11 local                             \n",
       " grDevices  * 3.2.3      2015-12-11 local                             \n",
       " grid         3.2.3      2015-12-11 local                             \n",
       " gtable       0.2.0      2016-02-26 CRAN (R 3.2.3)                    \n",
       " IRdisplay    0.4.4      2016-08-02 CRAN (R 3.2.5)                    \n",
       " IRkernel     0.8.6.9000 2017-05-28 Github (IRkernel/IRkernel@f2f4ee3)\n",
       " jsonlite     1.4        2017-04-08 cran (@1.4)                       \n",
       " labeling     0.3        2014-08-23 CRAN (R 3.2.0)                    \n",
       " lazyeval     0.2.0      2016-06-12 cran (@0.2.0)                     \n",
       " magrittr     1.5        2014-11-22 CRAN (R 3.2.0)                    \n",
       " memoise      1.0.0      2016-01-29 CRAN (R 3.2.3)                    \n",
       " methods    * 3.2.3      2015-12-11 local                             \n",
       " munsell      0.4.3      2016-02-13 CRAN (R 3.2.3)                    \n",
       " pbdZMQ       0.2-6      2017-05-15 CRAN (R 3.2.5)                    \n",
       " plyr         1.8.4      2016-06-08 cran (@1.8.4)                     \n",
       " R6           2.2.0      2016-10-05 CRAN (R 3.2.3)                    \n",
       " Rcpp         0.12.7     2016-09-05 cran (@0.12.7)                    \n",
       " readr      * 1.0.0      2016-08-03 CRAN (R 3.2.5)                    \n",
       " repr         0.12.0     2017-04-07 CRAN (R 3.2.5)                    \n",
       " scales       0.4.0      2016-02-26 CRAN (R 3.2.3)                    \n",
       " stats      * 3.2.3      2015-12-11 local                             \n",
       " stringi      1.1.2      2016-10-01 CRAN (R 3.2.5)                    \n",
       " stringr      1.1.0      2016-08-19 CRAN (R 3.2.5)                    \n",
       " tibble       1.2        2016-08-26 cran (@1.2)                       \n",
       " tidyr      * 0.6.0      2016-08-12 CRAN (R 3.2.5)                    \n",
       " tools        3.2.3      2015-12-11 local                             \n",
       " utils      * 3.2.3      2015-12-11 local                             \n",
       " uuid         0.1-2      2015-07-28 CRAN (R 3.2.0)                    \n",
       " withr        1.0.2      2016-06-20 CRAN (R 3.2.5)                    "
      ]
     },
     "metadata": {},
     "output_type": "display_data"
    }
   ],
   "source": [
    "devtools::session_info()"
   ]
  }
 ],
 "metadata": {
  "anaconda-cloud": {},
  "kernelspec": {
   "display_name": "R",
   "language": "R",
   "name": "ir"
  },
  "language_info": {
   "codemirror_mode": "r",
   "file_extension": ".r",
   "mimetype": "text/x-r-source",
   "name": "R",
   "pygments_lexer": "r",
   "version": "3.2.3"
  }
 },
 "nbformat": 4,
 "nbformat_minor": 2
}
