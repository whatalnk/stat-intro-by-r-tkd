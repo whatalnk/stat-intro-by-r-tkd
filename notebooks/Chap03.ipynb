{
 "cells": [
  {
   "cell_type": "markdown",
   "metadata": {
    "nbpresent": {
     "id": "b0284eea-1b66-446e-a979-c08cbe99e9f3"
    },
    "slideshow": {
     "slide_type": "slide"
    }
   },
   "source": [
    "### 3章 大数の法則，正規分布，中心極限定理"
   ]
  },
  {
   "cell_type": "markdown",
   "metadata": {
    "slideshow": {
     "slide_type": "slide"
    }
   },
   "source": [
    "* 大数の法則: 標本サイズが大きくなるほど，その標本の平均は母集団の平均に近づく\n",
    "* 中心極限定理: 母集団がどのような分布であっても，標本を抽出したときの平均は正規分布に収束する"
   ]
  },
  {
   "cell_type": "markdown",
   "metadata": {
    "slideshow": {
     "slide_type": "slide"
    }
   },
   "source": [
    "今日使うパッケージ\n",
    "\n",
    "* `dplyr`: Dataframe 操作\n",
    "* `ggplot2`: グラフ作成\n",
    "* `readr`: データ読み込み\n",
    "* `Cairo`: グラフ作成（描画，保存）\n",
    "* `gridExtra`: グラフ作成（低レベルな操作）\n",
    "\n",
    "その他よく使うパッケージ\n",
    "\n",
    "* `tidyr`: Dataframe 操作\n",
    "* `readxl`, `openxlsx`: Excel ファイル読み書き\n",
    "\n",
    "パッケージのインストール\n",
    "\n",
    "* RStudio のメニューから\n",
    "* もしくは `install.packages(packagename)`\n",
    "\n",
    "読み込み\n",
    "\n",
    "* `library(packagename)` or `require(packagename)`"
   ]
  },
  {
   "cell_type": "markdown",
   "metadata": {
    "slideshow": {
     "slide_type": "subslide"
    }
   },
   "source": [
    "一気に読み込む場合"
   ]
  },
  {
   "cell_type": "code",
   "execution_count": 1,
   "metadata": {
    "collapsed": false,
    "scrolled": false,
    "slideshow": {
     "slide_type": "fragment"
    }
   },
   "outputs": [
    {
     "name": "stderr",
     "output_type": "stream",
     "text": [
      "Loading required package: dplyr\n",
      "\n",
      "Attaching package: 'dplyr'\n",
      "\n",
      "The following objects are masked from 'package:stats':\n",
      "\n",
      "    filter, lag\n",
      "\n",
      "The following objects are masked from 'package:base':\n",
      "\n",
      "    intersect, setdiff, setequal, union\n",
      "\n",
      "Loading required package: ggplot2\n",
      "Warning message:\n",
      "\"package 'ggplot2' was built under R version 3.3.3\"Loading required package: readr\n",
      "Warning message:\n",
      "\"package 'readr' was built under R version 3.3.3\"Loading required package: Cairo\n"
     ]
    },
    {
     "data": {
      "text/html": [
       "<dl class=dl-horizontal>\n",
       "\t<dt>dplyr</dt>\n",
       "\t\t<dd>TRUE</dd>\n",
       "\t<dt>ggplot2</dt>\n",
       "\t\t<dd>TRUE</dd>\n",
       "\t<dt>readr</dt>\n",
       "\t\t<dd>TRUE</dd>\n",
       "\t<dt>Cairo</dt>\n",
       "\t\t<dd>TRUE</dd>\n",
       "</dl>\n"
      ],
      "text/latex": [
       "\\begin{description*}\n",
       "\\item[dplyr] TRUE\n",
       "\\item[ggplot2] TRUE\n",
       "\\item[readr] TRUE\n",
       "\\item[Cairo] TRUE\n",
       "\\end{description*}\n"
      ],
      "text/markdown": [
       "dplyr\n",
       ":   TRUEggplot2\n",
       ":   TRUEreadr\n",
       ":   TRUECairo\n",
       ":   TRUE\n",
       "\n"
      ],
      "text/plain": [
       "  dplyr ggplot2   readr   Cairo \n",
       "   TRUE    TRUE    TRUE    TRUE "
      ]
     },
     "metadata": {},
     "output_type": "display_data"
    }
   ],
   "source": [
    "sapply(c(\"dplyr\", \"ggplot2\", \"readr\", \"Cairo\"), require, character.only = TRUE)"
   ]
  },
  {
   "cell_type": "code",
   "execution_count": null,
   "metadata": {
    "collapsed": false,
    "scrolled": true,
    "slideshow": {
     "slide_type": "skip"
    }
   },
   "outputs": [],
   "source": [
    "search()"
   ]
  },
  {
   "cell_type": "code",
   "execution_count": null,
   "metadata": {
    "collapsed": true,
    "slideshow": {
     "slide_type": "skip"
    }
   },
   "outputs": [],
   "source": [
    "detach(package:readr)"
   ]
  },
  {
   "cell_type": "markdown",
   "metadata": {
    "nbpresent": {
     "id": "daa21d3c-2e97-466e-9a12-e998da48c0d7"
    },
    "slideshow": {
     "slide_type": "slide"
    }
   },
   "source": [
    "## 3.1 大数の法則: ベルヌーイ試行と真の値への収束"
   ]
  },
  {
   "cell_type": "markdown",
   "metadata": {
    "slideshow": {
     "slide_type": "slide"
    }
   },
   "source": [
    "例: コイントス（ベルヌーイ試行）\n",
    "\n",
    "* 裏（表）が出る確率は `0.5`\n",
    "    * 母集団の表裏の出る期待確率\n",
    "* 任意の回数コイントスを繰り返す\n",
    "    * 母集団から標本を抽出\n",
    "    * 母集団平均（期待値）の推定\n",
    "* 試行回数が十分に大きいと `表:裏 = 1:1` に近づく\n",
    "    * 平均 0.5 に近づく\n",
    "    * 大数の法則"
   ]
  },
  {
   "cell_type": "markdown",
   "metadata": {
    "slideshow": {
     "slide_type": "notes"
    }
   },
   "source": [
    "考えやすいように数式にする"
   ]
  },
  {
   "cell_type": "markdown",
   "metadata": {
    "slideshow": {
     "slide_type": "subslide"
    }
   },
   "source": [
    "各試行の結果を $x$ とする\n",
    "* 表: $x = 1$\n",
    "* 裏: $x = 0$\n",
    "\n",
    "試行回数10とき，表が出た回数 $r$ は，\n",
    "\n",
    "$$\n",
    "r = x_1 + x_2 + \\cdots + x_{10}\n",
    "$$\n",
    "\n",
    "表が出た確率 $y$ （相対頻度） は，\n",
    "\n",
    "$$\n",
    "y = \\frac{r}{10}\n",
    "$$"
   ]
  },
  {
   "cell_type": "markdown",
   "metadata": {
    "slideshow": {
     "slide_type": "slide"
    }
   },
   "source": [
    "10回コイントスを行う場合，表が 0--10 回 出る確率は?\n",
    "\n",
    "* $r$ は確率変数で，$n=10$，$p = 0.5$ の二項分布 `Bi(10, 0.5)` に従う\n",
    "\n",
    "$$\n",
    "    P(r) = {}_{10}\\mathrm{C}_r (0.5)^r (1 - 0.5)^{10 - r}\n",
    "$$\n",
    "\n",
    "* 二項分布の期待値と分散は，\n",
    "\n",
    "$$\n",
    "\\begin{eqnarray}\n",
    "    E(r) &=& np \\\\\n",
    "    Var(r) &=& np(1 - p)\n",
    "\\end{eqnarray}\n",
    "$$\n"
   ]
  },
  {
   "cell_type": "markdown",
   "metadata": {
    "slideshow": {
     "slide_type": "subslide"
    }
   },
   "source": [
    "期待値について，\n",
    "\n",
    "$$\n",
    "\\begin{eqnarray}\n",
    "    E(aX) &=& aE(X) \\\\\n",
    "    E(X + a) &=& E(X) + a \\\\\n",
    "    E(X + Y) &=& E(X) + E(Y) \\\\\n",
    "    E(XY) &=& E(X)E(Y) \\; (XとYは独立)\n",
    "\\end{eqnarray}\n",
    "$$\n",
    "\n",
    "なので，\n",
    "\n",
    "$$\n",
    "E(r / n) = p = 0.5\n",
    "$$"
   ]
  },
  {
   "cell_type": "code",
   "execution_count": 2,
   "metadata": {
    "collapsed": false,
    "slideshow": {
     "slide_type": "subslide"
    }
   },
   "outputs": [
    {
     "data": {
      "text/html": [
       "<table>\n",
       "<thead><tr><th scope=col>r</th><th scope=col>p</th></tr></thead>\n",
       "<tbody>\n",
       "\t<tr><td> 0   </td><td>0.001</td></tr>\n",
       "\t<tr><td> 1   </td><td>0.010</td></tr>\n",
       "\t<tr><td> 2   </td><td>0.044</td></tr>\n",
       "\t<tr><td> 3   </td><td>0.117</td></tr>\n",
       "\t<tr><td> 4   </td><td>0.205</td></tr>\n",
       "\t<tr><td> 5   </td><td>0.246</td></tr>\n",
       "\t<tr><td> 6   </td><td>0.205</td></tr>\n",
       "\t<tr><td> 7   </td><td>0.117</td></tr>\n",
       "\t<tr><td> 8   </td><td>0.044</td></tr>\n",
       "\t<tr><td> 9   </td><td>0.010</td></tr>\n",
       "\t<tr><td>10   </td><td>0.001</td></tr>\n",
       "</tbody>\n",
       "</table>\n"
      ],
      "text/latex": [
       "\\begin{tabular}{r|ll}\n",
       " r & p\\\\\n",
       "\\hline\n",
       "\t  0    & 0.001\\\\\n",
       "\t  1    & 0.010\\\\\n",
       "\t  2    & 0.044\\\\\n",
       "\t  3    & 0.117\\\\\n",
       "\t  4    & 0.205\\\\\n",
       "\t  5    & 0.246\\\\\n",
       "\t  6    & 0.205\\\\\n",
       "\t  7    & 0.117\\\\\n",
       "\t  8    & 0.044\\\\\n",
       "\t  9    & 0.010\\\\\n",
       "\t 10    & 0.001\\\\\n",
       "\\end{tabular}\n"
      ],
      "text/markdown": [
       "\n",
       "r | p | \n",
       "|---|---|---|---|---|---|---|---|---|---|---|\n",
       "|  0    | 0.001 | \n",
       "|  1    | 0.010 | \n",
       "|  2    | 0.044 | \n",
       "|  3    | 0.117 | \n",
       "|  4    | 0.205 | \n",
       "|  5    | 0.246 | \n",
       "|  6    | 0.205 | \n",
       "|  7    | 0.117 | \n",
       "|  8    | 0.044 | \n",
       "|  9    | 0.010 | \n",
       "| 10    | 0.001 | \n",
       "\n",
       "\n"
      ],
      "text/plain": [
       "   r  p    \n",
       "1   0 0.001\n",
       "2   1 0.010\n",
       "3   2 0.044\n",
       "4   3 0.117\n",
       "5   4 0.205\n",
       "6   5 0.246\n",
       "7   6 0.205\n",
       "8   7 0.117\n",
       "9   8 0.044\n",
       "10  9 0.010\n",
       "11 10 0.001"
      ]
     },
     "metadata": {},
     "output_type": "display_data"
    }
   ],
   "source": [
    "c(0:10) %>% sapply(function(r){\n",
    "    ret <- choose(10, r) * 0.5^r * (1-0.5)^(10-r)\n",
    "    return(data_frame(r = r, p = round(ret, 3)))\n",
    "}, simplify = FALSE) %>% bind_rows()"
   ]
  },
  {
   "cell_type": "markdown",
   "metadata": {
    "slideshow": {
     "slide_type": "subslide"
    }
   },
   "source": [
    "* R で二項分布を扱う場合は，`dbinom()` などを使う\n",
    "\n",
    "表 3.1"
   ]
  },
  {
   "cell_type": "code",
   "execution_count": 3,
   "metadata": {
    "collapsed": false,
    "scrolled": true,
    "slideshow": {
     "slide_type": "fragment"
    }
   },
   "outputs": [
    {
     "data": {
      "text/html": [
       "<table>\n",
       "<thead><tr><th scope=col>r</th><th scope=col>p</th></tr></thead>\n",
       "<tbody>\n",
       "\t<tr><td> 0   </td><td>0.001</td></tr>\n",
       "\t<tr><td> 1   </td><td>0.010</td></tr>\n",
       "\t<tr><td> 2   </td><td>0.044</td></tr>\n",
       "\t<tr><td> 3   </td><td>0.117</td></tr>\n",
       "\t<tr><td> 4   </td><td>0.205</td></tr>\n",
       "\t<tr><td> 5   </td><td>0.246</td></tr>\n",
       "\t<tr><td> 6   </td><td>0.205</td></tr>\n",
       "\t<tr><td> 7   </td><td>0.117</td></tr>\n",
       "\t<tr><td> 8   </td><td>0.044</td></tr>\n",
       "\t<tr><td> 9   </td><td>0.010</td></tr>\n",
       "\t<tr><td>10   </td><td>0.001</td></tr>\n",
       "</tbody>\n",
       "</table>\n"
      ],
      "text/latex": [
       "\\begin{tabular}{r|ll}\n",
       " r & p\\\\\n",
       "\\hline\n",
       "\t  0    & 0.001\\\\\n",
       "\t  1    & 0.010\\\\\n",
       "\t  2    & 0.044\\\\\n",
       "\t  3    & 0.117\\\\\n",
       "\t  4    & 0.205\\\\\n",
       "\t  5    & 0.246\\\\\n",
       "\t  6    & 0.205\\\\\n",
       "\t  7    & 0.117\\\\\n",
       "\t  8    & 0.044\\\\\n",
       "\t  9    & 0.010\\\\\n",
       "\t 10    & 0.001\\\\\n",
       "\\end{tabular}\n"
      ],
      "text/markdown": [
       "\n",
       "r | p | \n",
       "|---|---|---|---|---|---|---|---|---|---|---|\n",
       "|  0    | 0.001 | \n",
       "|  1    | 0.010 | \n",
       "|  2    | 0.044 | \n",
       "|  3    | 0.117 | \n",
       "|  4    | 0.205 | \n",
       "|  5    | 0.246 | \n",
       "|  6    | 0.205 | \n",
       "|  7    | 0.117 | \n",
       "|  8    | 0.044 | \n",
       "|  9    | 0.010 | \n",
       "| 10    | 0.001 | \n",
       "\n",
       "\n"
      ],
      "text/plain": [
       "   r  p    \n",
       "1   0 0.001\n",
       "2   1 0.010\n",
       "3   2 0.044\n",
       "4   3 0.117\n",
       "5   4 0.205\n",
       "6   5 0.246\n",
       "7   6 0.205\n",
       "8   7 0.117\n",
       "9   8 0.044\n",
       "10  9 0.010\n",
       "11 10 0.001"
      ]
     },
     "metadata": {},
     "output_type": "display_data"
    }
   ],
   "source": [
    "d <- data.frame(r = 0:10, p = round(dbinom(0:10, 10, p=0.5), 3))\n",
    "d"
   ]
  },
  {
   "cell_type": "code",
   "execution_count": 4,
   "metadata": {
    "collapsed": true,
    "slideshow": {
     "slide_type": "skip"
    }
   },
   "outputs": [],
   "source": [
    "options(repr.plot.width = 4, repr.plot.height = 4)"
   ]
  },
  {
   "cell_type": "markdown",
   "metadata": {
    "slideshow": {
     "slide_type": "subslide"
    }
   },
   "source": [
    "図 3.1"
   ]
  },
  {
   "cell_type": "code",
   "execution_count": 5,
   "metadata": {
    "collapsed": false,
    "slideshow": {
     "slide_type": "fragment"
    }
   },
   "outputs": [
    {
     "data": {},
     "metadata": {},
     "output_type": "display_data"
    },
    {
     "data": {
      "text/html": [
       "<strong>png:</strong> 2"
      ],
      "text/latex": [
       "\\textbf{png:} 2"
      ],
      "text/markdown": [
       "**png:** 2"
      ],
      "text/plain": [
       "png \n",
       "  2 "
      ]
     },
     "metadata": {},
     "output_type": "display_data"
    },
    {
     "data": {
      "image/png": "[encoded data removed]",
      "text/plain": [
       "plot without title"
      ]
     },
     "metadata": {},
     "output_type": "display_data"
    }
   ],
   "source": [
    "Cairo(type = \"raster\")\n",
    "d %>% ggplot(aes(x = r, y = p)) + \n",
    "        geom_line() + geom_point() + \n",
    "        xlab(\"表の出る回数\") + ylab(\"確率\") + \n",
    "        theme(axis.title = element_text(family = \"IPAexGothic\"))\n",
    "dev.off()"
   ]
  },
  {
   "cell_type": "markdown",
   "metadata": {
    "slideshow": {
     "slide_type": "slide"
    }
   },
   "source": [
    "十分な標本サイズだとほとんどの値が真の期待値の周囲に収束する\n",
    "（大数の法則）\n",
    "\n",
    "$$\n",
    "    P\\left( \\left|\\frac{r}{n} - 0.5 \\right| \\leq \\epsilon \\right) \\to 1 \\; (n \\to \\infty) \n",
    "$$\n",
    "\n",
    "これは，母集団がどのような確率分布であっても成り立つ\n",
    "\n",
    "$$\n",
    "    P\\left( \\left|\\bar{X}_{(n)} - \\mu \\right| \\leq \\epsilon \\right) \\to 1 \\; (n \\to \\infty) \n",
    "$$\n",
    "\n",
    "標本サイズを増やしていって，0.5 近くになる確率を求める"
   ]
  },
  {
   "cell_type": "markdown",
   "metadata": {
    "slideshow": {
     "slide_type": "subslide"
    }
   },
   "source": [
    "標本サイズ（n）: 10, 50, 100 で，$0.4 \\le r/n \\le 0.6$"
   ]
  },
  {
   "cell_type": "code",
   "execution_count": 6,
   "metadata": {
    "collapsed": false,
    "slideshow": {
     "slide_type": "fragment"
    }
   },
   "outputs": [
    {
     "name": "stdout",
     "output_type": "stream",
     "text": [
      "10 回:  0.65625 \n",
      "50 回:  0.8810795 \n",
      "100 回:  0.9647998 \n"
     ]
    },
    {
     "data": {
      "text/html": [
       "<ol>\n",
       "\t<li>NULL</li>\n",
       "\t<li>NULL</li>\n",
       "\t<li>NULL</li>\n",
       "</ol>\n"
      ],
      "text/latex": [
       "\\begin{enumerate}\n",
       "\\item NULL\n",
       "\\item NULL\n",
       "\\item NULL\n",
       "\\end{enumerate}\n"
      ],
      "text/markdown": [
       "1. NULL\n",
       "2. NULL\n",
       "3. NULL\n",
       "\n",
       "\n"
      ],
      "text/plain": [
       "[[1]]\n",
       "NULL\n",
       "\n",
       "[[2]]\n",
       "NULL\n",
       "\n",
       "[[3]]\n",
       "NULL\n"
      ]
     },
     "metadata": {},
     "output_type": "display_data"
    }
   ],
   "source": [
    "c(10, 50, 100) %>% \n",
    "    sapply(function(x){\n",
    "        a <- 0.4 * x\n",
    "        b <- 0.6 * x\n",
    "        prob <- dbinom(x=c(a:b), size=x, prob=0.5) %>% sum()\n",
    "        cat(x, \"回: \", prob, \"\\n\")\n",
    "    })"
   ]
  },
  {
   "cell_type": "markdown",
   "metadata": {
    "slideshow": {
     "slide_type": "subslide"
    }
   },
   "source": [
    "標本サイズ（n）: 200, 500, 10000 で，$0.49 \\le r/n \\le 0.51$"
   ]
  },
  {
   "cell_type": "code",
   "execution_count": 7,
   "metadata": {
    "collapsed": false,
    "slideshow": {
     "slide_type": "fragment"
    }
   },
   "outputs": [
    {
     "name": "stdout",
     "output_type": "stream",
     "text": [
      "200 回:  0.276229 \n",
      "500 回:  0.3771906 \n",
      "1000 回:  0.49334 \n",
      "10000 回:  0.9555742 \n"
     ]
    },
    {
     "data": {
      "text/html": [
       "<ol>\n",
       "\t<li>NULL</li>\n",
       "\t<li>NULL</li>\n",
       "\t<li>NULL</li>\n",
       "\t<li>NULL</li>\n",
       "</ol>\n"
      ],
      "text/latex": [
       "\\begin{enumerate}\n",
       "\\item NULL\n",
       "\\item NULL\n",
       "\\item NULL\n",
       "\\item NULL\n",
       "\\end{enumerate}\n"
      ],
      "text/markdown": [
       "1. NULL\n",
       "2. NULL\n",
       "3. NULL\n",
       "4. NULL\n",
       "\n",
       "\n"
      ],
      "text/plain": [
       "[[1]]\n",
       "NULL\n",
       "\n",
       "[[2]]\n",
       "NULL\n",
       "\n",
       "[[3]]\n",
       "NULL\n",
       "\n",
       "[[4]]\n",
       "NULL\n"
      ]
     },
     "metadata": {},
     "output_type": "display_data"
    }
   ],
   "source": [
    "c(200, 500, 1000, 10000) %>% \n",
    "    sapply(function(x){\n",
    "        a <- 0.49 * x\n",
    "        b <- 0.51 * x\n",
    "        prob <- dbinom(x=c(a:b), size=x, prob=0.5) %>% sum()\n",
    "        cat(x, \"回: \", prob, \"\\n\")\n",
    "    })"
   ]
  },
  {
   "cell_type": "markdown",
   "metadata": {
    "nbpresent": {
     "id": "81c7c190-6cf1-4e37-958c-b09433c4a2aa"
    },
    "slideshow": {
     "slide_type": "slide"
    }
   },
   "source": [
    "## 3.2 正規分布"
   ]
  },
  {
   "cell_type": "markdown",
   "metadata": {
    "slideshow": {
     "slide_type": "slide"
    }
   },
   "source": [
    "表3.2 100頭 のブタの20日間における体重増加量（ポンド）\n",
    "\n",
    "* ほぼ左右対称のベル型分布が得られる"
   ]
  },
  {
   "cell_type": "code",
   "execution_count": 8,
   "metadata": {
    "collapsed": false,
    "slideshow": {
     "slide_type": "skip"
    }
   },
   "outputs": [],
   "source": [
    "data_frame(ID=c(0:99), dw = c(3, 7, 11, 12, 13, 14, 15, 16, 17, 17, 18, 18, 18, 19, 19, 19, 20, 20, 21, 21, 21, 22, 22, 23, 23, 24, 24, 24, 25, 25, 25, 26, 26, 26, 26, 27, 27, 27, 28, 28, 28, 29, 29, 29, 29, 30, 30, 30, 30, 30, 30, 30, 30, 30, 30, 31, 31, 31, 31, 32, 32, 33, 33, 33, 33, 33, 34, 34, 34, 35, 35, 35, 36, 36, 36, 37, 37, 38, 38, 39, 39, 39, 40, 40, 41, 41, 41, 42, 42, 42, 43, 43, 44, 45, 46, 47, 48, 49, 53, 57)) %>% \n",
    "    write_csv(path=\"../data/table3-2.csv\")"
   ]
  },
  {
   "cell_type": "code",
   "execution_count": 9,
   "metadata": {
    "collapsed": false,
    "slideshow": {
     "slide_type": "fragment"
    }
   },
   "outputs": [
    {
     "name": "stderr",
     "output_type": "stream",
     "text": [
      "Parsed with column specification:\n",
      "cols(\n",
      "  ID = col_integer(),\n",
      "  dw = col_integer()\n",
      ")\n"
     ]
    },
    {
     "data": {
      "text/html": [
       "<table>\n",
       "<thead><tr><th scope=col>ID</th><th scope=col>dw</th></tr></thead>\n",
       "<tbody>\n",
       "\t<tr><td>0 </td><td> 3</td></tr>\n",
       "\t<tr><td>1 </td><td> 7</td></tr>\n",
       "\t<tr><td>2 </td><td>11</td></tr>\n",
       "\t<tr><td>3 </td><td>12</td></tr>\n",
       "\t<tr><td>4 </td><td>13</td></tr>\n",
       "\t<tr><td>5 </td><td>14</td></tr>\n",
       "</tbody>\n",
       "</table>\n"
      ],
      "text/latex": [
       "\\begin{tabular}{r|ll}\n",
       " ID & dw\\\\\n",
       "\\hline\n",
       "\t 0  &  3\\\\\n",
       "\t 1  &  7\\\\\n",
       "\t 2  & 11\\\\\n",
       "\t 3  & 12\\\\\n",
       "\t 4  & 13\\\\\n",
       "\t 5  & 14\\\\\n",
       "\\end{tabular}\n"
      ],
      "text/markdown": [
       "\n",
       "ID | dw | \n",
       "|---|---|---|---|---|---|\n",
       "| 0  |  3 | \n",
       "| 1  |  7 | \n",
       "| 2  | 11 | \n",
       "| 3  | 12 | \n",
       "| 4  | 13 | \n",
       "| 5  | 14 | \n",
       "\n",
       "\n"
      ],
      "text/plain": [
       "  ID dw\n",
       "1 0   3\n",
       "2 1   7\n",
       "3 2  11\n",
       "4 3  12\n",
       "5 4  13\n",
       "6 5  14"
      ]
     },
     "metadata": {},
     "output_type": "display_data"
    }
   ],
   "source": [
    "tbl32 <- read_csv(\"../data/table3-2.csv\")\n",
    "head(tbl32)"
   ]
  },
  {
   "cell_type": "code",
   "execution_count": 10,
   "metadata": {
    "collapsed": true,
    "slideshow": {
     "slide_type": "skip"
    }
   },
   "outputs": [],
   "source": [
    "data_frame(ID=c(0:99), dw = c(3, 7, 11, 12, 13, 14, 15, 16, 17, 17, 18, 18, 18, 19, 19, 19, 20, 20, 21, 21, 21, 22, 22, 23, 23, 24, 24, 24, 25, 25, 25, 26, 26, 26, 26, 27, 27, 27, 28, 28, 28, 29, 29, 29, 29, 30, 30, 30, 30, 30, 30, 30, 30, 30, 30, 31, 31, 31, 31, 32, 32, 33, 33, 33, 33, 33, 34, 34, 34, 35, 35, 35, 36, 36, 36, 37, 37, 38, 38, 39, 39, 39, 40, 40, 41, 41, 41, 42, 42, 42, 43, 43, 44, 45, 46, 47, 48, 49, 53, 57)) %>% \n",
    "    openxlsx::write.xlsx(file = \"../data/table3-2.xlsx\")"
   ]
  },
  {
   "cell_type": "code",
   "execution_count": 11,
   "metadata": {
    "collapsed": false,
    "slideshow": {
     "slide_type": "skip"
    }
   },
   "outputs": [
    {
     "data": {
      "text/html": [
       "<table>\n",
       "<thead><tr><th scope=col>ID</th><th scope=col>dw</th></tr></thead>\n",
       "<tbody>\n",
       "\t<tr><td>0 </td><td> 3</td></tr>\n",
       "\t<tr><td>1 </td><td> 7</td></tr>\n",
       "\t<tr><td>2 </td><td>11</td></tr>\n",
       "\t<tr><td>3 </td><td>12</td></tr>\n",
       "\t<tr><td>4 </td><td>13</td></tr>\n",
       "\t<tr><td>5 </td><td>14</td></tr>\n",
       "</tbody>\n",
       "</table>\n"
      ],
      "text/latex": [
       "\\begin{tabular}{r|ll}\n",
       " ID & dw\\\\\n",
       "\\hline\n",
       "\t 0  &  3\\\\\n",
       "\t 1  &  7\\\\\n",
       "\t 2  & 11\\\\\n",
       "\t 3  & 12\\\\\n",
       "\t 4  & 13\\\\\n",
       "\t 5  & 14\\\\\n",
       "\\end{tabular}\n"
      ],
      "text/markdown": [
       "\n",
       "ID | dw | \n",
       "|---|---|---|---|---|---|\n",
       "| 0  |  3 | \n",
       "| 1  |  7 | \n",
       "| 2  | 11 | \n",
       "| 3  | 12 | \n",
       "| 4  | 13 | \n",
       "| 5  | 14 | \n",
       "\n",
       "\n"
      ],
      "text/plain": [
       "  ID dw\n",
       "1 0   3\n",
       "2 1   7\n",
       "3 2  11\n",
       "4 3  12\n",
       "5 4  13\n",
       "6 5  14"
      ]
     },
     "metadata": {},
     "output_type": "display_data"
    }
   ],
   "source": [
    "readxl::read_excel(path=\"../data/table3-2.xlsx\", sheet = 1) %>% head()"
   ]
  },
  {
   "cell_type": "code",
   "execution_count": 12,
   "metadata": {
    "collapsed": false,
    "scrolled": true,
    "slideshow": {
     "slide_type": "subslide"
    }
   },
   "outputs": [
    {
     "name": "stdout",
     "output_type": "stream",
     "text": [
      "Classes 'tbl_df', 'tbl' and 'data.frame':\t100 obs. of  2 variables:\n",
      " $ ID: int  0 1 2 3 4 5 6 7 8 9 ...\n",
      " $ dw: int  3 7 11 12 13 14 15 16 17 17 ...\n",
      " - attr(*, \"spec\")=List of 2\n",
      "  ..$ cols   :List of 2\n",
      "  .. ..$ ID: list()\n",
      "  .. .. ..- attr(*, \"class\")= chr  \"collector_integer\" \"collector\"\n",
      "  .. ..$ dw: list()\n",
      "  .. .. ..- attr(*, \"class\")= chr  \"collector_integer\" \"collector\"\n",
      "  ..$ default: list()\n",
      "  .. ..- attr(*, \"class\")= chr  \"collector_guess\" \"collector\"\n",
      "  ..- attr(*, \"class\")= chr \"col_spec\"\n"
     ]
    }
   ],
   "source": [
    "str(tbl32)"
   ]
  },
  {
   "cell_type": "code",
   "execution_count": 13,
   "metadata": {
    "collapsed": true,
    "slideshow": {
     "slide_type": "skip"
    }
   },
   "outputs": [],
   "source": [
    "options(repr.plot.width = 4, repr.plot.height = 4)"
   ]
  },
  {
   "cell_type": "code",
   "execution_count": 14,
   "metadata": {
    "collapsed": false,
    "slideshow": {
     "slide_type": "subslide"
    }
   },
   "outputs": [
    {
     "data": {},
     "metadata": {},
     "output_type": "display_data"
    },
    {
     "data": {
      "text/html": [
       "<strong>png:</strong> 2"
      ],
      "text/latex": [
       "\\textbf{png:} 2"
      ],
      "text/markdown": [
       "**png:** 2"
      ],
      "text/plain": [
       "png \n",
       "  2 "
      ]
     },
     "metadata": {},
     "output_type": "display_data"
    },
    {
     "data": {
      "image/png": "[encoded data removed]",
      "text/plain": [
       "plot without title"
      ]
     },
     "metadata": {},
     "output_type": "display_data"
    }
   ],
   "source": [
    "Cairo(type = \"raster\")\n",
    "tbl32 %>% \n",
    "    ggplot(aes(dw)) + \n",
    "        geom_histogram(binwidth = 5, colour = \"black\") + \n",
    "        xlab(\"体重増（ポンド）\") + ylab(\"頻度\") + \n",
    "        theme(axis.title = element_text(family = \"IPAexGothic\"))\n",
    "dev.off()"
   ]
  },
  {
   "cell_type": "markdown",
   "metadata": {
    "slideshow": {
     "slide_type": "subslide"
    }
   },
   "source": [
    "正規分布の確率密度関数 $f(x)$ \n",
    "\n",
    "$$\n",
    "    f(x) = \\frac{1}{\\sqrt{2\\pi}\\sigma}\\exp\\left[ \\frac{-(x - \\mu)^2}{2\\sigma^2} \\right] \\; (-\\infty \\lt x \\lt \\infty)\n",
    "$$\n",
    "\n",
    "ここで，$\\mu$: 平均，$\\sigma$: 標準偏差\n",
    "\n",
    "$\\mu$，$\\sigma$ の値によって正規分布の形は変化する（パラメータ）\n"
   ]
  },
  {
   "cell_type": "code",
   "execution_count": 15,
   "metadata": {
    "collapsed": true,
    "slideshow": {
     "slide_type": "skip"
    }
   },
   "outputs": [],
   "source": [
    "options(repr.plot.width = 6, repr.plot.height = 3)"
   ]
  },
  {
   "cell_type": "markdown",
   "metadata": {
    "slideshow": {
     "slide_type": "slide"
    }
   },
   "source": [
    "図3.4: \n",
    "\n",
    "* 左: $\\mu = 0$，$\\sigma = 1$\n",
    "* 右: $\\mu = 10$，$\\sigma = 2$（青），$\\mu = 20$，$\\sigma = 4$（赤）"
   ]
  },
  {
   "cell_type": "code",
   "execution_count": 16,
   "metadata": {
    "collapsed": false,
    "slideshow": {
     "slide_type": "fragment"
    }
   },
   "outputs": [
    {
     "data": {
      "image/png": "[encoded data removed]",
      "text/plain": [
       "plot without title"
      ]
     },
     "metadata": {},
     "output_type": "display_data"
    }
   ],
   "source": [
    "gp1 <- ggplot(data_frame(x = c(-4, 4)), aes(x)) + \n",
    "    stat_function(geom=\"line\", fun = dnorm, args = list(mean = 0, sd = 1))\n",
    "gp2 <- ggplot(data_frame(x = c(0, 40)), aes(x)) + \n",
    "    stat_function(geom=\"line\", fun = dnorm, args = list(mean = 10, sd = 2), colour = \"blue\") + \n",
    "    stat_function(geom=\"line\", fun = dnorm, args = list(mean = 20, sd = 4), colour = \"red\") \n",
    "gridExtra::grid.arrange(gp1, gp2, ncol = 2)"
   ]
  },
  {
   "cell_type": "markdown",
   "metadata": {
    "slideshow": {
     "slide_type": "slide"
    }
   },
   "source": [
    "標準正規分布: 曲線の下の面積は\n",
    "\n",
    "* 平均値から$1 \\sigma$: 0.3413，両側では0.6826\n",
    "* 平均値から$2 \\sigma$: 0.4772，両側では0.9544\n",
    "* 平均値から$3 \\sigma$: 0.4986，両側では0.9972\n",
    "\n",
    "標準偏差単位で考えると便利なことがある\n",
    "\n",
    "例\n",
    "\n",
    "* Zスコア \n",
    "\n",
    "$$\n",
    "    Z = \\frac{x_i - \\mu}{\\sigma}\n",
    "$$"
   ]
  },
  {
   "cell_type": "markdown",
   "metadata": {
    "slideshow": {
     "slide_type": "subslide"
    }
   },
   "source": [
    "1 $\\sigma$ の距離\n",
    "\n",
    "平均 10，標準偏差2 の場合"
   ]
  },
  {
   "cell_type": "code",
   "execution_count": 17,
   "metadata": {
    "collapsed": false,
    "scrolled": true,
    "slideshow": {
     "slide_type": "fragment"
    }
   },
   "outputs": [
    {
     "data": {
      "text/html": [
       "0.341344746068543"
      ],
      "text/latex": [
       "0.341344746068543"
      ],
      "text/markdown": [
       "0.341344746068543"
      ],
      "text/plain": [
       "[1] 0.3413447"
      ]
     },
     "metadata": {},
     "output_type": "display_data"
    }
   ],
   "source": [
    "mu <- 10\n",
    "sigma <- 2\n",
    "pnorm(mu + sigma, mean=mu, sd = sigma) - pnorm(mu, mean = mu, sd = sigma)"
   ]
  },
  {
   "cell_type": "markdown",
   "metadata": {
    "slideshow": {
     "slide_type": "fragment"
    }
   },
   "source": [
    "平均 20，標準偏差4 の場合"
   ]
  },
  {
   "cell_type": "code",
   "execution_count": 18,
   "metadata": {
    "collapsed": false,
    "slideshow": {
     "slide_type": "fragment"
    }
   },
   "outputs": [
    {
     "data": {
      "text/html": [
       "0.341344746068543"
      ],
      "text/latex": [
       "0.341344746068543"
      ],
      "text/markdown": [
       "0.341344746068543"
      ],
      "text/plain": [
       "[1] 0.3413447"
      ]
     },
     "metadata": {},
     "output_type": "display_data"
    }
   ],
   "source": [
    "mu <- 20\n",
    "sigma <- 4\n",
    "pnorm(mu + sigma, mean=mu, sd = sigma) - pnorm(mu, mean = mu, sd = sigma)"
   ]
  },
  {
   "cell_type": "markdown",
   "metadata": {
    "slideshow": {
     "slide_type": "subslide"
    }
   },
   "source": [
    "2 $\\sigma$ の距離\n",
    "\n",
    "平均 10，標準偏差2 の場合"
   ]
  },
  {
   "cell_type": "code",
   "execution_count": 19,
   "metadata": {
    "collapsed": false,
    "slideshow": {
     "slide_type": "fragment"
    }
   },
   "outputs": [
    {
     "data": {
      "text/html": [
       "0.477249868051821"
      ],
      "text/latex": [
       "0.477249868051821"
      ],
      "text/markdown": [
       "0.477249868051821"
      ],
      "text/plain": [
       "[1] 0.4772499"
      ]
     },
     "metadata": {},
     "output_type": "display_data"
    }
   ],
   "source": [
    "mu <- 10\n",
    "sigma <- 2\n",
    "pnorm(mu + 2 * sigma, mean=mu, sd = sigma) - pnorm(mu, mean = mu, sd = sigma)"
   ]
  },
  {
   "cell_type": "markdown",
   "metadata": {
    "slideshow": {
     "slide_type": "fragment"
    }
   },
   "source": [
    "平均 20，標準偏差 4 の場合"
   ]
  },
  {
   "cell_type": "code",
   "execution_count": 20,
   "metadata": {
    "collapsed": false,
    "slideshow": {
     "slide_type": "fragment"
    }
   },
   "outputs": [
    {
     "data": {
      "text/html": [
       "0.477249868051821"
      ],
      "text/latex": [
       "0.477249868051821"
      ],
      "text/markdown": [
       "0.477249868051821"
      ],
      "text/plain": [
       "[1] 0.4772499"
      ]
     },
     "metadata": {},
     "output_type": "display_data"
    }
   ],
   "source": [
    "mu <- 20\n",
    "sigma <- 4\n",
    "pnorm(mu + 2 * sigma, mean=mu, sd = sigma) - pnorm(mu, mean = mu, sd = sigma)"
   ]
  },
  {
   "cell_type": "markdown",
   "metadata": {
    "nbpresent": {
     "id": "4dae1445-df19-4537-a61f-b74c1dce1992"
    },
    "slideshow": {
     "slide_type": "slide"
    }
   },
   "source": [
    "## 3.3 中心極限定理\n",
    "\n",
    "標本サイズが大きくなるにつれて，標本平均（$\\bar{X}$） が母平均（$\\mu$）に収束\n",
    "\n",
    "モンテカルロシミュレーション"
   ]
  },
  {
   "cell_type": "code",
   "execution_count": 21,
   "metadata": {
    "collapsed": true,
    "nbpresent": {
     "id": "b5cdaa04-f6df-49a4-8799-40cad40d5400"
    },
    "slideshow": {
     "slide_type": "slide"
    }
   },
   "outputs": [],
   "source": [
    "f <- function(n, M){\n",
    "    mean.d <- numeric(M)\n",
    "    for(k in 1:M){\n",
    "        d <- runif(n, 0, 10)\n",
    "        mean.d[k] <- mean(d)\n",
    "    }\n",
    "    mean.d\n",
    "}"
   ]
  },
  {
   "cell_type": "code",
   "execution_count": 22,
   "metadata": {
    "collapsed": true,
    "slideshow": {
     "slide_type": "subslide"
    }
   },
   "outputs": [],
   "source": [
    "f.plt <- function(x){\n",
    "    gp <- ggplot(data.frame(mean.d = x)) + theme(axis.title = element_text(family = \"IPAexGothic\"))\n",
    "    gp1 <-  gp + geom_histogram(aes(x = mean.d), bins = nclass.Sturges(x), \n",
    "                                colour = \"black\", fill=gray(0.8)) + \n",
    "            xlab(\"標本平均\") + ylab(\"頻度\") \n",
    "    gp2 <- gp + stat_qq(aes(sample = mean.d)) + xlab(\"理論変位置\") + ylab(\"標本変位置\")\n",
    "    gridExtra::grid.arrange(gp1, gp2, ncol = 2)\n",
    "}"
   ]
  },
  {
   "cell_type": "code",
   "execution_count": 23,
   "metadata": {
    "collapsed": true,
    "slideshow": {
     "slide_type": "skip"
    }
   },
   "outputs": [],
   "source": [
    "options(repr.plot.width = 6, repr.plot.height = 3)"
   ]
  },
  {
   "cell_type": "markdown",
   "metadata": {
    "slideshow": {
     "slide_type": "subslide"
    }
   },
   "source": [
    "ヒストグラム と Q-Q プロット\n",
    "\n",
    "標本サイズ: 3"
   ]
  },
  {
   "cell_type": "code",
   "execution_count": 24,
   "metadata": {
    "collapsed": true,
    "slideshow": {
     "slide_type": "fragment"
    }
   },
   "outputs": [],
   "source": [
    "mean.d1 <- f(3, 100000)"
   ]
  },
  {
   "cell_type": "code",
   "execution_count": 25,
   "metadata": {
    "collapsed": false,
    "slideshow": {
     "slide_type": "fragment"
    }
   },
   "outputs": [
    {
     "data": {
      "text/html": [
       "<strong>png:</strong> 2"
      ],
      "text/latex": [
       "\\textbf{png:} 2"
      ],
      "text/markdown": [
       "**png:** 2"
      ],
      "text/plain": [
       "png \n",
       "  2 "
      ]
     },
     "metadata": {},
     "output_type": "display_data"
    },
    {
     "data": {
      "image/png": "[encoded data removed]",
      "text/plain": [
       "plot without title"
      ]
     },
     "metadata": {},
     "output_type": "display_data"
    }
   ],
   "source": [
    "Cairo(type=\"raster\")\n",
    "f.plt(mean.d1)\n",
    "dev.off()"
   ]
  },
  {
   "cell_type": "markdown",
   "metadata": {
    "slideshow": {
     "slide_type": "subslide"
    }
   },
   "source": [
    "標本サイズ: 10"
   ]
  },
  {
   "cell_type": "code",
   "execution_count": 27,
   "metadata": {
    "collapsed": true,
    "slideshow": {
     "slide_type": "fragment"
    }
   },
   "outputs": [],
   "source": [
    "mean.d2 <- f(10, 100000)"
   ]
  },
  {
   "cell_type": "code",
   "execution_count": 28,
   "metadata": {
    "collapsed": false,
    "slideshow": {
     "slide_type": "fragment"
    }
   },
   "outputs": [
    {
     "data": {
      "text/html": [
       "<strong>png:</strong> 2"
      ],
      "text/latex": [
       "\\textbf{png:} 2"
      ],
      "text/markdown": [
       "**png:** 2"
      ],
      "text/plain": [
       "png \n",
       "  2 "
      ]
     },
     "metadata": {},
     "output_type": "display_data"
    },
    {
     "data": {
      "image/png": "[encoded data removed]",
      "text/plain": [
       "plot without title"
      ]
     },
     "metadata": {},
     "output_type": "display_data"
    }
   ],
   "source": [
    "Cairo(type=\"raster\")\n",
    "f.plt(mean.d2)\n",
    "dev.off()"
   ]
  },
  {
   "cell_type": "markdown",
   "metadata": {
    "slideshow": {
     "slide_type": "subslide"
    }
   },
   "source": [
    "標本サイズ: 1000"
   ]
  },
  {
   "cell_type": "code",
   "execution_count": 29,
   "metadata": {
    "collapsed": true,
    "slideshow": {
     "slide_type": "fragment"
    }
   },
   "outputs": [],
   "source": [
    "mean.d3 <- f(1000, 100000)"
   ]
  },
  {
   "cell_type": "code",
   "execution_count": 30,
   "metadata": {
    "collapsed": false,
    "slideshow": {
     "slide_type": "fragment"
    }
   },
   "outputs": [
    {
     "data": {
      "text/html": [
       "<strong>png:</strong> 2"
      ],
      "text/latex": [
       "\\textbf{png:} 2"
      ],
      "text/markdown": [
       "**png:** 2"
      ],
      "text/plain": [
       "png \n",
       "  2 "
      ]
     },
     "metadata": {},
     "output_type": "display_data"
    },
    {
     "data": {
      "image/png": "[encoded data removed]",
      "text/plain": [
       "plot without title"
      ]
     },
     "metadata": {},
     "output_type": "display_data"
    }
   ],
   "source": [
    "Cairo(type=\"raster\")\n",
    "f.plt(mean.d3)\n",
    "dev.off()"
   ]
  },
  {
   "cell_type": "code",
   "execution_count": 31,
   "metadata": {
    "collapsed": true
   },
   "outputs": [],
   "source": [
    "options(repr.plot.width = 3, repr.plot.height = 3)"
   ]
  },
  {
   "cell_type": "markdown",
   "metadata": {
    "slideshow": {
     "slide_type": "skip"
    }
   },
   "source": [
    "Q-Q プロットを書く"
   ]
  },
  {
   "cell_type": "code",
   "execution_count": 32,
   "metadata": {
    "collapsed": false,
    "slideshow": {
     "slide_type": "skip"
    }
   },
   "outputs": [
    {
     "data": {},
     "metadata": {},
     "output_type": "display_data"
    },
    {
     "data": {
      "image/png": "[encoded data removed]",
      "text/plain": [
       "plot without title"
      ]
     },
     "metadata": {},
     "output_type": "display_data"
    }
   ],
   "source": [
    "f.plt.qq <- function(s){\n",
    "    n <- length(s)\n",
    "    y <- sort(s)\n",
    "    x <- qnorm(ppoints(n))\n",
    "    ggplot(data_frame(x, y), aes(x, y)) + geom_point() + \n",
    "        xlim(-5, 5)\n",
    "}\n",
    "f.plt.qq(mean.d1)"
   ]
  },
  {
   "cell_type": "code",
   "execution_count": 33,
   "metadata": {
    "collapsed": false,
    "slideshow": {
     "slide_type": "skip"
    }
   },
   "outputs": [
    {
     "name": "stderr",
     "output_type": "stream",
     "text": [
      "Session info -------------------------------------------------------------------\n",
      "Packages -----------------------------------------------------------------------\n"
     ]
    },
    {
     "data": {
      "text/plain": [
       " setting  value                       \n",
       " version  R version 3.3.2 (2016-10-31)\n",
       " system   x86_64, mingw32             \n",
       " ui       RTerm                       \n",
       " language en_US.UTF-8                 \n",
       " collate  Japanese_Japan.932          \n",
       " tz       Asia/Tokyo                  \n",
       " date     2017-05-10                  \n",
       "\n",
       " package    * version    date       source                            \n",
       " assertthat   0.2.0      2017-04-11 CRAN (R 3.3.2)                    \n",
       " Cairo      * 1.5-9      2015-09-26 CRAN (R 3.2.2)                    \n",
       " cellranger   1.1.0      2016-07-27 CRAN (R 3.2.5)                    \n",
       " colorspace   1.3-2      2016-12-14 CRAN (R 3.3.3)                    \n",
       " crayon       1.3.2      2016-06-28 CRAN (R 3.3.1)                    \n",
       " DBI          0.6-1      2017-04-01 CRAN (R 3.3.3)                    \n",
       " devtools     1.12.0     2016-06-24 CRAN (R 3.3.1)                    \n",
       " digest       0.6.12     2017-01-27 CRAN (R 3.3.3)                    \n",
       " dplyr      * 0.5.0      2016-06-24 CRAN (R 3.2.5)                    \n",
       " evaluate     0.10       2016-10-11 CRAN (R 3.3.2)                    \n",
       " ggplot2    * 2.2.1      2016-12-30 CRAN (R 3.3.3)                    \n",
       " gridExtra    2.2.1      2016-02-29 CRAN (R 3.2.5)                    \n",
       " gtable       0.2.0      2016-02-26 CRAN (R 3.2.5)                    \n",
       " hms          0.3        2016-11-22 CRAN (R 3.3.3)                    \n",
       " IRdisplay    0.4.4      2016-08-02 CRAN (R 3.3.1)                    \n",
       " IRkernel     0.8.6.9000 2017-04-13 Github (IRkernel/IRkernel@29ae7df)\n",
       " jsonlite     1.4        2017-04-08 CRAN (R 3.3.3)                    \n",
       " labeling     0.3        2014-08-23 CRAN (R 3.2.1)                    \n",
       " lazyeval     0.2.0      2016-06-12 CRAN (R 3.2.5)                    \n",
       " magrittr     1.5        2014-11-22 CRAN (R 3.2.1)                    \n",
       " memoise      1.0.0      2016-01-29 CRAN (R 3.2.3)                    \n",
       " munsell      0.4.3      2016-02-13 CRAN (R 3.2.5)                    \n",
       " openxlsx     4.0.17     2017-03-23 CRAN (R 3.3.3)                    \n",
       " pbdZMQ       0.2-5      2016-12-18 CRAN (R 3.3.3)                    \n",
       " plyr         1.8.4      2016-06-08 CRAN (R 3.2.5)                    \n",
       " R6           2.2.0      2016-10-05 CRAN (R 3.3.2)                    \n",
       " Rcpp         0.12.10    2017-03-19 CRAN (R 3.3.3)                    \n",
       " readr      * 1.1.0      2017-03-22 CRAN (R 3.3.3)                    \n",
       " readxl       1.0.0      2017-04-18 CRAN (R 3.3.3)                    \n",
       " repr         0.12.0     2017-04-07 CRAN (R 3.3.3)                    \n",
       " scales       0.4.1      2016-11-09 CRAN (R 3.3.2)                    \n",
       " stringi      1.1.5      2017-04-07 CRAN (R 3.3.3)                    \n",
       " stringr      1.2.0      2017-02-18 CRAN (R 3.3.3)                    \n",
       " tibble       1.3.0      2017-04-01 CRAN (R 3.3.3)                    \n",
       " uuid         0.1-2      2015-07-28 CRAN (R 3.3.1)                    \n",
       " withr        1.0.2      2016-06-20 CRAN (R 3.2.5)                    "
      ]
     },
     "metadata": {},
     "output_type": "display_data"
    }
   ],
   "source": [
    "devtools::session_info()"
   ]
  }
 ],
 "metadata": {
  "anaconda-cloud": {},
  "celltoolbar": "Slideshow",
  "kernelspec": {
   "display_name": "R",
   "language": "R",
   "name": "ir"
  },
  "language_info": {
   "codemirror_mode": "r",
   "file_extension": ".r",
   "mimetype": "text/x-r-source",
   "name": "R",
   "pygments_lexer": "r",
   "version": "3.3.2"
  },
  "nbpresent": {
   "slides": {},
   "themes": {}
  }
 },
 "nbformat": 4,
 "nbformat_minor": 1
}
