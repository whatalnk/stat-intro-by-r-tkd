{
 "cells": [
  {
   "cell_type": "markdown",
   "metadata": {
    "slideshow": {
     "slide_type": "slide"
    }
   },
   "source": [
    "# 9章 回帰"
   ]
  },
  {
   "cell_type": "markdown",
   "metadata": {
    "slideshow": {
     "slide_type": "subslide"
    }
   },
   "source": [
    "回帰分析: 変数$X$で変数$Y$を説明する\n",
    "\n",
    "$X$ が $Y$ に影響していると想定\n",
    "\n",
    "* $X$: 説明変数（独立変数）\n",
    "* $Y$: 応答変数（従属変数）\n",
    "\n",
    "例: \n",
    "\n",
    "* 孵化後のヒヨコの日齢（$X$）と体重（$Y$）\n",
    "* 植物の日射時間（$X$）と生長量（$Y$）\n",
    "* ある県の市町村の人口（$X$）と電気料金の自治体総額（$Y$）\n",
    "\n",
    "線形回帰（直線回帰）: 関係性が線形（直線で表せる）\n",
    "\n",
    "* 単回帰: 説明変数が1つの場合\n",
    "* 重回帰: 2つ以上"
   ]
  },
  {
   "cell_type": "markdown",
   "metadata": {
    "slideshow": {
     "slide_type": "subslide"
    }
   },
   "source": [
    "* あるデータセット$X$ と $Y$ が線形の関係\n",
    "* 最も当てはまりの良い直線（回帰直線）を求める\n",
    "* 未知の$X$ から $Y$を予測する "
   ]
  },
  {
   "cell_type": "markdown",
   "metadata": {
    "slideshow": {
     "slide_type": "slide"
    }
   },
   "source": [
    "## 9.1 線形回帰と最小二乗法"
   ]
  },
  {
   "cell_type": "markdown",
   "metadata": {
    "slideshow": {
     "slide_type": "subslide"
    }
   },
   "source": [
    "データセット ($X_i$, $Y_i$) ($i=1, \\cdots, n$)について，回帰直線を求める．\n",
    "直線は，\n",
    "\n",
    "$$y = a + bx$$\n",
    "\n",
    "の形で表せるので，切片$a$と傾き$b$を求めたい．\n",
    "\n",
    "説明変数 $X_i$に対して回帰直線上の$Y$を$\\hat{Y}_i$とすると，次のようになる．\n",
    "\n",
    "$$\\hat{Y}_i = a + b X_i$$\n",
    "\n",
    "回帰直線上の$\\hat{Y}_i$と実際のデータ$Y_i$ との残差を $\\epsilon_i = Y_i - \\hat{Y}_i$ とする．\n",
    "\n",
    "この残差の和が最小になるような，切片$a$と傾き$b$を求める．\n",
    "\n",
    "実際には，二乗した和（残差平方和）を最小にすることを考える．\n",
    "\n",
    "$$\\sum\\limits^n_{i=1}\\epsilon_i^2 = \\sum\\limits^n_{i=1} (Y_i - \\hat{Y}_i)^2$$"
   ]
  },
  {
   "cell_type": "markdown",
   "metadata": {
    "slideshow": {
     "slide_type": "subslide"
    }
   },
   "source": [
    "最も当てはまりのよい直線を求める\n",
    "\n",
    "* 予測値と実際の値の乖離（残差）が最も少ない直線\n",
    "* 残差の総和が最小になればよい\n",
    "    * そのまま足すと 0\n",
    "* 残差平方和が最小になればよい"
   ]
  },
  {
   "cell_type": "markdown",
   "metadata": {
    "slideshow": {
     "slide_type": "subslide"
    }
   },
   "source": [
    "パッケージ読み込み"
   ]
  },
  {
   "cell_type": "code",
   "execution_count": 1,
   "metadata": {
    "collapsed": false,
    "slideshow": {
     "slide_type": "fragment"
    }
   },
   "outputs": [
    {
     "name": "stderr",
     "output_type": "stream",
     "text": [
      "Warning message:\n",
      "\"package 'dplyr' was built under R version 3.3.3\"\n",
      "Attaching package: 'dplyr'\n",
      "\n",
      "The following objects are masked from 'package:stats':\n",
      "\n",
      "    filter, lag\n",
      "\n",
      "The following objects are masked from 'package:base':\n",
      "\n",
      "    intersect, setdiff, setequal, union\n",
      "\n"
     ]
    }
   ],
   "source": [
    "library(dplyr)"
   ]
  },
  {
   "cell_type": "code",
   "execution_count": 2,
   "metadata": {
    "collapsed": false,
    "slideshow": {
     "slide_type": "fragment"
    }
   },
   "outputs": [
    {
     "name": "stderr",
     "output_type": "stream",
     "text": [
      "Warning message:\n",
      "\"package 'ggplot2' was built under R version 3.3.3\""
     ]
    }
   ],
   "source": [
    "library(ggplot2)"
   ]
  },
  {
   "cell_type": "markdown",
   "metadata": {
    "slideshow": {
     "slide_type": "subslide"
    }
   },
   "source": [
    "図9.2 （a）年齢と血圧の関係"
   ]
  },
  {
   "cell_type": "code",
   "execution_count": 3,
   "metadata": {
    "collapsed": true,
    "slideshow": {
     "slide_type": "fragment"
    }
   },
   "outputs": [],
   "source": [
    "d1 <- data.frame(\n",
    "    age = c(19, 23, 27, 35, 44, 51, 59, 66), \n",
    "    blood_pressure = c(124, 117, 120, 132, 128, 142, 143, 135)\n",
    ")"
   ]
  },
  {
   "cell_type": "code",
   "execution_count": 5,
   "metadata": {
    "collapsed": true,
    "slideshow": {
     "slide_type": "skip"
    }
   },
   "outputs": [],
   "source": [
    "options(repr.plot.width = 4, repr.plot.height=4)"
   ]
  },
  {
   "cell_type": "code",
   "execution_count": 12,
   "metadata": {
    "collapsed": false,
    "slideshow": {
     "slide_type": "fragment"
    }
   },
   "outputs": [
    {
     "data": {},
     "metadata": {},
     "output_type": "display_data"
    },
    {
     "data": {
      "image/png": "[encoded data removed]",
      "text/plain": [
       "plot without title"
      ]
     },
     "metadata": {},
     "output_type": "display_data"
    }
   ],
   "source": [
    "ggplot(d1, aes(age, blood_pressure)) + geom_point() + \n",
    "    scale_x_continuous(limits = c(10, 70)) + scale_y_continuous(limits=c(110, 150))"
   ]
  },
  {
   "cell_type": "markdown",
   "metadata": {
    "collapsed": true,
    "slideshow": {
     "slide_type": "subslide"
    }
   },
   "source": [
    "正規方程式で $a$ と $b$ を求める"
   ]
  },
  {
   "cell_type": "code",
   "execution_count": 22,
   "metadata": {
    "collapsed": false,
    "slideshow": {
     "slide_type": "fragment"
    }
   },
   "outputs": [],
   "source": [
    "b.d1 <- d1 %>% \n",
    "    mutate(x = age - mean(age), y = blood_pressure - mean(blood_pressure)) %>% \n",
    "    mutate(xy = x * y) %>% \n",
    "    summarise(SP.xy = sum(xy), SS.x = sum(x**2)) %>% \n",
    "    summarise(b = SP.xy / SS.x) %>% .[[\"b\"]]\n",
    "a.d1 <- with(mean(blood_pressure) - b.d1 * mean(age), data=d1)"
   ]
  },
  {
   "cell_type": "code",
   "execution_count": 135,
   "metadata": {
    "collapsed": false,
    "slideshow": {
     "slide_type": "subslide"
    }
   },
   "outputs": [
    {
     "data": {},
     "metadata": {},
     "output_type": "display_data"
    },
    {
     "data": {
      "image/png": "[encoded data removed]",
      "text/plain": [
       "plot without title"
      ]
     },
     "metadata": {},
     "output_type": "display_data"
    }
   ],
   "source": [
    "ggplot(d1, aes(age, blood_pressure)) + geom_point() + \n",
    "    scale_x_continuous(limits = c(10, 70)) + scale_y_continuous(limits=c(110, 150)) + \n",
    "    geom_abline(slope = b.d1, intercept = a.d1) + \n",
    "    annotate(\"text\", x=10, y = 150, hjust=0, vjust=0, label=sprintf(\"a = %.2f\", a.d1)) + \n",
    "    annotate(\"text\", x=10, y = 147, hjust=0, vjust=0, label=sprintf(\"b = %.4f\", b.d1))"
   ]
  },
  {
   "cell_type": "markdown",
   "metadata": {
    "slideshow": {
     "slide_type": "slide"
    }
   },
   "source": [
    "## 9.2 回帰直線の残差分散と標準誤差"
   ]
  },
  {
   "cell_type": "markdown",
   "metadata": {
    "slideshow": {
     "slide_type": "subslide"
    }
   },
   "source": [
    "回帰直線が有意かどうか\n",
    "\n",
    "* 帰無仮説「真の傾きが0である」を棄却できるかどうかを考える"
   ]
  },
  {
   "cell_type": "markdown",
   "metadata": {
    "slideshow": {
     "slide_type": "subslide"
    }
   },
   "source": [
    "図9.2（b） 年齢と血圧の関係\n",
    "\n",
    "（a）と切片と傾きは似ているが，直線からの乖離が大きい"
   ]
  },
  {
   "cell_type": "code",
   "execution_count": 26,
   "metadata": {
    "collapsed": true,
    "slideshow": {
     "slide_type": "fragment"
    }
   },
   "outputs": [],
   "source": [
    "d2 <- data.frame(\n",
    "    age = c(19, 23, 27, 35, 44, 51, 59, 66), \n",
    "    blood_pressure = c(111, 129, 113, 137, 147, 126, 135, 139)\n",
    ")"
   ]
  },
  {
   "cell_type": "code",
   "execution_count": 27,
   "metadata": {
    "collapsed": true,
    "slideshow": {
     "slide_type": "fragment"
    }
   },
   "outputs": [],
   "source": [
    "b.d2 <- d2 %>% \n",
    "    mutate(x = age - mean(age), y = blood_pressure - mean(blood_pressure)) %>% \n",
    "    mutate(xy = x * y) %>% \n",
    "    summarise(SP.xy = sum(xy), SS.x = sum(x**2)) %>% \n",
    "    summarise(b = SP.xy / SS.x) %>% .[[\"b\"]]\n",
    "a.d2 <- with(mean(blood_pressure) - b.d2 * mean(age), data=d2)"
   ]
  },
  {
   "cell_type": "code",
   "execution_count": 136,
   "metadata": {
    "collapsed": false,
    "slideshow": {
     "slide_type": "subslide"
    }
   },
   "outputs": [
    {
     "data": {},
     "metadata": {},
     "output_type": "display_data"
    },
    {
     "data": {
      "image/png": "[encoded data removed]",
      "text/plain": [
       "plot without title"
      ]
     },
     "metadata": {},
     "output_type": "display_data"
    }
   ],
   "source": [
    "ggplot(d2, aes(age, blood_pressure)) + geom_point() + \n",
    "    scale_x_continuous(limits = c(10, 70)) + scale_y_continuous(limits=c(110, 150)) + \n",
    "    geom_abline(slope = b.d2, intercept = a.d2) + \n",
    "    annotate(\"text\", x=10, y = 150, hjust=0, vjust=0, label=sprintf(\"a = %.2f\", a.d2)) + \n",
    "    annotate(\"text\", x=10, y = 147, hjust=0, vjust=0, label=sprintf(\"b = %.4f\", b.d2))"
   ]
  },
  {
   "cell_type": "markdown",
   "metadata": {
    "slideshow": {
     "slide_type": "subslide"
    }
   },
   "source": [
    "図 9.2（c） （b） と同じデータをつなげたもの（サンプル数が2倍）\n",
    "\n",
    "* 回帰直線の式は同じ"
   ]
  },
  {
   "cell_type": "code",
   "execution_count": 29,
   "metadata": {
    "collapsed": true,
    "slideshow": {
     "slide_type": "fragment"
    }
   },
   "outputs": [],
   "source": [
    "d3 <- bind_rows(d2, d2)\n",
    "b.d3 <- d3 %>% \n",
    "    mutate(x = age - mean(age), y = blood_pressure - mean(blood_pressure)) %>% \n",
    "    mutate(xy = x * y) %>% \n",
    "    summarise(SP.xy = sum(xy), SS.x = sum(x**2)) %>% \n",
    "    summarise(b = SP.xy / SS.x) %>% .[[\"b\"]]\n",
    "a.d3 <- with(mean(blood_pressure) - b.d3 * mean(age), data=d3)"
   ]
  },
  {
   "cell_type": "code",
   "execution_count": 137,
   "metadata": {
    "collapsed": false,
    "slideshow": {
     "slide_type": "subslide"
    }
   },
   "outputs": [
    {
     "data": {},
     "metadata": {},
     "output_type": "display_data"
    },
    {
     "data": {
      "image/png": "[encoded data removed]",
      "text/plain": [
       "plot without title"
      ]
     },
     "metadata": {},
     "output_type": "display_data"
    }
   ],
   "source": [
    "ggplot(d3, aes(age, blood_pressure)) + geom_point() + \n",
    "    scale_x_continuous(limits = c(10, 70)) + scale_y_continuous(limits=c(110, 150)) + \n",
    "    geom_abline(slope = b.d3, intercept = a.d3) + \n",
    "    annotate(\"text\", x=10, y = 150, hjust=0, vjust=0, label=sprintf(\"a = %.2f\", a.d3)) + \n",
    "    annotate(\"text\", x=10, y = 147, hjust=0, vjust=0, label=sprintf(\"b = %.4f\", b.d3))"
   ]
  },
  {
   "cell_type": "markdown",
   "metadata": {
    "slideshow": {
     "slide_type": "subslide"
    }
   },
   "source": [
    "Rで線形回帰をするには，`lm()` 関数を使う\n",
    "\n",
    "（a）だと，"
   ]
  },
  {
   "cell_type": "code",
   "execution_count": 32,
   "metadata": {
    "collapsed": false,
    "slideshow": {
     "slide_type": "fragment"
    }
   },
   "outputs": [
    {
     "data": {
      "text/plain": [
       "\n",
       "Call:\n",
       "lm(formula = blood_pressure ~ age, data = d1)\n",
       "\n",
       "Residuals:\n",
       "    Min      1Q  Median      3Q     Max \n",
       "-6.8956 -4.1819  0.0293  4.3551  7.0283 \n",
       "\n",
       "Coefficients:\n",
       "            Estimate Std. Error t value Pr(>|t|)    \n",
       "(Intercept) 111.4305     5.5588  20.046    1e-06 ***\n",
       "age           0.4616     0.1275   3.622   0.0111 *  \n",
       "---\n",
       "Signif. codes:  0 '***' 0.001 '**' 0.01 '*' 0.05 '.' 0.1 ' ' 1\n",
       "\n",
       "Residual standard error: 5.835 on 6 degrees of freedom\n",
       "Multiple R-squared:  0.6861,\tAdjusted R-squared:  0.6338 \n",
       "F-statistic: 13.12 on 1 and 6 DF,  p-value: 0.01107\n"
      ]
     },
     "metadata": {},
     "output_type": "display_data"
    }
   ],
   "source": [
    "lm(blood_pressure ~ age, data = d1) %>% summary()"
   ]
  },
  {
   "cell_type": "markdown",
   "metadata": {
    "slideshow": {
     "slide_type": "subslide"
    }
   },
   "source": [
    "（b）\n",
    "\n",
    "* 訂正: p128 l13: 回帰直線への適合度が高い -> 低い\n",
    "* 傾きの有意確率: 0.0961\n",
    "    * 帰無仮説を棄却できない"
   ]
  },
  {
   "cell_type": "code",
   "execution_count": 33,
   "metadata": {
    "collapsed": false,
    "slideshow": {
     "slide_type": "fragment"
    }
   },
   "outputs": [
    {
     "data": {
      "text/plain": [
       "\n",
       "Call:\n",
       "lm(formula = blood_pressure ~ age, data = d2)\n",
       "\n",
       "Residuals:\n",
       "    Min      1Q  Median      3Q     Max \n",
       "-10.464  -8.516  -2.665   7.992  15.778 \n",
       "\n",
       "Coefficients:\n",
       "            Estimate Std. Error t value Pr(>|t|)    \n",
       "(Intercept) 111.1430    10.0924  11.013 3.33e-05 ***\n",
       "age           0.4563     0.2314   1.972   0.0961 .  \n",
       "---\n",
       "Signif. codes:  0 '***' 0.001 '**' 0.01 '*' 0.05 '.' 0.1 ' ' 1\n",
       "\n",
       "Residual standard error: 10.59 on 6 degrees of freedom\n",
       "Multiple R-squared:  0.3933,\tAdjusted R-squared:  0.2922 \n",
       "F-statistic: 3.889 on 1 and 6 DF,  p-value: 0.09607\n"
      ]
     },
     "metadata": {},
     "output_type": "display_data"
    }
   ],
   "source": [
    "lm(blood_pressure ~ age, data = d2) %>% summary()"
   ]
  },
  {
   "cell_type": "markdown",
   "metadata": {
    "slideshow": {
     "slide_type": "subslide"
    }
   },
   "source": [
    "（c）\n",
    "\n",
    "* bより$p$値が低い\n",
    "    * サンプル数の影響"
   ]
  },
  {
   "cell_type": "code",
   "execution_count": 34,
   "metadata": {
    "collapsed": false,
    "slideshow": {
     "slide_type": "fragment"
    }
   },
   "outputs": [
    {
     "data": {
      "text/plain": [
       "\n",
       "Call:\n",
       "lm(formula = blood_pressure ~ age, data = d3)\n",
       "\n",
       "Residuals:\n",
       "    Min      1Q  Median      3Q     Max \n",
       "-10.464  -8.516  -2.665   7.992  15.778 \n",
       "\n",
       "Coefficients:\n",
       "            Estimate Std. Error t value Pr(>|t|)    \n",
       "(Intercept) 111.1430     6.6070  16.822 1.11e-10 ***\n",
       "age           0.4563     0.1515   3.012  0.00932 ** \n",
       "---\n",
       "Signif. codes:  0 '***' 0.001 '**' 0.01 '*' 0.05 '.' 0.1 ' ' 1\n",
       "\n",
       "Residual standard error: 9.808 on 14 degrees of freedom\n",
       "Multiple R-squared:  0.3933,\tAdjusted R-squared:  0.3499 \n",
       "F-statistic: 9.075 on 1 and 14 DF,  p-value: 0.009318\n"
      ]
     },
     "metadata": {},
     "output_type": "display_data"
    }
   ],
   "source": [
    "lm(blood_pressure ~ age, data = d3) %>% summary()"
   ]
  },
  {
   "cell_type": "markdown",
   "metadata": {
    "slideshow": {
     "slide_type": "subslide"
    }
   },
   "source": [
    "有意性を強める要因\n",
    "\n",
    "1. 適合度の強さ（残差分散あるいは残差標準誤差の小ささ）\n",
    "1. 標本サイズの増加"
   ]
  },
  {
   "cell_type": "markdown",
   "metadata": {
    "slideshow": {
     "slide_type": "slide"
    }
   },
   "source": [
    "## 9.3 直線回帰の有意性検定の原理"
   ]
  },
  {
   "cell_type": "markdown",
   "metadata": {
    "slideshow": {
     "slide_type": "subslide"
    }
   },
   "source": [
    "回帰直線の適合度: 標準誤差（Residual standard error）\n",
    "\n",
    "* 残差平方和を自由度で割り，平方根をとったもの\n",
    "\n",
    "残差平方和\n",
    "\n",
    "$$ \\sum\\limits^n_{i=1}(Y_i - \\hat{Y}_i)^2 = \\sum\\limits^n_{i=1}[Y_i - (bX_i + a)]^2 $$\n",
    "\n",
    "回帰の残差分散 $s^2$: 残差平方和 / 自由度．自由度は サンプル数 - パラメータ数（a, b） = n - 2\n",
    "\n",
    "$$ s^2 = \\frac{1}{n-2}\\sum\\limits^n_{i=1}[Y_i - (bX_i + a)]^2 $$\n",
    "\n",
    "回帰の標準誤差 $s$: 残差平方和の平方根\n",
    "\n",
    "$$ s = \\sqrt{\\frac{1}{n-2}\\sum\\limits^n_{i=1}[Y_i - (bX_i + a)]^2} $$"
   ]
  },
  {
   "cell_type": "markdown",
   "metadata": {
    "slideshow": {
     "slide_type": "subslide"
    }
   },
   "source": [
    "（a）だと，"
   ]
  },
  {
   "cell_type": "code",
   "execution_count": 41,
   "metadata": {
    "collapsed": false,
    "slideshow": {
     "slide_type": "fragment"
    }
   },
   "outputs": [
    {
     "data": {
      "text/html": [
       "<table>\n",
       "<thead><tr><th scope=col>s</th></tr></thead>\n",
       "<tbody>\n",
       "\t<tr><td>5.834999</td></tr>\n",
       "</tbody>\n",
       "</table>\n"
      ],
      "text/latex": [
       "\\begin{tabular}{r|l}\n",
       " s\\\\\n",
       "\\hline\n",
       "\t 5.834999\\\\\n",
       "\\end{tabular}\n"
      ],
      "text/markdown": [
       "\n",
       "s | \n",
       "|---|\n",
       "| 5.834999 | \n",
       "\n",
       "\n"
      ],
      "text/plain": [
       "  s       \n",
       "1 5.834999"
      ]
     },
     "metadata": {},
     "output_type": "display_data"
    }
   ],
   "source": [
    "d1 %>% \n",
    "    mutate(y_hat = age * b.d1 + a.d1) %>% \n",
    "    summarise(s = sqrt(sum((blood_pressure - y_hat)**2) / (n() - 2)))"
   ]
  },
  {
   "cell_type": "markdown",
   "metadata": {
    "slideshow": {
     "slide_type": "subslide"
    }
   },
   "source": [
    "直線回帰の有意性検定\n",
    "\n",
    "母集団における真の傾きを $\\beta$ とすると，\n",
    "\n",
    "* 帰無仮説: $\\beta = 0$\n",
    "* 対立仮説: $\\beta \\neq 0$\n",
    "\n",
    "図9.3 両方とも有意ではない\n",
    "\n",
    "* （a）: 傾きがほぼ0\n",
    "* （b）: 傾きは0ではないが，ばらつきが大きい"
   ]
  },
  {
   "cell_type": "markdown",
   "metadata": {
    "slideshow": {
     "slide_type": "subslide"
    }
   },
   "source": [
    "### （1）$t$ 検定の場合\n",
    "\n",
    "以下の統計量 $t$ が自由度$n-2$の$t$分布に従う\n",
    "\n",
    "$$ t = \\frac{(b - \\beta)\\sqrt{\\sum\\limits^n_{i=1}(X_i - \\bar{X}_i)^2}}{s_\\mathrm{e}} $$\n",
    "\n",
    "ここで，$s_\\mathrm{e}$ は回帰の標準誤差"
   ]
  },
  {
   "cell_type": "markdown",
   "metadata": {
    "slideshow": {
     "slide_type": "subslide"
    }
   },
   "source": [
    "a だと，"
   ]
  },
  {
   "cell_type": "code",
   "execution_count": 53,
   "metadata": {
    "collapsed": false,
    "slideshow": {
     "slide_type": "fragment"
    }
   },
   "outputs": [
    {
     "data": {
      "text/html": [
       "<table>\n",
       "<thead><tr><th scope=col>t</th></tr></thead>\n",
       "<tbody>\n",
       "\t<tr><td>3.624823</td></tr>\n",
       "</tbody>\n",
       "</table>\n"
      ],
      "text/latex": [
       "\\begin{tabular}{r|l}\n",
       " t\\\\\n",
       "\\hline\n",
       "\t 3.624823\\\\\n",
       "\\end{tabular}\n"
      ],
      "text/markdown": [
       "\n",
       "t | \n",
       "|---|\n",
       "| 3.624823 | \n",
       "\n",
       "\n"
      ],
      "text/plain": [
       "  t       \n",
       "1 3.624823"
      ]
     },
     "metadata": {},
     "output_type": "display_data"
    }
   ],
   "source": [
    "# t\n",
    "d1 %>% summarise(t = b.d1 * sqrt(sum((age - mean(age))**2)) / 5.83)"
   ]
  },
  {
   "cell_type": "code",
   "execution_count": 54,
   "metadata": {
    "collapsed": false,
    "slideshow": {
     "slide_type": "fragment"
    }
   },
   "outputs": [
    {
     "data": {
      "text/html": [
       "0.0111785994327396"
      ],
      "text/latex": [
       "0.0111785994327396"
      ],
      "text/markdown": [
       "0.0111785994327396"
      ],
      "text/plain": [
       "[1] 0.0111786"
      ]
     },
     "metadata": {},
     "output_type": "display_data"
    }
   ],
   "source": [
    "# p値\n",
    "1 - pt(q = 3.62, df = 4)"
   ]
  },
  {
   "cell_type": "markdown",
   "metadata": {
    "slideshow": {
     "slide_type": "subslide"
    }
   },
   "source": [
    "### （2）分散分析の場合\n",
    "\n",
    "\n",
    "1. 総平方和（total SS）\n",
    "1. 回帰の平方和（regression SS）\n",
    "1. 残差平方和（residual SS）\n",
    "1. 個々の自由度\n",
    "1. 回帰と残差の平均平方（MS）の比（F値）\n"
   ]
  },
  {
   "cell_type": "markdown",
   "metadata": {
    "slideshow": {
     "slide_type": "subslide"
    }
   },
   "source": [
    "* 総平方和（total SS）\n",
    "\n",
    "実際のデータ点の平均値からの乖離\n",
    "\n",
    "$$ \\sum\\limits^n_{i=1}(Y_i - \\bar{Y}_i)^2 $$"
   ]
  },
  {
   "cell_type": "code",
   "execution_count": 56,
   "metadata": {
    "collapsed": false,
    "slideshow": {
     "slide_type": "fragment"
    }
   },
   "outputs": [
    {
     "data": {
      "text/html": [
       "650.875"
      ],
      "text/latex": [
       "650.875"
      ],
      "text/markdown": [
       "650.875"
      ],
      "text/plain": [
       "[1] 650.875"
      ]
     },
     "metadata": {},
     "output_type": "display_data"
    }
   ],
   "source": [
    "# total SS\n",
    "(SS.total <- with(sum((blood_pressure - mean(blood_pressure))**2), data = d1))"
   ]
  },
  {
   "cell_type": "markdown",
   "metadata": {
    "slideshow": {
     "slide_type": "subslide"
    }
   },
   "source": [
    "* 回帰の平方和（regression SS）\n",
    "\n",
    "回帰で得られた予測値の，実際の平均値からの乖離\n",
    "\n",
    "$$ \\sum\\limits^n_{i=1}(\\hat{Y}_i - \\bar{Y}_i)^2 $$"
   ]
  },
  {
   "cell_type": "code",
   "execution_count": 58,
   "metadata": {
    "collapsed": false,
    "slideshow": {
     "slide_type": "fragment"
    }
   },
   "outputs": [
    {
     "data": {
      "text/html": [
       "446.591722328244"
      ],
      "text/latex": [
       "446.591722328244"
      ],
      "text/markdown": [
       "446.591722328244"
      ],
      "text/plain": [
       "[1] 446.5917"
      ]
     },
     "metadata": {},
     "output_type": "display_data"
    }
   ],
   "source": [
    "# regression SS\n",
    "(SS.reg <- with(sum(((age * b.d1 + a.d1 - mean(blood_pressure)))**2), data = d1))"
   ]
  },
  {
   "cell_type": "markdown",
   "metadata": {
    "slideshow": {
     "slide_type": "subslide"
    }
   },
   "source": [
    "* 残差平方和（residual SS）\n",
    "\n",
    "実際のデータ点と予測値との乖離\n",
    "\n",
    "\n",
    "$$ \\sum\\limits^n_{i=1}(Y_i - \\hat{Y}_i)^2 $$"
   ]
  },
  {
   "cell_type": "code",
   "execution_count": 59,
   "metadata": {
    "collapsed": false,
    "slideshow": {
     "slide_type": "fragment"
    }
   },
   "outputs": [
    {
     "data": {
      "text/html": [
       "204.283277671756"
      ],
      "text/latex": [
       "204.283277671756"
      ],
      "text/markdown": [
       "204.283277671756"
      ],
      "text/plain": [
       "[1] 204.2833"
      ]
     },
     "metadata": {},
     "output_type": "display_data"
    }
   ],
   "source": [
    "# residual SS\n",
    "(SS.res <- with(sum((blood_pressure - (age * b.d1 + a.d1))**2), data=d1))"
   ]
  },
  {
   "cell_type": "markdown",
   "metadata": {
    "slideshow": {
     "slide_type": "subslide"
    }
   },
   "source": [
    "総平方和 = 回帰平方和 + 残差平方和"
   ]
  },
  {
   "cell_type": "code",
   "execution_count": 146,
   "metadata": {
    "collapsed": false,
    "slideshow": {
     "slide_type": "fragment"
    }
   },
   "outputs": [
    {
     "data": {
      "text/html": [
       "TRUE"
      ],
      "text/latex": [
       "TRUE"
      ],
      "text/markdown": [
       "TRUE"
      ],
      "text/plain": [
       "[1] TRUE"
      ]
     },
     "metadata": {},
     "output_type": "display_data"
    }
   ],
   "source": [
    "identical(all.equal(SS.total, SS.reg + SS.res), TRUE)"
   ]
  },
  {
   "cell_type": "markdown",
   "metadata": {
    "slideshow": {
     "slide_type": "subslide"
    }
   },
   "source": [
    "### 自由度"
   ]
  },
  {
   "cell_type": "code",
   "execution_count": 72,
   "metadata": {
    "collapsed": true,
    "slideshow": {
     "slide_type": "fragment"
    }
   },
   "outputs": [],
   "source": [
    "# degree of freedom\n",
    "## total\n",
    "df.total <- nrow(d1) - 1\n",
    "## regression\n",
    "df.reg <- 1\n",
    "## residual\n",
    "df.res <- nrow(d1) - 2"
   ]
  },
  {
   "cell_type": "markdown",
   "metadata": {
    "slideshow": {
     "slide_type": "subslide"
    }
   },
   "source": [
    "### F値\n",
    "\n",
    "$$ F = \\frac{\\text{regression MS}}{\\text{residual MS}} = \\frac{\\text{regression SS / df}}{\\text{residual SS / df}} $$\n",
    "\n",
    "* 総平方和のどれだけを回帰平方和で説明できているか"
   ]
  },
  {
   "cell_type": "code",
   "execution_count": 61,
   "metadata": {
    "collapsed": false,
    "slideshow": {
     "slide_type": "fragment"
    }
   },
   "outputs": [
    {
     "data": {
      "text/html": [
       "13.1168364073098"
      ],
      "text/latex": [
       "13.1168364073098"
      ],
      "text/markdown": [
       "13.1168364073098"
      ],
      "text/plain": [
       "[1] 13.11684"
      ]
     },
     "metadata": {},
     "output_type": "display_data"
    }
   ],
   "source": [
    "# F value\n",
    "(f_val <- (SS.reg / df.reg) / (SS.res / df.res))"
   ]
  },
  {
   "cell_type": "code",
   "execution_count": 63,
   "metadata": {
    "collapsed": false,
    "slideshow": {
     "slide_type": "fragment"
    }
   },
   "outputs": [
    {
     "data": {
      "text/html": [
       "0.0110685870701273"
      ],
      "text/latex": [
       "0.0110685870701273"
      ],
      "text/markdown": [
       "0.0110685870701273"
      ],
      "text/plain": [
       "[1] 0.01106859"
      ]
     },
     "metadata": {},
     "output_type": "display_data"
    }
   ],
   "source": [
    "# p value\n",
    "1 - pf(q = 13.12, df1 = 1, df2 = 6)"
   ]
  },
  {
   "cell_type": "markdown",
   "metadata": {
    "slideshow": {
     "slide_type": "slide"
    }
   },
   "source": [
    "## 9.4 決定係数 $r^2$"
   ]
  },
  {
   "cell_type": "markdown",
   "metadata": {
    "slideshow": {
     "slide_type": "subslide"
    }
   },
   "source": [
    "説明変数$X$ が応答変数$Y$をどれだけ説明しているかを表す．寄与率とも言う．\n",
    "\n",
    "$$ r^2 \\equiv 1 - \\frac{\\sum\\limits^n_{i = 1}(Y_i - \\hat{Y}_i)^2}{\\sum\\limits^n_{i = 1}(Y_i - \\bar{Y}_i)^2} $$\n",
    "\n",
    "つまり，\n",
    "\n",
    "$$r^2 \\equiv 1 - \\frac{\\text{残差平方和}}{\\text{総平方和}} = \\frac{回帰平方和}{総平方和}$$"
   ]
  },
  {
   "cell_type": "markdown",
   "metadata": {
    "slideshow": {
     "slide_type": "subslide"
    }
   },
   "source": [
    "さっきのF値は，\n",
    "\n",
    "$$ F = \\frac{回帰平方和 / 1}{残差平方和 / n-2} = \\frac{r^2}{(1-r^2) / (n-2)}$$"
   ]
  },
  {
   "cell_type": "markdown",
   "metadata": {
    "slideshow": {
     "slide_type": "subslide"
    }
   },
   "source": [
    "決定係数を求めると，"
   ]
  },
  {
   "cell_type": "code",
   "execution_count": 64,
   "metadata": {
    "collapsed": false,
    "slideshow": {
     "slide_type": "fragment"
    }
   },
   "outputs": [
    {
     "data": {
      "text/html": [
       "0.686140537473777"
      ],
      "text/latex": [
       "0.686140537473777"
      ],
      "text/markdown": [
       "0.686140537473777"
      ],
      "text/plain": [
       "[1] 0.6861405"
      ]
     },
     "metadata": {},
     "output_type": "display_data"
    }
   ],
   "source": [
    "# Multiple R-squared\n",
    "1 - (SS.res / SS.total)"
   ]
  },
  {
   "cell_type": "markdown",
   "metadata": {
    "slideshow": {
     "slide_type": "fragment"
    }
   },
   "source": [
    "Adjusted R-squared は，自由度調整済み決定係数"
   ]
  },
  {
   "cell_type": "code",
   "execution_count": 73,
   "metadata": {
    "collapsed": false,
    "slideshow": {
     "slide_type": "fragment"
    }
   },
   "outputs": [
    {
     "data": {
      "text/html": [
       "0.63383062705274"
      ],
      "text/latex": [
       "0.63383062705274"
      ],
      "text/markdown": [
       "0.63383062705274"
      ],
      "text/plain": [
       "[1] 0.6338306"
      ]
     },
     "metadata": {},
     "output_type": "display_data"
    }
   ],
   "source": [
    "# Adjusted R-squared\n",
    "1 - (SS.res / df.res) / (SS.total / df.total)"
   ]
  },
  {
   "cell_type": "markdown",
   "metadata": {
    "slideshow": {
     "slide_type": "slide"
    }
   },
   "source": [
    "## 9.5 直線回帰の事例"
   ]
  },
  {
   "cell_type": "markdown",
   "metadata": {
    "slideshow": {
     "slide_type": "subslide"
    }
   },
   "source": [
    "（1）親の結婚年数と子の結婚年数"
   ]
  },
  {
   "cell_type": "code",
   "execution_count": 83,
   "metadata": {
    "collapsed": false,
    "slideshow": {
     "slide_type": "fragment"
    }
   },
   "outputs": [
    {
     "data": {},
     "metadata": {},
     "output_type": "display_data"
    },
    {
     "data": {
      "image/png": "[encoded data removed]",
      "text/plain": [
       "plot without title"
      ]
     },
     "metadata": {},
     "output_type": "display_data"
    }
   ],
   "source": [
    "d4 <- data.frame(\n",
    "    x = c(1,2,4,5,3,2,3,1,5,4,4,2),\n",
    "    y = c(3,4,4,5,5,3,4,3,6,6,5,5)\n",
    ")\n",
    "gp.d4 <- ggplot(d4, aes(x, y)) + geom_point() + xlim(0, 7) + ylim(0, 7) + xlab(\"Parent (year)\") + ylab(\"Children (year)\")\n",
    "gp.d4"
   ]
  },
  {
   "cell_type": "code",
   "execution_count": 79,
   "metadata": {
    "collapsed": false,
    "slideshow": {
     "slide_type": "subslide"
    }
   },
   "outputs": [
    {
     "data": {
      "text/plain": [
       "\n",
       "Call:\n",
       "lm(formula = y ~ x, data = d4)\n",
       "\n",
       "Residuals:\n",
       "    Min      1Q  Median      3Q     Max \n",
       "-1.0076 -0.4621 -0.1212  0.4470  1.1742 \n",
       "\n",
       "Coefficients:\n",
       "            Estimate Std. Error t value Pr(>|t|)    \n",
       "(Intercept)   2.6439     0.5077   5.208 0.000397 ***\n",
       "x             0.5909     0.1543   3.831 0.003315 ** \n",
       "---\n",
       "Signif. codes:  0 '***' 0.001 '**' 0.01 '*' 0.05 '.' 0.1 ' ' 1\n",
       "\n",
       "Residual standard error: 0.7235 on 10 degrees of freedom\n",
       "Multiple R-squared:  0.5947,\tAdjusted R-squared:  0.5542 \n",
       "F-statistic: 14.67 on 1 and 10 DF,  p-value: 0.003315\n"
      ]
     },
     "metadata": {},
     "output_type": "display_data"
    }
   ],
   "source": [
    "res.d4 <- lm(y ~ x, data=d4)\n",
    "res.d4 %>% summary()"
   ]
  },
  {
   "cell_type": "code",
   "execution_count": 84,
   "metadata": {
    "collapsed": false,
    "slideshow": {
     "slide_type": "subslide"
    }
   },
   "outputs": [
    {
     "data": {},
     "metadata": {},
     "output_type": "display_data"
    },
    {
     "data": {
      "image/png": "[encoded data removed]",
      "text/plain": [
       "plot without title"
      ]
     },
     "metadata": {},
     "output_type": "display_data"
    }
   ],
   "source": [
    "gp.d4 + geom_abline(slope = coef(res.d4)[[\"x\"]], intercept = coef(res.d4)[[\"(Intercept)\"]])"
   ]
  },
  {
   "cell_type": "markdown",
   "metadata": {
    "slideshow": {
     "slide_type": "subslide"
    }
   },
   "source": [
    "（2）雀の雛の成長（日齢と羽根の長さ）"
   ]
  },
  {
   "cell_type": "code",
   "execution_count": 85,
   "metadata": {
    "collapsed": true,
    "slideshow": {
     "slide_type": "fragment"
    }
   },
   "outputs": [],
   "source": [
    "d5 <- data.frame(\n",
    "    x = c(3,4,5,6,8,9,10,11,12,14,15,16,17), \n",
    "    y = c(1.4, 1.5, 2.2, 2.4, 3.1, 3.2, 3.2, 3.9, 4.1, 4.7, 4.5, 5.2, 5)\n",
    ")"
   ]
  },
  {
   "cell_type": "code",
   "execution_count": 87,
   "metadata": {
    "collapsed": false,
    "slideshow": {
     "slide_type": "fragment"
    }
   },
   "outputs": [
    {
     "data": {},
     "metadata": {},
     "output_type": "display_data"
    },
    {
     "data": {
      "image/png": "[encoded data removed]",
      "text/plain": [
       "plot without title"
      ]
     },
     "metadata": {},
     "output_type": "display_data"
    }
   ],
   "source": [
    "gp.d5 <- ggplot(d5, aes(x, y)) + geom_point() + xlim(0, 20) + ylim(0, 6) + xlab(\"Year\") + ylab(\"Wing size (cm)\")\n",
    "gp.d5"
   ]
  },
  {
   "cell_type": "code",
   "execution_count": 88,
   "metadata": {
    "collapsed": false,
    "slideshow": {
     "slide_type": "subslide"
    }
   },
   "outputs": [
    {
     "data": {
      "text/plain": [
       "\n",
       "Call:\n",
       "lm(formula = y ~ x, data = d5)\n",
       "\n",
       "Residuals:\n",
       "     Min       1Q   Median       3Q      Max \n",
       "-0.30699 -0.21538  0.06553  0.16324  0.22507 \n",
       "\n",
       "Coefficients:\n",
       "            Estimate Std. Error t value Pr(>|t|)    \n",
       "(Intercept)  0.71309    0.14790   4.821 0.000535 ***\n",
       "x            0.27023    0.01349  20.027 5.27e-10 ***\n",
       "---\n",
       "Signif. codes:  0 '***' 0.001 '**' 0.01 '*' 0.05 '.' 0.1 ' ' 1\n",
       "\n",
       "Residual standard error: 0.2184 on 11 degrees of freedom\n",
       "Multiple R-squared:  0.9733,\tAdjusted R-squared:  0.9709 \n",
       "F-statistic: 401.1 on 1 and 11 DF,  p-value: 5.267e-10\n"
      ]
     },
     "metadata": {},
     "output_type": "display_data"
    }
   ],
   "source": [
    "res.d5 <- lm(y ~ x, data=d5)\n",
    "summary(res.d5)"
   ]
  },
  {
   "cell_type": "code",
   "execution_count": 89,
   "metadata": {
    "collapsed": false,
    "slideshow": {
     "slide_type": "subslide"
    }
   },
   "outputs": [
    {
     "data": {},
     "metadata": {},
     "output_type": "display_data"
    },
    {
     "data": {
      "image/png": "[encoded data removed]",
      "text/plain": [
       "plot without title"
      ]
     },
     "metadata": {},
     "output_type": "display_data"
    }
   ],
   "source": [
    "gp.d5 +  geom_abline(slope = coef(res.d5)[[\"x\"]], intercept = coef(res.d5)[[\"(Intercept)\"]])"
   ]
  },
  {
   "cell_type": "markdown",
   "metadata": {
    "slideshow": {
     "slide_type": "slide"
    }
   },
   "source": [
    "## 9.6 回帰直線の95%信頼区間と95%予測区間"
   ]
  },
  {
   "cell_type": "markdown",
   "metadata": {
    "slideshow": {
     "slide_type": "subslide"
    }
   },
   "source": [
    "求めた回帰直線にどれぐらいの誤差があるかを考える．\n",
    "\n",
    "回帰直線 $y =  ax + b$ について， $X^\\ast$ における推定値 $\\hat{Y}^\\ast$ を計算したとき，\n",
    "回帰式の $100 (1 - \\alpha)$ % 信頼区間は，\n",
    "\n",
    "$$ \\hat{Y}^\\ast \\pm t_{(n-2, \\alpha / 2)} s_e \\sqrt{\\frac{1}{n} + \\frac{(X^\\ast - \\bar{X}^\\ast)^2}{\\sum^n_{i=1}(X_i - \\bar{X})^2}} $$\n",
    "\n",
    "ここで，\n",
    "\n",
    "* $t_{(n-2, \\alpha / 2)}$: 自由度 $n-2$の$t$分布の上側 $\\alpha/2$ %点\n",
    "* $s_e$ 回帰の標準誤差"
   ]
  },
  {
   "cell_type": "code",
   "execution_count": 90,
   "metadata": {
    "collapsed": false,
    "slideshow": {
     "slide_type": "skip"
    }
   },
   "outputs": [
    {
     "data": {
      "text/html": [
       "<table>\n",
       "<thead><tr><th></th><th scope=col>fit</th><th scope=col>lwr</th><th scope=col>upr</th></tr></thead>\n",
       "<tbody>\n",
       "\t<tr><th scope=row>1</th><td>1.523782</td><td>1.276815</td><td>1.770748</td></tr>\n",
       "\t<tr><th scope=row>2</th><td>1.794011</td><td>1.571465</td><td>2.016556</td></tr>\n",
       "\t<tr><th scope=row>3</th><td>2.064240</td><td>1.864678</td><td>2.263801</td></tr>\n",
       "\t<tr><th scope=row>4</th><td>2.334469</td><td>2.155899</td><td>2.513038</td></tr>\n",
       "\t<tr><th scope=row>5</th><td>2.874927</td><td>2.728970</td><td>3.020883</td></tr>\n",
       "\t<tr><th scope=row>6</th><td>3.145156</td><td>3.008564</td><td>3.281747</td></tr>\n",
       "\t<tr><th scope=row>7</th><td>3.415385</td><td>3.282061</td><td>3.548709</td></tr>\n",
       "\t<tr><th scope=row>8</th><td>3.685614</td><td>3.549022</td><td>3.822205</td></tr>\n",
       "\t<tr><th scope=row>9</th><td>3.955843</td><td>3.809886</td><td>4.101799</td></tr>\n",
       "\t<tr><th scope=row>10</th><td>4.496301</td><td>4.317731</td><td>4.674870</td></tr>\n",
       "\t<tr><th scope=row>11</th><td>4.766530</td><td>4.566968</td><td>4.966091</td></tr>\n",
       "\t<tr><th scope=row>12</th><td>5.036759</td><td>4.814213</td><td>5.259304</td></tr>\n",
       "\t<tr><th scope=row>13</th><td>5.306988</td><td>5.060021</td><td>5.553954</td></tr>\n",
       "</tbody>\n",
       "</table>\n"
      ],
      "text/latex": [
       "\\begin{tabular}{r|lll}\n",
       "  & fit & lwr & upr\\\\\n",
       "\\hline\n",
       "\t1 & 1.523782 & 1.276815 & 1.770748\\\\\n",
       "\t2 & 1.794011 & 1.571465 & 2.016556\\\\\n",
       "\t3 & 2.064240 & 1.864678 & 2.263801\\\\\n",
       "\t4 & 2.334469 & 2.155899 & 2.513038\\\\\n",
       "\t5 & 2.874927 & 2.728970 & 3.020883\\\\\n",
       "\t6 & 3.145156 & 3.008564 & 3.281747\\\\\n",
       "\t7 & 3.415385 & 3.282061 & 3.548709\\\\\n",
       "\t8 & 3.685614 & 3.549022 & 3.822205\\\\\n",
       "\t9 & 3.955843 & 3.809886 & 4.101799\\\\\n",
       "\t10 & 4.496301 & 4.317731 & 4.674870\\\\\n",
       "\t11 & 4.766530 & 4.566968 & 4.966091\\\\\n",
       "\t12 & 5.036759 & 4.814213 & 5.259304\\\\\n",
       "\t13 & 5.306988 & 5.060021 & 5.553954\\\\\n",
       "\\end{tabular}\n"
      ],
      "text/markdown": [
       "\n",
       "| <!--/--> | fit | lwr | upr | \n",
       "|---|---|---|---|---|---|---|---|---|---|---|---|---|\n",
       "| 1 | 1.523782 | 1.276815 | 1.770748 | \n",
       "| 2 | 1.794011 | 1.571465 | 2.016556 | \n",
       "| 3 | 2.064240 | 1.864678 | 2.263801 | \n",
       "| 4 | 2.334469 | 2.155899 | 2.513038 | \n",
       "| 5 | 2.874927 | 2.728970 | 3.020883 | \n",
       "| 6 | 3.145156 | 3.008564 | 3.281747 | \n",
       "| 7 | 3.415385 | 3.282061 | 3.548709 | \n",
       "| 8 | 3.685614 | 3.549022 | 3.822205 | \n",
       "| 9 | 3.955843 | 3.809886 | 4.101799 | \n",
       "| 10 | 4.496301 | 4.317731 | 4.674870 | \n",
       "| 11 | 4.766530 | 4.566968 | 4.966091 | \n",
       "| 12 | 5.036759 | 4.814213 | 5.259304 | \n",
       "| 13 | 5.306988 | 5.060021 | 5.553954 | \n",
       "\n",
       "\n"
      ],
      "text/plain": [
       "   fit      lwr      upr     \n",
       "1  1.523782 1.276815 1.770748\n",
       "2  1.794011 1.571465 2.016556\n",
       "3  2.064240 1.864678 2.263801\n",
       "4  2.334469 2.155899 2.513038\n",
       "5  2.874927 2.728970 3.020883\n",
       "6  3.145156 3.008564 3.281747\n",
       "7  3.415385 3.282061 3.548709\n",
       "8  3.685614 3.549022 3.822205\n",
       "9  3.955843 3.809886 4.101799\n",
       "10 4.496301 4.317731 4.674870\n",
       "11 4.766530 4.566968 4.966091\n",
       "12 5.036759 4.814213 5.259304\n",
       "13 5.306988 5.060021 5.553954"
      ]
     },
     "metadata": {},
     "output_type": "display_data"
    }
   ],
   "source": [
    "predict(res.d5, interval=\"confidence\")"
   ]
  },
  {
   "cell_type": "code",
   "execution_count": 108,
   "metadata": {
    "collapsed": false,
    "slideshow": {
     "slide_type": "subslide"
    }
   },
   "outputs": [
    {
     "data": {
      "text/html": [
       "<table>\n",
       "<thead><tr><th scope=col>fit</th><th scope=col>lwr</th><th scope=col>upr</th></tr></thead>\n",
       "<tbody>\n",
       "\t<tr><td>1.523782</td><td>1.276815</td><td>1.770748</td></tr>\n",
       "\t<tr><td>1.794011</td><td>1.571465</td><td>2.016556</td></tr>\n",
       "\t<tr><td>2.064240</td><td>1.864678</td><td>2.263801</td></tr>\n",
       "\t<tr><td>2.334469</td><td>2.155899</td><td>2.513038</td></tr>\n",
       "\t<tr><td>2.874927</td><td>2.728970</td><td>3.020883</td></tr>\n",
       "\t<tr><td>3.145156</td><td>3.008564</td><td>3.281747</td></tr>\n",
       "\t<tr><td>3.415385</td><td>3.282061</td><td>3.548709</td></tr>\n",
       "\t<tr><td>3.685614</td><td>3.549022</td><td>3.822205</td></tr>\n",
       "\t<tr><td>3.955843</td><td>3.809886</td><td>4.101799</td></tr>\n",
       "\t<tr><td>4.496301</td><td>4.317731</td><td>4.674870</td></tr>\n",
       "\t<tr><td>4.766530</td><td>4.566968</td><td>4.966091</td></tr>\n",
       "\t<tr><td>5.036759</td><td>4.814213</td><td>5.259304</td></tr>\n",
       "\t<tr><td>5.306988</td><td>5.060021</td><td>5.553954</td></tr>\n",
       "</tbody>\n",
       "</table>\n"
      ],
      "text/latex": [
       "\\begin{tabular}{r|lll}\n",
       " fit & lwr & upr\\\\\n",
       "\\hline\n",
       "\t 1.523782 & 1.276815 & 1.770748\\\\\n",
       "\t 1.794011 & 1.571465 & 2.016556\\\\\n",
       "\t 2.064240 & 1.864678 & 2.263801\\\\\n",
       "\t 2.334469 & 2.155899 & 2.513038\\\\\n",
       "\t 2.874927 & 2.728970 & 3.020883\\\\\n",
       "\t 3.145156 & 3.008564 & 3.281747\\\\\n",
       "\t 3.415385 & 3.282061 & 3.548709\\\\\n",
       "\t 3.685614 & 3.549022 & 3.822205\\\\\n",
       "\t 3.955843 & 3.809886 & 4.101799\\\\\n",
       "\t 4.496301 & 4.317731 & 4.674870\\\\\n",
       "\t 4.766530 & 4.566968 & 4.966091\\\\\n",
       "\t 5.036759 & 4.814213 & 5.259304\\\\\n",
       "\t 5.306988 & 5.060021 & 5.553954\\\\\n",
       "\\end{tabular}\n"
      ],
      "text/markdown": [
       "\n",
       "fit | lwr | upr | \n",
       "|---|---|---|---|---|---|---|---|---|---|---|---|---|\n",
       "| 1.523782 | 1.276815 | 1.770748 | \n",
       "| 1.794011 | 1.571465 | 2.016556 | \n",
       "| 2.064240 | 1.864678 | 2.263801 | \n",
       "| 2.334469 | 2.155899 | 2.513038 | \n",
       "| 2.874927 | 2.728970 | 3.020883 | \n",
       "| 3.145156 | 3.008564 | 3.281747 | \n",
       "| 3.415385 | 3.282061 | 3.548709 | \n",
       "| 3.685614 | 3.549022 | 3.822205 | \n",
       "| 3.955843 | 3.809886 | 4.101799 | \n",
       "| 4.496301 | 4.317731 | 4.674870 | \n",
       "| 4.766530 | 4.566968 | 4.966091 | \n",
       "| 5.036759 | 4.814213 | 5.259304 | \n",
       "| 5.306988 | 5.060021 | 5.553954 | \n",
       "\n",
       "\n"
      ],
      "text/plain": [
       "   fit      lwr      upr     \n",
       "1  1.523782 1.276815 1.770748\n",
       "2  1.794011 1.571465 2.016556\n",
       "3  2.064240 1.864678 2.263801\n",
       "4  2.334469 2.155899 2.513038\n",
       "5  2.874927 2.728970 3.020883\n",
       "6  3.145156 3.008564 3.281747\n",
       "7  3.415385 3.282061 3.548709\n",
       "8  3.685614 3.549022 3.822205\n",
       "9  3.955843 3.809886 4.101799\n",
       "10 4.496301 4.317731 4.674870\n",
       "11 4.766530 4.566968 4.966091\n",
       "12 5.036759 4.814213 5.259304\n",
       "13 5.306988 5.060021 5.553954"
      ]
     },
     "metadata": {},
     "output_type": "display_data"
    }
   ],
   "source": [
    "d5.conf <- predict(res.d5, interval=\"confidence\") %>% as.data.frame()\n",
    "d5.conf"
   ]
  },
  {
   "cell_type": "markdown",
   "metadata": {
    "slideshow": {
     "slide_type": "subslide"
    }
   },
   "source": [
    "* 両端で広がる -> 平均値からの偏差の影響\n",
    "* 「ランダムサンプリングによってデータを得て回帰直線を推定したら，真の回帰直線は20回に19回はこの範囲を通る」"
   ]
  },
  {
   "cell_type": "code",
   "execution_count": 109,
   "metadata": {
    "collapsed": false,
    "slideshow": {
     "slide_type": "fragment"
    }
   },
   "outputs": [
    {
     "data": {},
     "metadata": {},
     "output_type": "display_data"
    },
    {
     "data": {
      "image/png": "[encoded data removed]",
      "text/plain": [
       "plot without title"
      ]
     },
     "metadata": {},
     "output_type": "display_data"
    }
   ],
   "source": [
    "ggplot(bind_cols(d5, d5.conf)) + \n",
    "    geom_point(mapping =aes(x, y)) + \n",
    "    geom_line(mapping=aes(x, upr), linetype=\"dashed\") + \n",
    "    geom_line(mapping=aes(x, fit)) + \n",
    "    geom_line(mapping=aes(x, lwr), linetype=\"dashed\") + \n",
    "    xlim(0, 20) + ylim(0, 6) + xlab(\"Year\") + ylab(\"Wing size (cm)\")"
   ]
  },
  {
   "cell_type": "markdown",
   "metadata": {
    "slideshow": {
     "slide_type": "subslide"
    }
   },
   "source": [
    "回帰の95%予測区間: データプロットの95%が含まれる\n",
    "\n",
    "$$ \\hat{Y}^\\ast \\pm t_{(n-2, \\alpha / 2)} s_e \\sqrt{1 + \\frac{1}{n} + \\frac{(X^\\ast - \\bar{X})^2}{\\sum^n_{i=1}(X_i - \\bar{X})^2}}$$"
   ]
  },
  {
   "cell_type": "code",
   "execution_count": 113,
   "metadata": {
    "collapsed": false,
    "slideshow": {
     "slide_type": "fragment"
    }
   },
   "outputs": [
    {
     "name": "stderr",
     "output_type": "stream",
     "text": [
      "Warning message in predict.lm(res.d5, interval = \"prediction\"):\n",
      "\"predictions on current data refer to _future_ responses\n",
      "\""
     ]
    },
    {
     "data": {
      "text/html": [
       "<table>\n",
       "<thead><tr><th scope=col>fit</th><th scope=col>lwr</th><th scope=col>upr</th></tr></thead>\n",
       "<tbody>\n",
       "\t<tr><td>1.523782 </td><td>0.9833454</td><td>2.064218 </td></tr>\n",
       "\t<tr><td>1.794011 </td><td>1.2642884</td><td>2.323733 </td></tr>\n",
       "\t<tr><td>2.064240 </td><td>1.5437554</td><td>2.584724 </td></tr>\n",
       "\t<tr><td>2.334469 </td><td>1.8216666</td><td>2.847271 </td></tr>\n",
       "\t<tr><td>2.874927 </td><td>2.3725501</td><td>3.377303 </td></tr>\n",
       "\t<tr><td>3.145156 </td><td>2.6454195</td><td>3.644892 </td></tr>\n",
       "\t<tr><td>3.415385 </td><td>2.9165317</td><td>3.914238 </td></tr>\n",
       "\t<tr><td>3.685614 </td><td>3.1858775</td><td>4.185350 </td></tr>\n",
       "\t<tr><td>3.955843 </td><td>3.4534661</td><td>4.458219 </td></tr>\n",
       "\t<tr><td>4.496301 </td><td>3.9834986</td><td>5.009103 </td></tr>\n",
       "\t<tr><td>4.766530 </td><td>4.2460455</td><td>5.287014 </td></tr>\n",
       "\t<tr><td>5.036759 </td><td>4.5070365</td><td>5.566481 </td></tr>\n",
       "\t<tr><td>5.306988 </td><td>4.7665515</td><td>5.847424 </td></tr>\n",
       "</tbody>\n",
       "</table>\n"
      ],
      "text/latex": [
       "\\begin{tabular}{r|lll}\n",
       " fit & lwr & upr\\\\\n",
       "\\hline\n",
       "\t 1.523782  & 0.9833454 & 2.064218 \\\\\n",
       "\t 1.794011  & 1.2642884 & 2.323733 \\\\\n",
       "\t 2.064240  & 1.5437554 & 2.584724 \\\\\n",
       "\t 2.334469  & 1.8216666 & 2.847271 \\\\\n",
       "\t 2.874927  & 2.3725501 & 3.377303 \\\\\n",
       "\t 3.145156  & 2.6454195 & 3.644892 \\\\\n",
       "\t 3.415385  & 2.9165317 & 3.914238 \\\\\n",
       "\t 3.685614  & 3.1858775 & 4.185350 \\\\\n",
       "\t 3.955843  & 3.4534661 & 4.458219 \\\\\n",
       "\t 4.496301  & 3.9834986 & 5.009103 \\\\\n",
       "\t 4.766530  & 4.2460455 & 5.287014 \\\\\n",
       "\t 5.036759  & 4.5070365 & 5.566481 \\\\\n",
       "\t 5.306988  & 4.7665515 & 5.847424 \\\\\n",
       "\\end{tabular}\n"
      ],
      "text/markdown": [
       "\n",
       "fit | lwr | upr | \n",
       "|---|---|---|---|---|---|---|---|---|---|---|---|---|\n",
       "| 1.523782  | 0.9833454 | 2.064218  | \n",
       "| 1.794011  | 1.2642884 | 2.323733  | \n",
       "| 2.064240  | 1.5437554 | 2.584724  | \n",
       "| 2.334469  | 1.8216666 | 2.847271  | \n",
       "| 2.874927  | 2.3725501 | 3.377303  | \n",
       "| 3.145156  | 2.6454195 | 3.644892  | \n",
       "| 3.415385  | 2.9165317 | 3.914238  | \n",
       "| 3.685614  | 3.1858775 | 4.185350  | \n",
       "| 3.955843  | 3.4534661 | 4.458219  | \n",
       "| 4.496301  | 3.9834986 | 5.009103  | \n",
       "| 4.766530  | 4.2460455 | 5.287014  | \n",
       "| 5.036759  | 4.5070365 | 5.566481  | \n",
       "| 5.306988  | 4.7665515 | 5.847424  | \n",
       "\n",
       "\n"
      ],
      "text/plain": [
       "   fit      lwr       upr     \n",
       "1  1.523782 0.9833454 2.064218\n",
       "2  1.794011 1.2642884 2.323733\n",
       "3  2.064240 1.5437554 2.584724\n",
       "4  2.334469 1.8216666 2.847271\n",
       "5  2.874927 2.3725501 3.377303\n",
       "6  3.145156 2.6454195 3.644892\n",
       "7  3.415385 2.9165317 3.914238\n",
       "8  3.685614 3.1858775 4.185350\n",
       "9  3.955843 3.4534661 4.458219\n",
       "10 4.496301 3.9834986 5.009103\n",
       "11 4.766530 4.2460455 5.287014\n",
       "12 5.036759 4.5070365 5.566481\n",
       "13 5.306988 4.7665515 5.847424"
      ]
     },
     "metadata": {},
     "output_type": "display_data"
    }
   ],
   "source": [
    "d5.pred <- predict(res.d5, interval=\"prediction\") %>% as.data.frame()\n",
    "d5.pred"
   ]
  },
  {
   "cell_type": "code",
   "execution_count": 114,
   "metadata": {
    "collapsed": false,
    "slideshow": {
     "slide_type": "subslide"
    }
   },
   "outputs": [
    {
     "data": {},
     "metadata": {},
     "output_type": "display_data"
    },
    {
     "data": {
      "image/png": "[encoded data removed]",
      "text/plain": [
       "plot without title"
      ]
     },
     "metadata": {},
     "output_type": "display_data"
    }
   ],
   "source": [
    "ggplot(bind_cols(d5, d5.pred)) + \n",
    "    geom_point(mapping =aes(x, y)) + \n",
    "    geom_line(mapping=aes(x, upr), linetype=\"dashed\") + \n",
    "    geom_line(mapping=aes(x, fit)) + \n",
    "    geom_line(mapping=aes(x, lwr), linetype=\"dashed\") + \n",
    "    xlim(0, 20) + ylim(0, 6) + xlab(\"Year\") + ylab(\"Wing size (cm)\")"
   ]
  },
  {
   "cell_type": "markdown",
   "metadata": {
    "slideshow": {
     "slide_type": "slide"
    }
   },
   "source": [
    "## 9.7 まとめ"
   ]
  },
  {
   "cell_type": "markdown",
   "metadata": {
    "slideshow": {
     "slide_type": "subslide"
    }
   },
   "source": [
    "単回帰分析で扱えるデータは限られる\n",
    "\n",
    "* 複数の説明変数で表されるデータセットもある -> 重回帰\n",
    "* 誤差構造が正規分布に従わないこともある -> 一般化線形モデル"
   ]
  },
  {
   "cell_type": "markdown",
   "metadata": {
    "slideshow": {
     "slide_type": "slide"
    }
   },
   "source": [
    "## 演習問題"
   ]
  },
  {
   "cell_type": "markdown",
   "metadata": {
    "slideshow": {
     "slide_type": "subslide"
    }
   },
   "source": [
    "光化学スモッグ発生回数と正午に30℃を超えた日数の関係"
   ]
  },
  {
   "cell_type": "code",
   "execution_count": 116,
   "metadata": {
    "collapsed": true,
    "slideshow": {
     "slide_type": "fragment"
    }
   },
   "outputs": [],
   "source": [
    "d.ex <- data.frame(\n",
    "    nsmog = c(91, 70, 103, 79, 86, 114, 101, 82, 75, 87), \n",
    "    n30 = c(14, 5, 28, 17, 15, 19, 20, 7, 10, 9)\n",
    ")"
   ]
  },
  {
   "cell_type": "code",
   "execution_count": 118,
   "metadata": {
    "collapsed": false,
    "slideshow": {
     "slide_type": "fragment"
    }
   },
   "outputs": [
    {
     "data": {},
     "metadata": {},
     "output_type": "display_data"
    },
    {
     "data": {
      "image/png": "[encoded data removed]",
      "text/plain": [
       "plot without title"
      ]
     },
     "metadata": {},
     "output_type": "display_data"
    }
   ],
   "source": [
    "ggplot(d.ex, aes(n30, nsmog)) + geom_point() + xlim(0, 30) + ylim(50, 150)"
   ]
  },
  {
   "cell_type": "code",
   "execution_count": 120,
   "metadata": {
    "collapsed": false,
    "slideshow": {
     "slide_type": "subslide"
    }
   },
   "outputs": [
    {
     "data": {
      "text/plain": [
       "\n",
       "Call:\n",
       "lm(formula = nsmog ~ n30, data = d.ex)\n",
       "\n",
       "Residuals:\n",
       "     Min       1Q   Median       3Q      Max \n",
       "-13.6535  -5.6847  -0.4482   4.1008  18.3822 \n",
       "\n",
       "Coefficients:\n",
       "            Estimate Std. Error t value Pr(>|t|)    \n",
       "(Intercept)  67.4574     7.2394   9.318 1.43e-05 ***\n",
       "n30           1.4821     0.4569   3.244   0.0118 *  \n",
       "---\n",
       "Signif. codes:  0 '***' 0.001 '**' 0.01 '*' 0.05 '.' 0.1 ' ' 1\n",
       "\n",
       "Residual standard error: 9.546 on 8 degrees of freedom\n",
       "Multiple R-squared:  0.568,\tAdjusted R-squared:  0.5141 \n",
       "F-statistic: 10.52 on 1 and 8 DF,  p-value: 0.01181\n"
      ]
     },
     "metadata": {},
     "output_type": "display_data"
    }
   ],
   "source": [
    "res.ex <- lm(nsmog ~ n30, data=d.ex)\n",
    "summary(res.ex)"
   ]
  },
  {
   "cell_type": "code",
   "execution_count": 121,
   "metadata": {
    "collapsed": true,
    "slideshow": {
     "slide_type": "subslide"
    }
   },
   "outputs": [],
   "source": [
    "d.ex.conf <- predict(res.ex, interval=\"confidence\") %>% as.data.frame()"
   ]
  },
  {
   "cell_type": "code",
   "execution_count": 123,
   "metadata": {
    "collapsed": false,
    "slideshow": {
     "slide_type": "fragment"
    }
   },
   "outputs": [
    {
     "data": {},
     "metadata": {},
     "output_type": "display_data"
    },
    {
     "data": {
      "image/png": "[encoded data removed]",
      "text/plain": [
       "plot without title"
      ]
     },
     "metadata": {},
     "output_type": "display_data"
    }
   ],
   "source": [
    "ggplot(bind_cols(d.ex, d.ex.conf)) + \n",
    "    geom_point(aes(n30, nsmog)) + xlim(0, 30) + ylim(50, 150) + \n",
    "    geom_line(aes(n30, upr), linetype=\"dashed\") + \n",
    "    geom_line(aes(n30, fit)) + \n",
    "    geom_line(aes(n30, lwr), linetype=\"dashed\")"
   ]
  },
  {
   "cell_type": "code",
   "execution_count": 124,
   "metadata": {
    "collapsed": false,
    "slideshow": {
     "slide_type": "skip"
    }
   },
   "outputs": [
    {
     "name": "stderr",
     "output_type": "stream",
     "text": [
      "Session info -------------------------------------------------------------------\n",
      "Packages -----------------------------------------------------------------------\n"
     ]
    },
    {
     "data": {
      "text/plain": [
       " setting  value                       \n",
       " version  R version 3.3.2 (2016-10-31)\n",
       " system   x86_64, mingw32             \n",
       " ui       RTerm                       \n",
       " language en_US.UTF-8                 \n",
       " collate  Japanese_Japan.932          \n",
       " tz       Asia/Tokyo                  \n",
       " date     2017-06-25                  \n",
       "\n",
       " package    * version    date       source                            \n",
       " assertthat   0.2.0      2017-04-11 CRAN (R 3.3.2)                    \n",
       " bindr        0.1        2016-11-13 CRAN (R 3.3.3)                    \n",
       " bindrcpp   * 0.1        2016-12-11 CRAN (R 3.3.3)                    \n",
       " Cairo        1.5-9      2015-09-26 CRAN (R 3.2.2)                    \n",
       " colorspace   1.3-2      2016-12-14 CRAN (R 3.3.3)                    \n",
       " crayon       1.3.2      2016-06-28 CRAN (R 3.3.1)                    \n",
       " devtools     1.12.0     2016-06-24 CRAN (R 3.3.1)                    \n",
       " digest       0.6.12     2017-01-27 CRAN (R 3.3.3)                    \n",
       " dplyr      * 0.7.0      2017-06-09 CRAN (R 3.3.3)                    \n",
       " evaluate     0.10       2016-10-11 CRAN (R 3.3.2)                    \n",
       " ggplot2    * 2.2.1      2016-12-30 CRAN (R 3.3.3)                    \n",
       " glue         1.0.0      2017-04-17 CRAN (R 3.3.3)                    \n",
       " gtable       0.2.0      2016-02-26 CRAN (R 3.2.5)                    \n",
       " IRdisplay    0.4.4      2016-08-02 CRAN (R 3.3.1)                    \n",
       " IRkernel     0.8.6.9000 2017-04-13 Github (IRkernel/IRkernel@29ae7df)\n",
       " jsonlite     1.4        2017-04-08 CRAN (R 3.3.3)                    \n",
       " labeling     0.3        2014-08-23 CRAN (R 3.2.1)                    \n",
       " lazyeval     0.2.0      2016-06-12 CRAN (R 3.2.5)                    \n",
       " magrittr     1.5        2014-11-22 CRAN (R 3.2.1)                    \n",
       " memoise      1.0.0      2016-01-29 CRAN (R 3.2.3)                    \n",
       " munsell      0.4.3      2016-02-13 CRAN (R 3.2.5)                    \n",
       " pbdZMQ       0.2-5      2016-12-18 CRAN (R 3.3.3)                    \n",
       " plyr         1.8.4      2016-06-08 CRAN (R 3.2.5)                    \n",
       " R6           2.2.1      2017-05-10 CRAN (R 3.3.3)                    \n",
       " Rcpp         0.12.11    2017-05-22 CRAN (R 3.3.3)                    \n",
       " repr         0.12.0     2017-04-07 CRAN (R 3.3.3)                    \n",
       " rlang        0.1.1      2017-05-18 CRAN (R 3.3.3)                    \n",
       " scales       0.4.1      2016-11-09 CRAN (R 3.3.2)                    \n",
       " stringi      1.1.5      2017-04-07 CRAN (R 3.3.3)                    \n",
       " stringr      1.2.0      2017-02-18 CRAN (R 3.3.3)                    \n",
       " tibble       1.3.3      2017-05-28 CRAN (R 3.3.3)                    \n",
       " uuid         0.1-2      2015-07-28 CRAN (R 3.3.1)                    \n",
       " withr        1.0.2      2016-06-20 CRAN (R 3.2.5)                    "
      ]
     },
     "metadata": {},
     "output_type": "display_data"
    }
   ],
   "source": [
    "devtools::session_info()"
   ]
  }
 ],
 "metadata": {
  "anaconda-cloud": {},
  "celltoolbar": "Slideshow",
  "kernelspec": {
   "display_name": "R",
   "language": "R",
   "name": "ir"
  },
  "language_info": {
   "codemirror_mode": "r",
   "file_extension": ".r",
   "mimetype": "text/x-r-source",
   "name": "R",
   "pygments_lexer": "r",
   "version": "3.3.2"
  }
 },
 "nbformat": 4,
 "nbformat_minor": 2
}
