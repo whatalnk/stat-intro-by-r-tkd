{
 "cells": [
  {
   "cell_type": "markdown",
   "metadata": {},
   "source": [
    "# 6章 一元配置分散分析・多重比較"
   ]
  },
  {
   "cell_type": "code",
   "execution_count": 1,
   "metadata": {
    "collapsed": false
   },
   "outputs": [
    {
     "name": "stderr",
     "output_type": "stream",
     "text": [
      "\n",
      "Attaching package: 'dplyr'\n",
      "\n",
      "The following objects are masked from 'package:stats':\n",
      "\n",
      "    filter, lag\n",
      "\n",
      "The following objects are masked from 'package:base':\n",
      "\n",
      "    intersect, setdiff, setequal, union\n",
      "\n",
      "Warning message:\n",
      "\"package 'tidyr' was built under R version 3.3.3\"Warning message:\n",
      "\"package 'ggplot2' was built under R version 3.3.3\"Warning message:\n",
      "\"package 'readr' was built under R version 3.3.3\"\n",
      "Attaching package: 'gridExtra'\n",
      "\n",
      "The following object is masked from 'package:dplyr':\n",
      "\n",
      "    combine\n",
      "\n"
     ]
    }
   ],
   "source": [
    "library(dplyr)\n",
    "library(tidyr)\n",
    "library(ggplot2)\n",
    "library(readr)\n",
    "library(gridExtra)\n",
    "library(Cairo)"
   ]
  },
  {
   "cell_type": "markdown",
   "metadata": {},
   "source": [
    "## 6.1 t検定の繰り返しは誤り"
   ]
  },
  {
   "cell_type": "markdown",
   "metadata": {},
   "source": [
    "## 6.2 一元配置分散分析: 原理"
   ]
  },
  {
   "cell_type": "markdown",
   "metadata": {},
   "source": [
    "## 6.3 Rで計算"
   ]
  },
  {
   "cell_type": "code",
   "execution_count": 3,
   "metadata": {
    "collapsed": false
   },
   "outputs": [
    {
     "data": {
      "text/html": [
       "<table>\n",
       "<thead><tr><th scope=col>stron</th><th scope=col>lake</th></tr></thead>\n",
       "<tbody>\n",
       "\t<tr><td>28.2</td><td>1   </td></tr>\n",
       "\t<tr><td>33.2</td><td>1   </td></tr>\n",
       "\t<tr><td>36.4</td><td>1   </td></tr>\n",
       "\t<tr><td>34.6</td><td>1   </td></tr>\n",
       "\t<tr><td>29.1</td><td>1   </td></tr>\n",
       "\t<tr><td>31.0</td><td>1   </td></tr>\n",
       "</tbody>\n",
       "</table>\n"
      ],
      "text/latex": [
       "\\begin{tabular}{r|ll}\n",
       " stron & lake\\\\\n",
       "\\hline\n",
       "\t 28.2 & 1   \\\\\n",
       "\t 33.2 & 1   \\\\\n",
       "\t 36.4 & 1   \\\\\n",
       "\t 34.6 & 1   \\\\\n",
       "\t 29.1 & 1   \\\\\n",
       "\t 31.0 & 1   \\\\\n",
       "\\end{tabular}\n"
      ],
      "text/markdown": [
       "\n",
       "stron | lake | \n",
       "|---|---|---|---|---|---|\n",
       "| 28.2 | 1    | \n",
       "| 33.2 | 1    | \n",
       "| 36.4 | 1    | \n",
       "| 34.6 | 1    | \n",
       "| 29.1 | 1    | \n",
       "| 31.0 | 1    | \n",
       "\n",
       "\n"
      ],
      "text/plain": [
       "  stron lake\n",
       "1 28.2  1   \n",
       "2 33.2  1   \n",
       "3 36.4  1   \n",
       "4 34.6  1   \n",
       "5 29.1  1   \n",
       "6 31.0  1   "
      ]
     },
     "metadata": {},
     "output_type": "display_data"
    }
   ],
   "source": [
    "d.stron <- data_frame(\n",
    "    stron = c(28.2, 33.2, 36.4, 34.6, 29.1, 31.0, \n",
    "              39.6, 40.8, 37.9, 37.1, 43.6, 42.4, \n",
    "              46.3, 42.1, 43.5, 48.8, 43.7, 40.1, \n",
    "              41.0, 44.1, 46.4, 40.2, 38.6, 36.3, \n",
    "              56.3, 54.1, 59.4, 62.7, 60.0, 57.3), \n",
    "    lake = factor(sort(rep(1:5, 6)))\n",
    ")\n",
    "head(d.stron)"
   ]
  },
  {
   "cell_type": "code",
   "execution_count": 4,
   "metadata": {
    "collapsed": false
   },
   "outputs": [
    {
     "data": {
      "text/plain": [
       "            Df Sum Sq Mean Sq F value   Pr(>F)    \n",
       "lake         4 2193.4   548.4   56.16 3.95e-12 ***\n",
       "Residuals   25  244.1     9.8                     \n",
       "---\n",
       "Signif. codes:  0 '***' 0.001 '**' 0.01 '*' 0.05 '.' 0.1 ' ' 1"
      ]
     },
     "metadata": {},
     "output_type": "display_data"
    }
   ],
   "source": [
    "aov(stron ~ lake, data = d.stron) %>% summary()"
   ]
  },
  {
   "cell_type": "markdown",
   "metadata": {},
   "source": [
    "手動計算\n",
    "\n",
    "* `m`: 群の総数\n",
    "* `n`: 各群の標本サイズ\n",
    "* `SS.b`: 群間平方和\n",
    "* `SS.w`: 群内平方和\n",
    "* `MS.b`, `MS.w`: 平均平方"
   ]
  },
  {
   "cell_type": "code",
   "execution_count": 59,
   "metadata": {
    "collapsed": false
   },
   "outputs": [
    {
     "data": {
      "text/html": [
       "<dl>\n",
       "\t<dt>$F_val</dt>\n",
       "\t\t<dd>56.1545590464097</dd>\n",
       "\t<dt>$p_val</dt>\n",
       "\t\t<dd>3.94795307556706e-12</dd>\n",
       "</dl>\n"
      ],
      "text/latex": [
       "\\begin{description}\n",
       "\\item[\\$F\\_val] 56.1545590464097\n",
       "\\item[\\$p\\_val] 3.94795307556706e-12\n",
       "\\end{description}\n"
      ],
      "text/markdown": [
       "$F_val\n",
       ":   56.1545590464097\n",
       "$p_val\n",
       ":   3.94795307556706e-12\n",
       "\n",
       "\n"
      ],
      "text/plain": [
       "$F_val\n",
       "[1] 56.15456\n",
       "\n",
       "$p_val\n",
       "[1] 3.947953e-12\n"
      ]
     },
     "metadata": {},
     "output_type": "display_data"
    }
   ],
   "source": [
    "(function(){\n",
    "    m <- d.stron$stron %>% mean()\n",
    "    \n",
    "    SS.b <- d.stron %>% group_by(lake) %>% summarise_all(funs(stron = mean, n = n())) %>% \n",
    "        mutate(x = n * (stron - m)^2) %>% summarise(SS.b = sum(x)) %>% .[[\"SS.b\"]]\n",
    "    SS.w <- d.stron %>% group_by(lake) %>% mutate(x = (stron - mean(stron))^2) %>% \n",
    "        summarise_all(funs(sum)) %>% summarise(SS.w = sum(x)) %>% .[[\"SS.w\"]]\n",
    "    \n",
    "    df_b <- d.stron$lake %>% unique %>% length %>% {. - 1}\n",
    "    df_w <- d.stron %>% group_by(lake) %>% summarise(n = n()) %>% \n",
    "        summarise(df_w = sum(n - 1)) %>% .[[\"df_w\"]]\n",
    "    \n",
    "    MS.b <- SS.b / df_b\n",
    "    MS.w <- SS.w / df_w\n",
    "    F_val <- MS.b / MS.w\n",
    "    p_val <- 1 - pf(F_val, df_b, df_w)\n",
    "    \n",
    "    return(list(\"F_val\" = F_val, \"p_val\" = p_val))\n",
    "})()"
   ]
  },
  {
   "cell_type": "code",
   "execution_count": 61,
   "metadata": {
    "collapsed": false
   },
   "outputs": [
    {
     "data": {
      "text/html": [
       "<table>\n",
       "<thead><tr><th scope=col>f1</th><th scope=col>f2</th><th scope=col>f3</th><th scope=col>f4</th></tr></thead>\n",
       "<tbody>\n",
       "\t<tr><td>60.8 </td><td>68.7 </td><td>102.6</td><td>87.9 </td></tr>\n",
       "\t<tr><td>57.0 </td><td>67.7 </td><td>102.1</td><td>84.2 </td></tr>\n",
       "\t<tr><td>65.0 </td><td>74.0 </td><td>100.2</td><td>83.1 </td></tr>\n",
       "\t<tr><td>58.6 </td><td>66.3 </td><td> 96.5</td><td>85.7 </td></tr>\n",
       "\t<tr><td>61.7 </td><td>69.8 </td><td>   NA</td><td>90.3 </td></tr>\n",
       "</tbody>\n",
       "</table>\n"
      ],
      "text/latex": [
       "\\begin{tabular}{r|llll}\n",
       " f1 & f2 & f3 & f4\\\\\n",
       "\\hline\n",
       "\t 60.8  & 68.7  & 102.6 & 87.9 \\\\\n",
       "\t 57.0  & 67.7  & 102.1 & 84.2 \\\\\n",
       "\t 65.0  & 74.0  & 100.2 & 83.1 \\\\\n",
       "\t 58.6  & 66.3  &  96.5 & 85.7 \\\\\n",
       "\t 61.7  & 69.8  &    NA & 90.3 \\\\\n",
       "\\end{tabular}\n"
      ],
      "text/markdown": [
       "\n",
       "f1 | f2 | f3 | f4 | \n",
       "|---|---|---|---|---|\n",
       "| 60.8  | 68.7  | 102.6 | 87.9  | \n",
       "| 57.0  | 67.7  | 102.1 | 84.2  | \n",
       "| 65.0  | 74.0  | 100.2 | 83.1  | \n",
       "| 58.6  | 66.3  |  96.5 | 85.7  | \n",
       "| 61.7  | 69.8  |    NA | 90.3  | \n",
       "\n",
       "\n"
      ],
      "text/plain": [
       "  f1   f2   f3    f4  \n",
       "1 60.8 68.7 102.6 87.9\n",
       "2 57.0 67.7 102.1 84.2\n",
       "3 65.0 74.0 100.2 83.1\n",
       "4 58.6 66.3  96.5 85.7\n",
       "5 61.7 69.8    NA 90.3"
      ]
     },
     "metadata": {},
     "output_type": "display_data"
    }
   ],
   "source": [
    "d.pig <- data_frame(\n",
    "    f1 = c(60.8, 57.0, 65.0, 58.6, 61.7),\n",
    "    f2 = c(68.7, 67.7, 74.0, 66.3, 69.8), \n",
    "    f3 = c(102.6, 102.1, 100.2, 96.5, NA), \n",
    "    f4 = c(87.9, 84.2, 83.1, 85.7, 90.3)\n",
    ")\n",
    "d.pig"
   ]
  },
  {
   "cell_type": "code",
   "execution_count": 68,
   "metadata": {
    "collapsed": false
   },
   "outputs": [
    {
     "data": {
      "text/plain": [
       "            Df Sum Sq Mean Sq F value   Pr(>F)    \n",
       "feed         3   4226  1408.8   164.6 1.06e-11 ***\n",
       "Residuals   15    128     8.6                     \n",
       "---\n",
       "Signif. codes:  0 '***' 0.001 '**' 0.01 '*' 0.05 '.' 0.1 ' ' 1\n",
       "1 observation deleted due to missingness"
      ]
     },
     "metadata": {},
     "output_type": "display_data"
    }
   ],
   "source": [
    "d.pig %>% gather(feed, Pig) %>% aov(Pig ~ feed, data = .) %>% summary()"
   ]
  },
  {
   "cell_type": "code",
   "execution_count": 69,
   "metadata": {
    "collapsed": false
   },
   "outputs": [
    {
     "name": "stderr",
     "output_type": "stream",
     "text": [
      "Session info -------------------------------------------------------------------\n",
      "Packages -----------------------------------------------------------------------\n"
     ]
    },
    {
     "data": {
      "text/plain": [
       " setting  value                       \n",
       " version  R version 3.3.2 (2016-10-31)\n",
       " system   x86_64, mingw32             \n",
       " ui       RTerm                       \n",
       " language en_US.UTF-8                 \n",
       " collate  Japanese_Japan.932          \n",
       " tz       Asia/Tokyo                  \n",
       " date     2017-05-21                  \n",
       "\n",
       " package    * version    date       source                            \n",
       " assertthat   0.2.0      2017-04-11 CRAN (R 3.3.2)                    \n",
       " Cairo      * 1.5-9      2015-09-26 CRAN (R 3.2.2)                    \n",
       " colorspace   1.3-2      2016-12-14 CRAN (R 3.3.3)                    \n",
       " crayon       1.3.2      2016-06-28 CRAN (R 3.3.1)                    \n",
       " DBI          0.6-1      2017-04-01 CRAN (R 3.3.3)                    \n",
       " devtools     1.12.0     2016-06-24 CRAN (R 3.3.1)                    \n",
       " digest       0.6.12     2017-01-27 CRAN (R 3.3.3)                    \n",
       " dplyr      * 0.5.0      2016-06-24 CRAN (R 3.2.5)                    \n",
       " evaluate     0.10       2016-10-11 CRAN (R 3.3.2)                    \n",
       " ggplot2    * 2.2.1      2016-12-30 CRAN (R 3.3.3)                    \n",
       " gridExtra  * 2.2.1      2016-02-29 CRAN (R 3.2.5)                    \n",
       " gtable       0.2.0      2016-02-26 CRAN (R 3.2.5)                    \n",
       " hms          0.3        2016-11-22 CRAN (R 3.3.3)                    \n",
       " IRdisplay    0.4.4      2016-08-02 CRAN (R 3.3.1)                    \n",
       " IRkernel     0.8.6.9000 2017-04-13 Github (IRkernel/IRkernel@29ae7df)\n",
       " jsonlite     1.4        2017-04-08 CRAN (R 3.3.3)                    \n",
       " lazyeval     0.2.0      2016-06-12 CRAN (R 3.2.5)                    \n",
       " magrittr     1.5        2014-11-22 CRAN (R 3.2.1)                    \n",
       " memoise      1.0.0      2016-01-29 CRAN (R 3.2.3)                    \n",
       " munsell      0.4.3      2016-02-13 CRAN (R 3.2.5)                    \n",
       " pbdZMQ       0.2-5      2016-12-18 CRAN (R 3.3.3)                    \n",
       " plyr         1.8.4      2016-06-08 CRAN (R 3.2.5)                    \n",
       " R6           2.2.0      2016-10-05 CRAN (R 3.3.2)                    \n",
       " Rcpp         0.12.10    2017-03-19 CRAN (R 3.3.3)                    \n",
       " readr      * 1.1.0      2017-03-22 CRAN (R 3.3.3)                    \n",
       " repr         0.12.0     2017-04-07 CRAN (R 3.3.3)                    \n",
       " scales       0.4.1      2016-11-09 CRAN (R 3.3.2)                    \n",
       " stringi      1.1.5      2017-04-07 CRAN (R 3.3.3)                    \n",
       " stringr      1.2.0      2017-02-18 CRAN (R 3.3.3)                    \n",
       " tibble       1.3.0      2017-04-01 CRAN (R 3.3.3)                    \n",
       " tidyr      * 0.6.1      2017-01-10 CRAN (R 3.3.3)                    \n",
       " uuid         0.1-2      2015-07-28 CRAN (R 3.3.1)                    \n",
       " withr        1.0.2      2016-06-20 CRAN (R 3.2.5)                    "
      ]
     },
     "metadata": {},
     "output_type": "display_data"
    }
   ],
   "source": [
    "devtools::session_info()"
   ]
  }
 ],
 "metadata": {
  "anaconda-cloud": {},
  "kernelspec": {
   "display_name": "R",
   "language": "R",
   "name": "ir"
  },
  "language_info": {
   "codemirror_mode": "r",
   "file_extension": ".r",
   "mimetype": "text/x-r-source",
   "name": "R",
   "pygments_lexer": "r",
   "version": "3.3.2"
  }
 },
 "nbformat": 4,
 "nbformat_minor": 1
}
