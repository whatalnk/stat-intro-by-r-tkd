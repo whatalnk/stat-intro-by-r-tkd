{
 "cells": [
  {
   "cell_type": "markdown",
   "metadata": {},
   "source": [
    "# 6章 一元配置分散分析・多重比較"
   ]
  },
  {
   "cell_type": "code",
   "execution_count": 1,
   "metadata": {
    "collapsed": false
   },
   "outputs": [
    {
     "name": "stderr",
     "output_type": "stream",
     "text": [
      "\n",
      "Attaching package: 'dplyr'\n",
      "\n",
      "The following objects are masked from 'package:stats':\n",
      "\n",
      "    filter, lag\n",
      "\n",
      "The following objects are masked from 'package:base':\n",
      "\n",
      "    intersect, setdiff, setequal, union\n",
      "\n",
      "Warning message:\n",
      "\"package 'tidyr' was built under R version 3.3.3\"Warning message:\n",
      "\"package 'ggplot2' was built under R version 3.3.3\"Warning message:\n",
      "\"package 'readr' was built under R version 3.3.3\"\n",
      "Attaching package: 'gridExtra'\n",
      "\n",
      "The following object is masked from 'package:dplyr':\n",
      "\n",
      "    combine\n",
      "\n"
     ]
    }
   ],
   "source": [
    "library(dplyr)\n",
    "library(tidyr)\n",
    "library(ggplot2)\n",
    "library(readr)\n",
    "library(gridExtra)\n",
    "library(Cairo)"
   ]
  },
  {
   "cell_type": "markdown",
   "metadata": {},
   "source": [
    "## 6.1 t検定の繰り返しは誤り"
   ]
  },
  {
   "cell_type": "markdown",
   "metadata": {},
   "source": [
    "## 6.2 一元配置分散分析: 原理"
   ]
  },
  {
   "cell_type": "markdown",
   "metadata": {},
   "source": [
    "## 6.3 Rで計算"
   ]
  },
  {
   "cell_type": "code",
   "execution_count": 2,
   "metadata": {
    "collapsed": false
   },
   "outputs": [
    {
     "data": {
      "text/html": [
       "<table>\n",
       "<thead><tr><th scope=col>stron</th><th scope=col>lake</th></tr></thead>\n",
       "<tbody>\n",
       "\t<tr><td>28.2</td><td>1   </td></tr>\n",
       "\t<tr><td>33.2</td><td>1   </td></tr>\n",
       "\t<tr><td>36.4</td><td>1   </td></tr>\n",
       "\t<tr><td>34.6</td><td>1   </td></tr>\n",
       "\t<tr><td>29.1</td><td>1   </td></tr>\n",
       "\t<tr><td>31.0</td><td>1   </td></tr>\n",
       "</tbody>\n",
       "</table>\n"
      ],
      "text/latex": [
       "\\begin{tabular}{r|ll}\n",
       " stron & lake\\\\\n",
       "\\hline\n",
       "\t 28.2 & 1   \\\\\n",
       "\t 33.2 & 1   \\\\\n",
       "\t 36.4 & 1   \\\\\n",
       "\t 34.6 & 1   \\\\\n",
       "\t 29.1 & 1   \\\\\n",
       "\t 31.0 & 1   \\\\\n",
       "\\end{tabular}\n"
      ],
      "text/markdown": [
       "\n",
       "stron | lake | \n",
       "|---|---|---|---|---|---|\n",
       "| 28.2 | 1    | \n",
       "| 33.2 | 1    | \n",
       "| 36.4 | 1    | \n",
       "| 34.6 | 1    | \n",
       "| 29.1 | 1    | \n",
       "| 31.0 | 1    | \n",
       "\n",
       "\n"
      ],
      "text/plain": [
       "  stron lake\n",
       "1 28.2  1   \n",
       "2 33.2  1   \n",
       "3 36.4  1   \n",
       "4 34.6  1   \n",
       "5 29.1  1   \n",
       "6 31.0  1   "
      ]
     },
     "metadata": {},
     "output_type": "display_data"
    }
   ],
   "source": [
    "d.stron <- data_frame(\n",
    "    stron = c(28.2, 33.2, 36.4, 34.6, 29.1, 31.0, \n",
    "              39.6, 40.8, 37.9, 37.1, 43.6, 42.4, \n",
    "              46.3, 42.1, 43.5, 48.8, 43.7, 40.1, \n",
    "              41.0, 44.1, 46.4, 40.2, 38.6, 36.3, \n",
    "              56.3, 54.1, 59.4, 62.7, 60.0, 57.3), \n",
    "    lake = factor(sort(rep(1:5, 6)))\n",
    ")\n",
    "head(d.stron)"
   ]
  },
  {
   "cell_type": "code",
   "execution_count": 3,
   "metadata": {
    "collapsed": false
   },
   "outputs": [
    {
     "data": {
      "text/plain": [
       "            Df Sum Sq Mean Sq F value   Pr(>F)    \n",
       "lake         4 2193.4   548.4   56.16 3.95e-12 ***\n",
       "Residuals   25  244.1     9.8                     \n",
       "---\n",
       "Signif. codes:  0 '***' 0.001 '**' 0.01 '*' 0.05 '.' 0.1 ' ' 1"
      ]
     },
     "metadata": {},
     "output_type": "display_data"
    }
   ],
   "source": [
    "aov(stron ~ lake, data = d.stron) %>% summary()"
   ]
  },
  {
   "cell_type": "markdown",
   "metadata": {},
   "source": [
    "手動計算\n",
    "\n",
    "* `m`: 群の総数\n",
    "* `n`: 各群の標本サイズ\n",
    "* `SS.b`: 群間平方和\n",
    "* `SS.w`: 群内平方和\n",
    "* `MS.b`, `MS.w`: 平均平方"
   ]
  },
  {
   "cell_type": "code",
   "execution_count": 4,
   "metadata": {
    "collapsed": false
   },
   "outputs": [
    {
     "data": {
      "text/html": [
       "<dl>\n",
       "\t<dt>$F_val</dt>\n",
       "\t\t<dd>56.1545590464097</dd>\n",
       "\t<dt>$p_val</dt>\n",
       "\t\t<dd>3.94795307556706e-12</dd>\n",
       "</dl>\n"
      ],
      "text/latex": [
       "\\begin{description}\n",
       "\\item[\\$F\\_val] 56.1545590464097\n",
       "\\item[\\$p\\_val] 3.94795307556706e-12\n",
       "\\end{description}\n"
      ],
      "text/markdown": [
       "$F_val\n",
       ":   56.1545590464097\n",
       "$p_val\n",
       ":   3.94795307556706e-12\n",
       "\n",
       "\n"
      ],
      "text/plain": [
       "$F_val\n",
       "[1] 56.15456\n",
       "\n",
       "$p_val\n",
       "[1] 3.947953e-12\n"
      ]
     },
     "metadata": {},
     "output_type": "display_data"
    }
   ],
   "source": [
    "(function(){\n",
    "    m <- d.stron$stron %>% mean()\n",
    "    \n",
    "    SS.b <- d.stron %>% group_by(lake) %>% summarise_all(funs(stron = mean, n = n())) %>% \n",
    "        mutate(x = n * (stron - m)^2) %>% summarise(SS.b = sum(x)) %>% .[[\"SS.b\"]]\n",
    "    SS.w <- d.stron %>% group_by(lake) %>% mutate(x = (stron - mean(stron))^2) %>% \n",
    "        summarise_all(funs(sum)) %>% summarise(SS.w = sum(x)) %>% .[[\"SS.w\"]]\n",
    "    \n",
    "    df_b <- d.stron$lake %>% unique %>% length %>% {. - 1}\n",
    "    df_w <- d.stron %>% group_by(lake) %>% summarise(n = n()) %>% \n",
    "        summarise(df_w = sum(n - 1)) %>% .[[\"df_w\"]]\n",
    "    \n",
    "    MS.b <- SS.b / df_b\n",
    "    MS.w <- SS.w / df_w\n",
    "    F_val <- MS.b / MS.w\n",
    "    p_val <- 1 - pf(F_val, df_b, df_w)\n",
    "    \n",
    "    return(list(\"F_val\" = F_val, \"p_val\" = p_val))\n",
    "})()"
   ]
  },
  {
   "cell_type": "code",
   "execution_count": 5,
   "metadata": {
    "collapsed": false
   },
   "outputs": [
    {
     "data": {
      "text/html": [
       "<table>\n",
       "<thead><tr><th scope=col>f1</th><th scope=col>f2</th><th scope=col>f3</th><th scope=col>f4</th></tr></thead>\n",
       "<tbody>\n",
       "\t<tr><td>60.8 </td><td>68.7 </td><td>102.6</td><td>87.9 </td></tr>\n",
       "\t<tr><td>57.0 </td><td>67.7 </td><td>102.1</td><td>84.2 </td></tr>\n",
       "\t<tr><td>65.0 </td><td>74.0 </td><td>100.2</td><td>83.1 </td></tr>\n",
       "\t<tr><td>58.6 </td><td>66.3 </td><td> 96.5</td><td>85.7 </td></tr>\n",
       "\t<tr><td>61.7 </td><td>69.8 </td><td>   NA</td><td>90.3 </td></tr>\n",
       "</tbody>\n",
       "</table>\n"
      ],
      "text/latex": [
       "\\begin{tabular}{r|llll}\n",
       " f1 & f2 & f3 & f4\\\\\n",
       "\\hline\n",
       "\t 60.8  & 68.7  & 102.6 & 87.9 \\\\\n",
       "\t 57.0  & 67.7  & 102.1 & 84.2 \\\\\n",
       "\t 65.0  & 74.0  & 100.2 & 83.1 \\\\\n",
       "\t 58.6  & 66.3  &  96.5 & 85.7 \\\\\n",
       "\t 61.7  & 69.8  &    NA & 90.3 \\\\\n",
       "\\end{tabular}\n"
      ],
      "text/markdown": [
       "\n",
       "f1 | f2 | f3 | f4 | \n",
       "|---|---|---|---|---|\n",
       "| 60.8  | 68.7  | 102.6 | 87.9  | \n",
       "| 57.0  | 67.7  | 102.1 | 84.2  | \n",
       "| 65.0  | 74.0  | 100.2 | 83.1  | \n",
       "| 58.6  | 66.3  |  96.5 | 85.7  | \n",
       "| 61.7  | 69.8  |    NA | 90.3  | \n",
       "\n",
       "\n"
      ],
      "text/plain": [
       "  f1   f2   f3    f4  \n",
       "1 60.8 68.7 102.6 87.9\n",
       "2 57.0 67.7 102.1 84.2\n",
       "3 65.0 74.0 100.2 83.1\n",
       "4 58.6 66.3  96.5 85.7\n",
       "5 61.7 69.8    NA 90.3"
      ]
     },
     "metadata": {},
     "output_type": "display_data"
    }
   ],
   "source": [
    "d.pig <- data_frame(\n",
    "    f1 = c(60.8, 57.0, 65.0, 58.6, 61.7),\n",
    "    f2 = c(68.7, 67.7, 74.0, 66.3, 69.8), \n",
    "    f3 = c(102.6, 102.1, 100.2, 96.5, NA), \n",
    "    f4 = c(87.9, 84.2, 83.1, 85.7, 90.3)\n",
    ")\n",
    "d.pig"
   ]
  },
  {
   "cell_type": "code",
   "execution_count": 6,
   "metadata": {
    "collapsed": false
   },
   "outputs": [
    {
     "data": {
      "text/plain": [
       "            Df Sum Sq Mean Sq F value   Pr(>F)    \n",
       "feed         3   4226  1408.8   164.6 1.06e-11 ***\n",
       "Residuals   15    128     8.6                     \n",
       "---\n",
       "Signif. codes:  0 '***' 0.001 '**' 0.01 '*' 0.05 '.' 0.1 ' ' 1\n",
       "1 observation deleted due to missingness"
      ]
     },
     "metadata": {},
     "output_type": "display_data"
    }
   ],
   "source": [
    "d.pig %>% gather(feed, Pig) %>% aov(Pig ~ feed, data = .) %>% summary()"
   ]
  },
  {
   "cell_type": "markdown",
   "metadata": {},
   "source": [
    "### Tuket HSD"
   ]
  },
  {
   "cell_type": "code",
   "execution_count": 7,
   "metadata": {
    "collapsed": false,
    "scrolled": true
   },
   "outputs": [
    {
     "data": {
      "text/plain": [
       "            Df Sum Sq Mean Sq F value   Pr(>F)    \n",
       "lake         4 2193.4   548.4   56.16 3.95e-12 ***\n",
       "Residuals   25  244.1     9.8                     \n",
       "---\n",
       "Signif. codes:  0 '***' 0.001 '**' 0.01 '*' 0.05 '.' 0.1 ' ' 1"
      ]
     },
     "metadata": {},
     "output_type": "display_data"
    }
   ],
   "source": [
    "aov(stron ~ lake, data = d.stron) %>% summary()"
   ]
  },
  {
   "cell_type": "markdown",
   "metadata": {},
   "source": [
    "標準誤差 SE は，\n",
    "\n",
    "$SE = \\sqrt{\\frac{残差MS}{n}}$"
   ]
  },
  {
   "cell_type": "code",
   "execution_count": 9,
   "metadata": {
    "collapsed": false
   },
   "outputs": [
    {
     "data": {
      "text/html": [
       "1.27801930084539"
      ],
      "text/latex": [
       "1.27801930084539"
      ],
      "text/markdown": [
       "1.27801930084539"
      ],
      "text/plain": [
       "[1] 1.278019"
      ]
     },
     "metadata": {},
     "output_type": "display_data"
    }
   ],
   "source": [
    "sqrt(9.8 / 6)"
   ]
  },
  {
   "cell_type": "markdown",
   "metadata": {},
   "source": [
    "統計量 $q$ は，5 と 1とでは，\n",
    "\n",
    "$|q| = \\frac{\\bar{X}_5 - \\bar{X}_1}{SE}$"
   ]
  },
  {
   "cell_type": "code",
   "execution_count": 8,
   "metadata": {
    "collapsed": false
   },
   "outputs": [
    {
     "data": {
      "text/plain": [
       "  Tukey multiple comparisons of means\n",
       "    95% family-wise confidence level\n",
       "\n",
       "Fit: aov(formula = stron ~ lake, data = d.stron)\n",
       "\n",
       "$lake\n",
       "          diff       lwr       upr     p adj\n",
       "2-1  8.1500000  2.851355 13.448645 0.0011293\n",
       "3-1 12.0000000  6.701355 17.298645 0.0000053\n",
       "4-1  9.0166667  3.718021 14.315312 0.0003339\n",
       "5-1 26.2166667 20.918021 31.515312 0.0000000\n",
       "3-2  3.8500000 -1.448645  9.148645 0.2376217\n",
       "4-2  0.8666667 -4.431979  6.165312 0.9884803\n",
       "5-2 18.0666667 12.768021 23.365312 0.0000000\n",
       "4-3 -2.9833333 -8.281979  2.315312 0.4791100\n",
       "5-3 14.2166667  8.918021 19.515312 0.0000003\n",
       "5-4 17.2000000 11.901355 22.498645 0.0000000\n"
      ]
     },
     "metadata": {},
     "output_type": "display_data"
    }
   ],
   "source": [
    "aov(stron ~ lake, data = d.stron) %>% TukeyHSD()"
   ]
  },
  {
   "cell_type": "markdown",
   "metadata": {},
   "source": [
    "* スチューデント化されたq とは?"
   ]
  },
  {
   "cell_type": "code",
   "execution_count": 84,
   "metadata": {
    "collapsed": false
   },
   "outputs": [
    {
     "name": "stdout",
     "output_type": "stream",
     "text": [
      "1 - 2 :  -8.15 \n",
      "1 - 3 :  -12 \n",
      "1 - 4 :  -9.016667 \n",
      "1 - 5 :  -26.21667 \n",
      "2 - 3 :  -3.85 \n",
      "2 - 4 :  -0.8666667 \n",
      "2 - 5 :  -18.06667 \n",
      "3 - 4 :  2.983333 \n",
      "3 - 5 :  -14.21667 \n",
      "4 - 5 :  -17.2 \n"
     ]
    }
   ],
   "source": [
    "d.stron %>% group_by(lake) %>% summarise_each(funs(mean)) %>% \n",
    "    {\n",
    "        l <- list()\n",
    "        for(i in 1:5){\n",
    "            l[[.$lake[i]]] = .$stron[i]\n",
    "        }\n",
    "        comb <- combn(.$lake, 2)\n",
    "        for (i in 1:ncol(comb)){\n",
    "            xy <- comb[,i]\n",
    "            cat(xy[1], \"-\", xy[2], \": \", (l[[xy[1]]] - l[[xy[2]]]), \"\\n\")\n",
    "        }\n",
    "    }"
   ]
  },
  {
   "cell_type": "markdown",
   "metadata": {},
   "source": [
    "## 多重比較\n",
    "\n",
    "* 検定の多重性\n",
    "    * 有意水準の調整\n",
    "* 事前比較，事後比較\n",
    "\n",
    "種類\n",
    "\n",
    "* Tukey-Kramer\n",
    "* Dunnett\n",
    "* Scheffe\n",
    "* Williams"
   ]
  },
  {
   "cell_type": "markdown",
   "metadata": {},
   "source": [
    "### 6.4.1 Tukey-Kramer"
   ]
  },
  {
   "cell_type": "markdown",
   "metadata": {},
   "source": [
    "* 表6.7（微妙に値が違う）"
   ]
  },
  {
   "cell_type": "code",
   "execution_count": 64,
   "metadata": {
    "collapsed": false
   },
   "outputs": [
    {
     "name": "stderr",
     "output_type": "stream",
     "text": [
      "Parsed with column specification:\n",
      "cols(\n",
      "  score = col_integer(),\n",
      "  group = col_character()\n",
      ")\n"
     ]
    },
    {
     "data": {
      "text/html": [
       "<table>\n",
       "<thead><tr><th scope=col>score</th><th scope=col>group</th></tr></thead>\n",
       "<tbody>\n",
       "\t<tr><td>14</td><td>g1</td></tr>\n",
       "\t<tr><td>17</td><td>g1</td></tr>\n",
       "\t<tr><td>16</td><td>g1</td></tr>\n",
       "\t<tr><td>15</td><td>g1</td></tr>\n",
       "\t<tr><td>17</td><td>g1</td></tr>\n",
       "\t<tr><td>16</td><td>g1</td></tr>\n",
       "</tbody>\n",
       "</table>\n"
      ],
      "text/latex": [
       "\\begin{tabular}{r|ll}\n",
       " score & group\\\\\n",
       "\\hline\n",
       "\t 14 & g1\\\\\n",
       "\t 17 & g1\\\\\n",
       "\t 16 & g1\\\\\n",
       "\t 15 & g1\\\\\n",
       "\t 17 & g1\\\\\n",
       "\t 16 & g1\\\\\n",
       "\\end{tabular}\n"
      ],
      "text/markdown": [
       "\n",
       "score | group | \n",
       "|---|---|---|---|---|---|\n",
       "| 14 | g1 | \n",
       "| 17 | g1 | \n",
       "| 16 | g1 | \n",
       "| 15 | g1 | \n",
       "| 17 | g1 | \n",
       "| 16 | g1 | \n",
       "\n",
       "\n"
      ],
      "text/plain": [
       "  score group\n",
       "1 14    g1   \n",
       "2 17    g1   \n",
       "3 16    g1   \n",
       "4 15    g1   \n",
       "5 17    g1   \n",
       "6 16    g1   "
      ]
     },
     "metadata": {},
     "output_type": "display_data"
    }
   ],
   "source": [
    "d <- read_csv(\"../samplecode/Rで学ぶ統計学入門図版作成用/table6-5.csv\") \n",
    "head(d)"
   ]
  },
  {
   "cell_type": "code",
   "execution_count": 65,
   "metadata": {
    "collapsed": false
   },
   "outputs": [
    {
     "data": {
      "text/plain": [
       "              Df Sum Sq Mean Sq F value   Pr(>F)    \n",
       "factor(group)  3  80.28  26.759   10.61 9.81e-05 ***\n",
       "Residuals     26  65.59   2.523                     \n",
       "---\n",
       "Signif. codes:  0 '***' 0.001 '**' 0.01 '*' 0.05 '.' 0.1 ' ' 1"
      ]
     },
     "metadata": {},
     "output_type": "display_data"
    }
   ],
   "source": [
    "aov(score ~ factor(group), data=d) %>% summary()"
   ]
  },
  {
   "cell_type": "code",
   "execution_count": 66,
   "metadata": {
    "collapsed": false
   },
   "outputs": [
    {
     "data": {
      "text/plain": [
       "Call:\n",
       "   aov(formula = score ~ factor(group), data = d)\n",
       "\n",
       "Terms:\n",
       "                factor(group) Residuals\n",
       "Sum of Squares       80.27738  65.58929\n",
       "Deg. of Freedom             3        26\n",
       "\n",
       "Residual standard error: 1.58829\n",
       "Estimated effects may be unbalanced"
      ]
     },
     "metadata": {},
     "output_type": "display_data"
    }
   ],
   "source": [
    "aov(score ~ factor(group), data=d)"
   ]
  },
  {
   "cell_type": "code",
   "execution_count": 67,
   "metadata": {
    "collapsed": false
   },
   "outputs": [
    {
     "data": {
      "text/plain": [
       "  Tukey multiple comparisons of means\n",
       "    95% family-wise confidence level\n",
       "\n",
       "Fit: aov(formula = score ~ factor(group), data = d)\n",
       "\n",
       "$`factor(group)`\n",
       "           diff        lwr      upr     p adj\n",
       "g2-g1 0.7142857 -1.6147288 3.043300 0.8342852\n",
       "g3-g1 2.3571429  0.1020842 4.612201 0.0380588\n",
       "g4-g1 4.2321429  1.9770842 6.487201 0.0001269\n",
       "g3-g2 1.6428571 -0.6122015 3.897916 0.2143839\n",
       "g4-g2 3.5178571  1.2627985 5.772916 0.0012127\n",
       "g4-g3 1.8750000 -0.3035936 4.053594 0.1102113\n"
      ]
     },
     "metadata": {},
     "output_type": "display_data"
    }
   ],
   "source": [
    "aov(score ~ factor(group), data=d) %>% TukeyHSD()"
   ]
  },
  {
   "cell_type": "markdown",
   "metadata": {},
   "source": [
    "g1 と g2 が逆"
   ]
  },
  {
   "cell_type": "code",
   "execution_count": 68,
   "metadata": {
    "collapsed": false
   },
   "outputs": [
    {
     "data": {
      "text/html": [
       "<dl>\n",
       "\t<dt>$g1</dt>\n",
       "\t\t<dd><ol class=list-inline>\n",
       "\t<li>14</li>\n",
       "\t<li>17</li>\n",
       "\t<li>16</li>\n",
       "\t<li>15</li>\n",
       "\t<li>17</li>\n",
       "\t<li>16</li>\n",
       "\t<li>18</li>\n",
       "</ol>\n",
       "</dd>\n",
       "\t<dt>$g2</dt>\n",
       "\t\t<dd><ol class=list-inline>\n",
       "\t<li>17</li>\n",
       "\t<li>15</li>\n",
       "\t<li>19</li>\n",
       "\t<li>19</li>\n",
       "\t<li>17</li>\n",
       "\t<li>15</li>\n",
       "\t<li>16</li>\n",
       "</ol>\n",
       "</dd>\n",
       "\t<dt>$g3</dt>\n",
       "\t\t<dd><ol class=list-inline>\n",
       "\t<li>16</li>\n",
       "\t<li>18</li>\n",
       "\t<li>19</li>\n",
       "\t<li>17</li>\n",
       "\t<li>20</li>\n",
       "\t<li>19</li>\n",
       "\t<li>18</li>\n",
       "\t<li>21</li>\n",
       "</ol>\n",
       "</dd>\n",
       "\t<dt>$g4</dt>\n",
       "\t\t<dd><ol class=list-inline>\n",
       "\t<li>21</li>\n",
       "\t<li>20</li>\n",
       "\t<li>18</li>\n",
       "\t<li>19</li>\n",
       "\t<li>22</li>\n",
       "\t<li>23</li>\n",
       "\t<li>21</li>\n",
       "\t<li>19</li>\n",
       "</ol>\n",
       "</dd>\n",
       "</dl>\n"
      ],
      "text/latex": [
       "\\begin{description}\n",
       "\\item[\\$g1] \\begin{enumerate*}\n",
       "\\item 14\n",
       "\\item 17\n",
       "\\item 16\n",
       "\\item 15\n",
       "\\item 17\n",
       "\\item 16\n",
       "\\item 18\n",
       "\\end{enumerate*}\n",
       "\n",
       "\\item[\\$g2] \\begin{enumerate*}\n",
       "\\item 17\n",
       "\\item 15\n",
       "\\item 19\n",
       "\\item 19\n",
       "\\item 17\n",
       "\\item 15\n",
       "\\item 16\n",
       "\\end{enumerate*}\n",
       "\n",
       "\\item[\\$g3] \\begin{enumerate*}\n",
       "\\item 16\n",
       "\\item 18\n",
       "\\item 19\n",
       "\\item 17\n",
       "\\item 20\n",
       "\\item 19\n",
       "\\item 18\n",
       "\\item 21\n",
       "\\end{enumerate*}\n",
       "\n",
       "\\item[\\$g4] \\begin{enumerate*}\n",
       "\\item 21\n",
       "\\item 20\n",
       "\\item 18\n",
       "\\item 19\n",
       "\\item 22\n",
       "\\item 23\n",
       "\\item 21\n",
       "\\item 19\n",
       "\\end{enumerate*}\n",
       "\n",
       "\\end{description}\n"
      ],
      "text/markdown": [
       "$g1\n",
       ":   1. 14\n",
       "2. 17\n",
       "3. 16\n",
       "4. 15\n",
       "5. 17\n",
       "6. 16\n",
       "7. 18\n",
       "\n",
       "\n",
       "\n",
       "$g2\n",
       ":   1. 17\n",
       "2. 15\n",
       "3. 19\n",
       "4. 19\n",
       "5. 17\n",
       "6. 15\n",
       "7. 16\n",
       "\n",
       "\n",
       "\n",
       "$g3\n",
       ":   1. 16\n",
       "2. 18\n",
       "3. 19\n",
       "4. 17\n",
       "5. 20\n",
       "6. 19\n",
       "7. 18\n",
       "8. 21\n",
       "\n",
       "\n",
       "\n",
       "$g4\n",
       ":   1. 21\n",
       "2. 20\n",
       "3. 18\n",
       "4. 19\n",
       "5. 22\n",
       "6. 23\n",
       "7. 21\n",
       "8. 19\n",
       "\n",
       "\n",
       "\n",
       "\n",
       "\n"
      ],
      "text/plain": [
       "$g1\n",
       "[1] 14 17 16 15 17 16 18\n",
       "attr(,\"na.action\")\n",
       " [1]  2  3  4  5  6  7  8  9 10 11 13 14 15 16 17 18 19 20 21 22 24 29 30\n",
       "attr(,\"class\")\n",
       "[1] \"omit\"\n",
       "\n",
       "$g2\n",
       "[1] 17 15 19 19 17 15 16\n",
       "attr(,\"na.action\")\n",
       " [1]  1  7  8  9 10 11 12 13 14 15 16 17 18 19 20 21 22 23 24 25 26 27 28\n",
       "attr(,\"class\")\n",
       "[1] \"omit\"\n",
       "\n",
       "$g3\n",
       "[1] 16 18 19 17 20 19 18 21\n",
       "attr(,\"na.action\")\n",
       " [1]  1  2  3  4  5  6 12 16 17 18 19 20 21 22 23 24 25 26 27 28 29 30\n",
       "attr(,\"class\")\n",
       "[1] \"omit\"\n",
       "\n",
       "$g4\n",
       "[1] 21 20 18 19 22 23 21 19\n",
       "attr(,\"na.action\")\n",
       " [1]  1  2  3  4  5  6  7  8  9 10 11 12 13 14 15 23 25 26 27 28 29 30\n",
       "attr(,\"class\")\n",
       "[1] \"omit\"\n"
      ]
     },
     "metadata": {},
     "output_type": "display_data"
    }
   ],
   "source": [
    "d %>% tibble::rownames_to_column() %>% spread(group, score) %>% select(-1) %>% sapply(function(x){\n",
    "    na.omit(x)\n",
    "})"
   ]
  },
  {
   "cell_type": "code",
   "execution_count": 73,
   "metadata": {
    "collapsed": false
   },
   "outputs": [],
   "source": [
    "d %>% mutate(group = case_when(.$group == \"g1\" ~ \"g2\", \n",
    "                              .$group == \"g2\" ~ \"g1\", \n",
    "                              TRUE ~ .$group)) -> d"
   ]
  },
  {
   "cell_type": "code",
   "execution_count": 74,
   "metadata": {
    "collapsed": false
   },
   "outputs": [
    {
     "data": {
      "text/plain": [
       "  Tukey multiple comparisons of means\n",
       "    95% family-wise confidence level\n",
       "\n",
       "Fit: aov(formula = score ~ factor(group), data = d)\n",
       "\n",
       "$`factor(group)`\n",
       "            diff        lwr      upr     p adj\n",
       "g2-g1 -0.7142857 -3.0433003 1.614729 0.8342852\n",
       "g3-g1  1.6428571 -0.6122015 3.897916 0.2143839\n",
       "g4-g1  3.5178571  1.2627985 5.772916 0.0012127\n",
       "g3-g2  2.3571429  0.1020842 4.612201 0.0380588\n",
       "g4-g2  4.2321429  1.9770842 6.487201 0.0001269\n",
       "g4-g3  1.8750000 -0.3035936 4.053594 0.1102113\n"
      ]
     },
     "metadata": {},
     "output_type": "display_data"
    }
   ],
   "source": [
    "aov(score ~ factor(group), data = d) %>% TukeyHSD()"
   ]
  },
  {
   "cell_type": "code",
   "execution_count": 75,
   "metadata": {
    "collapsed": true
   },
   "outputs": [],
   "source": [
    "options(repr.plot.width = 3, repr.plot.height = 3)"
   ]
  },
  {
   "cell_type": "code",
   "execution_count": 84,
   "metadata": {
    "collapsed": false
   },
   "outputs": [
    {
     "data": {},
     "metadata": {},
     "output_type": "display_data"
    },
    {
     "data": {
      "image/png": "[encoded data removed]",
      "text/plain": [
       "plot without title"
      ]
     },
     "metadata": {},
     "output_type": "display_data"
    }
   ],
   "source": [
    "d %>% ggplot(aes(x = group, y = score)) + geom_boxplot()"
   ]
  },
  {
   "cell_type": "markdown",
   "metadata": {},
   "source": [
    "### 6.4.2 Dunnett"
   ]
  },
  {
   "cell_type": "markdown",
   "metadata": {},
   "source": [
    "表6.8"
   ]
  },
  {
   "cell_type": "code",
   "execution_count": 85,
   "metadata": {
    "collapsed": false
   },
   "outputs": [
    {
     "name": "stderr",
     "output_type": "stream",
     "text": [
      "Parsed with column specification:\n",
      "cols(\n",
      "  score = col_integer(),\n",
      "  group = col_character()\n",
      ")\n"
     ]
    },
    {
     "data": {
      "text/html": [
       "<table>\n",
       "<thead><tr><th scope=col>score</th><th scope=col>group</th></tr></thead>\n",
       "<tbody>\n",
       "\t<tr><td>7</td><td>C</td></tr>\n",
       "\t<tr><td>9</td><td>C</td></tr>\n",
       "\t<tr><td>8</td><td>C</td></tr>\n",
       "\t<tr><td>6</td><td>C</td></tr>\n",
       "\t<tr><td>9</td><td>C</td></tr>\n",
       "\t<tr><td>8</td><td>C</td></tr>\n",
       "</tbody>\n",
       "</table>\n"
      ],
      "text/latex": [
       "\\begin{tabular}{r|ll}\n",
       " score & group\\\\\n",
       "\\hline\n",
       "\t 7 & C\\\\\n",
       "\t 9 & C\\\\\n",
       "\t 8 & C\\\\\n",
       "\t 6 & C\\\\\n",
       "\t 9 & C\\\\\n",
       "\t 8 & C\\\\\n",
       "\\end{tabular}\n"
      ],
      "text/markdown": [
       "\n",
       "score | group | \n",
       "|---|---|---|---|---|---|\n",
       "| 7 | C | \n",
       "| 9 | C | \n",
       "| 8 | C | \n",
       "| 6 | C | \n",
       "| 9 | C | \n",
       "| 8 | C | \n",
       "\n",
       "\n"
      ],
      "text/plain": [
       "  score group\n",
       "1 7     C    \n",
       "2 9     C    \n",
       "3 8     C    \n",
       "4 6     C    \n",
       "5 9     C    \n",
       "6 8     C    "
      ]
     },
     "metadata": {},
     "output_type": "display_data"
    }
   ],
   "source": [
    "d2 <- read_csv(\"../samplecode/Rで学ぶ統計学入門図版作成用/table6-6.csv\")\n",
    "head(d2)"
   ]
  },
  {
   "cell_type": "code",
   "execution_count": 86,
   "metadata": {
    "collapsed": false
   },
   "outputs": [
    {
     "name": "stdout",
     "output_type": "stream",
     "text": [
      "Classes 'tbl_df', 'tbl' and 'data.frame':\t34 obs. of  2 variables:\n",
      " $ score: int  7 9 8 6 9 8 11 10 8 8 ...\n",
      " $ group: chr  \"C\" \"C\" \"C\" \"C\" ...\n",
      " - attr(*, \"spec\")=List of 2\n",
      "  ..$ cols   :List of 2\n",
      "  .. ..$ score: list()\n",
      "  .. .. ..- attr(*, \"class\")= chr  \"collector_integer\" \"collector\"\n",
      "  .. ..$ group: list()\n",
      "  .. .. ..- attr(*, \"class\")= chr  \"collector_character\" \"collector\"\n",
      "  ..$ default: list()\n",
      "  .. ..- attr(*, \"class\")= chr  \"collector_guess\" \"collector\"\n",
      "  ..- attr(*, \"class\")= chr \"col_spec\"\n"
     ]
    }
   ],
   "source": [
    "str(d2)"
   ]
  },
  {
   "cell_type": "code",
   "execution_count": 91,
   "metadata": {
    "collapsed": false
   },
   "outputs": [
    {
     "data": {
      "text/html": [
       "<dl>\n",
       "\t<dt>$C</dt>\n",
       "\t\t<dd><ol class=list-inline>\n",
       "\t<li>7</li>\n",
       "\t<li>8</li>\n",
       "\t<li>9</li>\n",
       "\t<li>8</li>\n",
       "\t<li>6</li>\n",
       "\t<li>9</li>\n",
       "\t<li>8</li>\n",
       "\t<li>11</li>\n",
       "\t<li>10</li>\n",
       "\t<li>8</li>\n",
       "</ol>\n",
       "</dd>\n",
       "\t<dt>$g2</dt>\n",
       "\t\t<dd><ol class=list-inline>\n",
       "\t<li>8</li>\n",
       "\t<li>9</li>\n",
       "\t<li>10</li>\n",
       "\t<li>8</li>\n",
       "\t<li>9</li>\n",
       "\t<li>9</li>\n",
       "\t<li>10</li>\n",
       "\t<li>12</li>\n",
       "</ol>\n",
       "</dd>\n",
       "\t<dt>$g3</dt>\n",
       "\t\t<dd><ol class=list-inline>\n",
       "\t<li>11</li>\n",
       "\t<li>12</li>\n",
       "\t<li>12</li>\n",
       "\t<li>10</li>\n",
       "\t<li>11</li>\n",
       "\t<li>13</li>\n",
       "\t<li>9</li>\n",
       "\t<li>10</li>\n",
       "</ol>\n",
       "</dd>\n",
       "\t<dt>$g4</dt>\n",
       "\t\t<dd><ol class=list-inline>\n",
       "\t<li>13</li>\n",
       "\t<li>12</li>\n",
       "\t<li>12</li>\n",
       "\t<li>11</li>\n",
       "\t<li>14</li>\n",
       "\t<li>12</li>\n",
       "\t<li>11</li>\n",
       "\t<li>10</li>\n",
       "</ol>\n",
       "</dd>\n",
       "</dl>\n"
      ],
      "text/latex": [
       "\\begin{description}\n",
       "\\item[\\$C] \\begin{enumerate*}\n",
       "\\item 7\n",
       "\\item 8\n",
       "\\item 9\n",
       "\\item 8\n",
       "\\item 6\n",
       "\\item 9\n",
       "\\item 8\n",
       "\\item 11\n",
       "\\item 10\n",
       "\\item 8\n",
       "\\end{enumerate*}\n",
       "\n",
       "\\item[\\$g2] \\begin{enumerate*}\n",
       "\\item 8\n",
       "\\item 9\n",
       "\\item 10\n",
       "\\item 8\n",
       "\\item 9\n",
       "\\item 9\n",
       "\\item 10\n",
       "\\item 12\n",
       "\\end{enumerate*}\n",
       "\n",
       "\\item[\\$g3] \\begin{enumerate*}\n",
       "\\item 11\n",
       "\\item 12\n",
       "\\item 12\n",
       "\\item 10\n",
       "\\item 11\n",
       "\\item 13\n",
       "\\item 9\n",
       "\\item 10\n",
       "\\end{enumerate*}\n",
       "\n",
       "\\item[\\$g4] \\begin{enumerate*}\n",
       "\\item 13\n",
       "\\item 12\n",
       "\\item 12\n",
       "\\item 11\n",
       "\\item 14\n",
       "\\item 12\n",
       "\\item 11\n",
       "\\item 10\n",
       "\\end{enumerate*}\n",
       "\n",
       "\\end{description}\n"
      ],
      "text/markdown": [
       "$C\n",
       ":   1. 7\n",
       "2. 8\n",
       "3. 9\n",
       "4. 8\n",
       "5. 6\n",
       "6. 9\n",
       "7. 8\n",
       "8. 11\n",
       "9. 10\n",
       "10. 8\n",
       "\n",
       "\n",
       "\n",
       "$g2\n",
       ":   1. 8\n",
       "2. 9\n",
       "3. 10\n",
       "4. 8\n",
       "5. 9\n",
       "6. 9\n",
       "7. 10\n",
       "8. 12\n",
       "\n",
       "\n",
       "\n",
       "$g3\n",
       ":   1. 11\n",
       "2. 12\n",
       "3. 12\n",
       "4. 10\n",
       "5. 11\n",
       "6. 13\n",
       "7. 9\n",
       "8. 10\n",
       "\n",
       "\n",
       "\n",
       "$g4\n",
       ":   1. 13\n",
       "2. 12\n",
       "3. 12\n",
       "4. 11\n",
       "5. 14\n",
       "6. 12\n",
       "7. 11\n",
       "8. 10\n",
       "\n",
       "\n",
       "\n",
       "\n",
       "\n"
      ],
      "text/plain": [
       "$C\n",
       " [1]  7  8  9  8  6  9  8 11 10  8\n",
       "attr(,\"na.action\")\n",
       " [1]  3  4  5  6  7  8  9 10 11 13 14 15 16 17 18 19 20 21 22 24 25 26 27 28\n",
       "attr(,\"class\")\n",
       "[1] \"omit\"\n",
       "\n",
       "$g2\n",
       "[1]  8  9 10  8  9  9 10 12\n",
       "attr(,\"na.action\")\n",
       " [1]  1  2 11 12 13 14 15 16 17 18 19 20 21 22 23 24 25 26 27 28 29 30 31 32 33\n",
       "[26] 34\n",
       "attr(,\"class\")\n",
       "[1] \"omit\"\n",
       "\n",
       "$g3\n",
       "[1] 11 12 12 10 11 13  9 10\n",
       "attr(,\"na.action\")\n",
       " [1]  1  2  3  4  5  6  7  8  9 10 12 20 21 22 23 24 25 26 27 28 29 30 31 32 33\n",
       "[26] 34\n",
       "attr(,\"class\")\n",
       "[1] \"omit\"\n",
       "\n",
       "$g4\n",
       "[1] 13 12 12 11 14 12 11 10\n",
       "attr(,\"na.action\")\n",
       " [1]  1  2  3  4  5  6  7  8  9 10 11 12 13 14 15 16 17 18 19 23 29 30 31 32 33\n",
       "[26] 34\n",
       "attr(,\"class\")\n",
       "[1] \"omit\"\n"
      ]
     },
     "metadata": {},
     "output_type": "display_data"
    }
   ],
   "source": [
    "d2 %>% tibble::rownames_to_column(\"id\") %>% spread(group, score) %>% select(-id) %>% sapply(function(x){\n",
    "    na.omit(x)\n",
    "})"
   ]
  },
  {
   "cell_type": "code",
   "execution_count": 98,
   "metadata": {
    "collapsed": false
   },
   "outputs": [
    {
     "name": "stderr",
     "output_type": "stream",
     "text": [
      "Warning message:\n",
      "\"package 'multcomp' was built under R version 3.3.3\"Loading required package: mvtnorm\n",
      "Loading required package: survival\n",
      "Loading required package: TH.data\n",
      "Warning message:\n",
      "\"package 'TH.data' was built under R version 3.3.3\"Loading required package: MASS\n",
      "\n",
      "Attaching package: 'MASS'\n",
      "\n",
      "The following object is masked from 'package:dplyr':\n",
      "\n",
      "    select\n",
      "\n",
      "\n",
      "Attaching package: 'TH.data'\n",
      "\n",
      "The following object is masked from 'package:MASS':\n",
      "\n",
      "    geyser\n",
      "\n"
     ]
    }
   ],
   "source": [
    "library(multcomp)"
   ]
  },
  {
   "cell_type": "code",
   "execution_count": 102,
   "metadata": {
    "collapsed": false
   },
   "outputs": [],
   "source": [
    "detach(package:multcomp)"
   ]
  },
  {
   "cell_type": "code",
   "execution_count": 103,
   "metadata": {
    "collapsed": false
   },
   "outputs": [],
   "source": [
    "detach(package:TH.data)"
   ]
  },
  {
   "cell_type": "code",
   "execution_count": 104,
   "metadata": {
    "collapsed": false
   },
   "outputs": [],
   "source": [
    "detach(package:MASS)"
   ]
  },
  {
   "cell_type": "code",
   "execution_count": 105,
   "metadata": {
    "collapsed": false
   },
   "outputs": [
    {
     "data": {
      "text/html": [
       "<pre class=language-r><code>function (.data, ...) \n",
       "{\n",
       "<span style=white-space:pre-wrap>    select_(.data, .dots = lazyeval::lazy_dots(...))</span>\n",
       "}</code></pre>"
      ],
      "text/latex": [
       "\\begin{minted}{r}\n",
       "function (.data, ...) \n",
       "\\{\n",
       "    select\\_(.data, .dots = lazyeval::lazy\\_dots(...))\n",
       "\\}\n",
       "\\end{minted}"
      ],
      "text/markdown": [
       "```r\n",
       "function (.data, ...) \n",
       "{\n",
       "    select_(.data, .dots = lazyeval::lazy_dots(...))\n",
       "}\n",
       "```"
      ],
      "text/plain": [
       "function (.data, ...) \n",
       "{\n",
       "    select_(.data, .dots = lazyeval::lazy_dots(...))\n",
       "}\n",
       "<environment: namespace:dplyr>"
      ]
     },
     "metadata": {},
     "output_type": "display_data"
    }
   ],
   "source": [
    "select"
   ]
  },
  {
   "cell_type": "code",
   "execution_count": 106,
   "metadata": {
    "collapsed": false
   },
   "outputs": [
    {
     "data": {
      "text/plain": [
       "\n",
       "\t Simultaneous Tests for General Linear Hypotheses\n",
       "\n",
       "Multiple Comparisons of Means: Dunnett Contrasts\n",
       "\n",
       "\n",
       "Fit: aov(formula = score ~ group, data = .)\n",
       "\n",
       "Linear Hypotheses:\n",
       "            Estimate Std. Error t value Pr(>|t|)    \n",
       "g2 - C == 0   0.9750     0.6314   1.544    0.309    \n",
       "g3 - C == 0   2.6000     0.6314   4.118   <0.001 ***\n",
       "g4 - C == 0   3.4750     0.6314   5.504   <0.001 ***\n",
       "---\n",
       "Signif. codes:  0 '***' 0.001 '**' 0.01 '*' 0.05 '.' 0.1 ' ' 1\n",
       "(Adjusted p values reported -- single-step method)\n"
      ]
     },
     "metadata": {},
     "output_type": "display_data"
    }
   ],
   "source": [
    "d2 %>% \n",
    "    mutate(group = factor(group)) %>% \n",
    "    aov(score ~ group, data=.) %>% \n",
    "    multcomp::glht(linfct=multcomp::mcp(group=\"Dunnett\")) %>% summary()"
   ]
  },
  {
   "cell_type": "code",
   "execution_count": 108,
   "metadata": {
    "collapsed": false
   },
   "outputs": [
    {
     "data": {},
     "metadata": {},
     "output_type": "display_data"
    },
    {
     "data": {
      "image/png": "[encoded data removed]",
      "text/plain": [
       "plot without title"
      ]
     },
     "metadata": {},
     "output_type": "display_data"
    }
   ],
   "source": [
    "d2 %>% ggplot(aes(x = group, y = score)) + geom_boxplot()"
   ]
  },
  {
   "cell_type": "markdown",
   "metadata": {},
   "source": [
    "### 6.4.3 Bonferroni (Holm)"
   ]
  },
  {
   "cell_type": "markdown",
   "metadata": {},
   "source": [
    "表6.9"
   ]
  },
  {
   "cell_type": "code",
   "execution_count": 109,
   "metadata": {
    "collapsed": false
   },
   "outputs": [
    {
     "name": "stderr",
     "output_type": "stream",
     "text": [
      "Parsed with column specification:\n",
      "cols(\n",
      "  score = col_integer(),\n",
      "  group = col_character()\n",
      ")\n"
     ]
    },
    {
     "data": {
      "text/html": [
       "<table>\n",
       "<thead><tr><th scope=col>score</th><th scope=col>group</th></tr></thead>\n",
       "<tbody>\n",
       "\t<tr><td>58</td><td>g1</td></tr>\n",
       "\t<tr><td>52</td><td>g1</td></tr>\n",
       "\t<tr><td>72</td><td>g1</td></tr>\n",
       "\t<tr><td>60</td><td>g1</td></tr>\n",
       "\t<tr><td>67</td><td>g1</td></tr>\n",
       "\t<tr><td>62</td><td>g2</td></tr>\n",
       "</tbody>\n",
       "</table>\n"
      ],
      "text/latex": [
       "\\begin{tabular}{r|ll}\n",
       " score & group\\\\\n",
       "\\hline\n",
       "\t 58 & g1\\\\\n",
       "\t 52 & g1\\\\\n",
       "\t 72 & g1\\\\\n",
       "\t 60 & g1\\\\\n",
       "\t 67 & g1\\\\\n",
       "\t 62 & g2\\\\\n",
       "\\end{tabular}\n"
      ],
      "text/markdown": [
       "\n",
       "score | group | \n",
       "|---|---|---|---|---|---|\n",
       "| 58 | g1 | \n",
       "| 52 | g1 | \n",
       "| 72 | g1 | \n",
       "| 60 | g1 | \n",
       "| 67 | g1 | \n",
       "| 62 | g2 | \n",
       "\n",
       "\n"
      ],
      "text/plain": [
       "  score group\n",
       "1 58    g1   \n",
       "2 52    g1   \n",
       "3 72    g1   \n",
       "4 60    g1   \n",
       "5 67    g1   \n",
       "6 62    g2   "
      ]
     },
     "metadata": {},
     "output_type": "display_data"
    }
   ],
   "source": [
    "d3 <- read_csv(\"../samplecode/Rで学ぶ統計学入門図版作成用/table6-7.csv\")\n",
    "head(d3)"
   ]
  },
  {
   "cell_type": "code",
   "execution_count": 110,
   "metadata": {
    "collapsed": false,
    "scrolled": true
   },
   "outputs": [
    {
     "data": {
      "text/html": [
       "<dl>\n",
       "\t<dt>$g1</dt>\n",
       "\t\t<dd><ol class=list-inline>\n",
       "\t<li>58</li>\n",
       "\t<li>52</li>\n",
       "\t<li>72</li>\n",
       "\t<li>60</li>\n",
       "\t<li>67</li>\n",
       "</ol>\n",
       "</dd>\n",
       "\t<dt>$g2</dt>\n",
       "\t\t<dd><ol class=list-inline>\n",
       "\t<li>60</li>\n",
       "\t<li>62</li>\n",
       "\t<li>53</li>\n",
       "\t<li>74</li>\n",
       "\t<li>69</li>\n",
       "</ol>\n",
       "</dd>\n",
       "\t<dt>$g3</dt>\n",
       "\t\t<dd><ol class=list-inline>\n",
       "\t<li>65</li>\n",
       "\t<li>62</li>\n",
       "\t<li>69</li>\n",
       "\t<li>75</li>\n",
       "\t<li>84</li>\n",
       "\t<li>79</li>\n",
       "</ol>\n",
       "</dd>\n",
       "\t<dt>$g4</dt>\n",
       "\t\t<dd><ol class=list-inline>\n",
       "\t<li>77</li>\n",
       "\t<li>72</li>\n",
       "\t<li>83</li>\n",
       "\t<li>81</li>\n",
       "\t<li>91</li>\n",
       "\t<li>83</li>\n",
       "</ol>\n",
       "</dd>\n",
       "</dl>\n"
      ],
      "text/latex": [
       "\\begin{description}\n",
       "\\item[\\$g1] \\begin{enumerate*}\n",
       "\\item 58\n",
       "\\item 52\n",
       "\\item 72\n",
       "\\item 60\n",
       "\\item 67\n",
       "\\end{enumerate*}\n",
       "\n",
       "\\item[\\$g2] \\begin{enumerate*}\n",
       "\\item 60\n",
       "\\item 62\n",
       "\\item 53\n",
       "\\item 74\n",
       "\\item 69\n",
       "\\end{enumerate*}\n",
       "\n",
       "\\item[\\$g3] \\begin{enumerate*}\n",
       "\\item 65\n",
       "\\item 62\n",
       "\\item 69\n",
       "\\item 75\n",
       "\\item 84\n",
       "\\item 79\n",
       "\\end{enumerate*}\n",
       "\n",
       "\\item[\\$g4] \\begin{enumerate*}\n",
       "\\item 77\n",
       "\\item 72\n",
       "\\item 83\n",
       "\\item 81\n",
       "\\item 91\n",
       "\\item 83\n",
       "\\end{enumerate*}\n",
       "\n",
       "\\end{description}\n"
      ],
      "text/markdown": [
       "$g1\n",
       ":   1. 58\n",
       "2. 52\n",
       "3. 72\n",
       "4. 60\n",
       "5. 67\n",
       "\n",
       "\n",
       "\n",
       "$g2\n",
       ":   1. 60\n",
       "2. 62\n",
       "3. 53\n",
       "4. 74\n",
       "5. 69\n",
       "\n",
       "\n",
       "\n",
       "$g3\n",
       ":   1. 65\n",
       "2. 62\n",
       "3. 69\n",
       "4. 75\n",
       "5. 84\n",
       "6. 79\n",
       "\n",
       "\n",
       "\n",
       "$g4\n",
       ":   1. 77\n",
       "2. 72\n",
       "3. 83\n",
       "4. 81\n",
       "5. 91\n",
       "6. 83\n",
       "\n",
       "\n",
       "\n",
       "\n",
       "\n"
      ],
      "text/plain": [
       "$g1\n",
       "[1] 58 52 72 60 67\n",
       "attr(,\"na.action\")\n",
       " [1]  2  3  4  5  6  7  8  9 10 11 13 14 15 19 20 21 22\n",
       "attr(,\"class\")\n",
       "[1] \"omit\"\n",
       "\n",
       "$g2\n",
       "[1] 60 62 53 74 69\n",
       "attr(,\"na.action\")\n",
       " [1]  1  3  4  5  6  7  8  9 10 11 12 13 14 15 16 17 18\n",
       "attr(,\"class\")\n",
       "[1] \"omit\"\n",
       "\n",
       "$g3\n",
       "[1] 65 62 69 75 84 79\n",
       "attr(,\"na.action\")\n",
       " [1]  1  2  9 10 11 12 13 14 15 16 17 18 19 20 21 22\n",
       "attr(,\"class\")\n",
       "[1] \"omit\"\n",
       "\n",
       "$g4\n",
       "[1] 77 72 83 81 91 83\n",
       "attr(,\"na.action\")\n",
       " [1]  1  2  3  4  5  6  7  8 12 16 17 18 19 20 21 22\n",
       "attr(,\"class\")\n",
       "[1] \"omit\"\n"
      ]
     },
     "metadata": {},
     "output_type": "display_data"
    }
   ],
   "source": [
    "d3 %>% tibble::rownames_to_column(\"id\") %>% spread(group, score) %>% select(-id) %>% sapply(function(x){\n",
    "    na.omit(x)\n",
    "})"
   ]
  },
  {
   "cell_type": "code",
   "execution_count": 115,
   "metadata": {
    "collapsed": false
   },
   "outputs": [
    {
     "data": {},
     "metadata": {},
     "output_type": "display_data"
    },
    {
     "data": {
      "image/png": "[encoded data removed]",
      "text/plain": [
       "plot without title"
      ]
     },
     "metadata": {},
     "output_type": "display_data"
    }
   ],
   "source": [
    "d3 %>% ggplot(aes(group, score)) + geom_boxplot()"
   ]
  },
  {
   "cell_type": "markdown",
   "metadata": {},
   "source": [
    "表6.7 のデータ"
   ]
  },
  {
   "cell_type": "code",
   "execution_count": 113,
   "metadata": {
    "collapsed": false
   },
   "outputs": [
    {
     "data": {
      "text/plain": [
       "\n",
       "\tPairwise comparisons using t tests with pooled SD \n",
       "\n",
       "data:  .$score and .$group \n",
       "\n",
       "   g1      g2      g3     \n",
       "g2 0.40782 -       -      \n",
       "g3 0.11243 0.03239 -      \n",
       "g4 0.00112 0.00014 0.07800\n",
       "\n",
       "P value adjustment method: holm "
      ]
     },
     "metadata": {},
     "output_type": "display_data"
    }
   ],
   "source": [
    "d %>% {pairwise.t.test(.$score, .$group, p.adj = \"holm\")}"
   ]
  },
  {
   "cell_type": "markdown",
   "metadata": {},
   "source": [
    "表6.9 のデータ"
   ]
  },
  {
   "cell_type": "code",
   "execution_count": 114,
   "metadata": {
    "collapsed": false
   },
   "outputs": [
    {
     "data": {
      "text/plain": [
       "\n",
       "\tPairwise comparisons using t tests with pooled SD \n",
       "\n",
       "data:  .$score and .$group \n",
       "\n",
       "   g1     g2     g3    \n",
       "g2 0.7169 -      -     \n",
       "g3 0.1482 0.1894 -     \n",
       "g4 0.0037 0.0072 0.1894\n",
       "\n",
       "P value adjustment method: holm "
      ]
     },
     "metadata": {},
     "output_type": "display_data"
    }
   ],
   "source": [
    "d3 %>% {pairwise.t.test(.$score, .$group, p.adj = \"holm\")}"
   ]
  },
  {
   "cell_type": "code",
   "execution_count": 116,
   "metadata": {
    "collapsed": false
   },
   "outputs": [
    {
     "data": {
      "text/html": [
       "<ol class=list-inline>\n",
       "\t<li>'d'</li>\n",
       "\t<li>'d.pig'</li>\n",
       "\t<li>'d.stron'</li>\n",
       "\t<li>'d2'</li>\n",
       "\t<li>'d3'</li>\n",
       "\t<li>'f'</li>\n",
       "</ol>\n"
      ],
      "text/latex": [
       "\\begin{enumerate*}\n",
       "\\item 'd'\n",
       "\\item 'd.pig'\n",
       "\\item 'd.stron'\n",
       "\\item 'd2'\n",
       "\\item 'd3'\n",
       "\\item 'f'\n",
       "\\end{enumerate*}\n"
      ],
      "text/markdown": [
       "1. 'd'\n",
       "2. 'd.pig'\n",
       "3. 'd.stron'\n",
       "4. 'd2'\n",
       "5. 'd3'\n",
       "6. 'f'\n",
       "\n",
       "\n"
      ],
      "text/plain": [
       "[1] \"d\"       \"d.pig\"   \"d.stron\" \"d2\"      \"d3\"      \"f\"      "
      ]
     },
     "metadata": {},
     "output_type": "display_data"
    }
   ],
   "source": [
    "ls()"
   ]
  },
  {
   "cell_type": "markdown",
   "metadata": {},
   "source": [
    "## 演習問題\n",
    "### ex. 6.1"
   ]
  },
  {
   "cell_type": "code",
   "execution_count": 117,
   "metadata": {
    "collapsed": false
   },
   "outputs": [
    {
     "name": "stdout",
     "output_type": "stream",
     "text": [
      "Classes 'tbl_df', 'tbl' and 'data.frame':\t5 obs. of  4 variables:\n",
      " $ f1: num  60.8 57 65 58.6 61.7\n",
      " $ f2: num  68.7 67.7 74 66.3 69.8\n",
      " $ f3: num  102.6 102.1 100.2 96.5 NA\n",
      " $ f4: num  87.9 84.2 83.1 85.7 90.3\n"
     ]
    }
   ],
   "source": [
    "str(d.pig)"
   ]
  },
  {
   "cell_type": "code",
   "execution_count": 123,
   "metadata": {
    "collapsed": false
   },
   "outputs": [
    {
     "name": "stderr",
     "output_type": "stream",
     "text": [
      "Warning message:\n",
      "\"Removed 1 rows containing non-finite values (stat_boxplot).\""
     ]
    },
    {
     "data": {},
     "metadata": {},
     "output_type": "display_data"
    },
    {
     "data": {
      "image/png": "[encoded data removed]",
      "text/plain": [
       "plot without title"
      ]
     },
     "metadata": {},
     "output_type": "display_data"
    }
   ],
   "source": [
    "d.pig %>% gather(feed, weight) %>% ggplot(aes(feed, weight)) + geom_boxplot()"
   ]
  },
  {
   "cell_type": "code",
   "execution_count": 120,
   "metadata": {
    "collapsed": false
   },
   "outputs": [
    {
     "data": {
      "text/plain": [
       "  Tukey multiple comparisons of means\n",
       "    95% family-wise confidence level\n",
       "\n",
       "Fit: aov(formula = weight ~ factor(feed), data = .)\n",
       "\n",
       "$`factor(feed)`\n",
       "        diff        lwr       upr     p adj\n",
       "f2-f1   8.68   3.347895 14.012105 0.0014725\n",
       "f3-f1  39.73  34.074449 45.385551 0.0000000\n",
       "f4-f1  25.62  20.287895 30.952105 0.0000000\n",
       "f3-f2  31.05  25.394449 36.705551 0.0000000\n",
       "f4-f2  16.94  11.607895 22.272105 0.0000009\n",
       "f4-f3 -14.11 -19.765551 -8.454449 0.0000168\n"
      ]
     },
     "metadata": {},
     "output_type": "display_data"
    }
   ],
   "source": [
    "d.pig %>% gather(feed, weight) %>% aov(weight ~ factor(feed), data=.) %>% TukeyHSD()"
   ]
  },
  {
   "cell_type": "code",
   "execution_count": 121,
   "metadata": {
    "collapsed": false
   },
   "outputs": [
    {
     "data": {
      "text/plain": [
       "\n",
       "\tPairwise comparisons using t tests with pooled SD \n",
       "\n",
       "data:  .$weight and .$feed \n",
       "\n",
       "   f1      f2      f3     \n",
       "f2 0.00029 -       -      \n",
       "f3 1.6e-11 4.6e-10 -      \n",
       "f4 2.4e-09 4.7e-07 6.2e-06\n",
       "\n",
       "P value adjustment method: holm "
      ]
     },
     "metadata": {},
     "output_type": "display_data"
    }
   ],
   "source": [
    "d.pig %>% gather(feed, weight) %>% {pairwise.t.test(.$weight, .$feed, p.adj = \"holm\")}"
   ]
  },
  {
   "cell_type": "markdown",
   "metadata": {},
   "source": [
    "### ex. 6.2"
   ]
  },
  {
   "cell_type": "code",
   "execution_count": 124,
   "metadata": {
    "collapsed": false
   },
   "outputs": [
    {
     "name": "stdout",
     "output_type": "stream",
     "text": [
      "Classes 'tbl_df', 'tbl' and 'data.frame':\t22 obs. of  2 variables:\n",
      " $ score: int  58 52 72 60 67 62 53 74 69 60 ...\n",
      " $ group: chr  \"g1\" \"g1\" \"g1\" \"g1\" ...\n",
      " - attr(*, \"spec\")=List of 2\n",
      "  ..$ cols   :List of 2\n",
      "  .. ..$ score: list()\n",
      "  .. .. ..- attr(*, \"class\")= chr  \"collector_integer\" \"collector\"\n",
      "  .. ..$ group: list()\n",
      "  .. .. ..- attr(*, \"class\")= chr  \"collector_character\" \"collector\"\n",
      "  ..$ default: list()\n",
      "  .. ..- attr(*, \"class\")= chr  \"collector_guess\" \"collector\"\n",
      "  ..- attr(*, \"class\")= chr \"col_spec\"\n"
     ]
    }
   ],
   "source": [
    "str(d3)"
   ]
  },
  {
   "cell_type": "code",
   "execution_count": 126,
   "metadata": {
    "collapsed": false
   },
   "outputs": [
    {
     "data": {
      "text/plain": [
       "\n",
       "\t Simultaneous Tests for General Linear Hypotheses\n",
       "\n",
       "Multiple Comparisons of Means: Dunnett Contrasts\n",
       "\n",
       "\n",
       "Fit: aov(formula = score ~ group, data = .)\n",
       "\n",
       "Linear Hypotheses:\n",
       "            Estimate Std. Error t value Pr(>|t|)   \n",
       "g2 - C == 0    1.800      4.886   0.368  0.96524   \n",
       "g3 - C == 0   10.533      4.678   2.252  0.09025 . \n",
       "g4 - C == 0   19.367      4.678   4.140  0.00167 **\n",
       "---\n",
       "Signif. codes:  0 '***' 0.001 '**' 0.01 '*' 0.05 '.' 0.1 ' ' 1\n",
       "(Adjusted p values reported -- single-step method)\n"
      ]
     },
     "metadata": {},
     "output_type": "display_data"
    }
   ],
   "source": [
    "d3 %>% \n",
    "    mutate(group = if_else(group == \"g1\", \"C\", group)) %>% \n",
    "    mutate(group = factor(group)) %>% \n",
    "    aov(score ~ group, data=.) %>% \n",
    "    multcomp::glht(linfct=multcomp::mcp(group=\"Dunnett\")) %>% summary()"
   ]
  },
  {
   "cell_type": "code",
   "execution_count": 128,
   "metadata": {
    "collapsed": false
   },
   "outputs": [
    {
     "data": {
      "text/plain": [
       "\n",
       "\tPairwise comparisons using t tests with pooled SD \n",
       "\n",
       "data:  .$score and .$group \n",
       "\n",
       "   C      g2     g3    \n",
       "g2 0.7169 -      -     \n",
       "g3 0.1482 0.1894 -     \n",
       "g4 0.0037 0.0072 0.1894\n",
       "\n",
       "P value adjustment method: holm "
      ]
     },
     "metadata": {},
     "output_type": "display_data"
    }
   ],
   "source": [
    "d3 %>% \n",
    "    mutate(group = if_else(group == \"g1\", \"C\", group)) %>% \n",
    "    {pairwise.t.test(.$score, .$group, p.adj = \"holm\")}"
   ]
  },
  {
   "cell_type": "code",
   "execution_count": 69,
   "metadata": {
    "collapsed": false
   },
   "outputs": [
    {
     "name": "stderr",
     "output_type": "stream",
     "text": [
      "Session info -------------------------------------------------------------------\n",
      "Packages -----------------------------------------------------------------------\n"
     ]
    },
    {
     "data": {
      "text/plain": [
       " setting  value                       \n",
       " version  R version 3.3.2 (2016-10-31)\n",
       " system   x86_64, mingw32             \n",
       " ui       RTerm                       \n",
       " language en_US.UTF-8                 \n",
       " collate  Japanese_Japan.932          \n",
       " tz       Asia/Tokyo                  \n",
       " date     2017-05-21                  \n",
       "\n",
       " package    * version    date       source                            \n",
       " assertthat   0.2.0      2017-04-11 CRAN (R 3.3.2)                    \n",
       " Cairo      * 1.5-9      2015-09-26 CRAN (R 3.2.2)                    \n",
       " colorspace   1.3-2      2016-12-14 CRAN (R 3.3.3)                    \n",
       " crayon       1.3.2      2016-06-28 CRAN (R 3.3.1)                    \n",
       " DBI          0.6-1      2017-04-01 CRAN (R 3.3.3)                    \n",
       " devtools     1.12.0     2016-06-24 CRAN (R 3.3.1)                    \n",
       " digest       0.6.12     2017-01-27 CRAN (R 3.3.3)                    \n",
       " dplyr      * 0.5.0      2016-06-24 CRAN (R 3.2.5)                    \n",
       " evaluate     0.10       2016-10-11 CRAN (R 3.3.2)                    \n",
       " ggplot2    * 2.2.1      2016-12-30 CRAN (R 3.3.3)                    \n",
       " gridExtra  * 2.2.1      2016-02-29 CRAN (R 3.2.5)                    \n",
       " gtable       0.2.0      2016-02-26 CRAN (R 3.2.5)                    \n",
       " hms          0.3        2016-11-22 CRAN (R 3.3.3)                    \n",
       " IRdisplay    0.4.4      2016-08-02 CRAN (R 3.3.1)                    \n",
       " IRkernel     0.8.6.9000 2017-04-13 Github (IRkernel/IRkernel@29ae7df)\n",
       " jsonlite     1.4        2017-04-08 CRAN (R 3.3.3)                    \n",
       " lazyeval     0.2.0      2016-06-12 CRAN (R 3.2.5)                    \n",
       " magrittr     1.5        2014-11-22 CRAN (R 3.2.1)                    \n",
       " memoise      1.0.0      2016-01-29 CRAN (R 3.2.3)                    \n",
       " munsell      0.4.3      2016-02-13 CRAN (R 3.2.5)                    \n",
       " pbdZMQ       0.2-5      2016-12-18 CRAN (R 3.3.3)                    \n",
       " plyr         1.8.4      2016-06-08 CRAN (R 3.2.5)                    \n",
       " R6           2.2.0      2016-10-05 CRAN (R 3.3.2)                    \n",
       " Rcpp         0.12.10    2017-03-19 CRAN (R 3.3.3)                    \n",
       " readr      * 1.1.0      2017-03-22 CRAN (R 3.3.3)                    \n",
       " repr         0.12.0     2017-04-07 CRAN (R 3.3.3)                    \n",
       " scales       0.4.1      2016-11-09 CRAN (R 3.3.2)                    \n",
       " stringi      1.1.5      2017-04-07 CRAN (R 3.3.3)                    \n",
       " stringr      1.2.0      2017-02-18 CRAN (R 3.3.3)                    \n",
       " tibble       1.3.0      2017-04-01 CRAN (R 3.3.3)                    \n",
       " tidyr      * 0.6.1      2017-01-10 CRAN (R 3.3.3)                    \n",
       " uuid         0.1-2      2015-07-28 CRAN (R 3.3.1)                    \n",
       " withr        1.0.2      2016-06-20 CRAN (R 3.2.5)                    "
      ]
     },
     "metadata": {},
     "output_type": "display_data"
    }
   ],
   "source": [
    "devtools::session_info()"
   ]
  }
 ],
 "metadata": {
  "anaconda-cloud": {},
  "kernelspec": {
   "display_name": "R",
   "language": "R",
   "name": "ir"
  },
  "language_info": {
   "codemirror_mode": "r",
   "file_extension": ".r",
   "mimetype": "text/x-r-source",
   "name": "R",
   "pygments_lexer": "r",
   "version": "3.3.2"
  }
 },
 "nbformat": 4,
 "nbformat_minor": 1
}
