{
 "cells": [
  {
   "cell_type": "markdown",
   "metadata": {
    "deletable": true,
    "editable": true
   },
   "source": [
    "# 11章"
   ]
  },
  {
   "cell_type": "markdown",
   "metadata": {
    "deletable": true,
    "editable": true
   },
   "source": [
    "## 11.1"
   ]
  },
  {
   "cell_type": "code",
   "execution_count": 1,
   "metadata": {
    "collapsed": false,
    "deletable": true,
    "editable": true
   },
   "outputs": [
    {
     "name": "stderr",
     "output_type": "stream",
     "text": [
      "Parsed with column specification:\n",
      "cols(\n",
      "  x = col_double(),\n",
      "  y = col_double(),\n",
      "  block = col_character()\n",
      ")\n"
     ]
    }
   ],
   "source": [
    "d1 <- readr::read_csv(\"../samplecode/Rで学ぶ統計学入門図版作成用/table11-1.csv\")"
   ]
  },
  {
   "cell_type": "code",
   "execution_count": 2,
   "metadata": {
    "collapsed": false,
    "deletable": true,
    "editable": true
   },
   "outputs": [
    {
     "data": {
      "text/html": [
       "<table>\n",
       "<thead><tr><th scope=col>x</th><th scope=col>y</th><th scope=col>block</th></tr></thead>\n",
       "<tbody>\n",
       "\t<tr><td>1.0 </td><td> 9.0</td><td>a   </td></tr>\n",
       "\t<tr><td>1.5 </td><td> 8.3</td><td>a   </td></tr>\n",
       "\t<tr><td>2.1 </td><td>10.5</td><td>a   </td></tr>\n",
       "\t<tr><td>2.7 </td><td> 9.7</td><td>a   </td></tr>\n",
       "\t<tr><td>3.4 </td><td>10.2</td><td>a   </td></tr>\n",
       "\t<tr><td>3.9 </td><td>11.8</td><td>a   </td></tr>\n",
       "</tbody>\n",
       "</table>\n"
      ],
      "text/latex": [
       "\\begin{tabular}{r|lll}\n",
       " x & y & block\\\\\n",
       "\\hline\n",
       "\t 1.0  &  9.0 & a   \\\\\n",
       "\t 1.5  &  8.3 & a   \\\\\n",
       "\t 2.1  & 10.5 & a   \\\\\n",
       "\t 2.7  &  9.7 & a   \\\\\n",
       "\t 3.4  & 10.2 & a   \\\\\n",
       "\t 3.9  & 11.8 & a   \\\\\n",
       "\\end{tabular}\n"
      ],
      "text/markdown": [
       "\n",
       "x | y | block | \n",
       "|---|---|---|---|---|---|\n",
       "| 1.0  |  9.0 | a    | \n",
       "| 1.5  |  8.3 | a    | \n",
       "| 2.1  | 10.5 | a    | \n",
       "| 2.7  |  9.7 | a    | \n",
       "| 3.4  | 10.2 | a    | \n",
       "| 3.9  | 11.8 | a    | \n",
       "\n",
       "\n"
      ],
      "text/plain": [
       "  x   y    block\n",
       "1 1.0  9.0 a    \n",
       "2 1.5  8.3 a    \n",
       "3 2.1 10.5 a    \n",
       "4 2.7  9.7 a    \n",
       "5 3.4 10.2 a    \n",
       "6 3.9 11.8 a    "
      ]
     },
     "metadata": {},
     "output_type": "display_data"
    }
   ],
   "source": [
    "head(d1)"
   ]
  },
  {
   "cell_type": "code",
   "execution_count": 3,
   "metadata": {
    "collapsed": false,
    "deletable": true,
    "editable": true
   },
   "outputs": [
    {
     "name": "stdout",
     "output_type": "stream",
     "text": [
      "Classes 'tbl_df', 'tbl' and 'data.frame':\t18 obs. of  3 variables:\n",
      " $ x    : num  1 1.5 2.1 2.7 3.4 3.9 3 4.7 3.8 6 ...\n",
      " $ y    : num  9 8.3 10.5 9.7 10.2 11.8 6.9 7.3 6.2 8.9 ...\n",
      " $ block: chr  \"a\" \"a\" \"a\" \"a\" ...\n",
      " - attr(*, \"spec\")=List of 2\n",
      "  ..$ cols   :List of 3\n",
      "  .. ..$ x    : list()\n",
      "  .. .. ..- attr(*, \"class\")= chr  \"collector_double\" \"collector\"\n",
      "  .. ..$ y    : list()\n",
      "  .. .. ..- attr(*, \"class\")= chr  \"collector_double\" \"collector\"\n",
      "  .. ..$ block: list()\n",
      "  .. .. ..- attr(*, \"class\")= chr  \"collector_character\" \"collector\"\n",
      "  ..$ default: list()\n",
      "  .. ..- attr(*, \"class\")= chr  \"collector_guess\" \"collector\"\n",
      "  ..- attr(*, \"class\")= chr \"col_spec\"\n"
     ]
    }
   ],
   "source": [
    "str(d1)"
   ]
  },
  {
   "cell_type": "code",
   "execution_count": 4,
   "metadata": {
    "collapsed": false,
    "deletable": true,
    "editable": true
   },
   "outputs": [
    {
     "name": "stderr",
     "output_type": "stream",
     "text": [
      "Warning message:\n",
      "\"package 'ggplot2' was built under R version 3.3.3\""
     ]
    }
   ],
   "source": [
    "library(ggplot2)"
   ]
  },
  {
   "cell_type": "code",
   "execution_count": 5,
   "metadata": {
    "collapsed": false,
    "deletable": true,
    "editable": true
   },
   "outputs": [
    {
     "name": "stderr",
     "output_type": "stream",
     "text": [
      "Warning message:\n",
      "\"package 'dplyr' was built under R version 3.3.3\"\n",
      "Attaching package: 'dplyr'\n",
      "\n",
      "The following objects are masked from 'package:stats':\n",
      "\n",
      "    filter, lag\n",
      "\n",
      "The following objects are masked from 'package:base':\n",
      "\n",
      "    intersect, setdiff, setequal, union\n",
      "\n"
     ]
    }
   ],
   "source": [
    "library(dplyr)"
   ]
  },
  {
   "cell_type": "code",
   "execution_count": 6,
   "metadata": {
    "collapsed": false,
    "deletable": true,
    "editable": true
   },
   "outputs": [
    {
     "name": "stderr",
     "output_type": "stream",
     "text": [
      "Warning message:\n",
      "\"package 'tidyr' was built under R version 3.3.3\""
     ]
    }
   ],
   "source": [
    "library(tidyr)"
   ]
  },
  {
   "cell_type": "code",
   "execution_count": 8,
   "metadata": {
    "collapsed": true,
    "deletable": true,
    "editable": true
   },
   "outputs": [],
   "source": [
    "options(repr.plot.width = 4, repr.plot.height=4)"
   ]
  },
  {
   "cell_type": "code",
   "execution_count": 9,
   "metadata": {
    "collapsed": false,
    "deletable": true,
    "editable": true
   },
   "outputs": [
    {
     "data": {},
     "metadata": {},
     "output_type": "display_data"
    },
    {
     "data": {
      "image/png": "[encoded data removed]",
      "text/plain": [
       "plot without title"
      ]
     },
     "metadata": {},
     "output_type": "display_data"
    }
   ],
   "source": [
    "ggplot(data = d1, mapping=aes(x, y, group=block, colour=block)) + geom_point()"
   ]
  },
  {
   "cell_type": "code",
   "execution_count": 10,
   "metadata": {
    "collapsed": false,
    "deletable": true,
    "editable": true
   },
   "outputs": [
    {
     "name": "stderr",
     "output_type": "stream",
     "text": [
      "Loading required package: Matrix\n",
      "\n",
      "Attaching package: 'Matrix'\n",
      "\n",
      "The following object is masked from 'package:tidyr':\n",
      "\n",
      "    expand\n",
      "\n",
      "\n",
      "Attaching package: 'lme4'\n",
      "\n",
      "The following object is masked from 'package:stats':\n",
      "\n",
      "    sigma\n",
      "\n"
     ]
    }
   ],
   "source": [
    "library(\"lme4\")"
   ]
  },
  {
   "cell_type": "markdown",
   "metadata": {
    "deletable": true,
    "editable": true
   },
   "source": [
    "`glmer()` を `family=gaussian (identity link)` を使うのなら `lmer()` を使う"
   ]
  },
  {
   "cell_type": "code",
   "execution_count": 11,
   "metadata": {
    "collapsed": false,
    "deletable": true,
    "editable": true,
    "scrolled": true
   },
   "outputs": [
    {
     "name": "stderr",
     "output_type": "stream",
     "text": [
      "Warning message in glmer(y ~ x + (1 | block), data = d1, family = gaussian(link = identity)):\n",
      "\"calling glmer() with family=gaussian (identity link) as a shortcut to lmer() is deprecated; please call lmer() directly\""
     ]
    }
   ],
   "source": [
    "res.d1.1 <- glmer(y ~ x + (1 | block), data = d1, family=gaussian(link=identity))"
   ]
  },
  {
   "cell_type": "code",
   "execution_count": 12,
   "metadata": {
    "collapsed": true,
    "deletable": true,
    "editable": true
   },
   "outputs": [],
   "source": [
    "res.d1.2 <- lmer(y ~ x + (1 | block), data=d1)"
   ]
  },
  {
   "cell_type": "code",
   "execution_count": 14,
   "metadata": {
    "collapsed": false,
    "deletable": true,
    "editable": true
   },
   "outputs": [
    {
     "data": {
      "text/plain": [
       "Linear mixed model fit by REML ['lmerMod']\n",
       "Formula: y ~ x + (1 | block)\n",
       "   Data: d1\n",
       "\n",
       "REML criterion at convergence: 45.9\n",
       "\n",
       "Scaled residuals: \n",
       "    Min      1Q  Median      3Q     Max \n",
       "-1.6493 -0.5949  0.1023  0.6671  1.5821 \n",
       "\n",
       "Random effects:\n",
       " Groups   Name        Variance Std.Dev.\n",
       " block    (Intercept) 11.0023  3.3170  \n",
       " Residual              0.3631  0.6026  \n",
       "Number of obs: 18, groups:  block, 3\n",
       "\n",
       "Fixed effects:\n",
       "            Estimate Std. Error t value\n",
       "(Intercept)   4.8738     2.0063   2.429\n",
       "x             0.6470     0.1085   5.962\n",
       "\n",
       "Correlation of Fixed Effects:\n",
       "  (Intr)\n",
       "x -0.290"
      ]
     },
     "metadata": {},
     "output_type": "display_data"
    }
   ],
   "source": [
    "summary(res.d1.1)"
   ]
  },
  {
   "cell_type": "code",
   "execution_count": 15,
   "metadata": {
    "collapsed": false,
    "deletable": true,
    "editable": true
   },
   "outputs": [
    {
     "data": {
      "text/plain": [
       "Linear mixed model fit by REML ['lmerMod']\n",
       "Formula: y ~ x + (1 | block)\n",
       "   Data: d1\n",
       "\n",
       "REML criterion at convergence: 45.9\n",
       "\n",
       "Scaled residuals: \n",
       "    Min      1Q  Median      3Q     Max \n",
       "-1.6493 -0.5949  0.1023  0.6671  1.5821 \n",
       "\n",
       "Random effects:\n",
       " Groups   Name        Variance Std.Dev.\n",
       " block    (Intercept) 11.0023  3.3170  \n",
       " Residual              0.3631  0.6026  \n",
       "Number of obs: 18, groups:  block, 3\n",
       "\n",
       "Fixed effects:\n",
       "            Estimate Std. Error t value\n",
       "(Intercept)   4.8738     2.0063   2.429\n",
       "x             0.6470     0.1085   5.962\n",
       "\n",
       "Correlation of Fixed Effects:\n",
       "  (Intr)\n",
       "x -0.290"
      ]
     },
     "metadata": {},
     "output_type": "display_data"
    }
   ],
   "source": [
    "summary(res.d1.2)"
   ]
  },
  {
   "cell_type": "markdown",
   "metadata": {
    "deletable": true,
    "editable": true
   },
   "source": [
    "## 11.2"
   ]
  },
  {
   "cell_type": "code",
   "execution_count": 1,
   "metadata": {
    "collapsed": false,
    "deletable": true,
    "editable": true,
    "scrolled": true
   },
   "outputs": [
    {
     "name": "stderr",
     "output_type": "stream",
     "text": [
      "Parsed with column specification:\n",
      "cols(\n",
      "  ID = col_integer(),\n",
      "  rep = col_integer(),\n",
      "  y = col_integer(),\n",
      "  x = col_integer()\n",
      ")\n"
     ]
    }
   ],
   "source": [
    "d2 <- readr::read_csv(\"../samplecode/Rで学ぶ統計学入門図版作成用/table11-2.csv\")"
   ]
  },
  {
   "cell_type": "code",
   "execution_count": 17,
   "metadata": {
    "collapsed": false,
    "deletable": true,
    "editable": true
   },
   "outputs": [
    {
     "data": {
      "text/html": [
       "<table>\n",
       "<thead><tr><th scope=col>ID</th><th scope=col>rep</th><th scope=col>y</th><th scope=col>x</th></tr></thead>\n",
       "<tbody>\n",
       "\t<tr><td>1</td><td>1</td><td>0</td><td>1</td></tr>\n",
       "\t<tr><td>1</td><td>2</td><td>0</td><td>1</td></tr>\n",
       "\t<tr><td>1</td><td>3</td><td>0</td><td>1</td></tr>\n",
       "\t<tr><td>1</td><td>4</td><td>1</td><td>1</td></tr>\n",
       "\t<tr><td>2</td><td>1</td><td>0</td><td>1</td></tr>\n",
       "\t<tr><td>2</td><td>2</td><td>1</td><td>1</td></tr>\n",
       "</tbody>\n",
       "</table>\n"
      ],
      "text/latex": [
       "\\begin{tabular}{r|llll}\n",
       " ID & rep & y & x\\\\\n",
       "\\hline\n",
       "\t 1 & 1 & 0 & 1\\\\\n",
       "\t 1 & 2 & 0 & 1\\\\\n",
       "\t 1 & 3 & 0 & 1\\\\\n",
       "\t 1 & 4 & 1 & 1\\\\\n",
       "\t 2 & 1 & 0 & 1\\\\\n",
       "\t 2 & 2 & 1 & 1\\\\\n",
       "\\end{tabular}\n"
      ],
      "text/markdown": [
       "\n",
       "ID | rep | y | x | \n",
       "|---|---|---|---|---|---|\n",
       "| 1 | 1 | 0 | 1 | \n",
       "| 1 | 2 | 0 | 1 | \n",
       "| 1 | 3 | 0 | 1 | \n",
       "| 1 | 4 | 1 | 1 | \n",
       "| 2 | 1 | 0 | 1 | \n",
       "| 2 | 2 | 1 | 1 | \n",
       "\n",
       "\n"
      ],
      "text/plain": [
       "  ID rep y x\n",
       "1 1  1   0 1\n",
       "2 1  2   0 1\n",
       "3 1  3   0 1\n",
       "4 1  4   1 1\n",
       "5 2  1   0 1\n",
       "6 2  2   1 1"
      ]
     },
     "metadata": {},
     "output_type": "display_data"
    }
   ],
   "source": [
    "head(d2)"
   ]
  },
  {
   "cell_type": "code",
   "execution_count": 18,
   "metadata": {
    "collapsed": false,
    "deletable": true,
    "editable": true
   },
   "outputs": [
    {
     "name": "stdout",
     "output_type": "stream",
     "text": [
      "Classes 'tbl_df', 'tbl' and 'data.frame':\t40 obs. of  4 variables:\n",
      " $ ID : int  1 1 1 1 2 2 2 2 3 3 ...\n",
      " $ rep: int  1 2 3 4 1 2 3 4 1 2 ...\n",
      " $ y  : int  0 0 0 1 0 1 0 0 1 0 ...\n",
      " $ x  : int  1 1 1 1 1 1 1 1 2 2 ...\n",
      " - attr(*, \"spec\")=List of 2\n",
      "  ..$ cols   :List of 4\n",
      "  .. ..$ ID : list()\n",
      "  .. .. ..- attr(*, \"class\")= chr  \"collector_integer\" \"collector\"\n",
      "  .. ..$ rep: list()\n",
      "  .. .. ..- attr(*, \"class\")= chr  \"collector_integer\" \"collector\"\n",
      "  .. ..$ y  : list()\n",
      "  .. .. ..- attr(*, \"class\")= chr  \"collector_integer\" \"collector\"\n",
      "  .. ..$ x  : list()\n",
      "  .. .. ..- attr(*, \"class\")= chr  \"collector_integer\" \"collector\"\n",
      "  ..$ default: list()\n",
      "  .. ..- attr(*, \"class\")= chr  \"collector_guess\" \"collector\"\n",
      "  ..- attr(*, \"class\")= chr \"col_spec\"\n"
     ]
    }
   ],
   "source": [
    "str(d2)"
   ]
  },
  {
   "cell_type": "code",
   "execution_count": 22,
   "metadata": {
    "collapsed": false,
    "deletable": true,
    "editable": true
   },
   "outputs": [
    {
     "data": {},
     "metadata": {},
     "output_type": "display_data"
    },
    {
     "data": {
      "image/png": "[encoded data removed]",
      "text/plain": [
       "plot without title"
      ]
     },
     "metadata": {},
     "output_type": "display_data"
    }
   ],
   "source": [
    "d2 %>% group_by(ID) %>% summarise_at(.vars = vars(y, x), .funs = funs(mean)) %>% \n",
    "    ungroup() %>% ggplot(aes(x, y)) + geom_point()"
   ]
  },
  {
   "cell_type": "code",
   "execution_count": 64,
   "metadata": {
    "collapsed": false,
    "deletable": true,
    "editable": true
   },
   "outputs": [
    {
     "data": {},
     "metadata": {},
     "output_type": "display_data"
    },
    {
     "data": {
      "image/png": "[encoded data removed]",
      "text/plain": [
       "plot without title"
      ]
     },
     "metadata": {},
     "output_type": "display_data"
    }
   ],
   "source": [
    "gp.d2 <- d2 %>% ggplot(aes(x, y)) + geom_jitter(width=0, height = 0.05, alpha=0.5) \n",
    "gp.d2"
   ]
  },
  {
   "cell_type": "code",
   "execution_count": 3,
   "metadata": {
    "collapsed": true,
    "deletable": true,
    "editable": true
   },
   "outputs": [],
   "source": [
    "library(\"glmmML\")"
   ]
  },
  {
   "cell_type": "code",
   "execution_count": 35,
   "metadata": {
    "collapsed": true,
    "deletable": true,
    "editable": true
   },
   "outputs": [],
   "source": [
    "res.d2.1 <- glmer(y ~ x + (1 | ID), data=d2, family=binomial(link = logit))"
   ]
  },
  {
   "cell_type": "markdown",
   "metadata": {
    "deletable": true,
    "editable": true
   },
   "source": [
    "Random effects の値が本文と違う"
   ]
  },
  {
   "cell_type": "code",
   "execution_count": 36,
   "metadata": {
    "collapsed": false,
    "deletable": true,
    "editable": true
   },
   "outputs": [
    {
     "data": {
      "text/plain": [
       "Generalized linear mixed model fit by maximum likelihood (Laplace\n",
       "  Approximation) [glmerMod]\n",
       " Family: binomial  ( logit )\n",
       "Formula: y ~ x + (1 | ID)\n",
       "   Data: d2\n",
       "\n",
       "     AIC      BIC   logLik deviance df.resid \n",
       "    53.2     58.3    -23.6     47.2       37 \n",
       "\n",
       "Scaled residuals: \n",
       "    Min      1Q  Median      3Q     Max \n",
       "-2.4104 -0.7366  0.4149  0.7849  1.4851 \n",
       "\n",
       "Random effects:\n",
       " Groups Name        Variance  Std.Dev. \n",
       " ID     (Intercept) 1.985e-18 1.409e-09\n",
       "Number of obs: 40, groups:  ID, 10\n",
       "\n",
       "Fixed effects:\n",
       "            Estimate Std. Error z value Pr(>|z|)  \n",
       "(Intercept)  -1.4286     0.8201  -1.742   0.0815 .\n",
       "x             0.6376     0.2684   2.376   0.0175 *\n",
       "---\n",
       "Signif. codes:  0 '***' 0.001 '**' 0.01 '*' 0.05 '.' 0.1 ' ' 1\n",
       "\n",
       "Correlation of Fixed Effects:\n",
       "  (Intr)\n",
       "x -0.903"
      ]
     },
     "metadata": {},
     "output_type": "display_data"
    }
   ],
   "source": [
    "summary(res.d2.1)"
   ]
  },
  {
   "cell_type": "markdown",
   "metadata": {
    "deletable": true,
    "editable": true
   },
   "source": [
    "`glmmML()` のデフォルトは ラプラス近似．\n",
    "\n",
    "`method=\"ghq\"` すると，ガウス・エルミート積分法 "
   ]
  },
  {
   "cell_type": "code",
   "execution_count": 33,
   "metadata": {
    "collapsed": true,
    "deletable": true,
    "editable": true
   },
   "outputs": [],
   "source": [
    "res.d2.2 <- glmmML(y ~ x, data=d2, cluster=ID, family=binomial(link=logit))"
   ]
  },
  {
   "cell_type": "code",
   "execution_count": 34,
   "metadata": {
    "collapsed": false,
    "deletable": true,
    "editable": true,
    "scrolled": true
   },
   "outputs": [
    {
     "name": "stdout",
     "output_type": "stream",
     "text": [
      "\n",
      "Call:  glmmML(formula = y ~ x, family = binomial(link = logit), data = d2,      cluster = ID) \n",
      "\n",
      "\n",
      "               coef se(coef)      z Pr(>|z|)\n",
      "(Intercept) -1.4285   0.8201 -1.742   0.0815\n",
      "x            0.6376   0.2684  2.376   0.0175\n",
      "\n",
      "Scale parameter in mixing distribution:  5.585e-05 gaussian \n",
      "Std. Error:                              0.7823 \n",
      "\n",
      "        LR p-value for H_0: sigma = 0:  0.5 \n",
      "\n",
      "Residual deviance: 47.2 on 37 degrees of freedom \tAIC: 53.2 \n"
     ]
    }
   ],
   "source": [
    "summary(res.d2.2)"
   ]
  },
  {
   "cell_type": "code",
   "execution_count": 4,
   "metadata": {
    "collapsed": false,
    "deletable": true,
    "editable": true
   },
   "outputs": [
    {
     "name": "stdout",
     "output_type": "stream",
     "text": [
      "\n",
      "Call:  glmmML(formula = y ~ x, family = binomial(link = logit), data = d2,      cluster = ID, method = \"ghq\") \n",
      "\n",
      "\n",
      "               coef se(coef)      z Pr(>|z|)\n",
      "(Intercept) -1.4285   0.8201 -1.742   0.0815\n",
      "x            0.6376   0.2684  2.376   0.0175\n",
      "\n",
      "Scale parameter in mixing distribution:  8.903e-05 gaussian \n",
      "Std. Error:                              0.7822 \n",
      "\n",
      "        LR p-value for H_0: sigma = 0:  0.5 \n",
      "\n",
      "Residual deviance: 47.2 on 37 degrees of freedom \tAIC: 53.2 \n"
     ]
    }
   ],
   "source": [
    "res.d2.2.ghq <- glmmML(y ~ x, data=d2, cluster=ID, family=binomial(link=logit), method=\"ghq\")\n",
    "summary(res.d2.2.ghq)"
   ]
  },
  {
   "cell_type": "code",
   "execution_count": 100,
   "metadata": {
    "collapsed": false,
    "deletable": true,
    "editable": true
   },
   "outputs": [
    {
     "data": {
      "text/html": [
       "<dl class=dl-horizontal>\n",
       "\t<dt>(Intercept)</dt>\n",
       "\t\t<dd>-1.42850739455501</dd>\n",
       "\t<dt>x</dt>\n",
       "\t\t<dd>0.637639333471179</dd>\n",
       "</dl>\n"
      ],
      "text/latex": [
       "\\begin{description*}\n",
       "\\item[(Intercept)] -1.42850739455501\n",
       "\\item[x] 0.637639333471179\n",
       "\\end{description*}\n"
      ],
      "text/markdown": [
       "(Intercept)\n",
       ":   -1.42850739455501x\n",
       ":   0.637639333471179\n",
       "\n"
      ],
      "text/plain": [
       "(Intercept)           x \n",
       " -1.4285074   0.6376393 "
      ]
     },
     "metadata": {},
     "output_type": "display_data"
    }
   ],
   "source": [
    "coef(res.d2.2)"
   ]
  },
  {
   "cell_type": "code",
   "execution_count": 101,
   "metadata": {
    "collapsed": false,
    "deletable": true,
    "editable": true
   },
   "outputs": [
    {
     "data": {
      "text/html": [
       "<table>\n",
       "<thead><tr><th scope=col>x</th><th scope=col>y1</th><th scope=col>y2</th></tr></thead>\n",
       "<tbody>\n",
       "\t<tr><td>0.00     </td><td>0.1933185</td><td>0.1933314</td></tr>\n",
       "\t<tr><td>0.01     </td><td>0.1943148</td><td>0.1943277</td></tr>\n",
       "\t<tr><td>0.02     </td><td>0.1953150</td><td>0.1953280</td></tr>\n",
       "\t<tr><td>0.03     </td><td>0.1963191</td><td>0.1963321</td></tr>\n",
       "\t<tr><td>0.04     </td><td>0.1973272</td><td>0.1973402</td></tr>\n",
       "\t<tr><td>0.05     </td><td>0.1983391</td><td>0.1983522</td></tr>\n",
       "</tbody>\n",
       "</table>\n"
      ],
      "text/latex": [
       "\\begin{tabular}{r|lll}\n",
       " x & y1 & y2\\\\\n",
       "\\hline\n",
       "\t 0.00      & 0.1933185 & 0.1933314\\\\\n",
       "\t 0.01      & 0.1943148 & 0.1943277\\\\\n",
       "\t 0.02      & 0.1953150 & 0.1953280\\\\\n",
       "\t 0.03      & 0.1963191 & 0.1963321\\\\\n",
       "\t 0.04      & 0.1973272 & 0.1973402\\\\\n",
       "\t 0.05      & 0.1983391 & 0.1983522\\\\\n",
       "\\end{tabular}\n"
      ],
      "text/markdown": [
       "\n",
       "x | y1 | y2 | \n",
       "|---|---|---|---|---|---|\n",
       "| 0.00      | 0.1933185 | 0.1933314 | \n",
       "| 0.01      | 0.1943148 | 0.1943277 | \n",
       "| 0.02      | 0.1953150 | 0.1953280 | \n",
       "| 0.03      | 0.1963191 | 0.1963321 | \n",
       "| 0.04      | 0.1973272 | 0.1973402 | \n",
       "| 0.05      | 0.1983391 | 0.1983522 | \n",
       "\n",
       "\n"
      ],
      "text/plain": [
       "  x    y1        y2       \n",
       "1 0.00 0.1933185 0.1933314\n",
       "2 0.01 0.1943148 0.1943277\n",
       "3 0.02 0.1953150 0.1953280\n",
       "4 0.03 0.1963191 0.1963321\n",
       "5 0.04 0.1973272 0.1973402\n",
       "6 0.05 0.1983391 0.1983522"
      ]
     },
     "metadata": {},
     "output_type": "display_data"
    }
   ],
   "source": [
    "d2.pred <- data.frame(x = seq(0, 5, 0.01)) %>% \n",
    "    mutate(y1 = 1 / (1 + exp(-(coef(summary(res.d2.1))[\"(Intercept)\", \"Estimate\"] + \n",
    "                               coef(summary(res.d2.1))[\"x\", \"Estimate\"] * x))), \n",
    "          y2 = 1 / (1 + exp(-(coef(res.d2.2)[\"(Intercept)\"] + \n",
    "                               coef(res.d2.2)[\"x\"] * x)))\n",
    "          )\n",
    "head(d2.pred)"
   ]
  },
  {
   "cell_type": "code",
   "execution_count": 102,
   "metadata": {
    "collapsed": false,
    "deletable": true,
    "editable": true
   },
   "outputs": [
    {
     "data": {
      "text/plain": [
       "mapping: x = x, y = y, group = func, linetype = func \n",
       "geom_line: na.rm = FALSE\n",
       "stat_identity: na.rm = FALSE\n",
       "position_identity "
      ]
     },
     "metadata": {},
     "output_type": "display_data"
    }
   ],
   "source": [
    "gp.d2.pred <- d2.pred %>% gather(func, y, -x) %>% geom_line(data=., mapping=aes(x, y, group=func, linetype=func), alpha=0.5)\n",
    "gp.d2.pred"
   ]
  },
  {
   "cell_type": "code",
   "execution_count": 83,
   "metadata": {
    "collapsed": true,
    "deletable": true,
    "editable": true
   },
   "outputs": [],
   "source": [
    "options(repr.plot.width=5)"
   ]
  },
  {
   "cell_type": "code",
   "execution_count": 103,
   "metadata": {
    "collapsed": false,
    "deletable": true,
    "editable": true
   },
   "outputs": [
    {
     "data": {},
     "metadata": {},
     "output_type": "display_data"
    },
    {
     "data": {
      "image/png": "[encoded data removed]",
      "text/plain": [
       "plot without title"
      ]
     },
     "metadata": {},
     "output_type": "display_data"
    }
   ],
   "source": [
    "gp.d2 + gp.d2.pred"
   ]
  },
  {
   "cell_type": "markdown",
   "metadata": {
    "deletable": true,
    "editable": true
   },
   "source": [
    "## 11.3"
   ]
  },
  {
   "cell_type": "markdown",
   "metadata": {},
   "source": [
    "寄生蜂"
   ]
  },
  {
   "cell_type": "code",
   "execution_count": 85,
   "metadata": {
    "collapsed": false,
    "deletable": true,
    "editable": true
   },
   "outputs": [
    {
     "name": "stderr",
     "output_type": "stream",
     "text": [
      "Parsed with column specification:\n",
      "cols(\n",
      "  mother = col_integer(),\n",
      "  wt = col_double(),\n",
      "  y = col_integer()\n",
      ")\n"
     ]
    }
   ],
   "source": [
    "d3 <- readr::read_csv(\"../samplecode/Rで学ぶ統計学入門図版作成用//table11-3.csv\")"
   ]
  },
  {
   "cell_type": "code",
   "execution_count": 86,
   "metadata": {
    "collapsed": false,
    "deletable": true,
    "editable": true
   },
   "outputs": [
    {
     "data": {
      "text/html": [
       "<table>\n",
       "<thead><tr><th scope=col>mother</th><th scope=col>wt</th><th scope=col>y</th></tr></thead>\n",
       "<tbody>\n",
       "\t<tr><td>1   </td><td>0.28</td><td>1   </td></tr>\n",
       "\t<tr><td>1   </td><td>0.31</td><td>1   </td></tr>\n",
       "\t<tr><td>1   </td><td>0.15</td><td>1   </td></tr>\n",
       "\t<tr><td>1   </td><td>0.36</td><td>0   </td></tr>\n",
       "\t<tr><td>2   </td><td>0.21</td><td>1   </td></tr>\n",
       "\t<tr><td>2   </td><td>0.17</td><td>1   </td></tr>\n",
       "</tbody>\n",
       "</table>\n"
      ],
      "text/latex": [
       "\\begin{tabular}{r|lll}\n",
       " mother & wt & y\\\\\n",
       "\\hline\n",
       "\t 1    & 0.28 & 1   \\\\\n",
       "\t 1    & 0.31 & 1   \\\\\n",
       "\t 1    & 0.15 & 1   \\\\\n",
       "\t 1    & 0.36 & 0   \\\\\n",
       "\t 2    & 0.21 & 1   \\\\\n",
       "\t 2    & 0.17 & 1   \\\\\n",
       "\\end{tabular}\n"
      ],
      "text/markdown": [
       "\n",
       "mother | wt | y | \n",
       "|---|---|---|---|---|---|\n",
       "| 1    | 0.28 | 1    | \n",
       "| 1    | 0.31 | 1    | \n",
       "| 1    | 0.15 | 1    | \n",
       "| 1    | 0.36 | 0    | \n",
       "| 2    | 0.21 | 1    | \n",
       "| 2    | 0.17 | 1    | \n",
       "\n",
       "\n"
      ],
      "text/plain": [
       "  mother wt   y\n",
       "1 1      0.28 1\n",
       "2 1      0.31 1\n",
       "3 1      0.15 1\n",
       "4 1      0.36 0\n",
       "5 2      0.21 1\n",
       "6 2      0.17 1"
      ]
     },
     "metadata": {},
     "output_type": "display_data"
    }
   ],
   "source": [
    "head(d3)"
   ]
  },
  {
   "cell_type": "code",
   "execution_count": 87,
   "metadata": {
    "collapsed": false,
    "deletable": true,
    "editable": true
   },
   "outputs": [
    {
     "name": "stdout",
     "output_type": "stream",
     "text": [
      "Classes 'tbl_df', 'tbl' and 'data.frame':\t48 obs. of  3 variables:\n",
      " $ mother: int  1 1 1 1 2 2 2 2 3 3 ...\n",
      " $ wt    : num  0.28 0.31 0.15 0.36 0.21 0.17 0.16 0.41 0.22 0.45 ...\n",
      " $ y     : int  1 1 1 0 1 1 1 0 1 1 ...\n",
      " - attr(*, \"spec\")=List of 2\n",
      "  ..$ cols   :List of 3\n",
      "  .. ..$ mother: list()\n",
      "  .. .. ..- attr(*, \"class\")= chr  \"collector_integer\" \"collector\"\n",
      "  .. ..$ wt    : list()\n",
      "  .. .. ..- attr(*, \"class\")= chr  \"collector_double\" \"collector\"\n",
      "  .. ..$ y     : list()\n",
      "  .. .. ..- attr(*, \"class\")= chr  \"collector_integer\" \"collector\"\n",
      "  ..$ default: list()\n",
      "  .. ..- attr(*, \"class\")= chr  \"collector_guess\" \"collector\"\n",
      "  ..- attr(*, \"class\")= chr \"col_spec\"\n"
     ]
    }
   ],
   "source": [
    "str(d3)"
   ]
  },
  {
   "cell_type": "code",
   "execution_count": 94,
   "metadata": {
    "collapsed": false,
    "deletable": true,
    "editable": true
   },
   "outputs": [
    {
     "data": {},
     "metadata": {},
     "output_type": "display_data"
    },
    {
     "data": {
      "image/png": "[encoded data removed]",
      "text/plain": [
       "plot without title"
      ]
     },
     "metadata": {},
     "output_type": "display_data"
    }
   ],
   "source": [
    "gp.d3 <- ggplot(d3, aes(wt, y)) + geom_point()\n",
    "gp.d3"
   ]
  },
  {
   "cell_type": "code",
   "execution_count": 89,
   "metadata": {
    "collapsed": false,
    "deletable": true,
    "editable": true
   },
   "outputs": [],
   "source": [
    "res.d3.1 <- glmer(cbind(y, 1-y) ~ wt + (1 | mother), data=d3, family=binomial(link=logit))"
   ]
  },
  {
   "cell_type": "code",
   "execution_count": 113,
   "metadata": {
    "collapsed": false,
    "deletable": true,
    "editable": true
   },
   "outputs": [
    {
     "data": {
      "text/plain": [
       "Generalized linear mixed model fit by maximum likelihood (Laplace\n",
       "  Approximation) [glmerMod]\n",
       " Family: binomial  ( logit )\n",
       "Formula: cbind(y, 1 - y) ~ wt + (1 | mother)\n",
       "   Data: d3\n",
       "\n",
       "     AIC      BIC   logLik deviance df.resid \n",
       "    43.9     49.6    -19.0     37.9       45 \n",
       "\n",
       "Scaled residuals: \n",
       "     Min       1Q   Median       3Q      Max \n",
       "-1.53558 -0.34452 -0.03234  0.15979  2.02210 \n",
       "\n",
       "Random effects:\n",
       " Groups Name        Variance Std.Dev.\n",
       " mother (Intercept) 5.844    2.417   \n",
       "Number of obs: 48, groups:  mother, 12\n",
       "\n",
       "Fixed effects:\n",
       "            Estimate Std. Error z value Pr(>|z|)  \n",
       "(Intercept)    7.917      3.583   2.209   0.0271 *\n",
       "wt           -28.326     11.930  -2.374   0.0176 *\n",
       "---\n",
       "Signif. codes:  0 '***' 0.001 '**' 0.01 '*' 0.05 '.' 0.1 ' ' 1\n",
       "\n",
       "Correlation of Fixed Effects:\n",
       "   (Intr)\n",
       "wt -0.968"
      ]
     },
     "metadata": {},
     "output_type": "display_data"
    }
   ],
   "source": [
    "summary(res.d3.1)"
   ]
  },
  {
   "cell_type": "code",
   "execution_count": 91,
   "metadata": {
    "collapsed": false,
    "deletable": true,
    "editable": true
   },
   "outputs": [],
   "source": [
    "res.d3.2 <- glmmML(cbind(y, 1-y) ~ wt, data=d3, cluster=mother, family=binomial(link=logit))"
   ]
  },
  {
   "cell_type": "code",
   "execution_count": 114,
   "metadata": {
    "collapsed": false,
    "deletable": true,
    "editable": true
   },
   "outputs": [
    {
     "name": "stdout",
     "output_type": "stream",
     "text": [
      "\n",
      "Call:  glmmML(formula = cbind(y, 1 - y) ~ wt, family = binomial(link = logit),      data = d3, cluster = mother) \n",
      "\n",
      "\n",
      "              coef se(coef)      z Pr(>|z|)\n",
      "(Intercept)   7.92    3.127  2.533  0.01130\n",
      "wt          -28.34   10.081 -2.811  0.00494\n",
      "\n",
      "Scale parameter in mixing distribution:  2.419 gaussian \n",
      "Std. Error:                              0.9151 \n",
      "\n",
      "        LR p-value for H_0: sigma = 0:  0.01482 \n",
      "\n",
      "Residual deviance: 37.95 on 45 degrees of freedom \tAIC: 43.95 \n"
     ]
    }
   ],
   "source": [
    "summary(res.d3.2)"
   ]
  },
  {
   "cell_type": "code",
   "execution_count": 107,
   "metadata": {
    "collapsed": false,
    "deletable": true,
    "editable": true
   },
   "outputs": [
    {
     "data": {
      "text/html": [
       "<table>\n",
       "<thead><tr><th></th><th scope=col>Estimate</th><th scope=col>Std. Error</th><th scope=col>z value</th><th scope=col>Pr(&gt;|z|)</th></tr></thead>\n",
       "<tbody>\n",
       "\t<tr><th scope=row>(Intercept)</th><td>  7.91731 </td><td> 3.583376 </td><td> 2.209456 </td><td>0.02714296</td></tr>\n",
       "\t<tr><th scope=row>wt</th><td>-28.32612 </td><td>11.929613 </td><td>-2.374437 </td><td>0.01757571</td></tr>\n",
       "</tbody>\n",
       "</table>\n"
      ],
      "text/latex": [
       "\\begin{tabular}{r|llll}\n",
       "  & Estimate & Std. Error & z value & Pr(>\\textbar{}z\\textbar{})\\\\\n",
       "\\hline\n",
       "\t(Intercept) &   7.91731  &  3.583376  &  2.209456  & 0.02714296\\\\\n",
       "\twt & -28.32612  & 11.929613  & -2.374437  & 0.01757571\\\\\n",
       "\\end{tabular}\n"
      ],
      "text/markdown": [
       "\n",
       "| <!--/--> | Estimate | Std. Error | z value | Pr(>|z|) | \n",
       "|---|---|\n",
       "| (Intercept) |   7.91731  |  3.583376  |  2.209456  | 0.02714296 | \n",
       "| wt | -28.32612  | 11.929613  | -2.374437  | 0.01757571 | \n",
       "\n",
       "\n"
      ],
      "text/plain": [
       "            Estimate  Std. Error z value   Pr(>|z|)  \n",
       "(Intercept)   7.91731  3.583376   2.209456 0.02714296\n",
       "wt          -28.32612 11.929613  -2.374437 0.01757571"
      ]
     },
     "metadata": {},
     "output_type": "display_data"
    }
   ],
   "source": [
    "coef(summary(res.d3.1))"
   ]
  },
  {
   "cell_type": "code",
   "execution_count": 109,
   "metadata": {
    "collapsed": false,
    "deletable": true,
    "editable": true
   },
   "outputs": [
    {
     "data": {
      "text/html": [
       "<table>\n",
       "<thead><tr><th scope=col>wt</th><th scope=col>y1</th><th scope=col>y2</th></tr></thead>\n",
       "<tbody>\n",
       "\t<tr><td>0.00     </td><td>0.9996358</td><td>0.9996369</td></tr>\n",
       "\t<tr><td>0.01     </td><td>0.9995165</td><td>0.9995180</td></tr>\n",
       "\t<tr><td>0.02     </td><td>0.9993583</td><td>0.9993602</td></tr>\n",
       "\t<tr><td>0.03     </td><td>0.9991484</td><td>0.9991508</td></tr>\n",
       "\t<tr><td>0.04     </td><td>0.9988698</td><td>0.9988728</td></tr>\n",
       "\t<tr><td>0.05     </td><td>0.9985003</td><td>0.9985041</td></tr>\n",
       "</tbody>\n",
       "</table>\n"
      ],
      "text/latex": [
       "\\begin{tabular}{r|lll}\n",
       " wt & y1 & y2\\\\\n",
       "\\hline\n",
       "\t 0.00      & 0.9996358 & 0.9996369\\\\\n",
       "\t 0.01      & 0.9995165 & 0.9995180\\\\\n",
       "\t 0.02      & 0.9993583 & 0.9993602\\\\\n",
       "\t 0.03      & 0.9991484 & 0.9991508\\\\\n",
       "\t 0.04      & 0.9988698 & 0.9988728\\\\\n",
       "\t 0.05      & 0.9985003 & 0.9985041\\\\\n",
       "\\end{tabular}\n"
      ],
      "text/markdown": [
       "\n",
       "wt | y1 | y2 | \n",
       "|---|---|---|---|---|---|\n",
       "| 0.00      | 0.9996358 | 0.9996369 | \n",
       "| 0.01      | 0.9995165 | 0.9995180 | \n",
       "| 0.02      | 0.9993583 | 0.9993602 | \n",
       "| 0.03      | 0.9991484 | 0.9991508 | \n",
       "| 0.04      | 0.9988698 | 0.9988728 | \n",
       "| 0.05      | 0.9985003 | 0.9985041 | \n",
       "\n",
       "\n"
      ],
      "text/plain": [
       "  wt   y1        y2       \n",
       "1 0.00 0.9996358 0.9996369\n",
       "2 0.01 0.9995165 0.9995180\n",
       "3 0.02 0.9993583 0.9993602\n",
       "4 0.03 0.9991484 0.9991508\n",
       "5 0.04 0.9988698 0.9988728\n",
       "6 0.05 0.9985003 0.9985041"
      ]
     },
     "metadata": {},
     "output_type": "display_data"
    }
   ],
   "source": [
    "d3.pred <- data.frame(wt = seq(0, 0.6, 0.01)) %>% \n",
    "    mutate(y1 = 1 / (1 + exp(-(coef(summary(res.d3.1))[\"(Intercept)\", \"Estimate\"] + \n",
    "                               coef(summary(res.d3.1))[\"wt\", \"Estimate\"] * wt))), \n",
    "          y2 = 1 / (1 + exp(-(coef(res.d3.2)[\"(Intercept)\"] + \n",
    "                               coef(res.d3.2)[\"wt\"] * wt)))\n",
    "          )\n",
    "head(d3.pred)"
   ]
  },
  {
   "cell_type": "code",
   "execution_count": 112,
   "metadata": {
    "collapsed": false,
    "deletable": true,
    "editable": true
   },
   "outputs": [
    {
     "data": {},
     "metadata": {},
     "output_type": "display_data"
    },
    {
     "data": {
      "image/png": "[encoded data removed]",
      "text/plain": [
       "plot without title"
      ]
     },
     "metadata": {},
     "output_type": "display_data"
    }
   ],
   "source": [
    "gp.d3.pred <- d3.pred %>% gather(func, y, -wt) %>% \n",
    "    geom_line(data=., mapping=aes(wt, y, group=func, linetype=func), alpha=0.5)\n",
    "gp.d3 + gp.d3.pred"
   ]
  },
  {
   "cell_type": "code",
   "execution_count": 118,
   "metadata": {
    "collapsed": false,
    "deletable": true,
    "editable": true
   },
   "outputs": [
    {
     "name": "stdout",
     "output_type": "stream",
     "text": [
      "     [,1] [,2] [,3] [,4] [,5] [,6] [,7] [,8] [,9] [,10] [,11] [,12]\n",
      "[1,]    1    1    1    1    0    1    1    0    0     0     1     0\n",
      "[2,]    1    1    1    1    1    0    0    0    0     0     0     0\n",
      "[3,]    1    1    1    0    0    1    0    0    0     0     1     0\n",
      "[4,]    0    0    1    0    0    0    1    0    0     0     1     0\n"
     ]
    }
   ],
   "source": [
    "matrix(d3$y, nrow=4, ncol=12) %>% print()"
   ]
  },
  {
   "cell_type": "markdown",
   "metadata": {
    "deletable": true,
    "editable": true
   },
   "source": [
    "`glm()` （過分散）"
   ]
  },
  {
   "cell_type": "code",
   "execution_count": 120,
   "metadata": {
    "collapsed": false,
    "deletable": true,
    "editable": true
   },
   "outputs": [],
   "source": [
    "res.d3.3 <- glm(cbind(y, 1-y) ~ wt, family=binomial(link=logit), data=d3)"
   ]
  },
  {
   "cell_type": "code",
   "execution_count": 121,
   "metadata": {
    "collapsed": false,
    "deletable": true,
    "editable": true
   },
   "outputs": [
    {
     "data": {
      "text/plain": [
       "\n",
       "Call:\n",
       "glm(formula = cbind(y, 1 - y) ~ wt, family = binomial(link = logit), \n",
       "    data = d3)\n",
       "\n",
       "Deviance Residuals: \n",
       "    Min       1Q   Median       3Q      Max  \n",
       "-1.4340  -0.7094  -0.1906   0.6089   2.5033  \n",
       "\n",
       "Coefficients:\n",
       "            Estimate Std. Error z value Pr(>|z|)    \n",
       "(Intercept)    5.178      1.650   3.138 0.001700 ** \n",
       "wt           -18.371      5.486  -3.349 0.000811 ***\n",
       "---\n",
       "Signif. codes:  0 '***' 0.001 '**' 0.01 '*' 0.05 '.' 0.1 ' ' 1\n",
       "\n",
       "(Dispersion parameter for binomial family taken to be 1)\n",
       "\n",
       "    Null deviance: 65.203  on 47  degrees of freedom\n",
       "Residual deviance: 42.677  on 46  degrees of freedom\n",
       "AIC: 46.677\n",
       "\n",
       "Number of Fisher Scoring iterations: 5\n"
      ]
     },
     "metadata": {},
     "output_type": "display_data"
    }
   ],
   "source": [
    "summary(res.d3.3)"
   ]
  },
  {
   "cell_type": "markdown",
   "metadata": {
    "deletable": true,
    "editable": true
   },
   "source": [
    "## 11.4 過分散"
   ]
  },
  {
   "cell_type": "markdown",
   "metadata": {
    "deletable": true,
    "editable": true
   },
   "source": [
    "## 11.5 負の二項分布とそれを利用した事例の分析"
   ]
  },
  {
   "cell_type": "code",
   "execution_count": 122,
   "metadata": {
    "collapsed": false,
    "deletable": true,
    "editable": true
   },
   "outputs": [
    {
     "name": "stderr",
     "output_type": "stream",
     "text": [
      "Parsed with column specification:\n",
      "cols(\n",
      "  wt = col_double(),\n",
      "  flw = col_integer()\n",
      ")\n"
     ]
    }
   ],
   "source": [
    "d4 <- readr::read_csv(\"../samplecode/Rで学ぶ統計学入門図版作成用/table11-4.csv\")"
   ]
  },
  {
   "cell_type": "code",
   "execution_count": 123,
   "metadata": {
    "collapsed": false,
    "deletable": true,
    "editable": true
   },
   "outputs": [
    {
     "data": {
      "text/html": [
       "<table>\n",
       "<thead><tr><th scope=col>wt</th><th scope=col>flw</th></tr></thead>\n",
       "<tbody>\n",
       "\t<tr><td>22.5</td><td>0   </td></tr>\n",
       "\t<tr><td>23.1</td><td>0   </td></tr>\n",
       "\t<tr><td>24.6</td><td>0   </td></tr>\n",
       "\t<tr><td>25.7</td><td>0   </td></tr>\n",
       "\t<tr><td>31.5</td><td>0   </td></tr>\n",
       "\t<tr><td>32.4</td><td>1   </td></tr>\n",
       "</tbody>\n",
       "</table>\n"
      ],
      "text/latex": [
       "\\begin{tabular}{r|ll}\n",
       " wt & flw\\\\\n",
       "\\hline\n",
       "\t 22.5 & 0   \\\\\n",
       "\t 23.1 & 0   \\\\\n",
       "\t 24.6 & 0   \\\\\n",
       "\t 25.7 & 0   \\\\\n",
       "\t 31.5 & 0   \\\\\n",
       "\t 32.4 & 1   \\\\\n",
       "\\end{tabular}\n"
      ],
      "text/markdown": [
       "\n",
       "wt | flw | \n",
       "|---|---|---|---|---|---|\n",
       "| 22.5 | 0    | \n",
       "| 23.1 | 0    | \n",
       "| 24.6 | 0    | \n",
       "| 25.7 | 0    | \n",
       "| 31.5 | 0    | \n",
       "| 32.4 | 1    | \n",
       "\n",
       "\n"
      ],
      "text/plain": [
       "  wt   flw\n",
       "1 22.5 0  \n",
       "2 23.1 0  \n",
       "3 24.6 0  \n",
       "4 25.7 0  \n",
       "5 31.5 0  \n",
       "6 32.4 1  "
      ]
     },
     "metadata": {},
     "output_type": "display_data"
    }
   ],
   "source": [
    "head(d4)"
   ]
  },
  {
   "cell_type": "code",
   "execution_count": 124,
   "metadata": {
    "collapsed": false,
    "deletable": true,
    "editable": true
   },
   "outputs": [
    {
     "name": "stdout",
     "output_type": "stream",
     "text": [
      "Classes 'tbl_df', 'tbl' and 'data.frame':\t36 obs. of  2 variables:\n",
      " $ wt : num  22.5 23.1 24.6 25.7 31.5 32.4 33.3 36.2 36.8 37.2 ...\n",
      " $ flw: int  0 0 0 0 0 1 1 0 0 4 ...\n",
      " - attr(*, \"spec\")=List of 2\n",
      "  ..$ cols   :List of 2\n",
      "  .. ..$ wt : list()\n",
      "  .. .. ..- attr(*, \"class\")= chr  \"collector_double\" \"collector\"\n",
      "  .. ..$ flw: list()\n",
      "  .. .. ..- attr(*, \"class\")= chr  \"collector_integer\" \"collector\"\n",
      "  ..$ default: list()\n",
      "  .. ..- attr(*, \"class\")= chr  \"collector_guess\" \"collector\"\n",
      "  ..- attr(*, \"class\")= chr \"col_spec\"\n"
     ]
    }
   ],
   "source": [
    "str(d4)"
   ]
  },
  {
   "cell_type": "code",
   "execution_count": 130,
   "metadata": {
    "collapsed": false,
    "deletable": true,
    "editable": true
   },
   "outputs": [
    {
     "data": {},
     "metadata": {},
     "output_type": "display_data"
    },
    {
     "data": {
      "image/png": "[encoded data removed]",
      "text/plain": [
       "plot without title"
      ]
     },
     "metadata": {},
     "output_type": "display_data"
    }
   ],
   "source": [
    "gp.d4 <- ggplot(d4, aes(wt, flw)) + geom_point()\n",
    "gp.d4"
   ]
  },
  {
   "cell_type": "code",
   "execution_count": 125,
   "metadata": {
    "collapsed": true,
    "deletable": true,
    "editable": true
   },
   "outputs": [],
   "source": [
    "res.d4 <- glm(flw ~ wt, data=d4, family=poisson)"
   ]
  },
  {
   "cell_type": "code",
   "execution_count": 134,
   "metadata": {
    "collapsed": false,
    "deletable": true,
    "editable": true
   },
   "outputs": [
    {
     "data": {
      "text/plain": [
       "\n",
       "Call:\n",
       "glm(formula = flw ~ wt, family = poisson, data = d4)\n",
       "\n",
       "Deviance Residuals: \n",
       "    Min       1Q   Median       3Q      Max  \n",
       "-2.7355  -1.2109  -0.4309   1.0893   2.5143  \n",
       "\n",
       "Coefficients:\n",
       "            Estimate Std. Error z value Pr(>|z|)    \n",
       "(Intercept) -3.09129    0.59305  -5.213 1.86e-07 ***\n",
       "wt           0.10365    0.01242   8.348  < 2e-16 ***\n",
       "---\n",
       "Signif. codes:  0 '***' 0.001 '**' 0.01 '*' 0.05 '.' 0.1 ' ' 1\n",
       "\n",
       "(Dispersion parameter for poisson family taken to be 1)\n",
       "\n",
       "    Null deviance: 160.074  on 35  degrees of freedom\n",
       "Residual deviance:  71.071  on 34  degrees of freedom\n",
       "AIC: 172.48\n",
       "\n",
       "Number of Fisher Scoring iterations: 5\n"
      ]
     },
     "metadata": {},
     "output_type": "display_data"
    }
   ],
   "source": [
    "summary(res.d4)"
   ]
  },
  {
   "cell_type": "markdown",
   "metadata": {
    "deletable": true,
    "editable": true
   },
   "source": [
    "過分散?: Residual deviance / degrees of freedom"
   ]
  },
  {
   "cell_type": "code",
   "execution_count": 135,
   "metadata": {
    "collapsed": false,
    "deletable": true,
    "editable": true
   },
   "outputs": [
    {
     "data": {
      "text/html": [
       "2.09032352941176"
      ],
      "text/latex": [
       "2.09032352941176"
      ],
      "text/markdown": [
       "2.09032352941176"
      ],
      "text/plain": [
       "[1] 2.090324"
      ]
     },
     "metadata": {},
     "output_type": "display_data"
    }
   ],
   "source": [
    "71.071 / 34"
   ]
  },
  {
   "cell_type": "code",
   "execution_count": 128,
   "metadata": {
    "collapsed": false,
    "deletable": true,
    "editable": true
   },
   "outputs": [
    {
     "data": {
      "text/html": [
       "<dl class=dl-horizontal>\n",
       "\t<dt>(Intercept)</dt>\n",
       "\t\t<dd>-3.09128839577774</dd>\n",
       "\t<dt>wt</dt>\n",
       "\t\t<dd>0.103653844151011</dd>\n",
       "</dl>\n"
      ],
      "text/latex": [
       "\\begin{description*}\n",
       "\\item[(Intercept)] -3.09128839577774\n",
       "\\item[wt] 0.103653844151011\n",
       "\\end{description*}\n"
      ],
      "text/markdown": [
       "(Intercept)\n",
       ":   -3.09128839577774wt\n",
       ":   0.103653844151011\n",
       "\n"
      ],
      "text/plain": [
       "(Intercept)          wt \n",
       " -3.0912884   0.1036538 "
      ]
     },
     "metadata": {},
     "output_type": "display_data"
    }
   ],
   "source": [
    "res.d4 %>% coef()"
   ]
  },
  {
   "cell_type": "code",
   "execution_count": 131,
   "metadata": {
    "collapsed": false,
    "deletable": true,
    "editable": true
   },
   "outputs": [
    {
     "data": {
      "text/html": [
       "<table>\n",
       "<thead><tr><th scope=col>wt</th><th scope=col>flw</th></tr></thead>\n",
       "<tbody>\n",
       "\t<tr><td>20.0     </td><td>0.3612404</td></tr>\n",
       "\t<tr><td>20.1     </td><td>0.3650043</td></tr>\n",
       "\t<tr><td>20.2     </td><td>0.3688074</td></tr>\n",
       "\t<tr><td>20.3     </td><td>0.3726501</td></tr>\n",
       "\t<tr><td>20.4     </td><td>0.3765329</td></tr>\n",
       "\t<tr><td>20.5     </td><td>0.3804561</td></tr>\n",
       "</tbody>\n",
       "</table>\n"
      ],
      "text/latex": [
       "\\begin{tabular}{r|ll}\n",
       " wt & flw\\\\\n",
       "\\hline\n",
       "\t 20.0      & 0.3612404\\\\\n",
       "\t 20.1      & 0.3650043\\\\\n",
       "\t 20.2      & 0.3688074\\\\\n",
       "\t 20.3      & 0.3726501\\\\\n",
       "\t 20.4      & 0.3765329\\\\\n",
       "\t 20.5      & 0.3804561\\\\\n",
       "\\end{tabular}\n"
      ],
      "text/markdown": [
       "\n",
       "wt | flw | \n",
       "|---|---|---|---|---|---|\n",
       "| 20.0      | 0.3612404 | \n",
       "| 20.1      | 0.3650043 | \n",
       "| 20.2      | 0.3688074 | \n",
       "| 20.3      | 0.3726501 | \n",
       "| 20.4      | 0.3765329 | \n",
       "| 20.5      | 0.3804561 | \n",
       "\n",
       "\n"
      ],
      "text/plain": [
       "  wt   flw      \n",
       "1 20.0 0.3612404\n",
       "2 20.1 0.3650043\n",
       "3 20.2 0.3688074\n",
       "4 20.3 0.3726501\n",
       "5 20.4 0.3765329\n",
       "6 20.5 0.3804561"
      ]
     },
     "metadata": {},
     "output_type": "display_data"
    }
   ],
   "source": [
    "d4.pred.1 <- data.frame(wt = seq(20, 60, 0.1)) %>% \n",
    "            mutate(flw = exp(coef(res.d4)[\"(Intercept)\"] + coef(res.d4)[\"wt\"] * wt))\n",
    "head(d4.pred.1)"
   ]
  },
  {
   "cell_type": "code",
   "execution_count": 148,
   "metadata": {
    "collapsed": false,
    "deletable": true,
    "editable": true
   },
   "outputs": [
    {
     "name": "stderr",
     "output_type": "stream",
     "text": [
      "Warning message:\n",
      "\"Removed 13 rows containing missing values (geom_path).\""
     ]
    },
    {
     "data": {},
     "metadata": {},
     "output_type": "display_data"
    },
    {
     "data": {
      "image/png": "[encoded data removed]",
      "text/plain": [
       "plot without title"
      ]
     },
     "metadata": {},
     "output_type": "display_data"
    }
   ],
   "source": [
    "gp.d4.pred.1 <- geom_line(data=d4.pred.1, mapping=aes(wt, flw))\n",
    "gp.d4 + gp.d4.pred.1 + scale_y_continuous(limits = c(0, 20))"
   ]
  },
  {
   "cell_type": "code",
   "execution_count": 141,
   "metadata": {
    "collapsed": false,
    "deletable": true,
    "editable": true
   },
   "outputs": [
    {
     "name": "stderr",
     "output_type": "stream",
     "text": [
      "\n",
      "Attaching package: 'MASS'\n",
      "\n",
      "The following object is masked from 'package:dplyr':\n",
      "\n",
      "    select\n",
      "\n"
     ]
    }
   ],
   "source": [
    "library(MASS)"
   ]
  },
  {
   "cell_type": "code",
   "execution_count": 143,
   "metadata": {
    "collapsed": true,
    "deletable": true,
    "editable": true
   },
   "outputs": [],
   "source": [
    "res.d4.2 <- glm(flw ~ wt, data=d4, family=negative.binomial(1))"
   ]
  },
  {
   "cell_type": "code",
   "execution_count": 144,
   "metadata": {
    "collapsed": false,
    "deletable": true,
    "editable": true
   },
   "outputs": [
    {
     "data": {
      "text/plain": [
       "\n",
       "Call:\n",
       "glm(formula = flw ~ wt, family = negative.binomial(1), data = d4)\n",
       "\n",
       "Deviance Residuals: \n",
       "    Min       1Q   Median       3Q      Max  \n",
       "-1.3518  -0.6962  -0.1648   0.3445   1.1443  \n",
       "\n",
       "Coefficients:\n",
       "            Estimate Std. Error t value Pr(>|t|)    \n",
       "(Intercept) -4.83195    0.80775  -5.982 9.09e-07 ***\n",
       "wt           0.14220    0.01795   7.921 3.17e-09 ***\n",
       "---\n",
       "Signif. codes:  0 '***' 0.001 '**' 0.01 '*' 0.05 '.' 0.1 ' ' 1\n",
       "\n",
       "(Dispersion parameter for Negative Binomial(1) family taken to be 0.3906081)\n",
       "\n",
       "    Null deviance: 39.998  on 35  degrees of freedom\n",
       "Residual deviance: 16.441  on 34  degrees of freedom\n",
       "AIC: 171.73\n",
       "\n",
       "Number of Fisher Scoring iterations: 7\n"
      ]
     },
     "metadata": {},
     "output_type": "display_data"
    }
   ],
   "source": [
    "summary(res.d4.2)"
   ]
  },
  {
   "cell_type": "code",
   "execution_count": 145,
   "metadata": {
    "collapsed": false,
    "deletable": true,
    "editable": true
   },
   "outputs": [
    {
     "data": {
      "text/html": [
       "<dl class=dl-horizontal>\n",
       "\t<dt>(Intercept)</dt>\n",
       "\t\t<dd>-4.83194908968896</dd>\n",
       "\t<dt>wt</dt>\n",
       "\t\t<dd>0.14220282693059</dd>\n",
       "</dl>\n"
      ],
      "text/latex": [
       "\\begin{description*}\n",
       "\\item[(Intercept)] -4.83194908968896\n",
       "\\item[wt] 0.14220282693059\n",
       "\\end{description*}\n"
      ],
      "text/markdown": [
       "(Intercept)\n",
       ":   -4.83194908968896wt\n",
       ":   0.14220282693059\n",
       "\n"
      ],
      "text/plain": [
       "(Intercept)          wt \n",
       " -4.8319491   0.1422028 "
      ]
     },
     "metadata": {},
     "output_type": "display_data"
    }
   ],
   "source": [
    "coef(res.d4.2)"
   ]
  },
  {
   "cell_type": "code",
   "execution_count": 146,
   "metadata": {
    "collapsed": false,
    "deletable": true,
    "editable": true
   },
   "outputs": [
    {
     "data": {
      "text/html": [
       "<table>\n",
       "<thead><tr><th scope=col>wt</th><th scope=col>flw</th></tr></thead>\n",
       "<tbody>\n",
       "\t<tr><td>20.0     </td><td>0.1369838</td></tr>\n",
       "\t<tr><td>20.1     </td><td>0.1389457</td></tr>\n",
       "\t<tr><td>20.2     </td><td>0.1409356</td></tr>\n",
       "\t<tr><td>20.3     </td><td>0.1429541</td></tr>\n",
       "\t<tr><td>20.4     </td><td>0.1450015</td></tr>\n",
       "\t<tr><td>20.5     </td><td>0.1470782</td></tr>\n",
       "</tbody>\n",
       "</table>\n"
      ],
      "text/latex": [
       "\\begin{tabular}{r|ll}\n",
       " wt & flw\\\\\n",
       "\\hline\n",
       "\t 20.0      & 0.1369838\\\\\n",
       "\t 20.1      & 0.1389457\\\\\n",
       "\t 20.2      & 0.1409356\\\\\n",
       "\t 20.3      & 0.1429541\\\\\n",
       "\t 20.4      & 0.1450015\\\\\n",
       "\t 20.5      & 0.1470782\\\\\n",
       "\\end{tabular}\n"
      ],
      "text/markdown": [
       "\n",
       "wt | flw | \n",
       "|---|---|---|---|---|---|\n",
       "| 20.0      | 0.1369838 | \n",
       "| 20.1      | 0.1389457 | \n",
       "| 20.2      | 0.1409356 | \n",
       "| 20.3      | 0.1429541 | \n",
       "| 20.4      | 0.1450015 | \n",
       "| 20.5      | 0.1470782 | \n",
       "\n",
       "\n"
      ],
      "text/plain": [
       "  wt   flw      \n",
       "1 20.0 0.1369838\n",
       "2 20.1 0.1389457\n",
       "3 20.2 0.1409356\n",
       "4 20.3 0.1429541\n",
       "5 20.4 0.1450015\n",
       "6 20.5 0.1470782"
      ]
     },
     "metadata": {},
     "output_type": "display_data"
    }
   ],
   "source": [
    "d4.pred.2 <- data.frame(wt = d4.pred.1$wt) %>% \n",
    "        mutate(flw = exp(coef(res.d4.2)[\"(Intercept)\"] + coef(res.d4.2)[\"wt\"] * wt))\n",
    "head(d4.pred.2)"
   ]
  },
  {
   "cell_type": "code",
   "execution_count": 149,
   "metadata": {
    "collapsed": false,
    "deletable": true,
    "editable": true
   },
   "outputs": [
    {
     "name": "stderr",
     "output_type": "stream",
     "text": [
      "Warning message:\n",
      "\"Removed 50 rows containing missing values (geom_path).\""
     ]
    },
    {
     "data": {},
     "metadata": {},
     "output_type": "display_data"
    },
    {
     "data": {
      "image/png": "[encoded data removed]",
      "text/plain": [
       "plot without title"
      ]
     },
     "metadata": {},
     "output_type": "display_data"
    }
   ],
   "source": [
    "gp.d4.pred.2 <- geom_line(data=d4.pred.2, mapping=aes(wt, flw))\n",
    "gp.d4 + gp.d4.pred.2 + scale_y_continuous(limits = c(0, 20))"
   ]
  },
  {
   "cell_type": "code",
   "execution_count": 150,
   "metadata": {
    "collapsed": true,
    "deletable": true,
    "editable": true
   },
   "outputs": [],
   "source": [
    "res.d4.3 <- glm.nb(flw ~ wt, data=d4)"
   ]
  },
  {
   "cell_type": "code",
   "execution_count": 151,
   "metadata": {
    "collapsed": false,
    "deletable": true,
    "editable": true
   },
   "outputs": [
    {
     "data": {
      "text/plain": [
       "\n",
       "Call:\n",
       "glm.nb(formula = flw ~ wt, data = d4, init.theta = 4.57125751, \n",
       "    link = log)\n",
       "\n",
       "Deviance Residuals: \n",
       "    Min       1Q   Median       3Q      Max  \n",
       "-1.7783  -0.9535  -0.2519   0.7586   1.6619  \n",
       "\n",
       "Coefficients:\n",
       "            Estimate Std. Error z value Pr(>|z|)    \n",
       "(Intercept) -3.99857    0.85085  -4.700 2.61e-06 ***\n",
       "wt           0.12368    0.01839   6.725 1.76e-11 ***\n",
       "---\n",
       "Signif. codes:  0 '***' 0.001 '**' 0.01 '*' 0.05 '.' 0.1 ' ' 1\n",
       "\n",
       "(Dispersion parameter for Negative Binomial(4.5713) family taken to be 1)\n",
       "\n",
       "    Null deviance: 88.813  on 35  degrees of freedom\n",
       "Residual deviance: 36.001  on 34  degrees of freedom\n",
       "AIC: 161.72\n",
       "\n",
       "Number of Fisher Scoring iterations: 1\n",
       "\n",
       "\n",
       "              Theta:  4.57 \n",
       "          Std. Err.:  2.21 \n",
       "\n",
       " 2 x log-likelihood:  -155.722 "
      ]
     },
     "metadata": {},
     "output_type": "display_data"
    }
   ],
   "source": [
    "summary(res.d4.3)"
   ]
  },
  {
   "cell_type": "code",
   "execution_count": 152,
   "metadata": {
    "collapsed": false,
    "deletable": true,
    "editable": true
   },
   "outputs": [
    {
     "data": {
      "text/html": [
       "<table>\n",
       "<thead><tr><th scope=col>wt</th><th scope=col>flw</th></tr></thead>\n",
       "<tbody>\n",
       "\t<tr><td>20.0     </td><td>0.2176412</td></tr>\n",
       "\t<tr><td>20.1     </td><td>0.2203497</td></tr>\n",
       "\t<tr><td>20.2     </td><td>0.2230920</td></tr>\n",
       "\t<tr><td>20.3     </td><td>0.2258684</td></tr>\n",
       "\t<tr><td>20.4     </td><td>0.2286794</td></tr>\n",
       "\t<tr><td>20.5     </td><td>0.2315253</td></tr>\n",
       "</tbody>\n",
       "</table>\n"
      ],
      "text/latex": [
       "\\begin{tabular}{r|ll}\n",
       " wt & flw\\\\\n",
       "\\hline\n",
       "\t 20.0      & 0.2176412\\\\\n",
       "\t 20.1      & 0.2203497\\\\\n",
       "\t 20.2      & 0.2230920\\\\\n",
       "\t 20.3      & 0.2258684\\\\\n",
       "\t 20.4      & 0.2286794\\\\\n",
       "\t 20.5      & 0.2315253\\\\\n",
       "\\end{tabular}\n"
      ],
      "text/markdown": [
       "\n",
       "wt | flw | \n",
       "|---|---|---|---|---|---|\n",
       "| 20.0      | 0.2176412 | \n",
       "| 20.1      | 0.2203497 | \n",
       "| 20.2      | 0.2230920 | \n",
       "| 20.3      | 0.2258684 | \n",
       "| 20.4      | 0.2286794 | \n",
       "| 20.5      | 0.2315253 | \n",
       "\n",
       "\n"
      ],
      "text/plain": [
       "  wt   flw      \n",
       "1 20.0 0.2176412\n",
       "2 20.1 0.2203497\n",
       "3 20.2 0.2230920\n",
       "4 20.3 0.2258684\n",
       "5 20.4 0.2286794\n",
       "6 20.5 0.2315253"
      ]
     },
     "metadata": {},
     "output_type": "display_data"
    }
   ],
   "source": [
    "d4.pred.3 <- data.frame(wt = d4.pred.1$wt) %>% \n",
    "        mutate(flw = exp(coef(res.d4.3)[\"(Intercept)\"] + coef(res.d4.3)[\"wt\"] * wt))\n",
    "head(d4.pred.3)"
   ]
  },
  {
   "cell_type": "code",
   "execution_count": 153,
   "metadata": {
    "collapsed": false,
    "deletable": true,
    "editable": true
   },
   "outputs": [
    {
     "name": "stderr",
     "output_type": "stream",
     "text": [
      "Warning message:\n",
      "\"Removed 35 rows containing missing values (geom_path).\""
     ]
    },
    {
     "data": {},
     "metadata": {},
     "output_type": "display_data"
    },
    {
     "data": {
      "image/png": "[encoded data removed]",
      "text/plain": [
       "plot without title"
      ]
     },
     "metadata": {},
     "output_type": "display_data"
    }
   ],
   "source": [
    "gp.d4.pred.3 <- geom_line(data=d4.pred.3, mapping=aes(wt, flw))\n",
    "gp.d4 + gp.d4.pred.3 + scale_y_continuous(limits = c(0, 20))"
   ]
  },
  {
   "cell_type": "markdown",
   "metadata": {
    "deletable": true,
    "editable": true
   },
   "source": [
    "疑似尤度"
   ]
  },
  {
   "cell_type": "code",
   "execution_count": 154,
   "metadata": {
    "collapsed": false,
    "deletable": true,
    "editable": true
   },
   "outputs": [
    {
     "name": "stderr",
     "output_type": "stream",
     "text": [
      "Parsed with column specification:\n",
      "cols(\n",
      "  x = col_double(),\n",
      "  y = col_integer()\n",
      ")\n"
     ]
    }
   ],
   "source": [
    "d5 <- readr::read_csv(\"../samplecode/Rで学ぶ統計学入門図版作成用/table11-5.csv\")"
   ]
  },
  {
   "cell_type": "code",
   "execution_count": 155,
   "metadata": {
    "collapsed": false,
    "deletable": true,
    "editable": true
   },
   "outputs": [
    {
     "data": {
      "text/html": [
       "<table>\n",
       "<thead><tr><th scope=col>x</th><th scope=col>y</th></tr></thead>\n",
       "<tbody>\n",
       "\t<tr><td>1.7</td><td> 4 </td></tr>\n",
       "\t<tr><td>1.9</td><td> 3 </td></tr>\n",
       "\t<tr><td>2.8</td><td>12 </td></tr>\n",
       "\t<tr><td>3.3</td><td> 6 </td></tr>\n",
       "\t<tr><td>3.7</td><td>15 </td></tr>\n",
       "\t<tr><td>3.9</td><td>13 </td></tr>\n",
       "</tbody>\n",
       "</table>\n"
      ],
      "text/latex": [
       "\\begin{tabular}{r|ll}\n",
       " x & y\\\\\n",
       "\\hline\n",
       "\t 1.7 &  4 \\\\\n",
       "\t 1.9 &  3 \\\\\n",
       "\t 2.8 & 12 \\\\\n",
       "\t 3.3 &  6 \\\\\n",
       "\t 3.7 & 15 \\\\\n",
       "\t 3.9 & 13 \\\\\n",
       "\\end{tabular}\n"
      ],
      "text/markdown": [
       "\n",
       "x | y | \n",
       "|---|---|---|---|---|---|\n",
       "| 1.7 |  4  | \n",
       "| 1.9 |  3  | \n",
       "| 2.8 | 12  | \n",
       "| 3.3 |  6  | \n",
       "| 3.7 | 15  | \n",
       "| 3.9 | 13  | \n",
       "\n",
       "\n"
      ],
      "text/plain": [
       "  x   y \n",
       "1 1.7  4\n",
       "2 1.9  3\n",
       "3 2.8 12\n",
       "4 3.3  6\n",
       "5 3.7 15\n",
       "6 3.9 13"
      ]
     },
     "metadata": {},
     "output_type": "display_data"
    }
   ],
   "source": [
    "head(d5)"
   ]
  },
  {
   "cell_type": "code",
   "execution_count": 156,
   "metadata": {
    "collapsed": false,
    "deletable": true,
    "editable": true
   },
   "outputs": [
    {
     "name": "stdout",
     "output_type": "stream",
     "text": [
      "Classes 'tbl_df', 'tbl' and 'data.frame':\t14 obs. of  2 variables:\n",
      " $ x: num  1.7 1.9 2.8 3.3 3.7 3.9 4.1 4.3 4.6 4.7 ...\n",
      " $ y: int  4 3 12 6 15 13 25 15 12 35 ...\n",
      " - attr(*, \"spec\")=List of 2\n",
      "  ..$ cols   :List of 2\n",
      "  .. ..$ x: list()\n",
      "  .. .. ..- attr(*, \"class\")= chr  \"collector_double\" \"collector\"\n",
      "  .. ..$ y: list()\n",
      "  .. .. ..- attr(*, \"class\")= chr  \"collector_integer\" \"collector\"\n",
      "  ..$ default: list()\n",
      "  .. ..- attr(*, \"class\")= chr  \"collector_guess\" \"collector\"\n",
      "  ..- attr(*, \"class\")= chr \"col_spec\"\n"
     ]
    }
   ],
   "source": [
    "str(d5)"
   ]
  },
  {
   "cell_type": "code",
   "execution_count": 164,
   "metadata": {
    "collapsed": false,
    "deletable": true,
    "editable": true
   },
   "outputs": [
    {
     "data": {},
     "metadata": {},
     "output_type": "display_data"
    },
    {
     "data": {
      "image/png": "[encoded data removed]",
      "text/plain": [
       "plot without title"
      ]
     },
     "metadata": {},
     "output_type": "display_data"
    }
   ],
   "source": [
    "gp.d5 <- ggplot(d5, aes(x, y)) + geom_point()\n",
    "gp.d5"
   ]
  },
  {
   "cell_type": "code",
   "execution_count": 158,
   "metadata": {
    "collapsed": false,
    "deletable": true,
    "editable": true
   },
   "outputs": [],
   "source": [
    "res.d5 <- glm(y ~ x, data=d5, family=quasipoisson)"
   ]
  },
  {
   "cell_type": "code",
   "execution_count": 159,
   "metadata": {
    "collapsed": false,
    "deletable": true,
    "editable": true
   },
   "outputs": [
    {
     "data": {
      "text/plain": [
       "\n",
       "Call:\n",
       "glm(formula = y ~ x, family = quasipoisson, data = d5)\n",
       "\n",
       "Deviance Residuals: \n",
       "    Min       1Q   Median       3Q      Max  \n",
       "-2.0051  -1.3342  -0.4587   0.9368   2.7362  \n",
       "\n",
       "Coefficients:\n",
       "            Estimate Std. Error t value Pr(>|t|)    \n",
       "(Intercept)  0.82642    0.45234   1.827 0.092664 .  \n",
       "x            0.47401    0.09223   5.139 0.000245 ***\n",
       "---\n",
       "Signif. codes:  0 '***' 0.001 '**' 0.01 '*' 0.05 '.' 0.1 ' ' 1\n",
       "\n",
       "(Dispersion parameter for quasipoisson family taken to be 2.676269)\n",
       "\n",
       "    Null deviance: 112.070  on 13  degrees of freedom\n",
       "Residual deviance:  31.287  on 12  degrees of freedom\n",
       "AIC: NA\n",
       "\n",
       "Number of Fisher Scoring iterations: 4\n"
      ]
     },
     "metadata": {},
     "output_type": "display_data"
    }
   ],
   "source": [
    "summary(res.d5)"
   ]
  },
  {
   "cell_type": "code",
   "execution_count": 162,
   "metadata": {
    "collapsed": false,
    "deletable": true,
    "editable": true
   },
   "outputs": [
    {
     "data": {
      "text/html": [
       "<table>\n",
       "<thead><tr><th scope=col>x</th><th scope=col>y</th></tr></thead>\n",
       "<tbody>\n",
       "\t<tr><td>0.00    </td><td>2.285124</td></tr>\n",
       "\t<tr><td>0.01    </td><td>2.295981</td></tr>\n",
       "\t<tr><td>0.02    </td><td>2.306890</td></tr>\n",
       "\t<tr><td>0.03    </td><td>2.317851</td></tr>\n",
       "\t<tr><td>0.04    </td><td>2.328864</td></tr>\n",
       "\t<tr><td>0.05    </td><td>2.339929</td></tr>\n",
       "</tbody>\n",
       "</table>\n"
      ],
      "text/latex": [
       "\\begin{tabular}{r|ll}\n",
       " x & y\\\\\n",
       "\\hline\n",
       "\t 0.00     & 2.285124\\\\\n",
       "\t 0.01     & 2.295981\\\\\n",
       "\t 0.02     & 2.306890\\\\\n",
       "\t 0.03     & 2.317851\\\\\n",
       "\t 0.04     & 2.328864\\\\\n",
       "\t 0.05     & 2.339929\\\\\n",
       "\\end{tabular}\n"
      ],
      "text/markdown": [
       "\n",
       "x | y | \n",
       "|---|---|---|---|---|---|\n",
       "| 0.00     | 2.285124 | \n",
       "| 0.01     | 2.295981 | \n",
       "| 0.02     | 2.306890 | \n",
       "| 0.03     | 2.317851 | \n",
       "| 0.04     | 2.328864 | \n",
       "| 0.05     | 2.339929 | \n",
       "\n",
       "\n"
      ],
      "text/plain": [
       "  x    y       \n",
       "1 0.00 2.285124\n",
       "2 0.01 2.295981\n",
       "3 0.02 2.306890\n",
       "4 0.03 2.317851\n",
       "5 0.04 2.328864\n",
       "6 0.05 2.339929"
      ]
     },
     "metadata": {},
     "output_type": "display_data"
    }
   ],
   "source": [
    "d5.pred <- data.frame(x = seq(0, 7, 0.01)) %>% mutate(y = exp(coef(res.d5)[\"(Intercept)\"] + coef(res.d5)[\"x\"] * x))\n",
    "head(d5.pred)"
   ]
  },
  {
   "cell_type": "code",
   "execution_count": 165,
   "metadata": {
    "collapsed": false,
    "deletable": true,
    "editable": true
   },
   "outputs": [
    {
     "data": {},
     "metadata": {},
     "output_type": "display_data"
    },
    {
     "data": {
      "image/png": "[encoded data removed]",
      "text/plain": [
       "plot without title"
      ]
     },
     "metadata": {},
     "output_type": "display_data"
    }
   ],
   "source": [
    "gp.d5.pred <- geom_line(data=d5.pred, mapping=aes(x, y))\n",
    "gp.d5 + gp.d5.pred"
   ]
  },
  {
   "cell_type": "code",
   "execution_count": 166,
   "metadata": {
    "collapsed": false,
    "deletable": true,
    "editable": true
   },
   "outputs": [
    {
     "data": {
      "text/plain": [
       "'log Lik.' NA (df=2)"
      ]
     },
     "metadata": {},
     "output_type": "display_data"
    }
   ],
   "source": [
    "logLik(res.d5)"
   ]
  },
  {
   "cell_type": "code",
   "execution_count": 167,
   "metadata": {
    "collapsed": false,
    "deletable": true,
    "editable": true
   },
   "outputs": [
    {
     "data": {
      "text/plain": [
       "\n",
       "Call:\n",
       "glm(formula = y ~ x, family = negative.binomial(1), data = d5)\n",
       "\n",
       "Deviance Residuals: \n",
       "     Min        1Q    Median        3Q       Max  \n",
       "-0.47288  -0.37998  -0.07842   0.19559   0.52064  \n",
       "\n",
       "Coefficients:\n",
       "            Estimate Std. Error t value Pr(>|t|)    \n",
       "(Intercept)  0.57813    0.36036   1.604    0.135    \n",
       "x            0.52965    0.08275   6.400  3.4e-05 ***\n",
       "---\n",
       "Signif. codes:  0 '***' 0.001 '**' 0.01 '*' 0.05 '.' 0.1 ' ' 1\n",
       "\n",
       "(Dispersion parameter for Negative Binomial(1) family taken to be 0.1429218)\n",
       "\n",
       "    Null deviance: 6.6697  on 13  degrees of freedom\n",
       "Residual deviance: 1.6699  on 12  degrees of freedom\n",
       "AIC: 110.07\n",
       "\n",
       "Number of Fisher Scoring iterations: 4\n"
      ]
     },
     "metadata": {},
     "output_type": "display_data"
    }
   ],
   "source": [
    "res.d5.2 <- glm(y ~ x, data=d5, family=negative.binomial(1))\n",
    "summary(res.d5.2)"
   ]
  },
  {
   "cell_type": "code",
   "execution_count": 169,
   "metadata": {
    "collapsed": false,
    "deletable": true,
    "editable": true
   },
   "outputs": [
    {
     "data": {
      "text/plain": [
       "\n",
       "Call:\n",
       "glm.nb(formula = y ~ x, data = d5, init.theta = 14.70278711, \n",
       "    link = log)\n",
       "\n",
       "Deviance Residuals: \n",
       "    Min       1Q   Median       3Q      Max  \n",
       "-1.3548  -0.9264  -0.2770   0.7112   1.6402  \n",
       "\n",
       "Coefficients:\n",
       "            Estimate Std. Error z value Pr(>|z|)    \n",
       "(Intercept)  0.70367    0.38475   1.829   0.0674 .  \n",
       "x            0.50145    0.08319   6.028 1.66e-09 ***\n",
       "---\n",
       "Signif. codes:  0 '***' 0.001 '**' 0.01 '*' 0.05 '.' 0.1 ' ' 1\n",
       "\n",
       "(Dispersion parameter for Negative Binomial(14.7028) family taken to be 1)\n",
       "\n",
       "    Null deviance: 51.593  on 13  degrees of freedom\n",
       "Residual deviance: 13.224  on 12  degrees of freedom\n",
       "AIC: 93.5\n",
       "\n",
       "Number of Fisher Scoring iterations: 1\n",
       "\n",
       "\n",
       "              Theta:  14.70 \n",
       "          Std. Err.:  9.99 \n",
       "\n",
       " 2 x log-likelihood:  -87.50 "
      ]
     },
     "metadata": {},
     "output_type": "display_data"
    }
   ],
   "source": [
    "res.d5.3 <- glm.nb(y ~ x, data=d5)\n",
    "summary(res.d5.3)"
   ]
  },
  {
   "cell_type": "code",
   "execution_count": 170,
   "metadata": {
    "collapsed": false,
    "deletable": true,
    "editable": true
   },
   "outputs": [
    {
     "data": {
      "text/html": [
       "<table>\n",
       "<thead><tr><th scope=col>x</th><th scope=col>y</th></tr></thead>\n",
       "<tbody>\n",
       "\t<tr><td>0.00    </td><td>1.782699</td></tr>\n",
       "\t<tr><td>0.01    </td><td>1.792167</td></tr>\n",
       "\t<tr><td>0.02    </td><td>1.801684</td></tr>\n",
       "\t<tr><td>0.03    </td><td>1.811252</td></tr>\n",
       "\t<tr><td>0.04    </td><td>1.820871</td></tr>\n",
       "\t<tr><td>0.05    </td><td>1.830541</td></tr>\n",
       "</tbody>\n",
       "</table>\n"
      ],
      "text/latex": [
       "\\begin{tabular}{r|ll}\n",
       " x & y\\\\\n",
       "\\hline\n",
       "\t 0.00     & 1.782699\\\\\n",
       "\t 0.01     & 1.792167\\\\\n",
       "\t 0.02     & 1.801684\\\\\n",
       "\t 0.03     & 1.811252\\\\\n",
       "\t 0.04     & 1.820871\\\\\n",
       "\t 0.05     & 1.830541\\\\\n",
       "\\end{tabular}\n"
      ],
      "text/markdown": [
       "\n",
       "x | y | \n",
       "|---|---|---|---|---|---|\n",
       "| 0.00     | 1.782699 | \n",
       "| 0.01     | 1.792167 | \n",
       "| 0.02     | 1.801684 | \n",
       "| 0.03     | 1.811252 | \n",
       "| 0.04     | 1.820871 | \n",
       "| 0.05     | 1.830541 | \n",
       "\n",
       "\n"
      ],
      "text/plain": [
       "  x    y       \n",
       "1 0.00 1.782699\n",
       "2 0.01 1.792167\n",
       "3 0.02 1.801684\n",
       "4 0.03 1.811252\n",
       "5 0.04 1.820871\n",
       "6 0.05 1.830541"
      ]
     },
     "metadata": {},
     "output_type": "display_data"
    }
   ],
   "source": [
    "d5.pred.2 <- data.frame(x = d5.pred$x) %>% \n",
    "    mutate(y = exp(coef(res.d5.2)[\"(Intercept)\"] + coef(res.d5.2)[\"x\"] * x))\n",
    "head(d5.pred.2)"
   ]
  },
  {
   "cell_type": "code",
   "execution_count": 171,
   "metadata": {
    "collapsed": false,
    "deletable": true,
    "editable": true
   },
   "outputs": [
    {
     "data": {
      "text/html": [
       "<table>\n",
       "<thead><tr><th scope=col>x</th><th scope=col>y</th></tr></thead>\n",
       "<tbody>\n",
       "\t<tr><td>0.00    </td><td>2.021154</td></tr>\n",
       "\t<tr><td>0.01    </td><td>2.031315</td></tr>\n",
       "\t<tr><td>0.02    </td><td>2.041526</td></tr>\n",
       "\t<tr><td>0.03    </td><td>2.051789</td></tr>\n",
       "\t<tr><td>0.04    </td><td>2.062104</td></tr>\n",
       "\t<tr><td>0.05    </td><td>2.072470</td></tr>\n",
       "</tbody>\n",
       "</table>\n"
      ],
      "text/latex": [
       "\\begin{tabular}{r|ll}\n",
       " x & y\\\\\n",
       "\\hline\n",
       "\t 0.00     & 2.021154\\\\\n",
       "\t 0.01     & 2.031315\\\\\n",
       "\t 0.02     & 2.041526\\\\\n",
       "\t 0.03     & 2.051789\\\\\n",
       "\t 0.04     & 2.062104\\\\\n",
       "\t 0.05     & 2.072470\\\\\n",
       "\\end{tabular}\n"
      ],
      "text/markdown": [
       "\n",
       "x | y | \n",
       "|---|---|---|---|---|---|\n",
       "| 0.00     | 2.021154 | \n",
       "| 0.01     | 2.031315 | \n",
       "| 0.02     | 2.041526 | \n",
       "| 0.03     | 2.051789 | \n",
       "| 0.04     | 2.062104 | \n",
       "| 0.05     | 2.072470 | \n",
       "\n",
       "\n"
      ],
      "text/plain": [
       "  x    y       \n",
       "1 0.00 2.021154\n",
       "2 0.01 2.031315\n",
       "3 0.02 2.041526\n",
       "4 0.03 2.051789\n",
       "5 0.04 2.062104\n",
       "6 0.05 2.072470"
      ]
     },
     "metadata": {},
     "output_type": "display_data"
    }
   ],
   "source": [
    "d5.pred.3 <- data.frame(x = d5.pred$x) %>% \n",
    "    mutate(y = exp(coef(res.d5.3)[\"(Intercept)\"] + coef(res.d5.3)[\"x\"] * x))\n",
    "head(d5.pred.3)"
   ]
  },
  {
   "cell_type": "code",
   "execution_count": 173,
   "metadata": {
    "collapsed": false,
    "deletable": true,
    "editable": true
   },
   "outputs": [
    {
     "data": {},
     "metadata": {},
     "output_type": "display_data"
    },
    {
     "data": {
      "image/png": "[encoded data removed]",
      "text/plain": [
       "plot without title"
      ]
     },
     "metadata": {},
     "output_type": "display_data"
    }
   ],
   "source": [
    "gp.d5.pred.2 <- geom_line(data=d5.pred.2, mapping=aes(x, y), colour=\"red\")\n",
    "gp.d5.pred.3 <- geom_line(data=d5.pred.3, mapping=aes(x, y), colour=\"blue\")\n",
    "\n",
    "gp.d5 + list(gp.d5.pred, gp.d5.pred.2, gp.d5.pred.3)"
   ]
  },
  {
   "cell_type": "markdown",
   "metadata": {
    "deletable": true,
    "editable": true
   },
   "source": [
    "## 11.6"
   ]
  },
  {
   "cell_type": "code",
   "execution_count": 174,
   "metadata": {
    "collapsed": false,
    "deletable": true,
    "editable": true
   },
   "outputs": [
    {
     "name": "stderr",
     "output_type": "stream",
     "text": [
      "Session info -------------------------------------------------------------------\n",
      "Packages -----------------------------------------------------------------------\n"
     ]
    },
    {
     "data": {
      "text/plain": [
       " setting  value                       \n",
       " version  R version 3.3.2 (2016-10-31)\n",
       " system   x86_64, mingw32             \n",
       " ui       RTerm                       \n",
       " language en                          \n",
       " collate  Japanese_Japan.932          \n",
       " tz       Asia/Tokyo                  \n",
       " date     2017-07-18                  \n",
       "\n",
       " package    * version    date       source                            \n",
       " assertthat   0.2.0      2017-04-11 CRAN (R 3.3.2)                    \n",
       " bindr        0.1        2016-11-13 CRAN (R 3.3.3)                    \n",
       " bindrcpp   * 0.1        2016-12-11 CRAN (R 3.3.3)                    \n",
       " Cairo        1.5-9      2015-09-26 CRAN (R 3.2.2)                    \n",
       " colorspace   1.3-2      2016-12-14 CRAN (R 3.3.3)                    \n",
       " crayon       1.3.2      2016-06-28 CRAN (R 3.3.1)                    \n",
       " devtools     1.12.0     2016-06-24 CRAN (R 3.3.1)                    \n",
       " digest       0.6.12     2017-01-27 CRAN (R 3.3.3)                    \n",
       " dplyr      * 0.7.0      2017-06-09 CRAN (R 3.3.3)                    \n",
       " evaluate     0.10       2016-10-11 CRAN (R 3.3.2)                    \n",
       " ggplot2    * 2.2.1      2016-12-30 CRAN (R 3.3.3)                    \n",
       " glmmML     * 1.0.1      2017-02-10 CRAN (R 3.3.2)                    \n",
       " glue         1.0.0      2017-04-17 CRAN (R 3.3.3)                    \n",
       " gtable       0.2.0      2016-02-26 CRAN (R 3.2.5)                    \n",
       " hms          0.3        2016-11-22 CRAN (R 3.3.3)                    \n",
       " IRdisplay    0.4.4      2016-08-02 CRAN (R 3.3.1)                    \n",
       " IRkernel     0.8.6.9000 2017-04-13 Github (IRkernel/IRkernel@29ae7df)\n",
       " jsonlite     1.4        2017-04-08 CRAN (R 3.3.3)                    \n",
       " labeling     0.3        2014-08-23 CRAN (R 3.2.1)                    \n",
       " lattice      0.20-34    2016-09-06 CRAN (R 3.3.2)                    \n",
       " lazyeval     0.2.0      2016-06-12 CRAN (R 3.2.5)                    \n",
       " lme4       * 1.1-12     2016-04-16 CRAN (R 3.2.5)                    \n",
       " magrittr     1.5        2014-11-22 CRAN (R 3.2.1)                    \n",
       " MASS       * 7.3-45     2016-04-21 CRAN (R 3.3.2)                    \n",
       " Matrix     * 1.2-7.1    2016-09-01 CRAN (R 3.3.2)                    \n",
       " memoise      1.0.0      2016-01-29 CRAN (R 3.2.3)                    \n",
       " minqa        1.2.4      2014-10-09 CRAN (R 3.2.3)                    \n",
       " munsell      0.4.3      2016-02-13 CRAN (R 3.2.5)                    \n",
       " nlme         3.1-128    2016-05-10 CRAN (R 3.3.2)                    \n",
       " nloptr       1.0.4      2014-08-04 CRAN (R 3.2.3)                    \n",
       " pbdZMQ       0.2-5      2016-12-18 CRAN (R 3.3.3)                    \n",
       " plyr         1.8.4      2016-06-08 CRAN (R 3.2.5)                    \n",
       " R6           2.2.1      2017-05-10 CRAN (R 3.3.3)                    \n",
       " Rcpp         0.12.11    2017-05-22 CRAN (R 3.3.3)                    \n",
       " readr        1.1.0      2017-03-22 CRAN (R 3.3.3)                    \n",
       " repr         0.12.0     2017-04-07 CRAN (R 3.3.3)                    \n",
       " rlang        0.1.1      2017-05-18 CRAN (R 3.3.3)                    \n",
       " rstudioapi   0.6        2016-06-27 CRAN (R 3.2.5)                    \n",
       " scales       0.4.1      2016-11-09 CRAN (R 3.3.2)                    \n",
       " stringi      1.1.5      2017-04-07 CRAN (R 3.3.3)                    \n",
       " stringr      1.2.0      2017-02-18 CRAN (R 3.3.3)                    \n",
       " tibble       1.3.3      2017-05-28 CRAN (R 3.3.3)                    \n",
       " tidyr      * 0.6.1      2017-01-10 CRAN (R 3.3.3)                    \n",
       " uuid         0.1-2      2015-07-28 CRAN (R 3.3.1)                    \n",
       " withr        1.0.2      2016-06-20 CRAN (R 3.2.5)                    "
      ]
     },
     "metadata": {},
     "output_type": "display_data"
    }
   ],
   "source": [
    "devtools::session_info()"
   ]
  }
 ],
 "metadata": {
  "anaconda-cloud": {},
  "kernelspec": {
   "display_name": "R",
   "language": "R",
   "name": "ir"
  },
  "language_info": {
   "codemirror_mode": "r",
   "file_extension": ".r",
   "mimetype": "text/x-r-source",
   "name": "R",
   "pygments_lexer": "r",
   "version": "3.3.2"
  }
 },
 "nbformat": 4,
 "nbformat_minor": 1
}
