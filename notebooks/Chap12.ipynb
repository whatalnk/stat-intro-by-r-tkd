{
 "cells": [
  {
   "cell_type": "markdown",
   "metadata": {},
   "source": [
    "# 12 ノンパラメトリック検定（1）\n",
    "\n",
    "## 12.1 二項検定\n",
    "\n",
    "* いかさまコイン"
   ]
  },
  {
   "cell_type": "code",
   "execution_count": 25,
   "metadata": {
    "collapsed": false
   },
   "outputs": [
    {
     "data": {
      "text/plain": [
       "\n",
       "\tExact binomial test\n",
       "\n",
       "data:  c(13, 7)\n",
       "number of successes = 13, number of trials = 20, p-value = 0.2632\n",
       "alternative hypothesis: true probability of success is not equal to 0.5\n",
       "95 percent confidence interval:\n",
       " 0.4078115 0.8460908\n",
       "sample estimates:\n",
       "probability of success \n",
       "                  0.65 \n"
      ]
     },
     "metadata": {},
     "output_type": "display_data"
    }
   ],
   "source": [
    "binom.test(c(13, 7), p=1/2)"
   ]
  },
  {
   "cell_type": "code",
   "execution_count": 26,
   "metadata": {
    "collapsed": false
   },
   "outputs": [
    {
     "data": {
      "text/plain": [
       "\n",
       "\tExact binomial test\n",
       "\n",
       "data:  c(65, 35)\n",
       "number of successes = 65, number of trials = 100, p-value = 0.003518\n",
       "alternative hypothesis: true probability of success is not equal to 0.5\n",
       "95 percent confidence interval:\n",
       " 0.5481506 0.7427062\n",
       "sample estimates:\n",
       "probability of success \n",
       "                  0.65 \n"
      ]
     },
     "metadata": {},
     "output_type": "display_data"
    }
   ],
   "source": [
    "binom.test(c(65, 35), p=1/2)"
   ]
  },
  {
   "cell_type": "markdown",
   "metadata": {},
   "source": [
    "## 12.2 $\\chi^2$ 適合度検定\n",
    "\n",
    "$$ X^2 = \\sum\\limits^n_{i=1}\\frac{(O_i - E_i)^2}{E_i} $$\n",
    "\n",
    "* メンデルの法則（分離の法則）"
   ]
  },
  {
   "cell_type": "code",
   "execution_count": 28,
   "metadata": {
    "collapsed": false
   },
   "outputs": [
    {
     "data": {
      "text/html": [
       "<table>\n",
       "<tbody>\n",
       "\t<tr><td>152.000</td><td>39.000 </td><td>53.000 </td><td> 6.000 </td></tr>\n",
       "\t<tr><td>140.625</td><td>46.875 </td><td>46.875 </td><td>15.625 </td></tr>\n",
       "</tbody>\n",
       "</table>\n"
      ],
      "text/latex": [
       "\\begin{tabular}{llll}\n",
       "\t 152.000 & 39.000  & 53.000  &  6.000 \\\\\n",
       "\t 140.625 & 46.875  & 46.875  & 15.625 \\\\\n",
       "\\end{tabular}\n"
      ],
      "text/markdown": [
       "\n",
       "| 152.000 | 39.000  | 53.000  |  6.000  | \n",
       "| 140.625 | 46.875  | 46.875  | 15.625  | \n",
       "\n",
       "\n"
      ],
      "text/plain": [
       "     [,1]    [,2]   [,3]   [,4]  \n",
       "[1,] 152.000 39.000 53.000  6.000\n",
       "[2,] 140.625 46.875 46.875 15.625"
      ]
     },
     "metadata": {},
     "output_type": "display_data"
    }
   ],
   "source": [
    "d2 <- matrix(c(152, 39, 53, 6, 140.625, 46.875, 46.875, 15.625), nrow=2, ncol=4, byrow=TRUE)\n",
    "d2"
   ]
  },
  {
   "cell_type": "markdown",
   "metadata": {},
   "source": [
    "$X^2$ 値"
   ]
  },
  {
   "cell_type": "code",
   "execution_count": 30,
   "metadata": {
    "collapsed": false
   },
   "outputs": [
    {
     "data": {
      "text/html": [
       "8.97244444444445"
      ],
      "text/latex": [
       "8.97244444444445"
      ],
      "text/markdown": [
       "8.97244444444445"
      ],
      "text/plain": [
       "[1] 8.972444"
      ]
     },
     "metadata": {},
     "output_type": "display_data"
    }
   ],
   "source": [
    "sum((d2[1,] - d2[2,])**2 / d2[2,])"
   ]
  },
  {
   "cell_type": "markdown",
   "metadata": {},
   "source": [
    "棄却域"
   ]
  },
  {
   "cell_type": "code",
   "execution_count": 31,
   "metadata": {
    "collapsed": false
   },
   "outputs": [
    {
     "data": {
      "text/html": [
       "7.81472790325118"
      ],
      "text/latex": [
       "7.81472790325118"
      ],
      "text/markdown": [
       "7.81472790325118"
      ],
      "text/plain": [
       "[1] 7.814728"
      ]
     },
     "metadata": {},
     "output_type": "display_data"
    }
   ],
   "source": [
    "qchisq(0.95, df=3)"
   ]
  },
  {
   "cell_type": "code",
   "execution_count": 32,
   "metadata": {
    "collapsed": false
   },
   "outputs": [
    {
     "data": {
      "text/plain": [
       "\n",
       "\tChi-squared test for given probabilities\n",
       "\n",
       "data:  d2[1, ]\n",
       "X-squared = 8.9724, df = 3, p-value = 0.02966\n"
      ]
     },
     "metadata": {},
     "output_type": "display_data"
    }
   ],
   "source": [
    "chisq.test(d2[1,], p= d2[2,], rescale=TRUE)"
   ]
  },
  {
   "cell_type": "markdown",
   "metadata": {},
   "source": [
    "有意確率"
   ]
  },
  {
   "cell_type": "code",
   "execution_count": 33,
   "metadata": {
    "collapsed": false
   },
   "outputs": [
    {
     "data": {
      "text/html": [
       "0.0296601031936341"
      ],
      "text/latex": [
       "0.0296601031936341"
      ],
      "text/markdown": [
       "0.0296601031936341"
      ],
      "text/plain": [
       "[1] 0.0296601"
      ]
     },
     "metadata": {},
     "output_type": "display_data"
    }
   ],
   "source": [
    "pchisq(8.9724, df=3, lower.tail = FALSE)"
   ]
  },
  {
   "cell_type": "markdown",
   "metadata": {},
   "source": [
    "小標本の場合は $X^2$ と $\\chi^2$分布 が合わないので，補正をする\n",
    "\n",
    "* イェーツの連続性補正（コクランの条件）\n",
    "\n",
    "$$ X^2 = \\sum\\limits^m_{i=1}\\frac{(|O_i - E_i| - 0.5)^2}{E_i} $$\n",
    "\n",
    "* 正確$\\chi^2検定$\n",
    "\n",
    "独立性検定ならば\n",
    "\n",
    "* フィッシャーの正確確率検定"
   ]
  },
  {
   "cell_type": "markdown",
   "metadata": {},
   "source": [
    "例題: アズキゾウムシ"
   ]
  },
  {
   "cell_type": "code",
   "execution_count": 37,
   "metadata": {
    "collapsed": false
   },
   "outputs": [
    {
     "name": "stdout",
     "output_type": "stream",
     "text": [
      "     [,1]  [,2] [,3] [,4]  [,5]  [,6]  [,7]  [,8]\n",
      "[1,] 0.00  1.00  2.0    3  4.00  5.00  6.00  7.00\n",
      "[2,] 0.00  0.00 60.0  101 84.00 48.00  7.00  0.00\n",
      "[3,] 9.35 32.39 56.2   65 56.39 39.14 22.63 19.06\n"
     ]
    }
   ],
   "source": [
    "d3 <- matrix(c(0:7, \n",
    "               0, 0, 60, 101, 84, 48, 7, 0, \n",
    "               9.35, 32.39, 56.20, 65.00, 56.39, 39.14, 22.63, 19.06), nrow=3, ncol=8, byrow=TRUE)\n",
    "print(d3)"
   ]
  },
  {
   "cell_type": "code",
   "execution_count": 40,
   "metadata": {
    "collapsed": false
   },
   "outputs": [
    {
     "name": "stderr",
     "output_type": "stream",
     "text": [
      "Warning message:\n",
      "\"package 'dplyr' was built under R version 3.3.3\"\n",
      "Attaching package: 'dplyr'\n",
      "\n",
      "The following objects are masked from 'package:stats':\n",
      "\n",
      "    filter, lag\n",
      "\n",
      "The following objects are masked from 'package:base':\n",
      "\n",
      "    intersect, setdiff, setequal, union\n",
      "\n"
     ]
    }
   ],
   "source": [
    "library(dplyr)"
   ]
  },
  {
   "cell_type": "code",
   "execution_count": 46,
   "metadata": {
    "collapsed": false
   },
   "outputs": [
    {
     "data": {
      "text/plain": [
       "$breaks\n",
       " [1] -0.5  0.5  1.5  2.5  3.5  4.5  5.5  6.5  7.5  8.5  9.5\n",
       "\n",
       "$counts\n",
       " [1]   0   0  60 101  84  48   7   0   0   0\n",
       "\n",
       "$density\n",
       " [1] 0.00000000 0.00000000 0.20000000 0.33666667 0.28000000 0.16000000\n",
       " [7] 0.02333333 0.00000000 0.00000000 0.00000000\n",
       "\n",
       "$mids\n",
       " [1] 0 1 2 3 4 5 6 7 8 9\n",
       "\n",
       "$xname\n",
       "[1] \".\"\n",
       "\n",
       "$equidist\n",
       "[1] TRUE\n",
       "\n",
       "attr(,\"class\")\n",
       "[1] \"histogram\""
      ]
     },
     "metadata": {},
     "output_type": "display_data"
    }
   ],
   "source": [
    "d3[c(1:2),] %>% apply(2, function(x){rep(x[1], x[2])}) %>% unlist() %>% \n",
    "    hist(br=seq(-0.5, 9.5, 1), plot=FALSE)"
   ]
  },
  {
   "cell_type": "code",
   "execution_count": 48,
   "metadata": {
    "collapsed": true
   },
   "outputs": [],
   "source": [
    "options(repr.plot.width=4, repr.plot.height=4)"
   ]
  },
  {
   "cell_type": "code",
   "execution_count": 49,
   "metadata": {
    "collapsed": false
   },
   "outputs": [
    {
     "data": {
      "image/png": "[encoded data removed]",
      "text/plain": [
       "Plot with title \"Histogram of .\""
      ]
     },
     "metadata": {},
     "output_type": "display_data"
    }
   ],
   "source": [
    "d3[c(1:2),] %>% apply(2, function(x){rep(x[1], x[2])}) %>% unlist() %>% \n",
    "    hist(br=seq(-0.5, 9.5, 1), plot=TRUE)"
   ]
  },
  {
   "cell_type": "code",
   "execution_count": 62,
   "metadata": {
    "collapsed": false
   },
   "outputs": [
    {
     "data": {
      "image/png": "[encoded data removed]",
      "text/plain": [
       "Plot with title \"Histogram of .\""
      ]
     },
     "metadata": {},
     "output_type": "display_data"
    }
   ],
   "source": [
    "egg <- d3[c(1:2),] %>% apply(2, function(x){rep(x[1], x[2])}) %>% unlist()\n",
    "plt.d3 <-  egg %>% hist(br=seq(-0.5, 9.5, 1), plot=TRUE)\n",
    "egg.expected <- length(egg) * dpois(c(0:9), mean(egg))\n",
    "lines(plt.d3$mids, egg.expected)"
   ]
  },
  {
   "cell_type": "code",
   "execution_count": 82,
   "metadata": {
    "collapsed": false
   },
   "outputs": [
    {
     "data": {
      "text/html": [
       "<table>\n",
       "<tbody>\n",
       "\t<tr><th scope=row></th><td>0.000000 </td><td> 0.00000 </td><td>60.00000 </td><td>101.00000</td><td>84.00000 </td><td>48.00000 </td><td> 7.00000 </td><td> 0.00000 </td><td>0.000000 </td><td>0.000000 </td></tr>\n",
       "\t<tr><th scope=row>egg.expected</th><td>9.335109 </td><td>32.39283 </td><td>56.20156 </td><td> 65.00647</td><td>56.39311 </td><td>39.13682 </td><td>22.63413 </td><td>11.22006 </td><td>4.866701 </td><td>1.876384 </td></tr>\n",
       "</tbody>\n",
       "</table>\n"
      ],
      "text/latex": [
       "\\begin{tabular}{r|llllllllll}\n",
       "\t & 0.000000  &  0.00000  & 60.00000  & 101.00000 & 84.00000  & 48.00000  &  7.00000  &  0.00000  & 0.000000  & 0.000000 \\\\\n",
       "\tegg.expected & 9.335109  & 32.39283  & 56.20156  &  65.00647 & 56.39311  & 39.13682  & 22.63413  & 11.22006  & 4.866701  & 1.876384 \\\\\n",
       "\\end{tabular}\n"
      ],
      "text/markdown": [
       "\n",
       "|  | 0.000000  |  0.00000  | 60.00000  | 101.00000 | 84.00000  | 48.00000  |  7.00000  |  0.00000  | 0.000000  | 0.000000  | \n",
       "| egg.expected | 9.335109  | 32.39283  | 56.20156  |  65.00647 | 56.39311  | 39.13682  | 22.63413  | 11.22006  | 4.866701  | 1.876384  | \n",
       "\n",
       "\n"
      ],
      "text/plain": [
       "             [,1]     [,2]     [,3]     [,4]      [,5]     [,6]     [,7]    \n",
       "             0.000000  0.00000 60.00000 101.00000 84.00000 48.00000  7.00000\n",
       "egg.expected 9.335109 32.39283 56.20156  65.00647 56.39311 39.13682 22.63413\n",
       "             [,8]     [,9]     [,10]   \n",
       "              0.00000 0.000000 0.000000\n",
       "egg.expected 11.22006 4.866701 1.876384"
      ]
     },
     "metadata": {},
     "output_type": "display_data"
    }
   ],
   "source": [
    "res.d3 <- rbind(plt.d3$counts, egg.expected)\n",
    "res.d3"
   ]
  },
  {
   "cell_type": "code",
   "execution_count": 83,
   "metadata": {
    "collapsed": false
   },
   "outputs": [
    {
     "data": {
      "text/html": [
       "<table>\n",
       "<thead><tr><th></th><th scope=col>0</th><th scope=col>1</th><th scope=col>2</th><th scope=col>3</th><th scope=col>4</th><th scope=col>5</th><th scope=col>6</th><th scope=col>7</th><th scope=col>8</th><th scope=col>9</th></tr></thead>\n",
       "<tbody>\n",
       "\t<tr><th scope=row>O</th><td>0.000000 </td><td> 0.00000 </td><td>60.00000 </td><td>101.00000</td><td>84.00000 </td><td>48.00000 </td><td> 7.00000 </td><td> 0.00000 </td><td>0.000000 </td><td>0.000000 </td></tr>\n",
       "\t<tr><th scope=row>E</th><td>9.335109 </td><td>32.39283 </td><td>56.20156 </td><td> 65.00647</td><td>56.39311 </td><td>39.13682 </td><td>22.63413 </td><td>11.22006 </td><td>4.866701 </td><td>1.876384 </td></tr>\n",
       "</tbody>\n",
       "</table>\n"
      ],
      "text/latex": [
       "\\begin{tabular}{r|llllllllll}\n",
       "  & 0 & 1 & 2 & 3 & 4 & 5 & 6 & 7 & 8 & 9\\\\\n",
       "\\hline\n",
       "\tO & 0.000000  &  0.00000  & 60.00000  & 101.00000 & 84.00000  & 48.00000  &  7.00000  &  0.00000  & 0.000000  & 0.000000 \\\\\n",
       "\tE & 9.335109  & 32.39283  & 56.20156  &  65.00647 & 56.39311  & 39.13682  & 22.63413  & 11.22006  & 4.866701  & 1.876384 \\\\\n",
       "\\end{tabular}\n"
      ],
      "text/markdown": [
       "\n",
       "| <!--/--> | 0 | 1 | 2 | 3 | 4 | 5 | 6 | 7 | 8 | 9 | \n",
       "|---|---|\n",
       "| O | 0.000000  |  0.00000  | 60.00000  | 101.00000 | 84.00000  | 48.00000  |  7.00000  |  0.00000  | 0.000000  | 0.000000  | \n",
       "| E | 9.335109  | 32.39283  | 56.20156  |  65.00647 | 56.39311  | 39.13682  | 22.63413  | 11.22006  | 4.866701  | 1.876384  | \n",
       "\n",
       "\n"
      ],
      "text/plain": [
       "  0        1        2        3         4        5        6        7       \n",
       "O 0.000000  0.00000 60.00000 101.00000 84.00000 48.00000  7.00000  0.00000\n",
       "E 9.335109 32.39283 56.20156  65.00647 56.39311 39.13682 22.63413 11.22006\n",
       "  8        9       \n",
       "O 0.000000 0.000000\n",
       "E 4.866701 1.876384"
      ]
     },
     "metadata": {},
     "output_type": "display_data"
    }
   ],
   "source": [
    "rownames(res.d3) <- c(\"O\", \"E\")\n",
    "colnames(res.d3) <- plt.d3$mids\n",
    "res.d3"
   ]
  },
  {
   "cell_type": "code",
   "execution_count": 84,
   "metadata": {
    "collapsed": false
   },
   "outputs": [
    {
     "data": {
      "text/html": [
       "<dl class=dl-horizontal>\n",
       "\t<dt>O</dt>\n",
       "\t\t<dd>0</dd>\n",
       "\t<dt>E</dt>\n",
       "\t\t<dd>11.2200602651113</dd>\n",
       "</dl>\n"
      ],
      "text/latex": [
       "\\begin{description*}\n",
       "\\item[O] 0\n",
       "\\item[E] 11.2200602651113\n",
       "\\end{description*}\n"
      ],
      "text/markdown": [
       "O\n",
       ":   0E\n",
       ":   11.2200602651113\n",
       "\n"
      ],
      "text/plain": [
       "       O        E \n",
       " 0.00000 11.22006 "
      ]
     },
     "metadata": {},
     "output_type": "display_data"
    }
   ],
   "source": [
    "res.d3[,8]"
   ]
  },
  {
   "cell_type": "code",
   "execution_count": 85,
   "metadata": {
    "collapsed": false
   },
   "outputs": [
    {
     "data": {
      "text/html": [
       "<table>\n",
       "<thead><tr><th></th><th scope=col>7</th><th scope=col>8</th><th scope=col>9</th></tr></thead>\n",
       "<tbody>\n",
       "\t<tr><th scope=row>O</th><td> 0.00000</td><td>0.000000</td><td>0.000000</td></tr>\n",
       "\t<tr><th scope=row>E</th><td>11.22006</td><td>4.866701</td><td>1.876384</td></tr>\n",
       "</tbody>\n",
       "</table>\n"
      ],
      "text/latex": [
       "\\begin{tabular}{r|lll}\n",
       "  & 7 & 8 & 9\\\\\n",
       "\\hline\n",
       "\tO &  0.00000 & 0.000000 & 0.000000\\\\\n",
       "\tE & 11.22006 & 4.866701 & 1.876384\\\\\n",
       "\\end{tabular}\n"
      ],
      "text/markdown": [
       "\n",
       "| <!--/--> | 7 | 8 | 9 | \n",
       "|---|---|\n",
       "| O |  0.00000 | 0.000000 | 0.000000 | \n",
       "| E | 11.22006 | 4.866701 | 1.876384 | \n",
       "\n",
       "\n"
      ],
      "text/plain": [
       "  7        8        9       \n",
       "O  0.00000 0.000000 0.000000\n",
       "E 11.22006 4.866701 1.876384"
      ]
     },
     "metadata": {},
     "output_type": "display_data"
    }
   ],
   "source": [
    "res.d3[,c(8:10)]"
   ]
  },
  {
   "cell_type": "code",
   "execution_count": 86,
   "metadata": {
    "collapsed": false
   },
   "outputs": [
    {
     "data": {
      "text/html": [
       "<table>\n",
       "<thead><tr><th></th><th scope=col>0</th><th scope=col>1</th><th scope=col>2</th><th scope=col>3</th><th scope=col>4</th><th scope=col>5</th><th scope=col>6</th><th scope=col>7</th><th scope=col>8</th><th scope=col>9</th></tr></thead>\n",
       "<tbody>\n",
       "\t<tr><th scope=row>O</th><td>0.000000 </td><td> 0.00000 </td><td>60.00000 </td><td>101.00000</td><td>84.00000 </td><td>48.00000 </td><td> 7.00000 </td><td> 0.00000 </td><td>0.000000 </td><td>0.000000 </td></tr>\n",
       "\t<tr><th scope=row>E</th><td>9.335109 </td><td>32.39283 </td><td>56.20156 </td><td> 65.00647</td><td>56.39311 </td><td>39.13682 </td><td>22.63413 </td><td>17.96315 </td><td>4.866701 </td><td>1.876384 </td></tr>\n",
       "</tbody>\n",
       "</table>\n"
      ],
      "text/latex": [
       "\\begin{tabular}{r|llllllllll}\n",
       "  & 0 & 1 & 2 & 3 & 4 & 5 & 6 & 7 & 8 & 9\\\\\n",
       "\\hline\n",
       "\tO & 0.000000  &  0.00000  & 60.00000  & 101.00000 & 84.00000  & 48.00000  &  7.00000  &  0.00000  & 0.000000  & 0.000000 \\\\\n",
       "\tE & 9.335109  & 32.39283  & 56.20156  &  65.00647 & 56.39311  & 39.13682  & 22.63413  & 17.96315  & 4.866701  & 1.876384 \\\\\n",
       "\\end{tabular}\n"
      ],
      "text/markdown": [
       "\n",
       "| <!--/--> | 0 | 1 | 2 | 3 | 4 | 5 | 6 | 7 | 8 | 9 | \n",
       "|---|---|\n",
       "| O | 0.000000  |  0.00000  | 60.00000  | 101.00000 | 84.00000  | 48.00000  |  7.00000  |  0.00000  | 0.000000  | 0.000000  | \n",
       "| E | 9.335109  | 32.39283  | 56.20156  |  65.00647 | 56.39311  | 39.13682  | 22.63413  | 17.96315  | 4.866701  | 1.876384  | \n",
       "\n",
       "\n"
      ],
      "text/plain": [
       "  0        1        2        3         4        5        6        7       \n",
       "O 0.000000  0.00000 60.00000 101.00000 84.00000 48.00000  7.00000  0.00000\n",
       "E 9.335109 32.39283 56.20156  65.00647 56.39311 39.13682 22.63413 17.96315\n",
       "  8        9       \n",
       "O 0.000000 0.000000\n",
       "E 4.866701 1.876384"
      ]
     },
     "metadata": {},
     "output_type": "display_data"
    }
   ],
   "source": [
    "res.d3[, 8] <- apply(res.d3[,c(8:10)], 1, sum)\n",
    "res.d3"
   ]
  },
  {
   "cell_type": "code",
   "execution_count": 87,
   "metadata": {
    "collapsed": false
   },
   "outputs": [
    {
     "data": {
      "text/html": [
       "<table>\n",
       "<thead><tr><th></th><th scope=col>0</th><th scope=col>1</th><th scope=col>2</th><th scope=col>3</th><th scope=col>4</th><th scope=col>5</th><th scope=col>6</th><th scope=col>7</th></tr></thead>\n",
       "<tbody>\n",
       "\t<tr><th scope=row>O</th><td>0.000000 </td><td> 0.00000 </td><td>60.00000 </td><td>101.00000</td><td>84.00000 </td><td>48.00000 </td><td> 7.00000 </td><td> 0.00000 </td></tr>\n",
       "\t<tr><th scope=row>E</th><td>9.335109 </td><td>32.39283 </td><td>56.20156 </td><td> 65.00647</td><td>56.39311 </td><td>39.13682 </td><td>22.63413 </td><td>17.96315 </td></tr>\n",
       "</tbody>\n",
       "</table>\n"
      ],
      "text/latex": [
       "\\begin{tabular}{r|llllllll}\n",
       "  & 0 & 1 & 2 & 3 & 4 & 5 & 6 & 7\\\\\n",
       "\\hline\n",
       "\tO & 0.000000  &  0.00000  & 60.00000  & 101.00000 & 84.00000  & 48.00000  &  7.00000  &  0.00000 \\\\\n",
       "\tE & 9.335109  & 32.39283  & 56.20156  &  65.00647 & 56.39311  & 39.13682  & 22.63413  & 17.96315 \\\\\n",
       "\\end{tabular}\n"
      ],
      "text/markdown": [
       "\n",
       "| <!--/--> | 0 | 1 | 2 | 3 | 4 | 5 | 6 | 7 | \n",
       "|---|---|\n",
       "| O | 0.000000  |  0.00000  | 60.00000  | 101.00000 | 84.00000  | 48.00000  |  7.00000  |  0.00000  | \n",
       "| E | 9.335109  | 32.39283  | 56.20156  |  65.00647 | 56.39311  | 39.13682  | 22.63413  | 17.96315  | \n",
       "\n",
       "\n"
      ],
      "text/plain": [
       "  0        1        2        3         4        5        6        7       \n",
       "O 0.000000  0.00000 60.00000 101.00000 84.00000 48.00000  7.00000  0.00000\n",
       "E 9.335109 32.39283 56.20156  65.00647 56.39311 39.13682 22.63413 17.96315"
      ]
     },
     "metadata": {},
     "output_type": "display_data"
    }
   ],
   "source": [
    "res.d3 <- res.d3[, c(-9, -10)]\n",
    "res.d3"
   ]
  },
  {
   "cell_type": "code",
   "execution_count": 88,
   "metadata": {
    "collapsed": false
   },
   "outputs": [
    {
     "data": {
      "text/plain": [
       "\n",
       "\tChi-squared test for given probabilities\n",
       "\n",
       "data:  res.d3[\"O\", ]\n",
       "X-squared = 105.86, df = 7, p-value < 2.2e-16\n"
      ]
     },
     "metadata": {},
     "output_type": "display_data"
    }
   ],
   "source": [
    "chisq.test(res.d3[\"O\",], p=res.d3[\"E\",], rescale=TRUE)"
   ]
  },
  {
   "cell_type": "markdown",
   "metadata": {},
   "source": [
    "`chisq.test()` は外部仮説\n",
    "\n",
    "今回は 内部仮説\n",
    "\n",
    "自由度が変わるので，有意確率は別に求める"
   ]
  },
  {
   "cell_type": "markdown",
   "metadata": {},
   "source": [
    "本文では `e-21` になっているが"
   ]
  },
  {
   "cell_type": "code",
   "execution_count": 90,
   "metadata": {
    "collapsed": false
   },
   "outputs": [
    {
     "data": {
      "text/html": [
       "1.49561724481286e-20"
      ],
      "text/latex": [
       "1.49561724481286e-20"
      ],
      "text/markdown": [
       "1.49561724481286e-20"
      ],
      "text/plain": [
       "[1] 1.495617e-20"
      ]
     },
     "metadata": {},
     "output_type": "display_data"
    }
   ],
   "source": [
    "pchisq(105.8636, df=6, lower.tail = FALSE)"
   ]
  },
  {
   "cell_type": "markdown",
   "metadata": {},
   "source": [
    "## 12.3 正確$\\chi^2$検定: モンテカルロシミュレーション"
   ]
  },
  {
   "cell_type": "markdown",
   "metadata": {},
   "source": [
    "\"引数の`p=exp`は期待度数（expected）を意味し...\" と書いてあるが，`exp` は前のページで作った変数（206ページで作ったポアソン乱数）"
   ]
  },
  {
   "cell_type": "code",
   "execution_count": 93,
   "metadata": {
    "collapsed": false
   },
   "outputs": [
    {
     "data": {
      "text/plain": [
       "\n",
       "\tChi-squared test for given probabilities with simulated p-value (based\n",
       "\ton 10000 replicates)\n",
       "\n",
       "data:  res.d3[\"O\", ]\n",
       "X-squared = 105.86, df = NA, p-value = 9.999e-05\n"
      ]
     },
     "metadata": {},
     "output_type": "display_data"
    }
   ],
   "source": [
    "chisq.test(res.d3[\"O\",], p=res.d3[\"E\",], rescale=TRUE, simulate.p.value=TRUE, B=10000)"
   ]
  },
  {
   "cell_type": "markdown",
   "metadata": {},
   "source": [
    "## 12.4 $\\chi^2$独立性検定"
   ]
  },
  {
   "cell_type": "code",
   "execution_count": 94,
   "metadata": {
    "collapsed": false
   },
   "outputs": [
    {
     "name": "stdout",
     "output_type": "stream",
     "text": [
      "     [,1] [,2]\n",
      "[1,]   25   15\n",
      "[2,]   10   30\n"
     ]
    }
   ],
   "source": [
    "d4 <- matrix(c(25, 15, 10, 30), nrow=2, ncol=2, byrow=TRUE)\n",
    "print(d4)"
   ]
  },
  {
   "cell_type": "code",
   "execution_count": 96,
   "metadata": {
    "collapsed": false
   },
   "outputs": [
    {
     "data": {
      "text/html": [
       "<ol class=list-inline>\n",
       "\t<li>40</li>\n",
       "\t<li>40</li>\n",
       "</ol>\n"
      ],
      "text/latex": [
       "\\begin{enumerate*}\n",
       "\\item 40\n",
       "\\item 40\n",
       "\\end{enumerate*}\n"
      ],
      "text/markdown": [
       "1. 40\n",
       "2. 40\n",
       "\n",
       "\n"
      ],
      "text/plain": [
       "[1] 40 40"
      ]
     },
     "metadata": {},
     "output_type": "display_data"
    }
   ],
   "source": [
    "rowSums(d4)"
   ]
  },
  {
   "cell_type": "code",
   "execution_count": 97,
   "metadata": {
    "collapsed": false
   },
   "outputs": [
    {
     "data": {
      "text/html": [
       "<ol class=list-inline>\n",
       "\t<li>35</li>\n",
       "\t<li>45</li>\n",
       "</ol>\n"
      ],
      "text/latex": [
       "\\begin{enumerate*}\n",
       "\\item 35\n",
       "\\item 45\n",
       "\\end{enumerate*}\n"
      ],
      "text/markdown": [
       "1. 35\n",
       "2. 45\n",
       "\n",
       "\n"
      ],
      "text/plain": [
       "[1] 35 45"
      ]
     },
     "metadata": {},
     "output_type": "display_data"
    }
   ],
   "source": [
    "colSums(d4)"
   ]
  },
  {
   "cell_type": "code",
   "execution_count": 98,
   "metadata": {
    "collapsed": false
   },
   "outputs": [
    {
     "data": {
      "text/html": [
       "80"
      ],
      "text/latex": [
       "80"
      ],
      "text/markdown": [
       "80"
      ],
      "text/plain": [
       "[1] 80"
      ]
     },
     "metadata": {},
     "output_type": "display_data"
    }
   ],
   "source": [
    "sum(d4)"
   ]
  },
  {
   "cell_type": "code",
   "execution_count": 104,
   "metadata": {
    "collapsed": false
   },
   "outputs": [
    {
     "name": "stdout",
     "output_type": "stream",
     "text": [
      "     [,1] [,2]\n",
      "[1,] 17.5 22.5\n",
      "[2,] 17.5 22.5\n"
     ]
    }
   ],
   "source": [
    "d4.expected <- matrix(rep(rowSums(d4) *colSums(d4) / sum(d4), 2), nrow=2, ncol=2, byrow=TRUE)\n",
    "print(d4.expected)"
   ]
  },
  {
   "cell_type": "markdown",
   "metadata": {},
   "source": [
    "$X^2$ 値"
   ]
  },
  {
   "cell_type": "code",
   "execution_count": 105,
   "metadata": {
    "collapsed": false
   },
   "outputs": [
    {
     "data": {
      "text/html": [
       "11.4285714285714"
      ],
      "text/latex": [
       "11.4285714285714"
      ],
      "text/markdown": [
       "11.4285714285714"
      ],
      "text/plain": [
       "[1] 11.42857"
      ]
     },
     "metadata": {},
     "output_type": "display_data"
    }
   ],
   "source": [
    "sum((d4 - d4.expected)**2 / d4.expected)"
   ]
  },
  {
   "cell_type": "markdown",
   "metadata": {},
   "source": [
    "棄却値"
   ]
  },
  {
   "cell_type": "code",
   "execution_count": 109,
   "metadata": {
    "collapsed": false
   },
   "outputs": [
    {
     "data": {
      "text/html": [
       "3.84145882069413"
      ],
      "text/latex": [
       "3.84145882069413"
      ],
      "text/markdown": [
       "3.84145882069413"
      ],
      "text/plain": [
       "[1] 3.841459"
      ]
     },
     "metadata": {},
     "output_type": "display_data"
    }
   ],
   "source": [
    "qchisq(0.05, df=1, lower.tail = FALSE)"
   ]
  },
  {
   "cell_type": "code",
   "execution_count": 110,
   "metadata": {
    "collapsed": false
   },
   "outputs": [
    {
     "data": {
      "text/plain": [
       "\n",
       "\tPearson's Chi-squared test with Yates' continuity correction\n",
       "\n",
       "data:  d4\n",
       "X-squared = 9.9556, df = 1, p-value = 0.001604\n"
      ]
     },
     "metadata": {},
     "output_type": "display_data"
    }
   ],
   "source": [
    "chisq.test(d4)"
   ]
  },
  {
   "cell_type": "markdown",
   "metadata": {},
   "source": [
    "補正なし"
   ]
  },
  {
   "cell_type": "code",
   "execution_count": 111,
   "metadata": {
    "collapsed": false
   },
   "outputs": [
    {
     "data": {
      "text/plain": [
       "\n",
       "\tPearson's Chi-squared test\n",
       "\n",
       "data:  d4\n",
       "X-squared = 11.429, df = 1, p-value = 0.0007232\n"
      ]
     },
     "metadata": {},
     "output_type": "display_data"
    }
   ],
   "source": [
    "chisq.test(d4, correct=FALSE)"
   ]
  },
  {
   "cell_type": "markdown",
   "metadata": {},
   "source": [
    "## 12.5 $\\chi^2$独立性検定 vs. 分割表の対数尤度比検定（G検定）"
   ]
  },
  {
   "cell_type": "code",
   "execution_count": 112,
   "metadata": {
    "collapsed": false
   },
   "outputs": [
    {
     "name": "stdout",
     "output_type": "stream",
     "text": [
      "     [,1] [,2] [,3] [,4]\n",
      "[1,]   32   43   16    9\n",
      "[2,]   55   65   64   16\n"
     ]
    }
   ],
   "source": [
    "hair <- matrix(c(32, 43, 16, 9, 55, 65, 64, 16), nrow=2, ncol=4, byrow=TRUE)\n",
    "print(hair)"
   ]
  },
  {
   "cell_type": "code",
   "execution_count": 114,
   "metadata": {
    "collapsed": false
   },
   "outputs": [
    {
     "data": {
      "text/plain": [
       "\n",
       "\tPearson's Chi-squared test\n",
       "\n",
       "data:  hair\n",
       "X-squared = 8.9872, df = 3, p-value = 0.02946\n"
      ]
     },
     "metadata": {},
     "output_type": "display_data"
    }
   ],
   "source": [
    "chisq.test(hair)"
   ]
  },
  {
   "cell_type": "markdown",
   "metadata": {},
   "source": [
    "$$ G = 2\\left[ \\sum\\limits^m_{i=1}\\sum\\limits^n_{j=1}O_n\\ln\\left(\\frac{O_{ij}}{E_{ij}}\\right) \\right] $$"
   ]
  },
  {
   "cell_type": "code",
   "execution_count": 115,
   "metadata": {
    "collapsed": false
   },
   "outputs": [
    {
     "name": "stderr",
     "output_type": "stream",
     "text": [
      "Dev mode: ON\n"
     ]
    }
   ],
   "source": [
    "devtools::dev_mode(TRUE, \"Chap12\")"
   ]
  },
  {
   "cell_type": "code",
   "execution_count": 119,
   "metadata": {
    "collapsed": false
   },
   "outputs": [
    {
     "name": "stderr",
     "output_type": "stream",
     "text": [
      "Warning message:\n",
      "\"package 'Deducer' was built under R version 3.3.3\"Loading required package: ggplot2\n",
      "Warning message:\n",
      "\"package 'ggplot2' was built under R version 3.3.3\"Loading required package: JGR\n",
      "Warning message:\n",
      "\"package 'JGR' was built under R version 3.3.3\"Loading required package: rJava\n",
      "Loading required package: JavaGD\n",
      "Loading required package: iplots\n",
      "Warning message:\n",
      "\"package 'iplots' was built under R version 3.3.3\"\n",
      "Please type JGR() to launch console. Platform specific launchers (.exe and .app) can also be obtained at http://www.rforge.net/JGR/files/.\n",
      "\n",
      "\n",
      "Loading required package: car\n",
      "Warning message:\n",
      "\"package 'car' was built under R version 3.3.3\"Warning message:\n",
      "\"replacing previous import 'lme4::sigma' by 'stats::sigma' when loading 'pbkrtest'\"\n",
      "Attaching package: 'car'\n",
      "\n",
      "The following object is masked from 'package:dplyr':\n",
      "\n",
      "    recode\n",
      "\n",
      "Loading required package: MASS\n",
      "\n",
      "Attaching package: 'MASS'\n",
      "\n",
      "The following object is masked from 'package:dplyr':\n",
      "\n",
      "    select\n",
      "\n",
      "\n",
      "\n",
      "Note Non-JGR console detected:\n",
      "\tDeducer is best used from within JGR (http://jgr.markushelbig.org/).\n",
      "\tTo Bring up GUI dialogs, type deducer().\n",
      "\n"
     ]
    }
   ],
   "source": [
    "library(\"Deducer\")"
   ]
  },
  {
   "cell_type": "code",
   "execution_count": 120,
   "metadata": {
    "collapsed": false
   },
   "outputs": [
    {
     "data": {
      "text/plain": [
       "\n",
       "\tLog likelihood ratio (G-test) test of independence without correction\n",
       "\n",
       "data:  hair\n",
       "Log likelihood ratio statistic (G) = 9.5121, X-squared df = 3, p-value\n",
       "= 0.0232\n"
      ]
     },
     "metadata": {},
     "output_type": "display_data"
    }
   ],
   "source": [
    "likelihood.test(hair)"
   ]
  },
  {
   "cell_type": "code",
   "execution_count": 122,
   "metadata": {
    "collapsed": false
   },
   "outputs": [
    {
     "name": "stderr",
     "output_type": "stream",
     "text": [
      "Dev mode: OFF\n"
     ]
    }
   ],
   "source": [
    "devtools::dev_mode(FALSE)"
   ]
  },
  {
   "cell_type": "markdown",
   "metadata": {},
   "source": [
    "## 12.6 フィッシャーの正確確率法\n",
    "\n",
    "* 超幾何分布\n",
    "\n",
    "$$ P(X=k) = \\frac{\\binom{K}{k} \\binom{N-K}{n-k} }{\\binom{N}{k}} $$\n",
    "\n",
    "$$ p = \\frac{(a+b)!(c+d)!(a+c)!(b+d)!}{N!a!b!c!d!} $$\n",
    "\n",
    "例題: 淡水性巻貝2種の水流への耐性"
   ]
  },
  {
   "cell_type": "code",
   "execution_count": 123,
   "metadata": {
    "collapsed": false
   },
   "outputs": [
    {
     "data": {
      "text/html": [
       "<table>\n",
       "<tbody>\n",
       "\t<tr><td>12</td><td>7 </td></tr>\n",
       "\t<tr><td> 2</td><td>9 </td></tr>\n",
       "</tbody>\n",
       "</table>\n"
      ],
      "text/latex": [
       "\\begin{tabular}{ll}\n",
       "\t 12 & 7 \\\\\n",
       "\t  2 & 9 \\\\\n",
       "\\end{tabular}\n"
      ],
      "text/markdown": [
       "\n",
       "| 12 | 7  | \n",
       "|  2 | 9  | \n",
       "\n",
       "\n"
      ],
      "text/plain": [
       "     [,1] [,2]\n",
       "[1,] 12   7   \n",
       "[2,]  2   9   "
      ]
     },
     "metadata": {},
     "output_type": "display_data"
    }
   ],
   "source": [
    "shellfish.a <- matrix(c(12, 7, 2, 9), 2, 2, TRUE)\n",
    "shellfish.a"
   ]
  },
  {
   "cell_type": "code",
   "execution_count": 124,
   "metadata": {
    "collapsed": true
   },
   "outputs": [],
   "source": [
    "shellfish.b <- matrix(c(13, 6, 1, 10), 2, 2, TRUE)"
   ]
  },
  {
   "cell_type": "code",
   "execution_count": 125,
   "metadata": {
    "collapsed": true
   },
   "outputs": [],
   "source": [
    "shellfish.c <- matrix(c(14, 5, 0, 11), 2, 2, TRUE)"
   ]
  },
  {
   "cell_type": "code",
   "execution_count": 126,
   "metadata": {
    "collapsed": false
   },
   "outputs": [
    {
     "data": {
      "text/plain": [
       "\n",
       "\tFisher's Exact Test for Count Data\n",
       "\n",
       "data:  shellfish.a\n",
       "p-value = 0.02119\n",
       "alternative hypothesis: true odds ratio is greater than 1\n",
       "95 percent confidence interval:\n",
       " 1.331695      Inf\n",
       "sample estimates:\n",
       "odds ratio \n",
       "  7.166131 \n"
      ]
     },
     "metadata": {},
     "output_type": "display_data"
    }
   ],
   "source": [
    "fisher.test(shellfish.a, alternative = \"greater\")"
   ]
  },
  {
   "cell_type": "code",
   "execution_count": 127,
   "metadata": {
    "collapsed": false,
    "deletable": true,
    "editable": true
   },
   "outputs": [
    {
     "data": {
      "text/plain": [
       "\n",
       "\tFisher's Exact Test for Count Data\n",
       "\n",
       "data:  shellfish.b\n",
       "p-value = 0.002132\n",
       "alternative hypothesis: true odds ratio is greater than 1\n",
       "95 percent confidence interval:\n",
       " 2.551358      Inf\n",
       "sample estimates:\n",
       "odds ratio \n",
       "  19.30456 \n"
      ]
     },
     "metadata": {},
     "output_type": "display_data"
    }
   ],
   "source": [
    "fisher.test(shellfish.b, alternative = \"greater\")"
   ]
  },
  {
   "cell_type": "code",
   "execution_count": 128,
   "metadata": {
    "collapsed": false,
    "deletable": true,
    "editable": true
   },
   "outputs": [
    {
     "data": {
      "text/plain": [
       "\n",
       "\tFisher's Exact Test for Count Data\n",
       "\n",
       "data:  shellfish.c\n",
       "p-value = 7.996e-05\n",
       "alternative hypothesis: true odds ratio is greater than 1\n",
       "95 percent confidence interval:\n",
       " 5.92269     Inf\n",
       "sample estimates:\n",
       "odds ratio \n",
       "       Inf \n"
      ]
     },
     "metadata": {},
     "output_type": "display_data"
    }
   ],
   "source": [
    "fisher.test(shellfish.c, alternative = \"greater\")"
   ]
  },
  {
   "cell_type": "markdown",
   "metadata": {},
   "source": [
    "例題: 髪の色"
   ]
  },
  {
   "cell_type": "code",
   "execution_count": 129,
   "metadata": {
    "collapsed": false
   },
   "outputs": [
    {
     "data": {
      "text/plain": [
       "\n",
       "\tFisher's Exact Test for Count Data\n",
       "\n",
       "data:  hair\n",
       "p-value = 0.0241\n",
       "alternative hypothesis: two.sided\n"
      ]
     },
     "metadata": {},
     "output_type": "display_data"
    }
   ],
   "source": [
    "fisher.test(hair)"
   ]
  },
  {
   "cell_type": "markdown",
   "metadata": {},
   "source": [
    "## 12.7 オッズ比\n",
    "\n",
    "オッズ比（$\\hat{\\theta}$）\n",
    "\n",
    "$$ \\hat{\\theta} = \\frac{p/(1-p)}{q/(1-q)} $$\n",
    "\n",
    "2 $\\times$ 2 分割表では，\n",
    "\n",
    "$$ \\hat{\\theta} = \\frac{a_{11}a_{22}}{a_{12}a_{21}} $$\n",
    "\n",
    "対数オッズ比: 正規分布に収束\n",
    "\n",
    "$$ \\ln\\hat{\\theta} = \\ln a_{11} + \\ln a_{22} - \\ln a_{12} - \\ln a_{21}$$\n",
    "\n",
    "標準誤差は，\n",
    "\n",
    "$$ SE(\\ln \\hat{\\theta}) = \\sqrt{\\frac{1}{a_{11}} + \\frac{1}{a_{22}} + \\frac{1}{a_{12}} + \\frac{1}{a_{21}}} $$"
   ]
  },
  {
   "cell_type": "code",
   "execution_count": 130,
   "metadata": {
    "collapsed": false
   },
   "outputs": [
    {
     "data": {
      "text/html": [
       "<ol class=list-inline>\n",
       "\t<li>'d2'</li>\n",
       "\t<li>'d3'</li>\n",
       "\t<li>'d3.expected'</li>\n",
       "\t<li>'d4'</li>\n",
       "\t<li>'d4.expected'</li>\n",
       "\t<li>'egg'</li>\n",
       "\t<li>'egg.expected'</li>\n",
       "\t<li>'hair'</li>\n",
       "\t<li>'plt.d3'</li>\n",
       "\t<li>'res.d3'</li>\n",
       "\t<li>'shellfish.a'</li>\n",
       "\t<li>'shellfish.b'</li>\n",
       "\t<li>'shellfish.c'</li>\n",
       "</ol>\n"
      ],
      "text/latex": [
       "\\begin{enumerate*}\n",
       "\\item 'd2'\n",
       "\\item 'd3'\n",
       "\\item 'd3.expected'\n",
       "\\item 'd4'\n",
       "\\item 'd4.expected'\n",
       "\\item 'egg'\n",
       "\\item 'egg.expected'\n",
       "\\item 'hair'\n",
       "\\item 'plt.d3'\n",
       "\\item 'res.d3'\n",
       "\\item 'shellfish.a'\n",
       "\\item 'shellfish.b'\n",
       "\\item 'shellfish.c'\n",
       "\\end{enumerate*}\n"
      ],
      "text/markdown": [
       "1. 'd2'\n",
       "2. 'd3'\n",
       "3. 'd3.expected'\n",
       "4. 'd4'\n",
       "5. 'd4.expected'\n",
       "6. 'egg'\n",
       "7. 'egg.expected'\n",
       "8. 'hair'\n",
       "9. 'plt.d3'\n",
       "10. 'res.d3'\n",
       "11. 'shellfish.a'\n",
       "12. 'shellfish.b'\n",
       "13. 'shellfish.c'\n",
       "\n",
       "\n"
      ],
      "text/plain": [
       " [1] \"d2\"           \"d3\"           \"d3.expected\"  \"d4\"           \"d4.expected\" \n",
       " [6] \"egg\"          \"egg.expected\" \"hair\"         \"plt.d3\"       \"res.d3\"      \n",
       "[11] \"shellfish.a\"  \"shellfish.b\"  \"shellfish.c\" "
      ]
     },
     "metadata": {},
     "output_type": "display_data"
    }
   ],
   "source": [
    "ls()"
   ]
  },
  {
   "cell_type": "code",
   "execution_count": 131,
   "metadata": {
    "collapsed": false
   },
   "outputs": [
    {
     "data": {
      "text/html": [
       "<table>\n",
       "<tbody>\n",
       "\t<tr><td>54   </td><td>10325</td></tr>\n",
       "\t<tr><td>25   </td><td>51790</td></tr>\n",
       "</tbody>\n",
       "</table>\n"
      ],
      "text/latex": [
       "\\begin{tabular}{ll}\n",
       "\t 54    & 10325\\\\\n",
       "\t 25    & 51790\\\\\n",
       "\\end{tabular}\n"
      ],
      "text/markdown": [
       "\n",
       "| 54    | 10325 | \n",
       "| 25    | 51790 | \n",
       "\n",
       "\n"
      ],
      "text/plain": [
       "     [,1] [,2] \n",
       "[1,] 54   10325\n",
       "[2,] 25   51790"
      ]
     },
     "metadata": {},
     "output_type": "display_data"
    }
   ],
   "source": [
    "d5 <- matrix(c(54, 10325, 25, 51790), 2, 2, TRUE)\n",
    "d5"
   ]
  },
  {
   "cell_type": "markdown",
   "metadata": {},
   "source": [
    "オッズ比"
   ]
  },
  {
   "cell_type": "code",
   "execution_count": 133,
   "metadata": {
    "collapsed": false
   },
   "outputs": [
    {
     "data": {
      "text/html": [
       "10.8345181598063"
      ],
      "text/latex": [
       "10.8345181598063"
      ],
      "text/markdown": [
       "10.8345181598063"
      ],
      "text/plain": [
       "[1] 10.83452"
      ]
     },
     "metadata": {},
     "output_type": "display_data"
    }
   ],
   "source": [
    "d5[1] * d5[4] / (d5[2] * d5[3])"
   ]
  },
  {
   "cell_type": "markdown",
   "metadata": {},
   "source": [
    "対数オッズ比"
   ]
  },
  {
   "cell_type": "code",
   "execution_count": 137,
   "metadata": {
    "collapsed": false
   },
   "outputs": [
    {
     "data": {
      "text/html": [
       "2.38273716328478"
      ],
      "text/latex": [
       "2.38273716328478"
      ],
      "text/markdown": [
       "2.38273716328478"
      ],
      "text/plain": [
       "[1] 2.382737"
      ]
     },
     "metadata": {},
     "output_type": "display_data"
    }
   ],
   "source": [
    "log(d5[1]) + log(d5[4]) - log(d5[2]) - log(d5[3])"
   ]
  },
  {
   "cell_type": "markdown",
   "metadata": {},
   "source": [
    "対数オッズ比の標準誤差"
   ]
  },
  {
   "cell_type": "code",
   "execution_count": 138,
   "metadata": {
    "collapsed": false
   },
   "outputs": [
    {
     "data": {
      "text/html": [
       "0.242145988126219"
      ],
      "text/latex": [
       "0.242145988126219"
      ],
      "text/markdown": [
       "0.242145988126219"
      ],
      "text/plain": [
       "[1] 0.242146"
      ]
     },
     "metadata": {},
     "output_type": "display_data"
    }
   ],
   "source": [
    "sqrt(1/d5[1] + 1/d5[2] + 1/d5[3] + 1/d5[4])"
   ]
  },
  {
   "cell_type": "markdown",
   "metadata": {},
   "source": [
    "95%信頼区間"
   ]
  },
  {
   "cell_type": "code",
   "execution_count": 158,
   "metadata": {
    "collapsed": false
   },
   "outputs": [
    {
     "data": {
      "text/html": [
       "<ol class=list-inline>\n",
       "\t<li>-1.95996398454005</li>\n",
       "\t<li>1.95996398454005</li>\n",
       "</ol>\n"
      ],
      "text/latex": [
       "\\begin{enumerate*}\n",
       "\\item -1.95996398454005\n",
       "\\item 1.95996398454005\n",
       "\\end{enumerate*}\n"
      ],
      "text/markdown": [
       "1. -1.95996398454005\n",
       "2. 1.95996398454005\n",
       "\n",
       "\n"
      ],
      "text/plain": [
       "[1] -1.959964  1.959964"
      ]
     },
     "metadata": {},
     "output_type": "display_data"
    }
   ],
   "source": [
    "qnorm(c(0.025, 0.975))"
   ]
  },
  {
   "cell_type": "code",
   "execution_count": 157,
   "metadata": {
    "collapsed": false
   },
   "outputs": [
    {
     "data": {
      "text/html": [
       "<ol class=list-inline>\n",
       "\t<li>1.90814152096355</li>\n",
       "\t<li>2.85733247903645</li>\n",
       "</ol>\n"
      ],
      "text/latex": [
       "\\begin{enumerate*}\n",
       "\\item 1.90814152096355\n",
       "\\item 2.85733247903645\n",
       "\\end{enumerate*}\n"
      ],
      "text/markdown": [
       "1. 1.90814152096355\n",
       "2. 2.85733247903645\n",
       "\n",
       "\n"
      ],
      "text/plain": [
       "[1] 1.908142 2.857332"
      ]
     },
     "metadata": {},
     "output_type": "display_data"
    }
   ],
   "source": [
    "2.382737 + qnorm(c(0.025, 0.975)) * 0.242145"
   ]
  },
  {
   "cell_type": "code",
   "execution_count": 156,
   "metadata": {
    "collapsed": false
   },
   "outputs": [
    {
     "data": {
      "text/html": [
       "<ol class=list-inline>\n",
       "\t<li>6.74054997974288</li>\n",
       "\t<li>17.4150100174328</li>\n",
       "</ol>\n"
      ],
      "text/latex": [
       "\\begin{enumerate*}\n",
       "\\item 6.74054997974288\n",
       "\\item 17.4150100174328\n",
       "\\end{enumerate*}\n"
      ],
      "text/markdown": [
       "1. 6.74054997974288\n",
       "2. 17.4150100174328\n",
       "\n",
       "\n"
      ],
      "text/plain": [
       "[1]  6.74055 17.41501"
      ]
     },
     "metadata": {},
     "output_type": "display_data"
    }
   ],
   "source": [
    "exp(2.382737 + qnorm(c(0.025, 0.975)) * 0.242145)"
   ]
  },
  {
   "cell_type": "markdown",
   "metadata": {},
   "source": [
    "手計算は Agresti (2013)らしい"
   ]
  },
  {
   "cell_type": "code",
   "execution_count": 146,
   "metadata": {
    "collapsed": false
   },
   "outputs": [
    {
     "data": {
      "text/plain": [
       "\n",
       "\tFisher's Exact Test for Count Data\n",
       "\n",
       "data:  d5\n",
       "p-value < 2.2e-16\n",
       "alternative hypothesis: true odds ratio is not equal to TRUE\n",
       "95 percent confidence interval:\n",
       "  6.623513 18.173941\n",
       "sample estimates:\n",
       "odds ratio \n",
       "  10.83069 \n"
      ]
     },
     "metadata": {},
     "output_type": "display_data"
    }
   ],
   "source": [
    "fisher.test(d5, or=TRUE, conf.level = 0.95)"
   ]
  },
  {
   "cell_type": "code",
   "execution_count": 159,
   "metadata": {
    "collapsed": false
   },
   "outputs": [
    {
     "name": "stderr",
     "output_type": "stream",
     "text": [
      "Session info -------------------------------------------------------------------\n",
      "Packages -----------------------------------------------------------------------\n"
     ]
    },
    {
     "data": {
      "text/plain": [
       " setting  value                       \n",
       " version  R version 3.3.2 (2016-10-31)\n",
       " system   x86_64, mingw32             \n",
       " ui       RTerm                       \n",
       " language en                          \n",
       " collate  Japanese_Japan.932          \n",
       " tz       Asia/Tokyo                  \n",
       " date     2017-07-19                  \n",
       "\n",
       " package      * version    date       source                            \n",
       " assertthat     0.2.0      2017-04-11 CRAN (R 3.3.2)                    \n",
       " Cairo          1.5-9      2015-09-26 CRAN (R 3.2.2)                    \n",
       " car          * 2.1-4      2016-12-02 CRAN (R 3.3.3)                    \n",
       " class          7.3-14     2015-08-30 CRAN (R 3.3.2)                    \n",
       " codetools      0.2-15     2016-10-05 CRAN (R 3.3.2)                    \n",
       " colorspace     1.3-2      2016-12-14 CRAN (R 3.3.3)                    \n",
       " crayon         1.3.2      2016-06-28 CRAN (R 3.3.1)                    \n",
       " Deducer      * 0.7-9      2015-12-29 CRAN (R 3.3.3)                    \n",
       " devtools       1.12.0     2016-06-24 CRAN (R 3.3.1)                    \n",
       " digest         0.6.12     2017-01-27 CRAN (R 3.3.3)                    \n",
       " dplyr        * 0.7.0      2017-06-09 CRAN (R 3.3.3)                    \n",
       " e1071          1.6-8      2017-02-02 CRAN (R 3.3.3)                    \n",
       " effects        3.1-2      2016-10-05 CRAN (R 3.3.3)                    \n",
       " evaluate       0.10       2016-10-11 CRAN (R 3.3.2)                    \n",
       " foreign        0.8-67     2016-09-13 CRAN (R 3.3.2)                    \n",
       " ggplot2      * 2.2.1      2016-12-30 CRAN (R 3.3.3)                    \n",
       " glue           1.0.0      2017-04-17 CRAN (R 3.3.3)                    \n",
       " gtable         0.2.0      2016-02-26 CRAN (R 3.2.5)                    \n",
       " iplots       * 1.1-7      2013-12-03 CRAN (R 3.3.3)                    \n",
       " IRdisplay      0.4.4      2016-08-02 CRAN (R 3.3.1)                    \n",
       " IRkernel       0.8.6.9000 2017-04-13 Github (IRkernel/IRkernel@29ae7df)\n",
       " JavaGD       * 0.6-1      2012-09-13 CRAN (R 3.3.2)                    \n",
       " JGR          * 1.7-16     2013-12-21 CRAN (R 3.3.3)                    \n",
       " jsonlite       1.4        2017-04-08 CRAN (R 3.3.3)                    \n",
       " lattice        0.20-34    2016-09-06 CRAN (R 3.3.2)                    \n",
       " lazyeval       0.2.0      2016-06-12 CRAN (R 3.2.5)                    \n",
       " lme4           1.1-12     2016-04-16 CRAN (R 3.2.5)                    \n",
       " magrittr       1.5        2014-11-22 CRAN (R 3.2.1)                    \n",
       " MASS         * 7.3-45     2016-04-21 CRAN (R 3.3.2)                    \n",
       " Matrix         1.2-7.1    2016-09-01 CRAN (R 3.3.2)                    \n",
       " MatrixModels   0.4-1      2015-08-22 CRAN (R 3.2.3)                    \n",
       " memoise        1.0.0      2016-01-29 CRAN (R 3.2.3)                    \n",
       " mgcv           1.8-15     2016-09-14 CRAN (R 3.3.2)                    \n",
       " minqa          1.2.4      2014-10-09 CRAN (R 3.2.3)                    \n",
       " multcomp       1.4-6      2016-07-14 CRAN (R 3.3.3)                    \n",
       " munsell        0.4.3      2016-02-13 CRAN (R 3.2.5)                    \n",
       " mvtnorm        1.0-6      2017-03-02 CRAN (R 3.3.2)                    \n",
       " nlme           3.1-128    2016-05-10 CRAN (R 3.3.2)                    \n",
       " nloptr         1.0.4      2014-08-04 CRAN (R 3.2.3)                    \n",
       " nnet           7.3-12     2016-02-02 CRAN (R 3.3.2)                    \n",
       " pbdZMQ         0.2-5      2016-12-18 CRAN (R 3.3.3)                    \n",
       " pbkrtest       0.4-7      2017-03-15 CRAN (R 3.3.3)                    \n",
       " plyr           1.8.4      2016-06-08 CRAN (R 3.2.5)                    \n",
       " png            0.1-7      2013-12-03 CRAN (R 3.2.1)                    \n",
       " quantreg       5.29       2016-09-04 CRAN (R 3.2.5)                    \n",
       " R6             2.2.1      2017-05-10 CRAN (R 3.3.3)                    \n",
       " Rcpp           0.12.11    2017-05-22 CRAN (R 3.3.3)                    \n",
       " repr           0.12.0     2017-04-07 CRAN (R 3.3.3)                    \n",
       " rJava        * 0.9-8      2016-01-07 CRAN (R 3.3.2)                    \n",
       " rlang          0.1.1      2017-05-18 CRAN (R 3.3.3)                    \n",
       " sandwich       2.3-4      2015-09-24 CRAN (R 3.3.3)                    \n",
       " scales         0.4.1      2016-11-09 CRAN (R 3.3.2)                    \n",
       " SparseM        1.76       2017-03-09 CRAN (R 3.3.3)                    \n",
       " stringi        1.1.5      2017-04-07 CRAN (R 3.3.3)                    \n",
       " stringr        1.2.0      2017-02-18 CRAN (R 3.3.3)                    \n",
       " survival       2.40-1     2016-10-30 CRAN (R 3.3.2)                    \n",
       " TH.data        1.0-8      2017-01-23 CRAN (R 3.3.3)                    \n",
       " tibble         1.3.3      2017-05-28 CRAN (R 3.3.3)                    \n",
       " uuid           0.1-2      2015-07-28 CRAN (R 3.3.1)                    \n",
       " withr          1.0.2      2016-06-20 CRAN (R 3.2.5)                    \n",
       " zoo            1.7-14     2016-12-16 CRAN (R 3.3.3)                    "
      ]
     },
     "metadata": {},
     "output_type": "display_data"
    }
   ],
   "source": [
    "devtools::session_info()"
   ]
  }
 ],
 "metadata": {
  "anaconda-cloud": {},
  "kernelspec": {
   "display_name": "R",
   "language": "R",
   "name": "ir"
  },
  "language_info": {
   "codemirror_mode": "r",
   "file_extension": ".r",
   "mimetype": "text/x-r-source",
   "name": "R",
   "pygments_lexer": "r",
   "version": "3.3.2"
  }
 },
 "nbformat": 4,
 "nbformat_minor": 1
}
