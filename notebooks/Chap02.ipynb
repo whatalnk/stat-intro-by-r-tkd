{
 "cells": [
  {
   "cell_type": "markdown",
   "metadata": {},
   "source": [
    "# 第二章 母集団と標本\n",
    "\n",
    "## 2.1 母集団と標本の関係"
   ]
  },
  {
   "cell_type": "code",
   "execution_count": 1,
   "metadata": {
    "collapsed": false
   },
   "outputs": [
    {
     "name": "stderr",
     "output_type": "stream",
     "text": [
      "Loading required package: pipeR\n",
      "Loading required package: dplyr\n",
      "\n",
      "Attaching package: 'dplyr'\n",
      "\n",
      "The following objects are masked from 'package:stats':\n",
      "\n",
      "    filter, lag\n",
      "\n",
      "The following objects are masked from 'package:base':\n",
      "\n",
      "    intersect, setdiff, setequal, union\n",
      "\n",
      "Loading required package: tidyr\n",
      "Warning message:\n",
      "\"package 'tidyr' was built under R version 3.3.3\"Loading required package: ggplot2\n",
      "Warning message:\n",
      "\"package 'ggplot2' was built under R version 3.3.3\""
     ]
    },
    {
     "data": {
      "text/html": [
       "<dl class=dl-horizontal>\n",
       "\t<dt>pipeR</dt>\n",
       "\t\t<dd>TRUE</dd>\n",
       "\t<dt>dplyr</dt>\n",
       "\t\t<dd>TRUE</dd>\n",
       "\t<dt>tidyr</dt>\n",
       "\t\t<dd>TRUE</dd>\n",
       "\t<dt>ggplot2</dt>\n",
       "\t\t<dd>TRUE</dd>\n",
       "</dl>\n"
      ],
      "text/latex": [
       "\\begin{description*}\n",
       "\\item[pipeR] TRUE\n",
       "\\item[dplyr] TRUE\n",
       "\\item[tidyr] TRUE\n",
       "\\item[ggplot2] TRUE\n",
       "\\end{description*}\n"
      ],
      "text/markdown": [
       "pipeR\n",
       ":   TRUEdplyr\n",
       ":   TRUEtidyr\n",
       ":   TRUEggplot2\n",
       ":   TRUE\n",
       "\n"
      ],
      "text/plain": [
       "  pipeR   dplyr   tidyr ggplot2 \n",
       "   TRUE    TRUE    TRUE    TRUE "
      ]
     },
     "metadata": {},
     "output_type": "display_data"
    }
   ],
   "source": [
    "sapply(c(\"pipeR\", \"dplyr\", \"tidyr\", \"ggplot2\"), require,character.only=TRUE)"
   ]
  },
  {
   "cell_type": "markdown",
   "metadata": {},
   "source": [
    "* 全数調査は難しい場合が多いので，抽出調査する（無作為抽出）\n",
    "* 母集団の設定\n",
    "    * 任意性と一般性のトレードオフ\n"
   ]
  },
  {
   "cell_type": "markdown",
   "metadata": {},
   "source": [
    "## 2.2 標本の性質"
   ]
  },
  {
   "cell_type": "code",
   "execution_count": 2,
   "metadata": {
    "collapsed": false
   },
   "outputs": [
    {
     "data": {
      "text/html": [
       "<table>\n",
       "<thead><tr><th scope=col>SampleA</th><th scope=col>SampleB</th></tr></thead>\n",
       "<tbody>\n",
       "\t<tr><td>3 </td><td> 1</td></tr>\n",
       "\t<tr><td>4 </td><td> 2</td></tr>\n",
       "\t<tr><td>4 </td><td> 4</td></tr>\n",
       "\t<tr><td>5 </td><td> 4</td></tr>\n",
       "\t<tr><td>5 </td><td> 5</td></tr>\n",
       "\t<tr><td>5 </td><td> 5</td></tr>\n",
       "\t<tr><td>5 </td><td> 5</td></tr>\n",
       "\t<tr><td>6 </td><td> 6</td></tr>\n",
       "\t<tr><td>6 </td><td> 8</td></tr>\n",
       "\t<tr><td>7 </td><td>10</td></tr>\n",
       "</tbody>\n",
       "</table>\n"
      ],
      "text/latex": [
       "\\begin{tabular}{r|ll}\n",
       " SampleA & SampleB\\\\\n",
       "\\hline\n",
       "\t 3  &  1\\\\\n",
       "\t 4  &  2\\\\\n",
       "\t 4  &  4\\\\\n",
       "\t 5  &  4\\\\\n",
       "\t 5  &  5\\\\\n",
       "\t 5  &  5\\\\\n",
       "\t 5  &  5\\\\\n",
       "\t 6  &  6\\\\\n",
       "\t 6  &  8\\\\\n",
       "\t 7  & 10\\\\\n",
       "\\end{tabular}\n"
      ],
      "text/markdown": [
       "\n",
       "SampleA | SampleB | \n",
       "|---|---|---|---|---|---|---|---|---|---|\n",
       "| 3  |  1 | \n",
       "| 4  |  2 | \n",
       "| 4  |  4 | \n",
       "| 5  |  4 | \n",
       "| 5  |  5 | \n",
       "| 5  |  5 | \n",
       "| 5  |  5 | \n",
       "| 6  |  6 | \n",
       "| 6  |  8 | \n",
       "| 7  | 10 | \n",
       "\n",
       "\n"
      ],
      "text/plain": [
       "   SampleA SampleB\n",
       "1  3        1     \n",
       "2  4        2     \n",
       "3  4        4     \n",
       "4  5        4     \n",
       "5  5        5     \n",
       "6  5        5     \n",
       "7  5        5     \n",
       "8  6        6     \n",
       "9  6        8     \n",
       "10 7       10     "
      ]
     },
     "metadata": {},
     "output_type": "display_data"
    }
   ],
   "source": [
    "A <- c(3, 4, 4, 5, 5, 5, 5, 6, 6, 7)\n",
    "B <- c(1, 2, 4, 4, 5, 5, 5, 6, 8, 10)\n",
    "(df1 <- data.frame(SampleA = A, SampleB = B))"
   ]
  },
  {
   "cell_type": "code",
   "execution_count": 14,
   "metadata": {
    "collapsed": true
   },
   "outputs": [],
   "source": [
    "options(repr.plot.width = 6, repr.plot.height = 3)"
   ]
  },
  {
   "cell_type": "code",
   "execution_count": 15,
   "metadata": {
    "collapsed": false
   },
   "outputs": [
    {
     "data": {},
     "metadata": {},
     "output_type": "display_data"
    },
    {
     "data": {
      "image/png": "[encoded data removed]",
      "text/plain": [
       "plot without title"
      ]
     },
     "metadata": {},
     "output_type": "display_data"
    }
   ],
   "source": [
    " df1 %>>% gather(k, v) %>>% \n",
    "    ggplot(aes(v)) + \n",
    "    geom_histogram(binwidth = 1) + \n",
    "    facet_wrap(~k)"
   ]
  },
  {
   "cell_type": "code",
   "execution_count": 9,
   "metadata": {
    "collapsed": true
   },
   "outputs": [],
   "source": [
    "A <- c(43.3, 43.1, 42.6, 42.4, 42.2, 41.8, 41.7, 41.6, 41.5, 41.4, \n",
    "       40.8, 40.6, 40.5, 40.4, 40.4, 40.3, 40.2, 39.9, 39.9, 39.8,\n",
    "       39.7, 39.6, 39.6, 39.5, 39.4, 39.3, 38.9, 38.9, 38.8, 38.8,\n",
    "       38.7, 38.7, 38.6, 38.6, 38.5, 38.4, 38.3, 38.2, 38.1, 38.1,\n",
    "       37.6, 37.4, 37.1, 37.8, 37.6, 37.5, 37.4, 37.3, 37.2, 37.1,\n",
    "       37.1, 36.6, 36.5, 36.5, 36.4, 36.3, 36.2, 36.1, 35.4, 35.3,\n",
    "       35.2, 35.1, 35.1, 34.7, 34.3, 34.2, 33.2, 33.1, 32.7, 31.5)\n",
    "B <- c(47.3, 46.1, 45.6, 45.1, 44.5, 44.4, 43.7, 42.6, 42.5, 42.5, \n",
    "       41.4, 41.8, 41.6, 41.5, 40.7, 40.5, 40.4, 40.3, 40.1, 40.1,\n",
    "       39.9, 39.8, 39.7, 39.6, 39.6, 39.5, 39.4, 38.9, 38.8, 38.8,\n",
    "       38.7, 38.7, 38.6, 38.4, 38.2, 38.1, 38.1, 37.8, 37.7, 37.5,\n",
    "       37.5, 37.4, 37.3, 37.3, 37.1, 36.8, 36.8, 36.7, 36.6, 36.4,\n",
    "       36.2, 35.4, 35.4, 35.4, 35.3, 35.2, 34.9, 34.8, 34.7, 34.7,\n",
    "       33.9, 33.8, 33.7, 33.3, 33.1, 32.8, 32.5, 32.1, 31.7, 29.5)"
   ]
  },
  {
   "cell_type": "code",
   "execution_count": 16,
   "metadata": {
    "collapsed": false
   },
   "outputs": [
    {
     "data": {},
     "metadata": {},
     "output_type": "display_data"
    },
    {
     "data": {
      "image/png": "[encoded data removed]",
      "text/plain": [
       "plot without title"
      ]
     },
     "metadata": {},
     "output_type": "display_data"
    }
   ],
   "source": [
    "data.frame(A = A, B = B) %>>% gather(k, v) %>>% \n",
    "    ggplot(aes(v)) + \n",
    "    geom_histogram(binwidth = 1) + \n",
    "    facet_wrap(~k)   "
   ]
  },
  {
   "cell_type": "markdown",
   "metadata": {},
   "source": [
    "### 2.2.1\n",
    "\n",
    "* 平均値，中央値，最頻値\n",
    "\n",
    "### 2.2.2\n",
    "\n",
    "* 平方和\n",
    "* 標本分散: データの個数に依存しない\n",
    "    * `n` or `n-1`\n",
    "* 標準偏差"
   ]
  },
  {
   "cell_type": "code",
   "execution_count": 17,
   "metadata": {
    "collapsed": false
   },
   "outputs": [
    {
     "data": {
      "text/html": [
       "2.59325610491384"
      ],
      "text/latex": [
       "2.59325610491384"
      ],
      "text/markdown": [
       "2.59325610491384"
      ],
      "text/plain": [
       "[1] 2.593256"
      ]
     },
     "metadata": {},
     "output_type": "display_data"
    }
   ],
   "source": [
    "sd(A)"
   ]
  },
  {
   "cell_type": "code",
   "execution_count": 18,
   "metadata": {
    "collapsed": false
   },
   "outputs": [
    {
     "data": {
      "text/html": [
       "3.68342940395402"
      ],
      "text/latex": [
       "3.68342940395402"
      ],
      "text/markdown": [
       "3.68342940395402"
      ],
      "text/plain": [
       "[1] 3.683429"
      ]
     },
     "metadata": {},
     "output_type": "display_data"
    }
   ],
   "source": [
    "sd(B)"
   ]
  },
  {
   "cell_type": "markdown",
   "metadata": {},
   "source": [
    "* 範囲"
   ]
  },
  {
   "cell_type": "markdown",
   "metadata": {},
   "source": [
    "### 2.2.3 不偏分散"
   ]
  },
  {
   "cell_type": "markdown",
   "metadata": {},
   "source": [
    "## 2.3 Rで計算"
   ]
  },
  {
   "cell_type": "code",
   "execution_count": null,
   "metadata": {
    "collapsed": true
   },
   "outputs": [],
   "source": []
  }
 ],
 "metadata": {
  "anaconda-cloud": {},
  "kernelspec": {
   "display_name": "R",
   "language": "R",
   "name": "ir"
  },
  "language_info": {
   "codemirror_mode": "r",
   "file_extension": ".r",
   "mimetype": "text/x-r-source",
   "name": "R",
   "pygments_lexer": "r",
   "version": "3.3.2"
  }
 },
 "nbformat": 4,
 "nbformat_minor": 1
}
