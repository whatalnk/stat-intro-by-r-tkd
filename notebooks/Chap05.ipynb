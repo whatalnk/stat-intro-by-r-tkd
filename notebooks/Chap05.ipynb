{
 "cells": [
  {
   "cell_type": "code",
   "execution_count": 1,
   "metadata": {
    "collapsed": false
   },
   "outputs": [
    {
     "name": "stderr",
     "output_type": "stream",
     "text": [
      "\n",
      "Attaching package: 'dplyr'\n",
      "\n",
      "The following objects are masked from 'package:stats':\n",
      "\n",
      "    filter, lag\n",
      "\n",
      "The following objects are masked from 'package:base':\n",
      "\n",
      "    intersect, setdiff, setequal, union\n",
      "\n",
      "Warning message:\n",
      "\"package 'tidyr' was built under R version 3.3.3\"Warning message:\n",
      "\"package 'ggplot2' was built under R version 3.3.3\"Warning message:\n",
      "\"package 'readr' was built under R version 3.3.3\"\n",
      "Attaching package: 'gridExtra'\n",
      "\n",
      "The following object is masked from 'package:dplyr':\n",
      "\n",
      "    combine\n",
      "\n"
     ]
    }
   ],
   "source": [
    "library(dplyr)\n",
    "library(tidyr)\n",
    "library(ggplot2)\n",
    "library(readr)\n",
    "library(gridExtra)\n",
    "library(Cairo)"
   ]
  },
  {
   "cell_type": "markdown",
   "metadata": {},
   "source": [
    "## 5.1 2標本の平均値間の“有意な差”とは？"
   ]
  },
  {
   "cell_type": "code",
   "execution_count": 2,
   "metadata": {
    "collapsed": false
   },
   "outputs": [
    {
     "data": {
      "text/html": [
       "<table>\n",
       "<thead><tr><th scope=col>m</th><th scope=col>f</th></tr></thead>\n",
       "<tbody>\n",
       "\t<tr><td>143.1</td><td>138.7</td></tr>\n",
       "\t<tr><td>140.9</td><td>142.8</td></tr>\n",
       "\t<tr><td>147.2</td><td>150.3</td></tr>\n",
       "\t<tr><td>139.8</td><td>148.4</td></tr>\n",
       "\t<tr><td>141.3</td><td>141.7</td></tr>\n",
       "\t<tr><td>150.7</td><td>149.5</td></tr>\n",
       "</tbody>\n",
       "</table>\n"
      ],
      "text/latex": [
       "\\begin{tabular}{r|ll}\n",
       " m & f\\\\\n",
       "\\hline\n",
       "\t 143.1 & 138.7\\\\\n",
       "\t 140.9 & 142.8\\\\\n",
       "\t 147.2 & 150.3\\\\\n",
       "\t 139.8 & 148.4\\\\\n",
       "\t 141.3 & 141.7\\\\\n",
       "\t 150.7 & 149.5\\\\\n",
       "\\end{tabular}\n"
      ],
      "text/markdown": [
       "\n",
       "m | f | \n",
       "|---|---|---|---|---|---|\n",
       "| 143.1 | 138.7 | \n",
       "| 140.9 | 142.8 | \n",
       "| 147.2 | 150.3 | \n",
       "| 139.8 | 148.4 | \n",
       "| 141.3 | 141.7 | \n",
       "| 150.7 | 149.5 | \n",
       "\n",
       "\n"
      ],
      "text/plain": [
       "  m     f    \n",
       "1 143.1 138.7\n",
       "2 140.9 142.8\n",
       "3 147.2 150.3\n",
       "4 139.8 148.4\n",
       "5 141.3 141.7\n",
       "6 150.7 149.5"
      ]
     },
     "metadata": {},
     "output_type": "display_data"
    }
   ],
   "source": [
    "data1 <- data_frame(\n",
    "    m = c(143.1, 140.9, 147.2, 139.8, 141.3, 150.7, 149.4, 145.6, 146.5, 148.5, 141.2, 136.5, 145.8, 148.1, 144.3), \n",
    "    f = c(138.7, 142.8, 150.3, 148.4, 141.7, 149.5, 156.5, 144.6, 144.4, 145.7, 148.3, 140.8, 146.2, 149.9, 144.1)\n",
    ")\n",
    "head(data1)"
   ]
  },
  {
   "cell_type": "code",
   "execution_count": 3,
   "metadata": {
    "collapsed": false
   },
   "outputs": [
    {
     "data": {
      "text/html": [
       "<table>\n",
       "<thead><tr><th scope=col>m</th><th scope=col>f</th></tr></thead>\n",
       "<tbody>\n",
       "\t<tr><td>142.3</td><td>143.5</td></tr>\n",
       "\t<tr><td>142.5</td><td>144.6</td></tr>\n",
       "\t<tr><td>145.7</td><td>143.4</td></tr>\n",
       "\t<tr><td>143.5</td><td>146.6</td></tr>\n",
       "\t<tr><td>144.2</td><td>145.3</td></tr>\n",
       "\t<tr><td>145.1</td><td>147.7</td></tr>\n",
       "</tbody>\n",
       "</table>\n"
      ],
      "text/latex": [
       "\\begin{tabular}{r|ll}\n",
       " m & f\\\\\n",
       "\\hline\n",
       "\t 142.3 & 143.5\\\\\n",
       "\t 142.5 & 144.6\\\\\n",
       "\t 145.7 & 143.4\\\\\n",
       "\t 143.5 & 146.6\\\\\n",
       "\t 144.2 & 145.3\\\\\n",
       "\t 145.1 & 147.7\\\\\n",
       "\\end{tabular}\n"
      ],
      "text/markdown": [
       "\n",
       "m | f | \n",
       "|---|---|---|---|---|---|\n",
       "| 142.3 | 143.5 | \n",
       "| 142.5 | 144.6 | \n",
       "| 145.7 | 143.4 | \n",
       "| 143.5 | 146.6 | \n",
       "| 144.2 | 145.3 | \n",
       "| 145.1 | 147.7 | \n",
       "\n",
       "\n"
      ],
      "text/plain": [
       "  m     f    \n",
       "1 142.3 143.5\n",
       "2 142.5 144.6\n",
       "3 145.7 143.4\n",
       "4 143.5 146.6\n",
       "5 144.2 145.3\n",
       "6 145.1 147.7"
      ]
     },
     "metadata": {},
     "output_type": "display_data"
    }
   ],
   "source": [
    "data2 <- data_frame(\n",
    "    m = c(142.3, 142.5, 145.7, 143.5, 144.2, 145.1, 145.9, 145.2, 146.8, 145.7, 145.4, 144.6, 144.2, 145.9, 142.1),\n",
    "    f = c(143.5, 144.6, 143.4, 146.6, 145.3, 147.7, 147.2, 147.8, 145.3, 145.7, 147.5, 147.2, 148.8, 147.9, 143.3)\n",
    ")\n",
    "head(data2)"
   ]
  },
  {
   "cell_type": "code",
   "execution_count": 4,
   "metadata": {
    "collapsed": false,
    "scrolled": true
   },
   "outputs": [
    {
     "data": {
      "text/html": [
       "<table>\n",
       "<thead><tr><th scope=col>m</th><th scope=col>f</th></tr></thead>\n",
       "<tbody>\n",
       "\t<tr><td>144.5933</td><td>146.1267</td></tr>\n",
       "</tbody>\n",
       "</table>\n"
      ],
      "text/latex": [
       "\\begin{tabular}{r|ll}\n",
       " m & f\\\\\n",
       "\\hline\n",
       "\t 144.5933 & 146.1267\\\\\n",
       "\\end{tabular}\n"
      ],
      "text/markdown": [
       "\n",
       "m | f | \n",
       "|---|\n",
       "| 144.5933 | 146.1267 | \n",
       "\n",
       "\n"
      ],
      "text/plain": [
       "  m        f       \n",
       "1 144.5933 146.1267"
      ]
     },
     "metadata": {},
     "output_type": "display_data"
    }
   ],
   "source": [
    "data1 %>% summarise_all(.funs = mean)"
   ]
  },
  {
   "cell_type": "code",
   "execution_count": 6,
   "metadata": {
    "collapsed": false
   },
   "outputs": [
    {
     "data": {
      "text/html": [
       "<table>\n",
       "<thead><tr><th scope=col>m</th><th scope=col>f</th></tr></thead>\n",
       "<tbody>\n",
       "\t<tr><td>144.6067</td><td>146.12  </td></tr>\n",
       "</tbody>\n",
       "</table>\n"
      ],
      "text/latex": [
       "\\begin{tabular}{r|ll}\n",
       " m & f\\\\\n",
       "\\hline\n",
       "\t 144.6067 & 146.12  \\\\\n",
       "\\end{tabular}\n"
      ],
      "text/markdown": [
       "\n",
       "m | f | \n",
       "|---|\n",
       "| 144.6067 | 146.12   | \n",
       "\n",
       "\n"
      ],
      "text/plain": [
       "  m        f     \n",
       "1 144.6067 146.12"
      ]
     },
     "metadata": {},
     "output_type": "display_data"
    }
   ],
   "source": [
    "data2 %>% summarise_all(.funs = mean)"
   ]
  },
  {
   "cell_type": "markdown",
   "metadata": {},
   "source": [
    "* 「小学6年生だと女子の方が男子よりも身長が高い」のか？"
   ]
  },
  {
   "cell_type": "code",
   "execution_count": 19,
   "metadata": {
    "collapsed": true
   },
   "outputs": [],
   "source": [
    "options(repr.plot.height = 4, repr.plot.width = 6)"
   ]
  },
  {
   "cell_type": "code",
   "execution_count": 24,
   "metadata": {
    "collapsed": false
   },
   "outputs": [
    {
     "data": {
      "image/png": "[encoded data removed]",
      "text/plain": [
       "plot without title"
      ]
     },
     "metadata": {},
     "output_type": "display_data"
    }
   ],
   "source": [
    "gp1 <- data1 %>% gather(gender, height) %>% \n",
    "    ggplot(aes(x = gender, y = height)) +\n",
    "        geom_point(alpha = 0.5) + ylim(c(130, 160))\n",
    "gp2 <- data2 %>% gather(gender, height) %>% \n",
    "    ggplot(aes(x = gender, y = height)) + \n",
    "        geom_point(alpha = 0.5) + ylim(c(130, 160))\n",
    "grid.arrange(gp1, gp2, ncol=2)"
   ]
  },
  {
   "cell_type": "markdown",
   "metadata": {},
   "source": [
    "## 5.2 帰無仮説と対立仮説: “第1種の過誤”と“第2種の過誤”"
   ]
  },
  {
   "cell_type": "markdown",
   "metadata": {},
   "source": [
    "## 5.3 帰無仮説検定: $t$検定の概念と計算法"
   ]
  },
  {
   "cell_type": "markdown",
   "metadata": {},
   "source": [
    "## 5.4 $t$ 検定の考え方とRを使った計算"
   ]
  },
  {
   "cell_type": "code",
   "execution_count": 25,
   "metadata": {
    "collapsed": false
   },
   "outputs": [
    {
     "data": {
      "text/html": [
       "<table>\n",
       "<thead><tr><th scope=col>new</th><th scope=col>old</th></tr></thead>\n",
       "<tbody>\n",
       "\t<tr><td>2</td><td>5</td></tr>\n",
       "\t<tr><td>3</td><td>7</td></tr>\n",
       "\t<tr><td>6</td><td>5</td></tr>\n",
       "\t<tr><td>7</td><td>8</td></tr>\n",
       "\t<tr><td>4</td><td>9</td></tr>\n",
       "\t<tr><td>5</td><td>7</td></tr>\n",
       "\t<tr><td>6</td><td>7</td></tr>\n",
       "\t<tr><td>3</td><td>6</td></tr>\n",
       "</tbody>\n",
       "</table>\n"
      ],
      "text/latex": [
       "\\begin{tabular}{r|ll}\n",
       " new & old\\\\\n",
       "\\hline\n",
       "\t 2 & 5\\\\\n",
       "\t 3 & 7\\\\\n",
       "\t 6 & 5\\\\\n",
       "\t 7 & 8\\\\\n",
       "\t 4 & 9\\\\\n",
       "\t 5 & 7\\\\\n",
       "\t 6 & 7\\\\\n",
       "\t 3 & 6\\\\\n",
       "\\end{tabular}\n"
      ],
      "text/markdown": [
       "\n",
       "new | old | \n",
       "|---|---|---|---|---|---|---|---|\n",
       "| 2 | 5 | \n",
       "| 3 | 7 | \n",
       "| 6 | 5 | \n",
       "| 7 | 8 | \n",
       "| 4 | 9 | \n",
       "| 5 | 7 | \n",
       "| 6 | 7 | \n",
       "| 3 | 6 | \n",
       "\n",
       "\n"
      ],
      "text/plain": [
       "  new old\n",
       "1 2   5  \n",
       "2 3   7  \n",
       "3 6   5  \n",
       "4 7   8  \n",
       "5 4   9  \n",
       "6 5   7  \n",
       "7 6   7  \n",
       "8 3   6  "
      ]
     },
     "metadata": {},
     "output_type": "display_data"
    }
   ],
   "source": [
    "surgery <- data_frame(new = c(2, 3, 6, 7, 4, 5, 6, 3), \n",
    "                     old = c(5, 7, 5, 8, 9, 7, 7, 6))\n",
    "surgery"
   ]
  },
  {
   "cell_type": "code",
   "execution_count": 28,
   "metadata": {
    "collapsed": false
   },
   "outputs": [
    {
     "data": {
      "text/plain": [
       "\n",
       "\tTwo Sample t-test\n",
       "\n",
       "data:  .$new and .$old\n",
       "t = -2.8259, df = 14, p-value = 0.01347\n",
       "alternative hypothesis: true difference in means is not equal to 0\n",
       "95 percent confidence interval:\n",
       " -3.9576713 -0.5423287\n",
       "sample estimates:\n",
       "mean of x mean of y \n",
       "     4.50      6.75 \n"
      ]
     },
     "metadata": {},
     "output_type": "display_data"
    }
   ],
   "source": [
    "surgery %>% {\n",
    "    t.test(.$new, .$old, var=TRUE)\n",
    "    }"
   ]
  },
  {
   "cell_type": "code",
   "execution_count": 32,
   "metadata": {
    "collapsed": false
   },
   "outputs": [
    {
     "data": {
      "text/html": [
       "-2.82593621530242"
      ],
      "text/latex": [
       "-2.82593621530242"
      ],
      "text/markdown": [
       "-2.82593621530242"
      ],
      "text/plain": [
       "[1] -2.825936"
      ]
     },
     "metadata": {},
     "output_type": "display_data"
    }
   ],
   "source": [
    "my.t.test <- function(x, y){\n",
    "    n.x <- length(x)\n",
    "    n.y <- length(x)\n",
    "    \n",
    "    mean.x <- mean(x)\n",
    "    mean.y <- mean(y)\n",
    "    ss.x <- sum((x - mean.x)^2)\n",
    "    ss.y <- sum((y - mean.y)^2)\n",
    "    sp2 <- (ss.x + ss.y) / (n.x + n.y - 2)\n",
    "    se_mean <- sqrt(sp2 * (n.x + n.y) / (n.x * n.y))\n",
    "    t_val <- (mean.x - mean.y) / se_mean\n",
    "    return(t_val)\n",
    "}\n",
    "surgery %>% {\n",
    "    my.t.test(.$new, .$old)\n",
    "    }"
   ]
  },
  {
   "cell_type": "code",
   "execution_count": 33,
   "metadata": {
    "collapsed": false
   },
   "outputs": [
    {
     "data": {
      "text/html": [
       "-2.1447866879178"
      ],
      "text/latex": [
       "-2.1447866879178"
      ],
      "text/markdown": [
       "-2.1447866879178"
      ],
      "text/plain": [
       "[1] -2.144787"
      ]
     },
     "metadata": {},
     "output_type": "display_data"
    }
   ],
   "source": [
    "qt(0.025, df = 14)"
   ]
  },
  {
   "cell_type": "code",
   "execution_count": 34,
   "metadata": {
    "collapsed": false
   },
   "outputs": [
    {
     "data": {
      "text/html": [
       "2.1447866879178"
      ],
      "text/latex": [
       "2.1447866879178"
      ],
      "text/markdown": [
       "2.1447866879178"
      ],
      "text/plain": [
       "[1] 2.144787"
      ]
     },
     "metadata": {},
     "output_type": "display_data"
    }
   ],
   "source": [
    "qt(0.975, df = 14)"
   ]
  },
  {
   "cell_type": "code",
   "execution_count": 40,
   "metadata": {
    "collapsed": false
   },
   "outputs": [
    {
     "data": {},
     "metadata": {},
     "output_type": "display_data"
    },
    {
     "data": {
      "image/png": "[encoded data removed]",
      "text/plain": [
       "plot without title"
      ]
     },
     "metadata": {},
     "output_type": "display_data"
    }
   ],
   "source": [
    "ggplot(data_frame(x = c(-3, 3)), aes(x)) + stat_function(geom=\"line\", fun = dt, args = list(df = 14)) + \n",
    "    geom_vline(xintercept = -2.144, linetype = 2) + \n",
    "    geom_vline(xintercept = 2.144, linetype = 2) "
   ]
  },
  {
   "cell_type": "markdown",
   "metadata": {},
   "source": [
    "## $t$ 検定のいくつかの事例"
   ]
  },
  {
   "cell_type": "code",
   "execution_count": 42,
   "metadata": {
    "collapsed": false
   },
   "outputs": [
    {
     "data": {
      "text/plain": [
       "\n",
       "\tTwo Sample t-test\n",
       "\n",
       "data:  .$m and .$f\n",
       "t = -0.98202, df = 28, p-value = 0.3345\n",
       "alternative hypothesis: true difference in means is not equal to 0\n",
       "95 percent confidence interval:\n",
       " -4.731732  1.665065\n",
       "sample estimates:\n",
       "mean of x mean of y \n",
       " 144.5933  146.1267 \n"
      ]
     },
     "metadata": {},
     "output_type": "display_data"
    }
   ],
   "source": [
    "data1 %>% {\n",
    "    t.test(.$m, .$f, var = TRUE)\n",
    "}"
   ]
  },
  {
   "cell_type": "code",
   "execution_count": 43,
   "metadata": {
    "collapsed": false
   },
   "outputs": [
    {
     "data": {
      "text/plain": [
       "\n",
       "\tTwo Sample t-test\n",
       "\n",
       "data:  .$m and .$f\n",
       "t = -2.523, df = 28, p-value = 0.01759\n",
       "alternative hypothesis: true difference in means is not equal to 0\n",
       "95 percent confidence interval:\n",
       " -2.7419982 -0.2846684\n",
       "sample estimates:\n",
       "mean of x mean of y \n",
       " 144.6067  146.1200 \n"
      ]
     },
     "metadata": {},
     "output_type": "display_data"
    }
   ],
   "source": [
    "data2 %>% {\n",
    "    t.test(.$m, .$f, var=TRUE)\n",
    "}"
   ]
  },
  {
   "cell_type": "code",
   "execution_count": 44,
   "metadata": {
    "collapsed": false
   },
   "outputs": [
    {
     "data": {
      "text/plain": [
       "\n",
       "\tTwo Sample t-test\n",
       "\n",
       "data:  .$t and .$c\n",
       "t = 2.0414, df = 10, p-value = 0.06849\n",
       "alternative hypothesis: true difference in means is not equal to 0\n",
       "95 percent confidence interval:\n",
       " -0.05947555  1.35947555\n",
       "sample estimates:\n",
       "mean of x mean of y \n",
       " 4.533333  3.883333 \n"
      ]
     },
     "metadata": {},
     "output_type": "display_data"
    }
   ],
   "source": [
    "growth1 <- data_frame(\n",
    "    t = c(5.5, 4.2, 3.7, 5.1, 4.4, 4.3), \n",
    "    c = c(3.9, 4.1, 3.8, 3.2, 4.5, 3.8)\n",
    ")\n",
    "growth1 %>% {\n",
    "    t.test(.$t, .$c, var=TRUE)\n",
    "}"
   ]
  },
  {
   "cell_type": "code",
   "execution_count": 45,
   "metadata": {
    "collapsed": false
   },
   "outputs": [
    {
     "data": {
      "text/plain": [
       "\n",
       "\tTwo Sample t-test\n",
       "\n",
       "data:  c(.$t, .$t) and c(.$c, .$c)\n",
       "t = 3.0278, df = 22, p-value = 0.006182\n",
       "alternative hypothesis: true difference in means is not equal to 0\n",
       "95 percent confidence interval:\n",
       " 0.2047889 1.0952111\n",
       "sample estimates:\n",
       "mean of x mean of y \n",
       " 4.533333  3.883333 \n"
      ]
     },
     "metadata": {},
     "output_type": "display_data"
    }
   ],
   "source": [
    "growth1 %>% {\n",
    "    t.test(c(.$t, .$t), c(.$c,.$c),  var=TRUE)\n",
    "}"
   ]
  },
  {
   "cell_type": "markdown",
   "metadata": {},
   "source": [
    "## 5.6 検出力を高めるもう一つの方法: 対応のある$t$ 検定"
   ]
  },
  {
   "cell_type": "code",
   "execution_count": 46,
   "metadata": {
    "collapsed": false
   },
   "outputs": [
    {
     "data": {
      "text/plain": [
       "\n",
       "\tTwo Sample t-test\n",
       "\n",
       "data:  .$tomato and .$banana\n",
       "t = 0.99177, df = 10, p-value = 0.3447\n",
       "alternative hypothesis: true difference in means is not equal to 0\n",
       "95 percent confidence interval:\n",
       " -4.98652 12.98652\n",
       "sample estimates:\n",
       "mean of x mean of y \n",
       "       13         9 \n"
      ]
     },
     "metadata": {},
     "output_type": "display_data"
    }
   ],
   "source": [
    "foods <- data_frame(\n",
    "    tomato = c(6, 16, 10, 14, 24, 8), \n",
    "    banana = c(1, 10, 5, 15, 20, 3)\n",
    ")\n",
    "foods %>% {\n",
    "    t.test(.$tomato, .$banana, var=TRUE)\n",
    "}"
   ]
  },
  {
   "cell_type": "code",
   "execution_count": 49,
   "metadata": {
    "collapsed": false
   },
   "outputs": [
    {
     "data": {
      "text/html": [
       "<table>\n",
       "<thead><tr><th scope=col>id</th><th scope=col>tomato</th><th scope=col>banana</th><th scope=col>d</th></tr></thead>\n",
       "<tbody>\n",
       "\t<tr><td>1 </td><td> 6</td><td> 1</td><td> 5</td></tr>\n",
       "\t<tr><td>2 </td><td>16</td><td>10</td><td> 6</td></tr>\n",
       "\t<tr><td>3 </td><td>10</td><td> 5</td><td> 5</td></tr>\n",
       "\t<tr><td>4 </td><td>14</td><td>15</td><td>-1</td></tr>\n",
       "\t<tr><td>5 </td><td>24</td><td>20</td><td> 4</td></tr>\n",
       "\t<tr><td>6 </td><td> 8</td><td> 3</td><td> 5</td></tr>\n",
       "</tbody>\n",
       "</table>\n"
      ],
      "text/latex": [
       "\\begin{tabular}{r|llll}\n",
       " id & tomato & banana & d\\\\\n",
       "\\hline\n",
       "\t 1  &  6 &  1 &  5\\\\\n",
       "\t 2  & 16 & 10 &  6\\\\\n",
       "\t 3  & 10 &  5 &  5\\\\\n",
       "\t 4  & 14 & 15 & -1\\\\\n",
       "\t 5  & 24 & 20 &  4\\\\\n",
       "\t 6  &  8 &  3 &  5\\\\\n",
       "\\end{tabular}\n"
      ],
      "text/markdown": [
       "\n",
       "id | tomato | banana | d | \n",
       "|---|---|---|---|---|---|\n",
       "| 1  |  6 |  1 |  5 | \n",
       "| 2  | 16 | 10 |  6 | \n",
       "| 3  | 10 |  5 |  5 | \n",
       "| 4  | 14 | 15 | -1 | \n",
       "| 5  | 24 | 20 |  4 | \n",
       "| 6  |  8 |  3 |  5 | \n",
       "\n",
       "\n"
      ],
      "text/plain": [
       "  id tomato banana d \n",
       "1 1   6      1      5\n",
       "2 2  16     10      6\n",
       "3 3  10      5      5\n",
       "4 4  14     15     -1\n",
       "5 5  24     20      4\n",
       "6 6   8      3      5"
      ]
     },
     "metadata": {},
     "output_type": "display_data"
    }
   ],
   "source": [
    "foods %>% mutate(id = c(1:6), d = tomato - banana) %>% select(id, tomato, banana, d)"
   ]
  },
  {
   "cell_type": "code",
   "execution_count": 55,
   "metadata": {
    "collapsed": true
   },
   "outputs": [],
   "source": [
    "?summarise_at"
   ]
  },
  {
   "cell_type": "code",
   "execution_count": 57,
   "metadata": {
    "collapsed": false
   },
   "outputs": [
    {
     "data": {
      "text/html": [
       "<table>\n",
       "<thead><tr><th scope=col>tomato</th><th scope=col>banana</th><th scope=col>d</th></tr></thead>\n",
       "<tbody>\n",
       "\t<tr><td>13</td><td>9 </td><td>4 </td></tr>\n",
       "</tbody>\n",
       "</table>\n"
      ],
      "text/latex": [
       "\\begin{tabular}{r|lll}\n",
       " tomato & banana & d\\\\\n",
       "\\hline\n",
       "\t 13 & 9  & 4 \\\\\n",
       "\\end{tabular}\n"
      ],
      "text/markdown": [
       "\n",
       "tomato | banana | d | \n",
       "|---|\n",
       "| 13 | 9  | 4  | \n",
       "\n",
       "\n"
      ],
      "text/plain": [
       "  tomato banana d\n",
       "1 13     9      4"
      ]
     },
     "metadata": {},
     "output_type": "display_data"
    }
   ],
   "source": [
    "foods %>% mutate(id = c(1:6), d = tomato - banana) %>% select(id, tomato, banana, d) %>% \n",
    "    summarise_at(vars(-id), mean)"
   ]
  },
  {
   "cell_type": "code",
   "execution_count": 61,
   "metadata": {
    "collapsed": false
   },
   "outputs": [
    {
     "data": {},
     "metadata": {},
     "output_type": "display_data"
    },
    {
     "data": {
      "image/png": "[encoded data removed]",
      "text/plain": [
       "plot without title"
      ]
     },
     "metadata": {},
     "output_type": "display_data"
    }
   ],
   "source": [
    "foods %>% mutate(id = as.character(c(1L:6L))) %>% gather(m, dec, -id) %>% \n",
    "    ggplot(aes(x = id, y = dec, group = m, colour = m)) + geom_point() "
   ]
  },
  {
   "cell_type": "code",
   "execution_count": 64,
   "metadata": {
    "collapsed": false
   },
   "outputs": [],
   "source": [
    "?t.test"
   ]
  },
  {
   "cell_type": "code",
   "execution_count": 62,
   "metadata": {
    "collapsed": false,
    "scrolled": true
   },
   "outputs": [
    {
     "data": {
      "text/plain": [
       "\n",
       "\tOne Sample t-test\n",
       "\n",
       "data:  .$d\n",
       "t = 3.873, df = 5, p-value = 0.01172\n",
       "alternative hypothesis: true mean is not equal to 0\n",
       "95 percent confidence interval:\n",
       " 1.345114 6.654886\n",
       "sample estimates:\n",
       "mean of x \n",
       "        4 \n"
      ]
     },
     "metadata": {},
     "output_type": "display_data"
    }
   ],
   "source": [
    "foods %>% mutate(d = tomato - banana) %>% {\n",
    "    t.test(.$d, mu = 0)\n",
    "}"
   ]
  },
  {
   "cell_type": "markdown",
   "metadata": {},
   "source": [
    "* 対応のある$t$検定をするには，`paired = TRUE` とすればよい"
   ]
  },
  {
   "cell_type": "code",
   "execution_count": 65,
   "metadata": {
    "collapsed": false
   },
   "outputs": [
    {
     "data": {
      "text/plain": [
       "\n",
       "\tPaired t-test\n",
       "\n",
       "data:  .$tomato and .$banana\n",
       "t = 3.873, df = 5, p-value = 0.01172\n",
       "alternative hypothesis: true difference in means is not equal to 0\n",
       "95 percent confidence interval:\n",
       " 1.345114 6.654886\n",
       "sample estimates:\n",
       "mean of the differences \n",
       "                      4 \n"
      ]
     },
     "metadata": {},
     "output_type": "display_data"
    }
   ],
   "source": [
    "foods %>% {\n",
    "    t.test(.$tomato, .$banana, paired = TRUE)\n",
    "}"
   ]
  },
  {
   "cell_type": "markdown",
   "metadata": {},
   "source": [
    "---\n",
    "* 正規性の検定（シャピーロ・ウィルク検定）\n",
    "    * 帰無仮説: 正規分布に従う母集団から標本が抽出された"
   ]
  },
  {
   "cell_type": "code",
   "execution_count": 66,
   "metadata": {
    "collapsed": true
   },
   "outputs": [],
   "source": [
    "?shapiro.test"
   ]
  },
  {
   "cell_type": "code",
   "execution_count": 69,
   "metadata": {
    "collapsed": false
   },
   "outputs": [
    {
     "data": {
      "text/plain": [
       "\n",
       "\tShapiro-Wilk normality test\n",
       "\n",
       "data:  .\n",
       "W = 0.96769, p-value = 0.8224\n"
      ]
     },
     "metadata": {},
     "output_type": "display_data"
    }
   ],
   "source": [
    "data1$m %>% shapiro.test()"
   ]
  },
  {
   "cell_type": "code",
   "execution_count": 70,
   "metadata": {
    "collapsed": false
   },
   "outputs": [
    {
     "data": {
      "text/plain": [
       "\n",
       "\tShapiro-Wilk normality test\n",
       "\n",
       "data:  .\n",
       "W = 0.9699, p-value = 0.8566\n"
      ]
     },
     "metadata": {},
     "output_type": "display_data"
    }
   ],
   "source": [
    "data1$f %>% shapiro.test()"
   ]
  },
  {
   "cell_type": "markdown",
   "metadata": {},
   "source": [
    "---\n",
    "* 等分散性の検定（バートレット検定）\n",
    "    * 帰無仮説: 分散は等しい"
   ]
  },
  {
   "cell_type": "code",
   "execution_count": 71,
   "metadata": {
    "collapsed": true
   },
   "outputs": [],
   "source": [
    "?bartlett.test"
   ]
  },
  {
   "cell_type": "code",
   "execution_count": 77,
   "metadata": {
    "collapsed": true
   },
   "outputs": [],
   "source": [
    "?as.factor"
   ]
  },
  {
   "cell_type": "code",
   "execution_count": 78,
   "metadata": {
    "collapsed": false
   },
   "outputs": [
    {
     "name": "stdout",
     "output_type": "stream",
     "text": [
      "Classes 'tbl_df', 'tbl' and 'data.frame':\t30 obs. of  2 variables:\n",
      " $ sex  : Factor w/ 2 levels \"m\",\"f\": 1 1 1 1 1 1 1 1 1 1 ...\n",
      " $ score: num  143 141 147 140 141 ...\n"
     ]
    }
   ],
   "source": [
    "data1 %>% gather(sex, score) %>% mutate(sex = factor(sex, levels = c(\"m\", \"f\"))) %>% str()"
   ]
  },
  {
   "cell_type": "code",
   "execution_count": 79,
   "metadata": {
    "collapsed": false,
    "scrolled": true
   },
   "outputs": [
    {
     "data": {
      "text/plain": [
       "\n",
       "\tBartlett test of homogeneity of variances\n",
       "\n",
       "data:  score by sex\n",
       "Bartlett's K-squared = 0.16669, df = 1, p-value = 0.6831\n"
      ]
     },
     "metadata": {},
     "output_type": "display_data"
    }
   ],
   "source": [
    "data1 %>% gather(sex, score) %>% mutate(sex = factor(sex, levels = c(\"m\", \"f\"))) %>% {\n",
    "    bartlett.test(score ~ sex, data = .)\n",
    "}"
   ]
  },
  {
   "cell_type": "markdown",
   "metadata": {},
   "source": [
    "## 二つの標本が等分散でないときの有意差検定: ウェルチの検定"
   ]
  },
  {
   "cell_type": "code",
   "execution_count": 82,
   "metadata": {
    "collapsed": false
   },
   "outputs": [
    {
     "data": {
      "text/html": [
       "<ol class=list-inline>\n",
       "\t<li>'data1'</li>\n",
       "\t<li>'data2'</li>\n",
       "\t<li>'foods'</li>\n",
       "\t<li>'gp1'</li>\n",
       "\t<li>'gp2'</li>\n",
       "\t<li>'growth1'</li>\n",
       "\t<li>'my.t.test'</li>\n",
       "\t<li>'surgery'</li>\n",
       "</ol>\n"
      ],
      "text/latex": [
       "\\begin{enumerate*}\n",
       "\\item 'data1'\n",
       "\\item 'data2'\n",
       "\\item 'foods'\n",
       "\\item 'gp1'\n",
       "\\item 'gp2'\n",
       "\\item 'growth1'\n",
       "\\item 'my.t.test'\n",
       "\\item 'surgery'\n",
       "\\end{enumerate*}\n"
      ],
      "text/markdown": [
       "1. 'data1'\n",
       "2. 'data2'\n",
       "3. 'foods'\n",
       "4. 'gp1'\n",
       "5. 'gp2'\n",
       "6. 'growth1'\n",
       "7. 'my.t.test'\n",
       "8. 'surgery'\n",
       "\n",
       "\n"
      ],
      "text/plain": [
       "[1] \"data1\"     \"data2\"     \"foods\"     \"gp1\"       \"gp2\"       \"growth1\"  \n",
       "[7] \"my.t.test\" \"surgery\"  "
      ]
     },
     "metadata": {},
     "output_type": "display_data"
    }
   ],
   "source": [
    "ls()"
   ]
  },
  {
   "cell_type": "code",
   "execution_count": 83,
   "metadata": {
    "collapsed": true
   },
   "outputs": [],
   "source": [
    "data3 <- data_frame(\n",
    "    x1 = c(23, 20, 20, 24, 17, 19, 26, 22, 19, 21), \n",
    "    x2 = c(17, 23, 25, 34, 25, 28, 20, 31, 26, 36)\n",
    ")"
   ]
  },
  {
   "cell_type": "code",
   "execution_count": 84,
   "metadata": {
    "collapsed": true
   },
   "outputs": [],
   "source": [
    "options(repr.plot.width = 3, repr.plot.height = 3)"
   ]
  },
  {
   "cell_type": "code",
   "execution_count": 86,
   "metadata": {
    "collapsed": false
   },
   "outputs": [
    {
     "data": {},
     "metadata": {},
     "output_type": "display_data"
    },
    {
     "data": {
      "image/png": "[encoded data removed]",
      "text/plain": [
       "plot without title"
      ]
     },
     "metadata": {},
     "output_type": "display_data"
    }
   ],
   "source": [
    "data3 %>% gather(vars, vals) %>% ggplot(aes(x = vars, y = vals)) + geom_boxplot()"
   ]
  },
  {
   "cell_type": "code",
   "execution_count": 87,
   "metadata": {
    "collapsed": false
   },
   "outputs": [
    {
     "data": {
      "text/html": [
       "<table>\n",
       "<thead><tr><th scope=col>x1</th><th scope=col>x2</th></tr></thead>\n",
       "<tbody>\n",
       "\t<tr><td>7.211111</td><td>35.38889</td></tr>\n",
       "</tbody>\n",
       "</table>\n"
      ],
      "text/latex": [
       "\\begin{tabular}{r|ll}\n",
       " x1 & x2\\\\\n",
       "\\hline\n",
       "\t 7.211111 & 35.38889\\\\\n",
       "\\end{tabular}\n"
      ],
      "text/markdown": [
       "\n",
       "x1 | x2 | \n",
       "|---|\n",
       "| 7.211111 | 35.38889 | \n",
       "\n",
       "\n"
      ],
      "text/plain": [
       "  x1       x2      \n",
       "1 7.211111 35.38889"
      ]
     },
     "metadata": {},
     "output_type": "display_data"
    }
   ],
   "source": [
    "data3 %>% summarise_all(.funs = funs(var))"
   ]
  },
  {
   "cell_type": "code",
   "execution_count": 89,
   "metadata": {
    "collapsed": false
   },
   "outputs": [
    {
     "data": {
      "text/plain": [
       "\n",
       "\tBartlett test of homogeneity of variances\n",
       "\n",
       "data:  score by group\n",
       "Bartlett's K-squared = 4.906, df = 1, p-value = 0.02676\n"
      ]
     },
     "metadata": {},
     "output_type": "display_data"
    }
   ],
   "source": [
    "data3 %>% gather(group, score) %>% mutate(group = factor(group, levels = c(\"x1\", \"x2\"))) %>% {\n",
    "    bartlett.test(score ~ group, data = .)\n",
    "}"
   ]
  },
  {
   "cell_type": "code",
   "execution_count": 90,
   "metadata": {
    "collapsed": false
   },
   "outputs": [
    {
     "data": {
      "text/plain": [
       "\n",
       "\tWelch Two Sample t-test\n",
       "\n",
       "data:  .$x1 and .$x2\n",
       "t = -2.6163, df = 12.522, p-value = 0.02188\n",
       "alternative hypothesis: true difference in means is not equal to 0\n",
       "95 percent confidence interval:\n",
       " -9.8763303 -0.9236697\n",
       "sample estimates:\n",
       "mean of x mean of y \n",
       "     21.1      26.5 \n"
      ]
     },
     "metadata": {},
     "output_type": "display_data"
    }
   ],
   "source": [
    "data3 %>% {\n",
    "    t.test(.$x1, .$x2, var = FALSE)\n",
    "}"
   ]
  },
  {
   "cell_type": "markdown",
   "metadata": {},
   "source": [
    "## 演習問題\n",
    "### ex.1-1"
   ]
  },
  {
   "cell_type": "code",
   "execution_count": 91,
   "metadata": {
    "collapsed": false
   },
   "outputs": [
    {
     "data": {
      "text/html": [
       "<table>\n",
       "<thead><tr><th scope=col>t</th><th scope=col>c</th></tr></thead>\n",
       "<tbody>\n",
       "\t<tr><td>25</td><td>16</td></tr>\n",
       "\t<tr><td>15</td><td>18</td></tr>\n",
       "\t<tr><td>19</td><td>17</td></tr>\n",
       "\t<tr><td>17</td><td>11</td></tr>\n",
       "\t<tr><td>22</td><td>19</td></tr>\n",
       "\t<tr><td>20</td><td>14</td></tr>\n",
       "</tbody>\n",
       "</table>\n"
      ],
      "text/latex": [
       "\\begin{tabular}{r|ll}\n",
       " t & c\\\\\n",
       "\\hline\n",
       "\t 25 & 16\\\\\n",
       "\t 15 & 18\\\\\n",
       "\t 19 & 17\\\\\n",
       "\t 17 & 11\\\\\n",
       "\t 22 & 19\\\\\n",
       "\t 20 & 14\\\\\n",
       "\\end{tabular}\n"
      ],
      "text/markdown": [
       "\n",
       "t | c | \n",
       "|---|---|---|---|---|---|\n",
       "| 25 | 16 | \n",
       "| 15 | 18 | \n",
       "| 19 | 17 | \n",
       "| 17 | 11 | \n",
       "| 22 | 19 | \n",
       "| 20 | 14 | \n",
       "\n",
       "\n"
      ],
      "text/plain": [
       "  t  c \n",
       "1 25 16\n",
       "2 15 18\n",
       "3 19 17\n",
       "4 17 11\n",
       "5 22 19\n",
       "6 20 14"
      ]
     },
     "metadata": {},
     "output_type": "display_data"
    }
   ],
   "source": [
    "growth2 <- data_frame(\n",
    "    t = c(25, 15, 19, 17, 22, 20), \n",
    "    c = c(16, 18, 17, 11, 19, 14)\n",
    ")\n",
    "growth2"
   ]
  },
  {
   "cell_type": "code",
   "execution_count": 124,
   "metadata": {
    "collapsed": false
   },
   "outputs": [
    {
     "data": {},
     "metadata": {},
     "output_type": "display_data"
    },
    {
     "data": {
      "image/png": "[encoded data removed]",
      "text/plain": [
       "plot without title"
      ]
     },
     "metadata": {},
     "output_type": "display_data"
    }
   ],
   "source": [
    "growth2 %>% gather(type, growth) %>% ggplot(aes(x = type, y = growth)) + geom_boxplot()"
   ]
  },
  {
   "cell_type": "code",
   "execution_count": 92,
   "metadata": {
    "collapsed": false
   },
   "outputs": [
    {
     "data": {
      "text/plain": [
       "\n",
       "\tShapiro-Wilk normality test\n",
       "\n",
       "data:  .\n",
       "W = 0.9908, p-value = 0.991\n"
      ]
     },
     "metadata": {},
     "output_type": "display_data"
    }
   ],
   "source": [
    "growth2$t %>% shapiro.test()"
   ]
  },
  {
   "cell_type": "code",
   "execution_count": 93,
   "metadata": {
    "collapsed": false
   },
   "outputs": [
    {
     "data": {
      "text/plain": [
       "\n",
       "\tShapiro-Wilk normality test\n",
       "\n",
       "data:  .\n",
       "W = 0.94283, p-value = 0.682\n"
      ]
     },
     "metadata": {},
     "output_type": "display_data"
    }
   ],
   "source": [
    "growth2$c %>% shapiro.test()"
   ]
  },
  {
   "cell_type": "code",
   "execution_count": 97,
   "metadata": {
    "collapsed": false,
    "scrolled": true
   },
   "outputs": [
    {
     "data": {
      "text/plain": [
       "\n",
       "\tBartlett test of homogeneity of variances\n",
       "\n",
       "data:  growth by type\n",
       "Bartlett's K-squared = 0.17272, df = 1, p-value = 0.6777\n"
      ]
     },
     "metadata": {},
     "output_type": "display_data"
    }
   ],
   "source": [
    "growth2 %>% gather(type, growth) %>% mutate(type = factor(type)) %>% {\n",
    "    bartlett.test(growth ~ type, data = .)\n",
    "}"
   ]
  },
  {
   "cell_type": "code",
   "execution_count": 98,
   "metadata": {
    "collapsed": false
   },
   "outputs": [
    {
     "data": {
      "text/plain": [
       "\n",
       "\tTwo Sample t-test\n",
       "\n",
       "data:  .$t and .$c\n",
       "t = 2.0377, df = 10, p-value = 0.06891\n",
       "alternative hypothesis: true difference in means is not equal to 0\n",
       "95 percent confidence interval:\n",
       " -0.3582269  8.0248936\n",
       "sample estimates:\n",
       "mean of x mean of y \n",
       " 19.66667  15.83333 \n"
      ]
     },
     "metadata": {},
     "output_type": "display_data"
    }
   ],
   "source": [
    "growth2 %>% {\n",
    "    t.test(.$t, .$c, var=TRUE)\n",
    "}"
   ]
  },
  {
   "cell_type": "markdown",
   "metadata": {},
   "source": [
    "### ex1-2"
   ]
  },
  {
   "cell_type": "code",
   "execution_count": 126,
   "metadata": {
    "collapsed": false
   },
   "outputs": [
    {
     "data": {},
     "metadata": {},
     "output_type": "display_data"
    },
    {
     "data": {
      "image/png": "[encoded data removed]",
      "text/plain": [
       "plot without title"
      ]
     },
     "metadata": {},
     "output_type": "display_data"
    }
   ],
   "source": [
    "bind_rows(growth2, growth2) %>% gather(type, growth) %>% ggplot(aes(x = type, y = growth)) + geom_boxplot()"
   ]
  },
  {
   "cell_type": "code",
   "execution_count": 99,
   "metadata": {
    "collapsed": false
   },
   "outputs": [
    {
     "data": {
      "text/plain": [
       "\n",
       "\tTwo Sample t-test\n",
       "\n",
       "data:  rep(.$t, 2) and rep(.$c, 2)\n",
       "t = 3.0224, df = 22, p-value = 0.00626\n",
       "alternative hypothesis: true difference in means is not equal to 0\n",
       "95 percent confidence interval:\n",
       " 1.203039 6.463627\n",
       "sample estimates:\n",
       "mean of x mean of y \n",
       " 19.66667  15.83333 \n"
      ]
     },
     "metadata": {},
     "output_type": "display_data"
    }
   ],
   "source": [
    "growth2 %>% {\n",
    "    t.test(rep(.$t, 2), rep(.$c, 2), var=TRUE)\n",
    "}"
   ]
  },
  {
   "cell_type": "markdown",
   "metadata": {},
   "source": [
    "### ex.2"
   ]
  },
  {
   "cell_type": "code",
   "execution_count": 107,
   "metadata": {
    "collapsed": false
   },
   "outputs": [
    {
     "data": {
      "text/html": [
       "<dl>\n",
       "\t<dt>$pos</dt>\n",
       "\t\t<dd><ol class=list-inline>\n",
       "\t<li>12</li>\n",
       "\t<li>16</li>\n",
       "\t<li>11</li>\n",
       "\t<li>9</li>\n",
       "\t<li>18</li>\n",
       "\t<li>17</li>\n",
       "\t<li>14</li>\n",
       "\t<li>16</li>\n",
       "\t<li>10</li>\n",
       "\t<li>11</li>\n",
       "</ol>\n",
       "</dd>\n",
       "\t<dt>$neg</dt>\n",
       "\t\t<dd><ol class=list-inline>\n",
       "\t<li>9</li>\n",
       "\t<li>10</li>\n",
       "\t<li>11</li>\n",
       "\t<li>8</li>\n",
       "\t<li>7</li>\n",
       "\t<li>9</li>\n",
       "\t<li>6</li>\n",
       "\t<li>10</li>\n",
       "\t<li>11</li>\n",
       "\t<li>13</li>\n",
       "\t<li>12</li>\n",
       "</ol>\n",
       "</dd>\n",
       "</dl>\n"
      ],
      "text/latex": [
       "\\begin{description}\n",
       "\\item[\\$pos] \\begin{enumerate*}\n",
       "\\item 12\n",
       "\\item 16\n",
       "\\item 11\n",
       "\\item 9\n",
       "\\item 18\n",
       "\\item 17\n",
       "\\item 14\n",
       "\\item 16\n",
       "\\item 10\n",
       "\\item 11\n",
       "\\end{enumerate*}\n",
       "\n",
       "\\item[\\$neg] \\begin{enumerate*}\n",
       "\\item 9\n",
       "\\item 10\n",
       "\\item 11\n",
       "\\item 8\n",
       "\\item 7\n",
       "\\item 9\n",
       "\\item 6\n",
       "\\item 10\n",
       "\\item 11\n",
       "\\item 13\n",
       "\\item 12\n",
       "\\end{enumerate*}\n",
       "\n",
       "\\end{description}\n"
      ],
      "text/markdown": [
       "$pos\n",
       ":   1. 12\n",
       "2. 16\n",
       "3. 11\n",
       "4. 9\n",
       "5. 18\n",
       "6. 17\n",
       "7. 14\n",
       "8. 16\n",
       "9. 10\n",
       "10. 11\n",
       "\n",
       "\n",
       "\n",
       "$neg\n",
       ":   1. 9\n",
       "2. 10\n",
       "3. 11\n",
       "4. 8\n",
       "5. 7\n",
       "6. 9\n",
       "7. 6\n",
       "8. 10\n",
       "9. 11\n",
       "10. 13\n",
       "11. 12\n",
       "\n",
       "\n",
       "\n",
       "\n",
       "\n"
      ],
      "text/plain": [
       "$pos\n",
       " [1] 12 16 11  9 18 17 14 16 10 11\n",
       "\n",
       "$neg\n",
       " [1]  9 10 11  8  7  9  6 10 11 13 12\n"
      ]
     },
     "metadata": {},
     "output_type": "display_data"
    }
   ],
   "source": [
    "mental <- list(\n",
    "    pos = c(12, 16, 11, 9, 18, 17, 14, 16, 10, 11), \n",
    "    neg = c(9, 10, 11, 8, 7, 9, 6, 10, 11, 13, 12)\n",
    ")\n",
    "mental"
   ]
  },
  {
   "cell_type": "code",
   "execution_count": 123,
   "metadata": {
    "collapsed": false
   },
   "outputs": [
    {
     "data": {},
     "metadata": {},
     "output_type": "display_data"
    },
    {
     "data": {
      "image/png": "[encoded data removed]",
      "text/plain": [
       "plot without title"
      ]
     },
     "metadata": {},
     "output_type": "display_data"
    }
   ],
   "source": [
    "names(mental) %>% sapply(function(x){\n",
    "    data_frame(type = x, score = mental[[x]])\n",
    "}, simplify=FALSE) %>% bind_rows() %>% \n",
    "    ggplot(aes(x = type, y = score)) + geom_boxplot()"
   ]
  },
  {
   "cell_type": "code",
   "execution_count": 103,
   "metadata": {
    "collapsed": false
   },
   "outputs": [
    {
     "data": {
      "text/plain": [
       "\n",
       "\tShapiro-Wilk normality test\n",
       "\n",
       "data:  .\n",
       "W = 0.92242, p-value = 0.3776\n"
      ]
     },
     "metadata": {},
     "output_type": "display_data"
    }
   ],
   "source": [
    "mental$pos %>% shapiro.test()"
   ]
  },
  {
   "cell_type": "code",
   "execution_count": 104,
   "metadata": {
    "collapsed": false
   },
   "outputs": [
    {
     "data": {
      "text/plain": [
       "\n",
       "\tShapiro-Wilk normality test\n",
       "\n",
       "data:  .\n",
       "W = 0.98145, p-value = 0.9737\n"
      ]
     },
     "metadata": {},
     "output_type": "display_data"
    }
   ],
   "source": [
    "mental$neg %>% shapiro.test()"
   ]
  },
  {
   "cell_type": "code",
   "execution_count": 113,
   "metadata": {
    "collapsed": false
   },
   "outputs": [
    {
     "data": {
      "text/plain": [
       "\n",
       "\tBartlett test of homogeneity of variances\n",
       "\n",
       "data:  score by type\n",
       "Bartlett's K-squared = 1.5467, df = 1, p-value = 0.2136\n"
      ]
     },
     "metadata": {},
     "output_type": "display_data"
    }
   ],
   "source": [
    "names(mental) %>% sapply(function(x){\n",
    "    data_frame(type = x, score = mental[[x]])\n",
    "}, simplify=FALSE) %>% bind_rows() %>% {\n",
    "    bartlett.test(score ~ type, data = .)\n",
    "}"
   ]
  },
  {
   "cell_type": "code",
   "execution_count": 114,
   "metadata": {
    "collapsed": false
   },
   "outputs": [
    {
     "data": {
      "text/plain": [
       "\n",
       "\tTwo Sample t-test\n",
       "\n",
       "data:  .$pos and .$neg\n",
       "t = 3.2085, df = 19, p-value = 0.004626\n",
       "alternative hypothesis: true difference in means is not equal to 0\n",
       "95 percent confidence interval:\n",
       " 1.308450 6.218823\n",
       "sample estimates:\n",
       "mean of x mean of y \n",
       "13.400000  9.636364 \n"
      ]
     },
     "metadata": {},
     "output_type": "display_data"
    }
   ],
   "source": [
    "mental %>% {\n",
    "    t.test(.$pos, .$neg, var=TRUE)\n",
    "}"
   ]
  },
  {
   "cell_type": "markdown",
   "metadata": {},
   "source": [
    "### ex.3 \n",
    "\n",
    "* 問題文が途中で切れているようだ"
   ]
  },
  {
   "cell_type": "code",
   "execution_count": 116,
   "metadata": {
    "collapsed": false
   },
   "outputs": [
    {
     "data": {
      "text/html": [
       "<table>\n",
       "<thead><tr><th scope=col>id</th><th scope=col>abdomen</th><th scope=col>jogging</th></tr></thead>\n",
       "<tbody>\n",
       "\t<tr><td>1  </td><td>1.2</td><td>2.3</td></tr>\n",
       "\t<tr><td>2  </td><td>2.0</td><td>2.6</td></tr>\n",
       "\t<tr><td>3  </td><td>1.3</td><td>1.9</td></tr>\n",
       "\t<tr><td>4  </td><td>1.7</td><td>2.8</td></tr>\n",
       "\t<tr><td>5  </td><td>2.0</td><td>1.5</td></tr>\n",
       "\t<tr><td>6  </td><td>1.9</td><td>1.9</td></tr>\n",
       "\t<tr><td>7  </td><td>1.3</td><td>2.2</td></tr>\n",
       "</tbody>\n",
       "</table>\n"
      ],
      "text/latex": [
       "\\begin{tabular}{r|lll}\n",
       " id & abdomen & jogging\\\\\n",
       "\\hline\n",
       "\t 1   & 1.2 & 2.3\\\\\n",
       "\t 2   & 2.0 & 2.6\\\\\n",
       "\t 3   & 1.3 & 1.9\\\\\n",
       "\t 4   & 1.7 & 2.8\\\\\n",
       "\t 5   & 2.0 & 1.5\\\\\n",
       "\t 6   & 1.9 & 1.9\\\\\n",
       "\t 7   & 1.3 & 2.2\\\\\n",
       "\\end{tabular}\n"
      ],
      "text/markdown": [
       "\n",
       "id | abdomen | jogging | \n",
       "|---|---|---|---|---|---|---|\n",
       "| 1   | 1.2 | 2.3 | \n",
       "| 2   | 2.0 | 2.6 | \n",
       "| 3   | 1.3 | 1.9 | \n",
       "| 4   | 1.7 | 2.8 | \n",
       "| 5   | 2.0 | 1.5 | \n",
       "| 6   | 1.9 | 1.9 | \n",
       "| 7   | 1.3 | 2.2 | \n",
       "\n",
       "\n"
      ],
      "text/plain": [
       "  id abdomen jogging\n",
       "1 1  1.2     2.3    \n",
       "2 2  2.0     2.6    \n",
       "3 3  1.3     1.9    \n",
       "4 4  1.7     2.8    \n",
       "5 5  2.0     1.5    \n",
       "6 6  1.9     1.9    \n",
       "7 7  1.3     2.2    "
      ]
     },
     "metadata": {},
     "output_type": "display_data"
    }
   ],
   "source": [
    "diet <- data_frame(\n",
    "    id = as.character(c(1L:7L)), \n",
    "    abdomen = c(1.2, 2.0, 1.3, 1.7, 2.0, 1.9, 1.3), \n",
    "    jogging = c(2.3, 2.6, 1.9, 2.8, 1.5, 1.9, 2.2)\n",
    ")\n",
    "diet"
   ]
  },
  {
   "cell_type": "code",
   "execution_count": 122,
   "metadata": {
    "collapsed": false
   },
   "outputs": [
    {
     "data": {},
     "metadata": {},
     "output_type": "display_data"
    },
    {
     "data": {
      "image/png": "[encoded data removed]",
      "text/plain": [
       "plot without title"
      ]
     },
     "metadata": {},
     "output_type": "display_data"
    }
   ],
   "source": [
    "diet %>% gather(method, loss, -id) %>% ggplot(aes(x = method, y = loss)) + geom_boxplot()"
   ]
  },
  {
   "cell_type": "code",
   "execution_count": 118,
   "metadata": {
    "collapsed": false
   },
   "outputs": [
    {
     "data": {
      "text/plain": [
       "\n",
       "\tShapiro-Wilk normality test\n",
       "\n",
       "data:  .\n",
       "W = 0.83849, p-value = 0.09619\n"
      ]
     },
     "metadata": {},
     "output_type": "display_data"
    }
   ],
   "source": [
    "diet$abdomen %>% shapiro.test()"
   ]
  },
  {
   "cell_type": "code",
   "execution_count": 119,
   "metadata": {
    "collapsed": false
   },
   "outputs": [
    {
     "data": {
      "text/plain": [
       "\n",
       "\tShapiro-Wilk normality test\n",
       "\n",
       "data:  .\n",
       "W = 0.97413, p-value = 0.9265\n"
      ]
     },
     "metadata": {},
     "output_type": "display_data"
    }
   ],
   "source": [
    "diet$jogging %>% shapiro.test()"
   ]
  },
  {
   "cell_type": "code",
   "execution_count": 120,
   "metadata": {
    "collapsed": false
   },
   "outputs": [
    {
     "data": {
      "text/plain": [
       "\n",
       "\tBartlett test of homogeneity of variances\n",
       "\n",
       "data:  loss by method\n",
       "Bartlett's K-squared = 0.28985, df = 1, p-value = 0.5903\n"
      ]
     },
     "metadata": {},
     "output_type": "display_data"
    }
   ],
   "source": [
    "diet %>% gather(method, loss, -id) %>% {\n",
    "    bartlett.test(loss ~ method, data = .)\n",
    "}"
   ]
  },
  {
   "cell_type": "code",
   "execution_count": 121,
   "metadata": {
    "collapsed": false
   },
   "outputs": [
    {
     "data": {
      "text/plain": [
       "\n",
       "\tPaired t-test\n",
       "\n",
       "data:  .$abdomen and .$jogging\n",
       "t = -2.4065, df = 6, p-value = 0.05282\n",
       "alternative hypothesis: true difference in means is not equal to 0\n",
       "95 percent confidence interval:\n",
       " -1.094820765  0.009106479\n",
       "sample estimates:\n",
       "mean of the differences \n",
       "             -0.5428571 \n"
      ]
     },
     "metadata": {},
     "output_type": "display_data"
    }
   ],
   "source": [
    "diet %>% {\n",
    "    t.test(.$abdomen, .$jogging, var = TRUE, paired = TRUE)\n",
    "}"
   ]
  },
  {
   "cell_type": "markdown",
   "metadata": {},
   "source": [
    "問題文にはペアであると書かれているが，解答はペアでない結果のようだ"
   ]
  },
  {
   "cell_type": "code",
   "execution_count": 128,
   "metadata": {
    "collapsed": false
   },
   "outputs": [
    {
     "data": {
      "text/plain": [
       "\n",
       "\tTwo Sample t-test\n",
       "\n",
       "data:  .$abdomen and .$jogging\n",
       "t = -2.5203, df = 12, p-value = 0.02689\n",
       "alternative hypothesis: true difference in means is not equal to 0\n",
       "95 percent confidence interval:\n",
       " -1.01216027 -0.07355402\n",
       "sample estimates:\n",
       "mean of x mean of y \n",
       " 1.628571  2.171429 \n"
      ]
     },
     "metadata": {},
     "output_type": "display_data"
    }
   ],
   "source": [
    "diet %>% {\n",
    "    t.test(.$abdomen, .$jogging, var = TRUE, paired = FALSE)\n",
    "}"
   ]
  },
  {
   "cell_type": "code",
   "execution_count": 127,
   "metadata": {
    "collapsed": false
   },
   "outputs": [
    {
     "name": "stderr",
     "output_type": "stream",
     "text": [
      "Session info -------------------------------------------------------------------\n",
      "Packages -----------------------------------------------------------------------\n"
     ]
    },
    {
     "data": {
      "text/plain": [
       " setting  value                       \n",
       " version  R version 3.3.2 (2016-10-31)\n",
       " system   x86_64, mingw32             \n",
       " ui       RTerm                       \n",
       " language en_US.UTF-8                 \n",
       " collate  Japanese_Japan.932          \n",
       " tz       Asia/Tokyo                  \n",
       " date     2017-05-14                  \n",
       "\n",
       " package    * version    date       source                            \n",
       " assertthat   0.2.0      2017-04-11 CRAN (R 3.3.2)                    \n",
       " Cairo      * 1.5-9      2015-09-26 CRAN (R 3.2.2)                    \n",
       " colorspace   1.3-2      2016-12-14 CRAN (R 3.3.3)                    \n",
       " crayon       1.3.2      2016-06-28 CRAN (R 3.3.1)                    \n",
       " DBI          0.6-1      2017-04-01 CRAN (R 3.3.3)                    \n",
       " devtools     1.12.0     2016-06-24 CRAN (R 3.3.1)                    \n",
       " digest       0.6.12     2017-01-27 CRAN (R 3.3.3)                    \n",
       " dplyr      * 0.5.0      2016-06-24 CRAN (R 3.2.5)                    \n",
       " evaluate     0.10       2016-10-11 CRAN (R 3.3.2)                    \n",
       " ggplot2    * 2.2.1      2016-12-30 CRAN (R 3.3.3)                    \n",
       " gridExtra  * 2.2.1      2016-02-29 CRAN (R 3.2.5)                    \n",
       " gtable       0.2.0      2016-02-26 CRAN (R 3.2.5)                    \n",
       " hms          0.3        2016-11-22 CRAN (R 3.3.3)                    \n",
       " IRdisplay    0.4.4      2016-08-02 CRAN (R 3.3.1)                    \n",
       " IRkernel     0.8.6.9000 2017-04-13 Github (IRkernel/IRkernel@29ae7df)\n",
       " jsonlite     1.4        2017-04-08 CRAN (R 3.3.3)                    \n",
       " labeling     0.3        2014-08-23 CRAN (R 3.2.1)                    \n",
       " lazyeval     0.2.0      2016-06-12 CRAN (R 3.2.5)                    \n",
       " magrittr     1.5        2014-11-22 CRAN (R 3.2.1)                    \n",
       " memoise      1.0.0      2016-01-29 CRAN (R 3.2.3)                    \n",
       " munsell      0.4.3      2016-02-13 CRAN (R 3.2.5)                    \n",
       " pbdZMQ       0.2-5      2016-12-18 CRAN (R 3.3.3)                    \n",
       " plyr         1.8.4      2016-06-08 CRAN (R 3.2.5)                    \n",
       " R6           2.2.0      2016-10-05 CRAN (R 3.3.2)                    \n",
       " Rcpp         0.12.10    2017-03-19 CRAN (R 3.3.3)                    \n",
       " readr      * 1.1.0      2017-03-22 CRAN (R 3.3.3)                    \n",
       " repr         0.12.0     2017-04-07 CRAN (R 3.3.3)                    \n",
       " scales       0.4.1      2016-11-09 CRAN (R 3.3.2)                    \n",
       " stringi      1.1.5      2017-04-07 CRAN (R 3.3.3)                    \n",
       " stringr      1.2.0      2017-02-18 CRAN (R 3.3.3)                    \n",
       " tibble       1.3.0      2017-04-01 CRAN (R 3.3.3)                    \n",
       " tidyr      * 0.6.1      2017-01-10 CRAN (R 3.3.3)                    \n",
       " uuid         0.1-2      2015-07-28 CRAN (R 3.3.1)                    \n",
       " withr        1.0.2      2016-06-20 CRAN (R 3.2.5)                    "
      ]
     },
     "metadata": {},
     "output_type": "display_data"
    }
   ],
   "source": [
    "devtools::session_info()"
   ]
  }
 ],
 "metadata": {
  "anaconda-cloud": {},
  "kernelspec": {
   "display_name": "R",
   "language": "R",
   "name": "ir"
  },
  "language_info": {
   "codemirror_mode": "r",
   "file_extension": ".r",
   "mimetype": "text/x-r-source",
   "name": "R",
   "pygments_lexer": "r",
   "version": "3.3.2"
  }
 },
 "nbformat": 4,
 "nbformat_minor": 1
}
